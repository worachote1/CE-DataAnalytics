{
  "cells": [
    {
      "cell_type": "markdown",
      "metadata": {
        "id": "sfU8OJ7viyaQ"
      },
      "source": [
        "# **A Quick Pandas Tutorial**\n",
        "> ## *Author* : [Rathachai CHAWUTHAI](https://rathachai.creatier.pro/) , Ph.D\n",
        "> ### *Affiliation* : Computer Engineering, King Mongkut's Institute of Technology Ladkrabang (KMITL)\n",
        "> #### *Updated Date* : 2023-01-05\n",
        "---"
      ]
    },
    {
      "cell_type": "markdown",
      "metadata": {
        "id": "rmwpgdQwkENy"
      },
      "source": [
        "> <a rel=\"license\" href=\"http://creativecommons.org/licenses/by-nc-sa/4.0/\"><img alt=\"Creative Commons License\" style=\"border-width:0\" src=\"https://i.creativecommons.org/l/by-nc-sa/4.0/88x31.png\" /></a><br />This work is licensed under a <a rel=\"license\" href=\"http://creativecommons.org/licenses/by-nc-sa/4.0/\">Creative Commons Attribution-NonCommercial-ShareAlike 4.0 International License</a>.\n",
        "\n",
        "\n",
        "\n",
        "---"
      ]
    },
    {
      "cell_type": "markdown",
      "metadata": {
        "id": "-RYNm8yJwFkZ"
      },
      "source": [
        "## Prerequisite Knowledge\n",
        "> Python, List, Dictionary, Tuple, Function, Lambda, Numpy, and CSV\n"
      ]
    },
    {
      "cell_type": "markdown",
      "metadata": {
        "id": "Vivu5XcJPylb"
      },
      "source": [
        "## Agenda\n",
        "\n",
        "**Review**\n",
        "*   About a Dataset\n",
        "*   Basic Numpy\n",
        "\n",
        "**Pandas**\n",
        "*   Series & Dataframe\n",
        "*   Read CSV into a Pandas Dataframe\n",
        "*   Column Selection\n",
        "*   Row Selection\n",
        "*   Row and Column Selection (1)\n",
        "*   Cell Modification\n",
        "*   Set Index\n",
        "*   Row and Column Selection (2)\n",
        "*   Reset Index\n",
        "*   Range Selection\n",
        "*   Conditinal Selection\n",
        "*   Column Operation\n",
        "*   New Column\n",
        "*   Drop Row\n",
        "*   Drop Column\n",
        "*   Sorting\n",
        "*   Grouping\n",
        "*   Iteration\n",
        "*   Apply Function\n",
        "*   Save Dataframe into a CSV file\n"
      ]
    },
    {
      "cell_type": "markdown",
      "metadata": {
        "id": "3P9M9OaBkVpT"
      },
      "source": [
        "## About a Dataset"
      ]
    },
    {
      "cell_type": "markdown",
      "metadata": {
        "id": "uyzk0mDnkjwp"
      },
      "source": [
        "Click [https://github.com/Rathachai/DA-LAB/blob/gh-pages/datasets/simple-employee-db.csv](https://github.com/Rathachai/DA-LAB/blob/gh-pages/datasets/simple-employee-db.csv)"
      ]
    },
    {
      "cell_type": "markdown",
      "metadata": {
        "id": "vxHIiBjlAWb0"
      },
      "source": [
        "## Import Libraries"
      ]
    },
    {
      "cell_type": "code",
      "execution_count": 1,
      "metadata": {
        "id": "B0sUqttDcYq5"
      },
      "outputs": [],
      "source": [
        "import numpy as np\n",
        "import pandas as pd"
      ]
    },
    {
      "cell_type": "code",
      "execution_count": null,
      "metadata": {},
      "outputs": [],
      "source": [
        "pyppeteer-install"
      ]
    },
    {
      "cell_type": "markdown",
      "metadata": {
        "id": "pIfoIs3YRXxo"
      },
      "source": [
        "## Basic Numpy"
      ]
    },
    {
      "cell_type": "code",
      "execution_count": 2,
      "metadata": {
        "colab": {
          "base_uri": "https://localhost:8080/"
        },
        "id": "Np0IivUiRbWO",
        "outputId": "38cefb2f-8578-4c06-b603-97c030ae948b"
      },
      "outputs": [
        {
          "data": {
            "text/plain": [
              "[1, 2, 3, 10, 10, 10]"
            ]
          },
          "execution_count": 2,
          "metadata": {},
          "output_type": "execute_result"
        }
      ],
      "source": [
        "[1,2,3] + [10,10,10]"
      ]
    },
    {
      "cell_type": "code",
      "execution_count": 3,
      "metadata": {
        "colab": {
          "base_uri": "https://localhost:8080/"
        },
        "id": "bRaEhN5uRnwu",
        "outputId": "92886878-d1fb-46b0-f5dd-b1a5554b1f52"
      },
      "outputs": [
        {
          "data": {
            "text/plain": [
              "[1, 2, 3, 1, 2, 3, 1, 2, 3]"
            ]
          },
          "execution_count": 3,
          "metadata": {},
          "output_type": "execute_result"
        }
      ],
      "source": [
        "[1,2,3] * 3"
      ]
    },
    {
      "cell_type": "code",
      "execution_count": 4,
      "metadata": {
        "colab": {
          "base_uri": "https://localhost:8080/"
        },
        "id": "hMEfZXRbRrTS",
        "outputId": "acd2f7a6-2933-438e-a97d-9fb866b217d4"
      },
      "outputs": [
        {
          "data": {
            "text/plain": [
              "array([11, 12, 13])"
            ]
          },
          "execution_count": 4,
          "metadata": {},
          "output_type": "execute_result"
        }
      ],
      "source": [
        "np.array([1,2,3]) + np.array([10,10,10])"
      ]
    },
    {
      "cell_type": "code",
      "execution_count": 5,
      "metadata": {
        "colab": {
          "base_uri": "https://localhost:8080/"
        },
        "id": "qOt2iCJvk5aK",
        "outputId": "6138fd49-0e6b-4e07-83ab-549d0aef44b1"
      },
      "outputs": [
        {
          "data": {
            "text/plain": [
              "array([3, 6, 9])"
            ]
          },
          "execution_count": 5,
          "metadata": {},
          "output_type": "execute_result"
        }
      ],
      "source": [
        "np.array([1,2,3]) * 3"
      ]
    },
    {
      "cell_type": "code",
      "execution_count": 6,
      "metadata": {
        "colab": {
          "base_uri": "https://localhost:8080/"
        },
        "id": "Ek-GhXtcR4s4",
        "outputId": "408f526a-5acf-4765-8c5e-4f6efa6227bb"
      },
      "outputs": [
        {
          "data": {
            "text/plain": [
              "array([0, 1, 2, 3, 4])"
            ]
          },
          "execution_count": 6,
          "metadata": {},
          "output_type": "execute_result"
        }
      ],
      "source": [
        "np.arange(5)"
      ]
    },
    {
      "cell_type": "code",
      "execution_count": 7,
      "metadata": {
        "colab": {
          "base_uri": "https://localhost:8080/"
        },
        "id": "rpTuNN6CR8RU",
        "outputId": "7b921656-67e4-4a10-de61-6da225ce75d7"
      },
      "outputs": [
        {
          "data": {
            "text/plain": [
              "array([5, 6, 7, 8, 9])"
            ]
          },
          "execution_count": 7,
          "metadata": {},
          "output_type": "execute_result"
        }
      ],
      "source": [
        "np.arange(5,10)"
      ]
    },
    {
      "cell_type": "code",
      "execution_count": 8,
      "metadata": {
        "colab": {
          "base_uri": "https://localhost:8080/"
        },
        "id": "0fAkWxLlSAJu",
        "outputId": "72a15e36-bff2-405e-b753-57d0b98c3de1"
      },
      "outputs": [
        {
          "data": {
            "text/plain": [
              "array([5, 7, 9])"
            ]
          },
          "execution_count": 8,
          "metadata": {},
          "output_type": "execute_result"
        }
      ],
      "source": [
        "np.arange(5,10,2)"
      ]
    },
    {
      "cell_type": "code",
      "execution_count": 9,
      "metadata": {
        "colab": {
          "base_uri": "https://localhost:8080/"
        },
        "id": "sr3xltz0SFX3",
        "outputId": "212e2586-df3e-46e8-f85e-b51d1b298740"
      },
      "outputs": [
        {
          "data": {
            "text/plain": [
              "array([0.17959445, 0.25554576, 0.18729125, 0.86558891, 0.12378658])"
            ]
          },
          "execution_count": 9,
          "metadata": {},
          "output_type": "execute_result"
        }
      ],
      "source": [
        "np.random.rand(5)"
      ]
    },
    {
      "cell_type": "code",
      "execution_count": 10,
      "metadata": {
        "colab": {
          "base_uri": "https://localhost:8080/"
        },
        "id": "pcPPXHmfSKFp",
        "outputId": "0fe0fd02-860d-46b8-cfd7-762950f6a43c"
      },
      "outputs": [
        {
          "data": {
            "text/plain": [
              "array([19, 19, 14, 15, 13], dtype=int32)"
            ]
          },
          "execution_count": 10,
          "metadata": {},
          "output_type": "execute_result"
        }
      ],
      "source": [
        "np.random.randint(10,20,5)"
      ]
    },
    {
      "cell_type": "code",
      "execution_count": 11,
      "metadata": {
        "colab": {
          "base_uri": "https://localhost:8080/"
        },
        "id": "ok6dD7OgSTpU",
        "outputId": "b8017863-ac0f-4be8-8ea3-b01b440948c5"
      },
      "outputs": [
        {
          "data": {
            "text/plain": [
              "array([0., 0., 0., 0., 0.])"
            ]
          },
          "execution_count": 11,
          "metadata": {},
          "output_type": "execute_result"
        }
      ],
      "source": [
        "np.zeros(5)"
      ]
    },
    {
      "cell_type": "code",
      "execution_count": 12,
      "metadata": {
        "colab": {
          "base_uri": "https://localhost:8080/"
        },
        "id": "D4A7hRyFSfD0",
        "outputId": "8cb1e2d2-e167-4861-89fb-a6b920ce8ddf"
      },
      "outputs": [
        {
          "data": {
            "text/plain": [
              "array([1., 1., 1., 1., 1.])"
            ]
          },
          "execution_count": 12,
          "metadata": {},
          "output_type": "execute_result"
        }
      ],
      "source": [
        "np.ones(5)"
      ]
    },
    {
      "cell_type": "code",
      "execution_count": 13,
      "metadata": {
        "id": "t7EdoaFNShel"
      },
      "outputs": [],
      "source": [
        "x = np.arange(0,5)"
      ]
    },
    {
      "cell_type": "code",
      "execution_count": 14,
      "metadata": {
        "colab": {
          "base_uri": "https://localhost:8080/"
        },
        "id": "XQRIS8XKSkuU",
        "outputId": "727b8b20-824a-4db8-f0ae-a442192eb25c"
      },
      "outputs": [
        {
          "data": {
            "text/plain": [
              "array([0, 1, 2, 3, 4])"
            ]
          },
          "execution_count": 14,
          "metadata": {},
          "output_type": "execute_result"
        }
      ],
      "source": [
        "x"
      ]
    },
    {
      "cell_type": "code",
      "execution_count": 15,
      "metadata": {
        "colab": {
          "base_uri": "https://localhost:8080/"
        },
        "id": "IxHE0QEvSmGu",
        "outputId": "46b0d710-baf5-4fd4-b9a5-fdcb31120957"
      },
      "outputs": [
        {
          "data": {
            "text/plain": [
              "np.int64(10)"
            ]
          },
          "execution_count": 15,
          "metadata": {},
          "output_type": "execute_result"
        }
      ],
      "source": [
        "x.sum()"
      ]
    },
    {
      "cell_type": "code",
      "execution_count": 16,
      "metadata": {
        "colab": {
          "base_uri": "https://localhost:8080/"
        },
        "id": "AyoxNl2MmV5A",
        "outputId": "83c738f7-a093-4000-9df6-79e7d2b7168a"
      },
      "outputs": [
        {
          "data": {
            "text/plain": [
              "np.int64(10)"
            ]
          },
          "execution_count": 16,
          "metadata": {},
          "output_type": "execute_result"
        }
      ],
      "source": [
        "np.sum(x)"
      ]
    },
    {
      "cell_type": "code",
      "execution_count": 17,
      "metadata": {
        "colab": {
          "base_uri": "https://localhost:8080/"
        },
        "id": "b-smppjNSn7P",
        "outputId": "ed0ed06b-21d3-4a6a-d6c9-69c99c00e607"
      },
      "outputs": [
        {
          "data": {
            "text/plain": [
              "np.float64(2.0)"
            ]
          },
          "execution_count": 17,
          "metadata": {},
          "output_type": "execute_result"
        }
      ],
      "source": [
        "x.mean()"
      ]
    },
    {
      "cell_type": "code",
      "execution_count": 18,
      "metadata": {
        "colab": {
          "base_uri": "https://localhost:8080/"
        },
        "id": "lrgibUPlSpFn",
        "outputId": "ac34edbb-4860-4d48-b939-e1a585dc46d7"
      },
      "outputs": [
        {
          "data": {
            "text/plain": [
              "np.int64(0)"
            ]
          },
          "execution_count": 18,
          "metadata": {},
          "output_type": "execute_result"
        }
      ],
      "source": [
        "x.min()"
      ]
    },
    {
      "cell_type": "code",
      "execution_count": 19,
      "metadata": {
        "colab": {
          "base_uri": "https://localhost:8080/"
        },
        "id": "2s-F_H4-SzvX",
        "outputId": "0be00ddc-c313-4759-869b-a29f38cea5dd"
      },
      "outputs": [
        {
          "data": {
            "text/plain": [
              "np.int64(4)"
            ]
          },
          "execution_count": 19,
          "metadata": {},
          "output_type": "execute_result"
        }
      ],
      "source": [
        "x.max()"
      ]
    },
    {
      "cell_type": "code",
      "execution_count": 20,
      "metadata": {
        "colab": {
          "base_uri": "https://localhost:8080/"
        },
        "id": "KbH07Wo7S1IY",
        "outputId": "392ef20f-a229-4b4a-9d3b-2783d34e2e8f"
      },
      "outputs": [
        {
          "data": {
            "text/plain": [
              "np.float64(1.4142135623730951)"
            ]
          },
          "execution_count": 20,
          "metadata": {},
          "output_type": "execute_result"
        }
      ],
      "source": [
        "x.std()"
      ]
    },
    {
      "cell_type": "code",
      "execution_count": 21,
      "metadata": {
        "colab": {
          "base_uri": "https://localhost:8080/"
        },
        "id": "qjaw-bkrY-c3",
        "outputId": "3390c7b5-cc1b-489b-f520-c8608bf6ad54"
      },
      "outputs": [
        {
          "data": {
            "text/plain": [
              "array([0, 1, 2, 3, 4])"
            ]
          },
          "execution_count": 21,
          "metadata": {},
          "output_type": "execute_result"
        }
      ],
      "source": [
        "x"
      ]
    },
    {
      "cell_type": "code",
      "execution_count": 22,
      "metadata": {
        "colab": {
          "base_uri": "https://localhost:8080/"
        },
        "id": "8z_pD8epvojY",
        "outputId": "41dd3019-6368-41fb-a957-4c1e88f31972"
      },
      "outputs": [
        {
          "data": {
            "text/plain": [
              "np.int64(2)"
            ]
          },
          "execution_count": 22,
          "metadata": {},
          "output_type": "execute_result"
        }
      ],
      "source": [
        "x[2]"
      ]
    },
    {
      "cell_type": "code",
      "execution_count": 23,
      "metadata": {
        "colab": {
          "base_uri": "https://localhost:8080/"
        },
        "id": "tDN_xAQ3S2lj",
        "outputId": "d792c53d-797d-474a-9c8f-615fc8547c51"
      },
      "outputs": [
        {
          "data": {
            "text/plain": [
              "array([0, 1, 2])"
            ]
          },
          "execution_count": 23,
          "metadata": {},
          "output_type": "execute_result"
        }
      ],
      "source": [
        "x[0:3]"
      ]
    },
    {
      "cell_type": "code",
      "execution_count": 24,
      "metadata": {
        "colab": {
          "base_uri": "https://localhost:8080/"
        },
        "id": "wXDaCrknTKMm",
        "outputId": "5aee2e00-88c5-41de-fa1b-7d491aaf9dcd"
      },
      "outputs": [
        {
          "data": {
            "text/plain": [
              "array([0, 1, 2])"
            ]
          },
          "execution_count": 24,
          "metadata": {},
          "output_type": "execute_result"
        }
      ],
      "source": [
        "x[:3]"
      ]
    },
    {
      "cell_type": "code",
      "execution_count": 25,
      "metadata": {
        "colab": {
          "base_uri": "https://localhost:8080/"
        },
        "id": "KAy4SmHDTP0q",
        "outputId": "eca20f1d-521e-4028-a0b0-377e94a1e4b8"
      },
      "outputs": [
        {
          "data": {
            "text/plain": [
              "array([3, 4])"
            ]
          },
          "execution_count": 25,
          "metadata": {},
          "output_type": "execute_result"
        }
      ],
      "source": [
        "x[3:]"
      ]
    },
    {
      "cell_type": "code",
      "execution_count": 26,
      "metadata": {
        "colab": {
          "base_uri": "https://localhost:8080/"
        },
        "id": "H0m1KGCETR75",
        "outputId": "b0a03db9-b789-4106-9ba4-f083c323dabe"
      },
      "outputs": [
        {
          "data": {
            "text/plain": [
              "np.int64(4)"
            ]
          },
          "execution_count": 26,
          "metadata": {},
          "output_type": "execute_result"
        }
      ],
      "source": [
        "x[-1]"
      ]
    },
    {
      "cell_type": "code",
      "execution_count": 27,
      "metadata": {
        "colab": {
          "base_uri": "https://localhost:8080/"
        },
        "id": "tTKxmtu5TT0Q",
        "outputId": "539090e2-e68f-4620-fcd8-b5532301d042"
      },
      "outputs": [
        {
          "data": {
            "text/plain": [
              "np.int64(3)"
            ]
          },
          "execution_count": 27,
          "metadata": {},
          "output_type": "execute_result"
        }
      ],
      "source": [
        "x[-2]"
      ]
    },
    {
      "cell_type": "markdown",
      "metadata": {
        "id": "ElmwquFhVbxC"
      },
      "source": [
        "## Pandas Series & Pandas Dataframe"
      ]
    },
    {
      "cell_type": "code",
      "execution_count": 28,
      "metadata": {
        "id": "gO5vCm5KVekV"
      },
      "outputs": [],
      "source": [
        "s1 = pd.Series([0, 10, 20])"
      ]
    },
    {
      "cell_type": "code",
      "execution_count": 29,
      "metadata": {
        "colab": {
          "base_uri": "https://localhost:8080/",
          "height": 178
        },
        "id": "1zSuuxA2Vl9p",
        "outputId": "c38769ee-5fa1-4f0f-e3bf-6d3561845401"
      },
      "outputs": [
        {
          "data": {
            "text/plain": [
              "0     0\n",
              "1    10\n",
              "2    20\n",
              "dtype: int64"
            ]
          },
          "execution_count": 29,
          "metadata": {},
          "output_type": "execute_result"
        }
      ],
      "source": [
        "s1"
      ]
    },
    {
      "cell_type": "code",
      "execution_count": 30,
      "metadata": {
        "colab": {
          "base_uri": "https://localhost:8080/"
        },
        "id": "NdVat3reV1ra",
        "outputId": "697e6946-3988-4293-dccc-71de07b69461"
      },
      "outputs": [
        {
          "data": {
            "text/plain": [
              "np.float64(10.0)"
            ]
          },
          "execution_count": 30,
          "metadata": {},
          "output_type": "execute_result"
        }
      ],
      "source": [
        "s1.mean()"
      ]
    },
    {
      "cell_type": "code",
      "execution_count": 31,
      "metadata": {
        "colab": {
          "base_uri": "https://localhost:8080/"
        },
        "id": "PPWa1af2V3dF",
        "outputId": "4b3118f6-5de0-41bd-dbd6-4024dcc39510"
      },
      "outputs": [
        {
          "data": {
            "text/plain": [
              "np.int64(20)"
            ]
          },
          "execution_count": 31,
          "metadata": {},
          "output_type": "execute_result"
        }
      ],
      "source": [
        "s1.max()"
      ]
    },
    {
      "cell_type": "code",
      "execution_count": 32,
      "metadata": {
        "id": "HFz1ls2CV54z"
      },
      "outputs": [],
      "source": [
        "s2 = pd.Series([\"A\", \"B\", \"C\"])"
      ]
    },
    {
      "cell_type": "code",
      "execution_count": 33,
      "metadata": {
        "colab": {
          "base_uri": "https://localhost:8080/",
          "height": 178
        },
        "id": "hPseJ1FxV_eh",
        "outputId": "185debeb-9a80-4588-cbef-aa62ffbaf407"
      },
      "outputs": [
        {
          "data": {
            "text/plain": [
              "0    A\n",
              "1    B\n",
              "2    C\n",
              "dtype: object"
            ]
          },
          "execution_count": 33,
          "metadata": {},
          "output_type": "execute_result"
        }
      ],
      "source": [
        "s2"
      ]
    },
    {
      "cell_type": "code",
      "execution_count": 34,
      "metadata": {
        "id": "VYaKw__TWEDJ"
      },
      "outputs": [],
      "source": [
        "df = pd.DataFrame({\"name\":s2, \"working_years\":s1})"
      ]
    },
    {
      "cell_type": "code",
      "execution_count": 35,
      "metadata": {
        "colab": {
          "base_uri": "https://localhost:8080/",
          "height": 143
        },
        "id": "D2Pey52xWNAJ",
        "outputId": "498ea4c4-e7e8-464d-eca0-3f85e5ebc117"
      },
      "outputs": [
        {
          "data": {
            "text/html": [
              "<div>\n",
              "<style scoped>\n",
              "    .dataframe tbody tr th:only-of-type {\n",
              "        vertical-align: middle;\n",
              "    }\n",
              "\n",
              "    .dataframe tbody tr th {\n",
              "        vertical-align: top;\n",
              "    }\n",
              "\n",
              "    .dataframe thead th {\n",
              "        text-align: right;\n",
              "    }\n",
              "</style>\n",
              "<table border=\"1\" class=\"dataframe\">\n",
              "  <thead>\n",
              "    <tr style=\"text-align: right;\">\n",
              "      <th></th>\n",
              "      <th>name</th>\n",
              "      <th>working_years</th>\n",
              "    </tr>\n",
              "  </thead>\n",
              "  <tbody>\n",
              "    <tr>\n",
              "      <th>0</th>\n",
              "      <td>A</td>\n",
              "      <td>0</td>\n",
              "    </tr>\n",
              "    <tr>\n",
              "      <th>1</th>\n",
              "      <td>B</td>\n",
              "      <td>10</td>\n",
              "    </tr>\n",
              "    <tr>\n",
              "      <th>2</th>\n",
              "      <td>C</td>\n",
              "      <td>20</td>\n",
              "    </tr>\n",
              "  </tbody>\n",
              "</table>\n",
              "</div>"
            ],
            "text/plain": [
              "  name  working_years\n",
              "0    A              0\n",
              "1    B             10\n",
              "2    C             20"
            ]
          },
          "execution_count": 35,
          "metadata": {},
          "output_type": "execute_result"
        }
      ],
      "source": [
        "df"
      ]
    },
    {
      "cell_type": "code",
      "execution_count": 36,
      "metadata": {
        "colab": {
          "base_uri": "https://localhost:8080/",
          "height": 203
        },
        "id": "aF-oFL7PWy9g",
        "outputId": "733801ad-dea2-48af-d084-f4cf526822cf"
      },
      "outputs": [
        {
          "data": {
            "text/plain": [
              "pandas.core.frame.DataFrame"
            ]
          },
          "execution_count": 36,
          "metadata": {},
          "output_type": "execute_result"
        }
      ],
      "source": [
        "type(df)"
      ]
    },
    {
      "cell_type": "code",
      "execution_count": 37,
      "metadata": {
        "colab": {
          "base_uri": "https://localhost:8080/",
          "height": 203
        },
        "id": "Vhsf8VtRW1Dl",
        "outputId": "77d17f3f-96c0-4495-f1da-3f1c847b4bc5"
      },
      "outputs": [
        {
          "data": {
            "text/plain": [
              "pandas.core.series.Series"
            ]
          },
          "execution_count": 37,
          "metadata": {},
          "output_type": "execute_result"
        }
      ],
      "source": [
        "type(s1)"
      ]
    },
    {
      "cell_type": "code",
      "execution_count": 38,
      "metadata": {
        "colab": {
          "base_uri": "https://localhost:8080/",
          "height": 178
        },
        "id": "0om2ux8JW9oW",
        "outputId": "50d01f0a-14eb-4098-8f2c-3e5498148511"
      },
      "outputs": [
        {
          "data": {
            "text/plain": [
              "0    A\n",
              "1    B\n",
              "2    C\n",
              "Name: name, dtype: object"
            ]
          },
          "execution_count": 38,
          "metadata": {},
          "output_type": "execute_result"
        }
      ],
      "source": [
        "df[\"name\"]"
      ]
    },
    {
      "cell_type": "code",
      "execution_count": 39,
      "metadata": {
        "colab": {
          "base_uri": "https://localhost:8080/",
          "height": 143
        },
        "id": "8aVHXC6XXB3L",
        "outputId": "81180ea8-9982-4949-f2fa-37f69db43130"
      },
      "outputs": [
        {
          "data": {
            "text/html": [
              "<div>\n",
              "<style scoped>\n",
              "    .dataframe tbody tr th:only-of-type {\n",
              "        vertical-align: middle;\n",
              "    }\n",
              "\n",
              "    .dataframe tbody tr th {\n",
              "        vertical-align: top;\n",
              "    }\n",
              "\n",
              "    .dataframe thead th {\n",
              "        text-align: right;\n",
              "    }\n",
              "</style>\n",
              "<table border=\"1\" class=\"dataframe\">\n",
              "  <thead>\n",
              "    <tr style=\"text-align: right;\">\n",
              "      <th></th>\n",
              "      <th>name</th>\n",
              "    </tr>\n",
              "  </thead>\n",
              "  <tbody>\n",
              "    <tr>\n",
              "      <th>0</th>\n",
              "      <td>A</td>\n",
              "    </tr>\n",
              "    <tr>\n",
              "      <th>1</th>\n",
              "      <td>B</td>\n",
              "    </tr>\n",
              "    <tr>\n",
              "      <th>2</th>\n",
              "      <td>C</td>\n",
              "    </tr>\n",
              "  </tbody>\n",
              "</table>\n",
              "</div>"
            ],
            "text/plain": [
              "  name\n",
              "0    A\n",
              "1    B\n",
              "2    C"
            ]
          },
          "execution_count": 39,
          "metadata": {},
          "output_type": "execute_result"
        }
      ],
      "source": [
        "df[[\"name\"]]"
      ]
    },
    {
      "cell_type": "code",
      "execution_count": 40,
      "metadata": {
        "colab": {
          "base_uri": "https://localhost:8080/",
          "height": 203
        },
        "id": "DoWS9bmHXE7Q",
        "outputId": "946ee951-5ab5-44a6-bbf9-c22a96ce3558"
      },
      "outputs": [
        {
          "data": {
            "text/plain": [
              "pandas.core.series.Series"
            ]
          },
          "execution_count": 40,
          "metadata": {},
          "output_type": "execute_result"
        }
      ],
      "source": [
        "type(df[\"name\"])"
      ]
    },
    {
      "cell_type": "code",
      "execution_count": 41,
      "metadata": {
        "colab": {
          "base_uri": "https://localhost:8080/",
          "height": 203
        },
        "id": "a5BhIhoYXHEN",
        "outputId": "0340123a-b4fb-40ab-8627-775b46769205"
      },
      "outputs": [
        {
          "data": {
            "text/plain": [
              "pandas.core.frame.DataFrame"
            ]
          },
          "execution_count": 41,
          "metadata": {},
          "output_type": "execute_result"
        }
      ],
      "source": [
        "type(df[[\"name\"]])"
      ]
    },
    {
      "cell_type": "markdown",
      "metadata": {
        "id": "QXpVCNz8Afdc"
      },
      "source": [
        "## Read CSV into a Pandas Dataframe"
      ]
    },
    {
      "cell_type": "code",
      "execution_count": 42,
      "metadata": {
        "id": "IAUcJ9bY-nav"
      },
      "outputs": [],
      "source": [
        "CSV_PATH = \"https://rathachai.github.io/DA-LAB/datasets/simple-employee-db.csv\""
      ]
    },
    {
      "cell_type": "code",
      "execution_count": 43,
      "metadata": {
        "id": "Q5vVZ70HciVf"
      },
      "outputs": [],
      "source": [
        "df = pd.read_csv(CSV_PATH)"
      ]
    },
    {
      "cell_type": "code",
      "execution_count": 44,
      "metadata": {
        "colab": {
          "base_uri": "https://localhost:8080/",
          "height": 300
        },
        "id": "LMQ8IgvDcm-G",
        "outputId": "14fa79ad-26dd-4e74-cd6c-4a75e9077e51"
      },
      "outputs": [
        {
          "data": {
            "text/html": [
              "<div>\n",
              "<style scoped>\n",
              "    .dataframe tbody tr th:only-of-type {\n",
              "        vertical-align: middle;\n",
              "    }\n",
              "\n",
              "    .dataframe tbody tr th {\n",
              "        vertical-align: top;\n",
              "    }\n",
              "\n",
              "    .dataframe thead th {\n",
              "        text-align: right;\n",
              "    }\n",
              "</style>\n",
              "<table border=\"1\" class=\"dataframe\">\n",
              "  <thead>\n",
              "    <tr style=\"text-align: right;\">\n",
              "      <th></th>\n",
              "      <th>eid</th>\n",
              "      <th>name</th>\n",
              "      <th>gender</th>\n",
              "      <th>department</th>\n",
              "      <th>age</th>\n",
              "      <th>salary</th>\n",
              "      <th>working_years</th>\n",
              "      <th>birth_place</th>\n",
              "    </tr>\n",
              "  </thead>\n",
              "  <tbody>\n",
              "    <tr>\n",
              "      <th>0</th>\n",
              "      <td>E011</td>\n",
              "      <td>Anda</td>\n",
              "      <td>female</td>\n",
              "      <td>developer</td>\n",
              "      <td>39</td>\n",
              "      <td>64200.0</td>\n",
              "      <td>4</td>\n",
              "      <td>Bangkok</td>\n",
              "    </tr>\n",
              "    <tr>\n",
              "      <th>1</th>\n",
              "      <td>E012</td>\n",
              "      <td>Bordin</td>\n",
              "      <td>male</td>\n",
              "      <td>developer</td>\n",
              "      <td>25</td>\n",
              "      <td>48700.0</td>\n",
              "      <td>2</td>\n",
              "      <td>Phuket</td>\n",
              "    </tr>\n",
              "    <tr>\n",
              "      <th>2</th>\n",
              "      <td>E013</td>\n",
              "      <td>Chantana</td>\n",
              "      <td>female</td>\n",
              "      <td>developer</td>\n",
              "      <td>29</td>\n",
              "      <td>45500.0</td>\n",
              "      <td>3</td>\n",
              "      <td>Chonburi</td>\n",
              "    </tr>\n",
              "    <tr>\n",
              "      <th>3</th>\n",
              "      <td>E014</td>\n",
              "      <td>Donlaya</td>\n",
              "      <td>female</td>\n",
              "      <td>marketing</td>\n",
              "      <td>39</td>\n",
              "      <td>72600.0</td>\n",
              "      <td>8</td>\n",
              "      <td>Chonburi</td>\n",
              "    </tr>\n",
              "    <tr>\n",
              "      <th>4</th>\n",
              "      <td>E015</td>\n",
              "      <td>Ekkasit</td>\n",
              "      <td>male</td>\n",
              "      <td>marketing</td>\n",
              "      <td>37</td>\n",
              "      <td>80500.0</td>\n",
              "      <td>7</td>\n",
              "      <td>Suphanburi</td>\n",
              "    </tr>\n",
              "    <tr>\n",
              "      <th>5</th>\n",
              "      <td>E016</td>\n",
              "      <td>Fundee</td>\n",
              "      <td>female</td>\n",
              "      <td>support</td>\n",
              "      <td>35</td>\n",
              "      <td>56600.0</td>\n",
              "      <td>3</td>\n",
              "      <td>Phuket</td>\n",
              "    </tr>\n",
              "    <tr>\n",
              "      <th>6</th>\n",
              "      <td>E017</td>\n",
              "      <td>Gitiwit</td>\n",
              "      <td>male</td>\n",
              "      <td>support</td>\n",
              "      <td>26</td>\n",
              "      <td>42400.0</td>\n",
              "      <td>2</td>\n",
              "      <td>Suphanburi</td>\n",
              "    </tr>\n",
              "    <tr>\n",
              "      <th>7</th>\n",
              "      <td>E018</td>\n",
              "      <td>Harit</td>\n",
              "      <td>male</td>\n",
              "      <td>devops</td>\n",
              "      <td>32</td>\n",
              "      <td>67700.0</td>\n",
              "      <td>5</td>\n",
              "      <td>Bangkok</td>\n",
              "    </tr>\n",
              "  </tbody>\n",
              "</table>\n",
              "</div>"
            ],
            "text/plain": [
              "    eid      name  gender department  age   salary  working_years birth_place\n",
              "0  E011      Anda  female  developer   39  64200.0              4     Bangkok\n",
              "1  E012    Bordin    male  developer   25  48700.0              2      Phuket\n",
              "2  E013  Chantana  female  developer   29  45500.0              3    Chonburi\n",
              "3  E014   Donlaya  female  marketing   39  72600.0              8    Chonburi\n",
              "4  E015   Ekkasit    male  marketing   37  80500.0              7  Suphanburi\n",
              "5  E016    Fundee  female    support   35  56600.0              3      Phuket\n",
              "6  E017   Gitiwit    male    support   26  42400.0              2  Suphanburi\n",
              "7  E018     Harit    male     devops   32  67700.0              5     Bangkok"
            ]
          },
          "execution_count": 44,
          "metadata": {},
          "output_type": "execute_result"
        }
      ],
      "source": [
        "df"
      ]
    },
    {
      "cell_type": "code",
      "execution_count": 45,
      "metadata": {
        "colab": {
          "base_uri": "https://localhost:8080/",
          "height": 206
        },
        "id": "jZji3VIsBWQ1",
        "outputId": "2943f33b-dafe-499d-885e-22ff4aa92221"
      },
      "outputs": [
        {
          "data": {
            "text/html": [
              "<div>\n",
              "<style scoped>\n",
              "    .dataframe tbody tr th:only-of-type {\n",
              "        vertical-align: middle;\n",
              "    }\n",
              "\n",
              "    .dataframe tbody tr th {\n",
              "        vertical-align: top;\n",
              "    }\n",
              "\n",
              "    .dataframe thead th {\n",
              "        text-align: right;\n",
              "    }\n",
              "</style>\n",
              "<table border=\"1\" class=\"dataframe\">\n",
              "  <thead>\n",
              "    <tr style=\"text-align: right;\">\n",
              "      <th></th>\n",
              "      <th>eid</th>\n",
              "      <th>name</th>\n",
              "      <th>gender</th>\n",
              "      <th>department</th>\n",
              "      <th>age</th>\n",
              "      <th>salary</th>\n",
              "      <th>working_years</th>\n",
              "      <th>birth_place</th>\n",
              "    </tr>\n",
              "  </thead>\n",
              "  <tbody>\n",
              "    <tr>\n",
              "      <th>0</th>\n",
              "      <td>E011</td>\n",
              "      <td>Anda</td>\n",
              "      <td>female</td>\n",
              "      <td>developer</td>\n",
              "      <td>39</td>\n",
              "      <td>64200.0</td>\n",
              "      <td>4</td>\n",
              "      <td>Bangkok</td>\n",
              "    </tr>\n",
              "    <tr>\n",
              "      <th>1</th>\n",
              "      <td>E012</td>\n",
              "      <td>Bordin</td>\n",
              "      <td>male</td>\n",
              "      <td>developer</td>\n",
              "      <td>25</td>\n",
              "      <td>48700.0</td>\n",
              "      <td>2</td>\n",
              "      <td>Phuket</td>\n",
              "    </tr>\n",
              "    <tr>\n",
              "      <th>2</th>\n",
              "      <td>E013</td>\n",
              "      <td>Chantana</td>\n",
              "      <td>female</td>\n",
              "      <td>developer</td>\n",
              "      <td>29</td>\n",
              "      <td>45500.0</td>\n",
              "      <td>3</td>\n",
              "      <td>Chonburi</td>\n",
              "    </tr>\n",
              "    <tr>\n",
              "      <th>3</th>\n",
              "      <td>E014</td>\n",
              "      <td>Donlaya</td>\n",
              "      <td>female</td>\n",
              "      <td>marketing</td>\n",
              "      <td>39</td>\n",
              "      <td>72600.0</td>\n",
              "      <td>8</td>\n",
              "      <td>Chonburi</td>\n",
              "    </tr>\n",
              "    <tr>\n",
              "      <th>4</th>\n",
              "      <td>E015</td>\n",
              "      <td>Ekkasit</td>\n",
              "      <td>male</td>\n",
              "      <td>marketing</td>\n",
              "      <td>37</td>\n",
              "      <td>80500.0</td>\n",
              "      <td>7</td>\n",
              "      <td>Suphanburi</td>\n",
              "    </tr>\n",
              "  </tbody>\n",
              "</table>\n",
              "</div>"
            ],
            "text/plain": [
              "    eid      name  gender department  age   salary  working_years birth_place\n",
              "0  E011      Anda  female  developer   39  64200.0              4     Bangkok\n",
              "1  E012    Bordin    male  developer   25  48700.0              2      Phuket\n",
              "2  E013  Chantana  female  developer   29  45500.0              3    Chonburi\n",
              "3  E014   Donlaya  female  marketing   39  72600.0              8    Chonburi\n",
              "4  E015   Ekkasit    male  marketing   37  80500.0              7  Suphanburi"
            ]
          },
          "execution_count": 45,
          "metadata": {},
          "output_type": "execute_result"
        }
      ],
      "source": [
        "df.head()"
      ]
    },
    {
      "cell_type": "code",
      "execution_count": 46,
      "metadata": {
        "colab": {
          "base_uri": "https://localhost:8080/",
          "height": 206
        },
        "id": "HNqW536rBZsK",
        "outputId": "2b218f9d-cdff-4e8f-ddf9-fb2ed90d9b71"
      },
      "outputs": [
        {
          "data": {
            "text/html": [
              "<div>\n",
              "<style scoped>\n",
              "    .dataframe tbody tr th:only-of-type {\n",
              "        vertical-align: middle;\n",
              "    }\n",
              "\n",
              "    .dataframe tbody tr th {\n",
              "        vertical-align: top;\n",
              "    }\n",
              "\n",
              "    .dataframe thead th {\n",
              "        text-align: right;\n",
              "    }\n",
              "</style>\n",
              "<table border=\"1\" class=\"dataframe\">\n",
              "  <thead>\n",
              "    <tr style=\"text-align: right;\">\n",
              "      <th></th>\n",
              "      <th>eid</th>\n",
              "      <th>name</th>\n",
              "      <th>gender</th>\n",
              "      <th>department</th>\n",
              "      <th>age</th>\n",
              "      <th>salary</th>\n",
              "      <th>working_years</th>\n",
              "      <th>birth_place</th>\n",
              "    </tr>\n",
              "  </thead>\n",
              "  <tbody>\n",
              "    <tr>\n",
              "      <th>3</th>\n",
              "      <td>E014</td>\n",
              "      <td>Donlaya</td>\n",
              "      <td>female</td>\n",
              "      <td>marketing</td>\n",
              "      <td>39</td>\n",
              "      <td>72600.0</td>\n",
              "      <td>8</td>\n",
              "      <td>Chonburi</td>\n",
              "    </tr>\n",
              "    <tr>\n",
              "      <th>4</th>\n",
              "      <td>E015</td>\n",
              "      <td>Ekkasit</td>\n",
              "      <td>male</td>\n",
              "      <td>marketing</td>\n",
              "      <td>37</td>\n",
              "      <td>80500.0</td>\n",
              "      <td>7</td>\n",
              "      <td>Suphanburi</td>\n",
              "    </tr>\n",
              "    <tr>\n",
              "      <th>5</th>\n",
              "      <td>E016</td>\n",
              "      <td>Fundee</td>\n",
              "      <td>female</td>\n",
              "      <td>support</td>\n",
              "      <td>35</td>\n",
              "      <td>56600.0</td>\n",
              "      <td>3</td>\n",
              "      <td>Phuket</td>\n",
              "    </tr>\n",
              "    <tr>\n",
              "      <th>6</th>\n",
              "      <td>E017</td>\n",
              "      <td>Gitiwit</td>\n",
              "      <td>male</td>\n",
              "      <td>support</td>\n",
              "      <td>26</td>\n",
              "      <td>42400.0</td>\n",
              "      <td>2</td>\n",
              "      <td>Suphanburi</td>\n",
              "    </tr>\n",
              "    <tr>\n",
              "      <th>7</th>\n",
              "      <td>E018</td>\n",
              "      <td>Harit</td>\n",
              "      <td>male</td>\n",
              "      <td>devops</td>\n",
              "      <td>32</td>\n",
              "      <td>67700.0</td>\n",
              "      <td>5</td>\n",
              "      <td>Bangkok</td>\n",
              "    </tr>\n",
              "  </tbody>\n",
              "</table>\n",
              "</div>"
            ],
            "text/plain": [
              "    eid     name  gender department  age   salary  working_years birth_place\n",
              "3  E014  Donlaya  female  marketing   39  72600.0              8    Chonburi\n",
              "4  E015  Ekkasit    male  marketing   37  80500.0              7  Suphanburi\n",
              "5  E016   Fundee  female    support   35  56600.0              3      Phuket\n",
              "6  E017  Gitiwit    male    support   26  42400.0              2  Suphanburi\n",
              "7  E018    Harit    male     devops   32  67700.0              5     Bangkok"
            ]
          },
          "execution_count": 46,
          "metadata": {},
          "output_type": "execute_result"
        }
      ],
      "source": [
        "df.tail()"
      ]
    },
    {
      "cell_type": "markdown",
      "metadata": {
        "id": "rgvNsguEAU5z"
      },
      "source": [
        "## Column Selection"
      ]
    },
    {
      "cell_type": "code",
      "execution_count": 47,
      "metadata": {
        "colab": {
          "base_uri": "https://localhost:8080/",
          "height": 0
        },
        "id": "9XykVausysp3",
        "outputId": "f4e8dc44-b325-4b8a-cc39-d166653d0a8c"
      },
      "outputs": [
        {
          "data": {
            "text/plain": [
              "0        Anda\n",
              "1      Bordin\n",
              "2    Chantana\n",
              "3     Donlaya\n",
              "4     Ekkasit\n",
              "5      Fundee\n",
              "6     Gitiwit\n",
              "7       Harit\n",
              "Name: name, dtype: object"
            ]
          },
          "execution_count": 47,
          "metadata": {},
          "output_type": "execute_result"
        }
      ],
      "source": [
        "df[\"name\"]"
      ]
    },
    {
      "cell_type": "code",
      "execution_count": 48,
      "metadata": {
        "colab": {
          "base_uri": "https://localhost:8080/",
          "height": 0
        },
        "id": "EeSaXbmoMs2K",
        "outputId": "049f80fc-5a07-4fbc-8567-deac8e81f4f0"
      },
      "outputs": [
        {
          "data": {
            "text/html": [
              "<div>\n",
              "<style scoped>\n",
              "    .dataframe tbody tr th:only-of-type {\n",
              "        vertical-align: middle;\n",
              "    }\n",
              "\n",
              "    .dataframe tbody tr th {\n",
              "        vertical-align: top;\n",
              "    }\n",
              "\n",
              "    .dataframe thead th {\n",
              "        text-align: right;\n",
              "    }\n",
              "</style>\n",
              "<table border=\"1\" class=\"dataframe\">\n",
              "  <thead>\n",
              "    <tr style=\"text-align: right;\">\n",
              "      <th></th>\n",
              "      <th>name</th>\n",
              "    </tr>\n",
              "  </thead>\n",
              "  <tbody>\n",
              "    <tr>\n",
              "      <th>0</th>\n",
              "      <td>Anda</td>\n",
              "    </tr>\n",
              "    <tr>\n",
              "      <th>1</th>\n",
              "      <td>Bordin</td>\n",
              "    </tr>\n",
              "    <tr>\n",
              "      <th>2</th>\n",
              "      <td>Chantana</td>\n",
              "    </tr>\n",
              "    <tr>\n",
              "      <th>3</th>\n",
              "      <td>Donlaya</td>\n",
              "    </tr>\n",
              "    <tr>\n",
              "      <th>4</th>\n",
              "      <td>Ekkasit</td>\n",
              "    </tr>\n",
              "    <tr>\n",
              "      <th>5</th>\n",
              "      <td>Fundee</td>\n",
              "    </tr>\n",
              "    <tr>\n",
              "      <th>6</th>\n",
              "      <td>Gitiwit</td>\n",
              "    </tr>\n",
              "    <tr>\n",
              "      <th>7</th>\n",
              "      <td>Harit</td>\n",
              "    </tr>\n",
              "  </tbody>\n",
              "</table>\n",
              "</div>"
            ],
            "text/plain": [
              "       name\n",
              "0      Anda\n",
              "1    Bordin\n",
              "2  Chantana\n",
              "3   Donlaya\n",
              "4   Ekkasit\n",
              "5    Fundee\n",
              "6   Gitiwit\n",
              "7     Harit"
            ]
          },
          "execution_count": 48,
          "metadata": {},
          "output_type": "execute_result"
        }
      ],
      "source": [
        "df[[\"name\"]]"
      ]
    },
    {
      "cell_type": "code",
      "execution_count": 49,
      "metadata": {
        "colab": {
          "base_uri": "https://localhost:8080/",
          "height": 0
        },
        "id": "MnQKJmOOA2rV",
        "outputId": "5135f911-d290-4de4-f649-3ec20ad6f910"
      },
      "outputs": [
        {
          "data": {
            "text/html": [
              "<div>\n",
              "<style scoped>\n",
              "    .dataframe tbody tr th:only-of-type {\n",
              "        vertical-align: middle;\n",
              "    }\n",
              "\n",
              "    .dataframe tbody tr th {\n",
              "        vertical-align: top;\n",
              "    }\n",
              "\n",
              "    .dataframe thead th {\n",
              "        text-align: right;\n",
              "    }\n",
              "</style>\n",
              "<table border=\"1\" class=\"dataframe\">\n",
              "  <thead>\n",
              "    <tr style=\"text-align: right;\">\n",
              "      <th></th>\n",
              "      <th>name</th>\n",
              "      <th>gender</th>\n",
              "      <th>age</th>\n",
              "    </tr>\n",
              "  </thead>\n",
              "  <tbody>\n",
              "    <tr>\n",
              "      <th>0</th>\n",
              "      <td>Anda</td>\n",
              "      <td>female</td>\n",
              "      <td>39</td>\n",
              "    </tr>\n",
              "    <tr>\n",
              "      <th>1</th>\n",
              "      <td>Bordin</td>\n",
              "      <td>male</td>\n",
              "      <td>25</td>\n",
              "    </tr>\n",
              "    <tr>\n",
              "      <th>2</th>\n",
              "      <td>Chantana</td>\n",
              "      <td>female</td>\n",
              "      <td>29</td>\n",
              "    </tr>\n",
              "    <tr>\n",
              "      <th>3</th>\n",
              "      <td>Donlaya</td>\n",
              "      <td>female</td>\n",
              "      <td>39</td>\n",
              "    </tr>\n",
              "    <tr>\n",
              "      <th>4</th>\n",
              "      <td>Ekkasit</td>\n",
              "      <td>male</td>\n",
              "      <td>37</td>\n",
              "    </tr>\n",
              "    <tr>\n",
              "      <th>5</th>\n",
              "      <td>Fundee</td>\n",
              "      <td>female</td>\n",
              "      <td>35</td>\n",
              "    </tr>\n",
              "    <tr>\n",
              "      <th>6</th>\n",
              "      <td>Gitiwit</td>\n",
              "      <td>male</td>\n",
              "      <td>26</td>\n",
              "    </tr>\n",
              "    <tr>\n",
              "      <th>7</th>\n",
              "      <td>Harit</td>\n",
              "      <td>male</td>\n",
              "      <td>32</td>\n",
              "    </tr>\n",
              "  </tbody>\n",
              "</table>\n",
              "</div>"
            ],
            "text/plain": [
              "       name  gender  age\n",
              "0      Anda  female   39\n",
              "1    Bordin    male   25\n",
              "2  Chantana  female   29\n",
              "3   Donlaya  female   39\n",
              "4   Ekkasit    male   37\n",
              "5    Fundee  female   35\n",
              "6   Gitiwit    male   26\n",
              "7     Harit    male   32"
            ]
          },
          "execution_count": 49,
          "metadata": {},
          "output_type": "execute_result"
        }
      ],
      "source": [
        "df[[\"name\", \"gender\", \"age\"]]"
      ]
    },
    {
      "cell_type": "markdown",
      "metadata": {
        "id": "a45CRpfnBf0N"
      },
      "source": [
        "## Row Selection"
      ]
    },
    {
      "cell_type": "code",
      "execution_count": 50,
      "metadata": {
        "colab": {
          "base_uri": "https://localhost:8080/",
          "height": 0
        },
        "id": "CgHcSS_tBi9T",
        "outputId": "57f56b96-9278-424b-addf-9ddfcc00fa44"
      },
      "outputs": [
        {
          "data": {
            "text/plain": [
              "eid                   E012\n",
              "name                Bordin\n",
              "gender                male\n",
              "department       developer\n",
              "age                     25\n",
              "salary             48700.0\n",
              "working_years            2\n",
              "birth_place         Phuket\n",
              "Name: 1, dtype: object"
            ]
          },
          "execution_count": 50,
          "metadata": {},
          "output_type": "execute_result"
        }
      ],
      "source": [
        "df.loc[1]"
      ]
    },
    {
      "cell_type": "code",
      "execution_count": 51,
      "metadata": {
        "colab": {
          "base_uri": "https://localhost:8080/",
          "height": 0
        },
        "id": "Ioc7Tnk8cPfZ",
        "outputId": "ac3a4e6c-8414-4fb0-cb23-59e745dbe442"
      },
      "outputs": [
        {
          "data": {
            "text/html": [
              "<div>\n",
              "<style scoped>\n",
              "    .dataframe tbody tr th:only-of-type {\n",
              "        vertical-align: middle;\n",
              "    }\n",
              "\n",
              "    .dataframe tbody tr th {\n",
              "        vertical-align: top;\n",
              "    }\n",
              "\n",
              "    .dataframe thead th {\n",
              "        text-align: right;\n",
              "    }\n",
              "</style>\n",
              "<table border=\"1\" class=\"dataframe\">\n",
              "  <thead>\n",
              "    <tr style=\"text-align: right;\">\n",
              "      <th></th>\n",
              "      <th>eid</th>\n",
              "      <th>name</th>\n",
              "      <th>gender</th>\n",
              "      <th>department</th>\n",
              "      <th>age</th>\n",
              "      <th>salary</th>\n",
              "      <th>working_years</th>\n",
              "      <th>birth_place</th>\n",
              "    </tr>\n",
              "  </thead>\n",
              "  <tbody>\n",
              "    <tr>\n",
              "      <th>1</th>\n",
              "      <td>E012</td>\n",
              "      <td>Bordin</td>\n",
              "      <td>male</td>\n",
              "      <td>developer</td>\n",
              "      <td>25</td>\n",
              "      <td>48700.0</td>\n",
              "      <td>2</td>\n",
              "      <td>Phuket</td>\n",
              "    </tr>\n",
              "  </tbody>\n",
              "</table>\n",
              "</div>"
            ],
            "text/plain": [
              "    eid    name gender department  age   salary  working_years birth_place\n",
              "1  E012  Bordin   male  developer   25  48700.0              2      Phuket"
            ]
          },
          "execution_count": 51,
          "metadata": {},
          "output_type": "execute_result"
        }
      ],
      "source": [
        "df.loc[[1]]"
      ]
    },
    {
      "cell_type": "code",
      "execution_count": 52,
      "metadata": {
        "colab": {
          "base_uri": "https://localhost:8080/",
          "height": 0
        },
        "id": "DWn5QKxXC0Um",
        "outputId": "80cca3c6-1b6d-460a-e6b1-cdce1c12c625"
      },
      "outputs": [
        {
          "data": {
            "text/html": [
              "<div>\n",
              "<style scoped>\n",
              "    .dataframe tbody tr th:only-of-type {\n",
              "        vertical-align: middle;\n",
              "    }\n",
              "\n",
              "    .dataframe tbody tr th {\n",
              "        vertical-align: top;\n",
              "    }\n",
              "\n",
              "    .dataframe thead th {\n",
              "        text-align: right;\n",
              "    }\n",
              "</style>\n",
              "<table border=\"1\" class=\"dataframe\">\n",
              "  <thead>\n",
              "    <tr style=\"text-align: right;\">\n",
              "      <th></th>\n",
              "      <th>eid</th>\n",
              "      <th>name</th>\n",
              "      <th>gender</th>\n",
              "      <th>department</th>\n",
              "      <th>age</th>\n",
              "      <th>salary</th>\n",
              "      <th>working_years</th>\n",
              "      <th>birth_place</th>\n",
              "    </tr>\n",
              "  </thead>\n",
              "  <tbody>\n",
              "    <tr>\n",
              "      <th>1</th>\n",
              "      <td>E012</td>\n",
              "      <td>Bordin</td>\n",
              "      <td>male</td>\n",
              "      <td>developer</td>\n",
              "      <td>25</td>\n",
              "      <td>48700.0</td>\n",
              "      <td>2</td>\n",
              "      <td>Phuket</td>\n",
              "    </tr>\n",
              "    <tr>\n",
              "      <th>2</th>\n",
              "      <td>E013</td>\n",
              "      <td>Chantana</td>\n",
              "      <td>female</td>\n",
              "      <td>developer</td>\n",
              "      <td>29</td>\n",
              "      <td>45500.0</td>\n",
              "      <td>3</td>\n",
              "      <td>Chonburi</td>\n",
              "    </tr>\n",
              "    <tr>\n",
              "      <th>3</th>\n",
              "      <td>E014</td>\n",
              "      <td>Donlaya</td>\n",
              "      <td>female</td>\n",
              "      <td>marketing</td>\n",
              "      <td>39</td>\n",
              "      <td>72600.0</td>\n",
              "      <td>8</td>\n",
              "      <td>Chonburi</td>\n",
              "    </tr>\n",
              "  </tbody>\n",
              "</table>\n",
              "</div>"
            ],
            "text/plain": [
              "    eid      name  gender department  age   salary  working_years birth_place\n",
              "1  E012    Bordin    male  developer   25  48700.0              2      Phuket\n",
              "2  E013  Chantana  female  developer   29  45500.0              3    Chonburi\n",
              "3  E014   Donlaya  female  marketing   39  72600.0              8    Chonburi"
            ]
          },
          "execution_count": 52,
          "metadata": {},
          "output_type": "execute_result"
        }
      ],
      "source": [
        "df.loc[[1,2,3]]"
      ]
    },
    {
      "cell_type": "markdown",
      "metadata": {
        "id": "dF9ylGsUDdFh"
      },
      "source": [
        "## Row and Column Selection (1)"
      ]
    },
    {
      "cell_type": "code",
      "execution_count": 53,
      "metadata": {
        "colab": {
          "base_uri": "https://localhost:8080/",
          "height": 0
        },
        "id": "RoDvAZmYC4Tw",
        "outputId": "9e6c9598-f3b5-44bb-aace-a2b0cdddc965"
      },
      "outputs": [
        {
          "data": {
            "text/plain": [
              "name    Bordin\n",
              "age         25\n",
              "Name: 1, dtype: object"
            ]
          },
          "execution_count": 53,
          "metadata": {},
          "output_type": "execute_result"
        }
      ],
      "source": [
        "df.loc[1,[\"name\",\"age\"]]"
      ]
    },
    {
      "cell_type": "code",
      "execution_count": 54,
      "metadata": {
        "colab": {
          "base_uri": "https://localhost:8080/",
          "height": 0
        },
        "id": "Wt7Xvph8cozC",
        "outputId": "458b0c02-1e39-4f67-b420-f191d6ef43ea"
      },
      "outputs": [
        {
          "data": {
            "text/html": [
              "<div>\n",
              "<style scoped>\n",
              "    .dataframe tbody tr th:only-of-type {\n",
              "        vertical-align: middle;\n",
              "    }\n",
              "\n",
              "    .dataframe tbody tr th {\n",
              "        vertical-align: top;\n",
              "    }\n",
              "\n",
              "    .dataframe thead th {\n",
              "        text-align: right;\n",
              "    }\n",
              "</style>\n",
              "<table border=\"1\" class=\"dataframe\">\n",
              "  <thead>\n",
              "    <tr style=\"text-align: right;\">\n",
              "      <th></th>\n",
              "      <th>name</th>\n",
              "      <th>age</th>\n",
              "    </tr>\n",
              "  </thead>\n",
              "  <tbody>\n",
              "    <tr>\n",
              "      <th>1</th>\n",
              "      <td>Bordin</td>\n",
              "      <td>25</td>\n",
              "    </tr>\n",
              "  </tbody>\n",
              "</table>\n",
              "</div>"
            ],
            "text/plain": [
              "     name  age\n",
              "1  Bordin   25"
            ]
          },
          "execution_count": 54,
          "metadata": {},
          "output_type": "execute_result"
        }
      ],
      "source": [
        "df.loc[[1], [\"name\",\"age\"]]"
      ]
    },
    {
      "cell_type": "code",
      "execution_count": 55,
      "metadata": {
        "colab": {
          "base_uri": "https://localhost:8080/",
          "height": 0
        },
        "id": "j3DjX-6cC8-y",
        "outputId": "f5d0a8b7-2f31-4ead-a4f0-a21c69e6cf2d"
      },
      "outputs": [
        {
          "data": {
            "text/html": [
              "<div>\n",
              "<style scoped>\n",
              "    .dataframe tbody tr th:only-of-type {\n",
              "        vertical-align: middle;\n",
              "    }\n",
              "\n",
              "    .dataframe tbody tr th {\n",
              "        vertical-align: top;\n",
              "    }\n",
              "\n",
              "    .dataframe thead th {\n",
              "        text-align: right;\n",
              "    }\n",
              "</style>\n",
              "<table border=\"1\" class=\"dataframe\">\n",
              "  <thead>\n",
              "    <tr style=\"text-align: right;\">\n",
              "      <th></th>\n",
              "      <th>name</th>\n",
              "      <th>age</th>\n",
              "    </tr>\n",
              "  </thead>\n",
              "  <tbody>\n",
              "    <tr>\n",
              "      <th>1</th>\n",
              "      <td>Bordin</td>\n",
              "      <td>25</td>\n",
              "    </tr>\n",
              "    <tr>\n",
              "      <th>2</th>\n",
              "      <td>Chantana</td>\n",
              "      <td>29</td>\n",
              "    </tr>\n",
              "    <tr>\n",
              "      <th>3</th>\n",
              "      <td>Donlaya</td>\n",
              "      <td>39</td>\n",
              "    </tr>\n",
              "  </tbody>\n",
              "</table>\n",
              "</div>"
            ],
            "text/plain": [
              "       name  age\n",
              "1    Bordin   25\n",
              "2  Chantana   29\n",
              "3   Donlaya   39"
            ]
          },
          "execution_count": 55,
          "metadata": {},
          "output_type": "execute_result"
        }
      ],
      "source": [
        "df.loc[[1,2,3], [\"name\",\"age\"]]"
      ]
    },
    {
      "cell_type": "code",
      "execution_count": 56,
      "metadata": {
        "colab": {
          "base_uri": "https://localhost:8080/",
          "height": 0
        },
        "id": "T4ulwzH0c5-B",
        "outputId": "00759ad4-73a2-4a62-b5f9-ef5816bcd53c"
      },
      "outputs": [
        {
          "data": {
            "text/html": [
              "<div>\n",
              "<style scoped>\n",
              "    .dataframe tbody tr th:only-of-type {\n",
              "        vertical-align: middle;\n",
              "    }\n",
              "\n",
              "    .dataframe tbody tr th {\n",
              "        vertical-align: top;\n",
              "    }\n",
              "\n",
              "    .dataframe thead th {\n",
              "        text-align: right;\n",
              "    }\n",
              "</style>\n",
              "<table border=\"1\" class=\"dataframe\">\n",
              "  <thead>\n",
              "    <tr style=\"text-align: right;\">\n",
              "      <th></th>\n",
              "      <th>name</th>\n",
              "      <th>age</th>\n",
              "    </tr>\n",
              "  </thead>\n",
              "  <tbody>\n",
              "    <tr>\n",
              "      <th>1</th>\n",
              "      <td>Bordin</td>\n",
              "      <td>25</td>\n",
              "    </tr>\n",
              "    <tr>\n",
              "      <th>2</th>\n",
              "      <td>Chantana</td>\n",
              "      <td>29</td>\n",
              "    </tr>\n",
              "    <tr>\n",
              "      <th>3</th>\n",
              "      <td>Donlaya</td>\n",
              "      <td>39</td>\n",
              "    </tr>\n",
              "  </tbody>\n",
              "</table>\n",
              "</div>"
            ],
            "text/plain": [
              "       name  age\n",
              "1    Bordin   25\n",
              "2  Chantana   29\n",
              "3   Donlaya   39"
            ]
          },
          "execution_count": 56,
          "metadata": {},
          "output_type": "execute_result"
        }
      ],
      "source": [
        "df[[\"name\",\"age\"]].loc[[1,2,3]]"
      ]
    },
    {
      "cell_type": "code",
      "execution_count": 57,
      "metadata": {
        "colab": {
          "base_uri": "https://localhost:8080/",
          "height": 0
        },
        "id": "rSwXvjrDdGRn",
        "outputId": "c5e2b753-ce16-4787-8c36-9937b1248d57"
      },
      "outputs": [
        {
          "data": {
            "text/html": [
              "<div>\n",
              "<style scoped>\n",
              "    .dataframe tbody tr th:only-of-type {\n",
              "        vertical-align: middle;\n",
              "    }\n",
              "\n",
              "    .dataframe tbody tr th {\n",
              "        vertical-align: top;\n",
              "    }\n",
              "\n",
              "    .dataframe thead th {\n",
              "        text-align: right;\n",
              "    }\n",
              "</style>\n",
              "<table border=\"1\" class=\"dataframe\">\n",
              "  <thead>\n",
              "    <tr style=\"text-align: right;\">\n",
              "      <th></th>\n",
              "      <th>name</th>\n",
              "      <th>age</th>\n",
              "    </tr>\n",
              "  </thead>\n",
              "  <tbody>\n",
              "    <tr>\n",
              "      <th>1</th>\n",
              "      <td>Bordin</td>\n",
              "      <td>25</td>\n",
              "    </tr>\n",
              "    <tr>\n",
              "      <th>2</th>\n",
              "      <td>Chantana</td>\n",
              "      <td>29</td>\n",
              "    </tr>\n",
              "    <tr>\n",
              "      <th>3</th>\n",
              "      <td>Donlaya</td>\n",
              "      <td>39</td>\n",
              "    </tr>\n",
              "  </tbody>\n",
              "</table>\n",
              "</div>"
            ],
            "text/plain": [
              "       name  age\n",
              "1    Bordin   25\n",
              "2  Chantana   29\n",
              "3   Donlaya   39"
            ]
          },
          "execution_count": 57,
          "metadata": {},
          "output_type": "execute_result"
        }
      ],
      "source": [
        "df.loc[[1,2,3]][[\"name\",\"age\"]]"
      ]
    },
    {
      "cell_type": "markdown",
      "metadata": {
        "id": "rNU9DvGtF4YQ"
      },
      "source": [
        "## Value Modification"
      ]
    },
    {
      "cell_type": "code",
      "execution_count": 58,
      "metadata": {
        "colab": {
          "base_uri": "https://localhost:8080/",
          "height": 0
        },
        "id": "N1N-SNZWF390",
        "outputId": "04e3dc22-2651-42a2-8cbb-4b89ab34ed7b"
      },
      "outputs": [
        {
          "data": {
            "text/html": [
              "<div>\n",
              "<style scoped>\n",
              "    .dataframe tbody tr th:only-of-type {\n",
              "        vertical-align: middle;\n",
              "    }\n",
              "\n",
              "    .dataframe tbody tr th {\n",
              "        vertical-align: top;\n",
              "    }\n",
              "\n",
              "    .dataframe thead th {\n",
              "        text-align: right;\n",
              "    }\n",
              "</style>\n",
              "<table border=\"1\" class=\"dataframe\">\n",
              "  <thead>\n",
              "    <tr style=\"text-align: right;\">\n",
              "      <th></th>\n",
              "      <th>name</th>\n",
              "      <th>working_years</th>\n",
              "    </tr>\n",
              "  </thead>\n",
              "  <tbody>\n",
              "    <tr>\n",
              "      <th>0</th>\n",
              "      <td>Anda</td>\n",
              "      <td>4</td>\n",
              "    </tr>\n",
              "    <tr>\n",
              "      <th>1</th>\n",
              "      <td>Bordin</td>\n",
              "      <td>2</td>\n",
              "    </tr>\n",
              "    <tr>\n",
              "      <th>2</th>\n",
              "      <td>Chantana</td>\n",
              "      <td>3</td>\n",
              "    </tr>\n",
              "    <tr>\n",
              "      <th>3</th>\n",
              "      <td>Donlaya</td>\n",
              "      <td>8</td>\n",
              "    </tr>\n",
              "    <tr>\n",
              "      <th>4</th>\n",
              "      <td>Ekkasit</td>\n",
              "      <td>7</td>\n",
              "    </tr>\n",
              "    <tr>\n",
              "      <th>5</th>\n",
              "      <td>Fundee</td>\n",
              "      <td>3</td>\n",
              "    </tr>\n",
              "    <tr>\n",
              "      <th>6</th>\n",
              "      <td>Gitiwit</td>\n",
              "      <td>2</td>\n",
              "    </tr>\n",
              "    <tr>\n",
              "      <th>7</th>\n",
              "      <td>Harit</td>\n",
              "      <td>5</td>\n",
              "    </tr>\n",
              "  </tbody>\n",
              "</table>\n",
              "</div>"
            ],
            "text/plain": [
              "       name  working_years\n",
              "0      Anda              4\n",
              "1    Bordin              2\n",
              "2  Chantana              3\n",
              "3   Donlaya              8\n",
              "4   Ekkasit              7\n",
              "5    Fundee              3\n",
              "6   Gitiwit              2\n",
              "7     Harit              5"
            ]
          },
          "execution_count": 58,
          "metadata": {},
          "output_type": "execute_result"
        }
      ],
      "source": [
        "df[[\"name\",\"working_years\"]]"
      ]
    },
    {
      "cell_type": "code",
      "execution_count": 59,
      "metadata": {
        "id": "PDoCOoDXGO2n"
      },
      "outputs": [],
      "source": [
        "df.loc[0,\"working_years\"] = 77"
      ]
    },
    {
      "cell_type": "code",
      "execution_count": 60,
      "metadata": {
        "colab": {
          "base_uri": "https://localhost:8080/",
          "height": 0
        },
        "id": "zfdiPPyIGWg9",
        "outputId": "15df441f-0a9d-42cb-e861-93760ca9835c"
      },
      "outputs": [
        {
          "data": {
            "text/html": [
              "<div>\n",
              "<style scoped>\n",
              "    .dataframe tbody tr th:only-of-type {\n",
              "        vertical-align: middle;\n",
              "    }\n",
              "\n",
              "    .dataframe tbody tr th {\n",
              "        vertical-align: top;\n",
              "    }\n",
              "\n",
              "    .dataframe thead th {\n",
              "        text-align: right;\n",
              "    }\n",
              "</style>\n",
              "<table border=\"1\" class=\"dataframe\">\n",
              "  <thead>\n",
              "    <tr style=\"text-align: right;\">\n",
              "      <th></th>\n",
              "      <th>name</th>\n",
              "      <th>working_years</th>\n",
              "    </tr>\n",
              "  </thead>\n",
              "  <tbody>\n",
              "    <tr>\n",
              "      <th>0</th>\n",
              "      <td>Anda</td>\n",
              "      <td>77</td>\n",
              "    </tr>\n",
              "    <tr>\n",
              "      <th>1</th>\n",
              "      <td>Bordin</td>\n",
              "      <td>2</td>\n",
              "    </tr>\n",
              "    <tr>\n",
              "      <th>2</th>\n",
              "      <td>Chantana</td>\n",
              "      <td>3</td>\n",
              "    </tr>\n",
              "    <tr>\n",
              "      <th>3</th>\n",
              "      <td>Donlaya</td>\n",
              "      <td>8</td>\n",
              "    </tr>\n",
              "    <tr>\n",
              "      <th>4</th>\n",
              "      <td>Ekkasit</td>\n",
              "      <td>7</td>\n",
              "    </tr>\n",
              "    <tr>\n",
              "      <th>5</th>\n",
              "      <td>Fundee</td>\n",
              "      <td>3</td>\n",
              "    </tr>\n",
              "    <tr>\n",
              "      <th>6</th>\n",
              "      <td>Gitiwit</td>\n",
              "      <td>2</td>\n",
              "    </tr>\n",
              "    <tr>\n",
              "      <th>7</th>\n",
              "      <td>Harit</td>\n",
              "      <td>5</td>\n",
              "    </tr>\n",
              "  </tbody>\n",
              "</table>\n",
              "</div>"
            ],
            "text/plain": [
              "       name  working_years\n",
              "0      Anda             77\n",
              "1    Bordin              2\n",
              "2  Chantana              3\n",
              "3   Donlaya              8\n",
              "4   Ekkasit              7\n",
              "5    Fundee              3\n",
              "6   Gitiwit              2\n",
              "7     Harit              5"
            ]
          },
          "execution_count": 60,
          "metadata": {},
          "output_type": "execute_result"
        }
      ],
      "source": [
        "df[[\"name\",\"working_years\"]]"
      ]
    },
    {
      "cell_type": "code",
      "execution_count": 61,
      "metadata": {
        "id": "lp67m8veHYhg"
      },
      "outputs": [],
      "source": [
        "df.loc[[1,2],\"working_years\"] = 9999"
      ]
    },
    {
      "cell_type": "code",
      "execution_count": 62,
      "metadata": {
        "colab": {
          "base_uri": "https://localhost:8080/",
          "height": 0
        },
        "id": "HJH6Xtx8HhqM",
        "outputId": "417cbcd4-8357-4589-fd6e-455eb48c1961"
      },
      "outputs": [
        {
          "data": {
            "text/html": [
              "<div>\n",
              "<style scoped>\n",
              "    .dataframe tbody tr th:only-of-type {\n",
              "        vertical-align: middle;\n",
              "    }\n",
              "\n",
              "    .dataframe tbody tr th {\n",
              "        vertical-align: top;\n",
              "    }\n",
              "\n",
              "    .dataframe thead th {\n",
              "        text-align: right;\n",
              "    }\n",
              "</style>\n",
              "<table border=\"1\" class=\"dataframe\">\n",
              "  <thead>\n",
              "    <tr style=\"text-align: right;\">\n",
              "      <th></th>\n",
              "      <th>name</th>\n",
              "      <th>working_years</th>\n",
              "    </tr>\n",
              "  </thead>\n",
              "  <tbody>\n",
              "    <tr>\n",
              "      <th>0</th>\n",
              "      <td>Anda</td>\n",
              "      <td>77</td>\n",
              "    </tr>\n",
              "    <tr>\n",
              "      <th>1</th>\n",
              "      <td>Bordin</td>\n",
              "      <td>9999</td>\n",
              "    </tr>\n",
              "    <tr>\n",
              "      <th>2</th>\n",
              "      <td>Chantana</td>\n",
              "      <td>9999</td>\n",
              "    </tr>\n",
              "    <tr>\n",
              "      <th>3</th>\n",
              "      <td>Donlaya</td>\n",
              "      <td>8</td>\n",
              "    </tr>\n",
              "    <tr>\n",
              "      <th>4</th>\n",
              "      <td>Ekkasit</td>\n",
              "      <td>7</td>\n",
              "    </tr>\n",
              "    <tr>\n",
              "      <th>5</th>\n",
              "      <td>Fundee</td>\n",
              "      <td>3</td>\n",
              "    </tr>\n",
              "    <tr>\n",
              "      <th>6</th>\n",
              "      <td>Gitiwit</td>\n",
              "      <td>2</td>\n",
              "    </tr>\n",
              "    <tr>\n",
              "      <th>7</th>\n",
              "      <td>Harit</td>\n",
              "      <td>5</td>\n",
              "    </tr>\n",
              "  </tbody>\n",
              "</table>\n",
              "</div>"
            ],
            "text/plain": [
              "       name  working_years\n",
              "0      Anda             77\n",
              "1    Bordin           9999\n",
              "2  Chantana           9999\n",
              "3   Donlaya              8\n",
              "4   Ekkasit              7\n",
              "5    Fundee              3\n",
              "6   Gitiwit              2\n",
              "7     Harit              5"
            ]
          },
          "execution_count": 62,
          "metadata": {},
          "output_type": "execute_result"
        }
      ],
      "source": [
        "df[[\"name\",\"working_years\"]]"
      ]
    },
    {
      "cell_type": "code",
      "execution_count": 63,
      "metadata": {
        "colab": {
          "base_uri": "https://localhost:8080/"
        },
        "id": "AjC96DKTHpoD",
        "outputId": "2ab69bb9-3f96-489f-bf66-96797e2e770a"
      },
      "outputs": [
        {
          "name": "stderr",
          "output_type": "stream",
          "text": [
            "C:\\Users\\user\\AppData\\Local\\Temp\\ipykernel_7788\\2587201694.py:1: FutureWarning: Setting an item of incompatible dtype is deprecated and will raise an error in a future version of pandas. Value 'MODIFIED' has dtype incompatible with int64, please explicitly cast to a compatible dtype first.\n",
            "  df.loc[[1,2],[\"name\",\"working_years\"]] = \"MODIFIED\"\n"
          ]
        }
      ],
      "source": [
        "df.loc[[1,2],[\"name\",\"working_years\"]] = \"MODIFIED\""
      ]
    },
    {
      "cell_type": "code",
      "execution_count": 64,
      "metadata": {
        "colab": {
          "base_uri": "https://localhost:8080/",
          "height": 0
        },
        "id": "E7xPq2XsHvYb",
        "outputId": "db78e5b8-b2d4-4342-d0ab-fc0389378204"
      },
      "outputs": [
        {
          "data": {
            "text/html": [
              "<div>\n",
              "<style scoped>\n",
              "    .dataframe tbody tr th:only-of-type {\n",
              "        vertical-align: middle;\n",
              "    }\n",
              "\n",
              "    .dataframe tbody tr th {\n",
              "        vertical-align: top;\n",
              "    }\n",
              "\n",
              "    .dataframe thead th {\n",
              "        text-align: right;\n",
              "    }\n",
              "</style>\n",
              "<table border=\"1\" class=\"dataframe\">\n",
              "  <thead>\n",
              "    <tr style=\"text-align: right;\">\n",
              "      <th></th>\n",
              "      <th>name</th>\n",
              "      <th>working_years</th>\n",
              "    </tr>\n",
              "  </thead>\n",
              "  <tbody>\n",
              "    <tr>\n",
              "      <th>0</th>\n",
              "      <td>Anda</td>\n",
              "      <td>77</td>\n",
              "    </tr>\n",
              "    <tr>\n",
              "      <th>1</th>\n",
              "      <td>MODIFIED</td>\n",
              "      <td>MODIFIED</td>\n",
              "    </tr>\n",
              "    <tr>\n",
              "      <th>2</th>\n",
              "      <td>MODIFIED</td>\n",
              "      <td>MODIFIED</td>\n",
              "    </tr>\n",
              "    <tr>\n",
              "      <th>3</th>\n",
              "      <td>Donlaya</td>\n",
              "      <td>8</td>\n",
              "    </tr>\n",
              "    <tr>\n",
              "      <th>4</th>\n",
              "      <td>Ekkasit</td>\n",
              "      <td>7</td>\n",
              "    </tr>\n",
              "    <tr>\n",
              "      <th>5</th>\n",
              "      <td>Fundee</td>\n",
              "      <td>3</td>\n",
              "    </tr>\n",
              "    <tr>\n",
              "      <th>6</th>\n",
              "      <td>Gitiwit</td>\n",
              "      <td>2</td>\n",
              "    </tr>\n",
              "    <tr>\n",
              "      <th>7</th>\n",
              "      <td>Harit</td>\n",
              "      <td>5</td>\n",
              "    </tr>\n",
              "  </tbody>\n",
              "</table>\n",
              "</div>"
            ],
            "text/plain": [
              "       name working_years\n",
              "0      Anda            77\n",
              "1  MODIFIED      MODIFIED\n",
              "2  MODIFIED      MODIFIED\n",
              "3   Donlaya             8\n",
              "4   Ekkasit             7\n",
              "5    Fundee             3\n",
              "6   Gitiwit             2\n",
              "7     Harit             5"
            ]
          },
          "execution_count": 64,
          "metadata": {},
          "output_type": "execute_result"
        }
      ],
      "source": [
        "df[[\"name\",\"working_years\"]]"
      ]
    },
    {
      "cell_type": "code",
      "execution_count": 65,
      "metadata": {
        "colab": {
          "base_uri": "https://localhost:8080/",
          "height": 0
        },
        "id": "e6CS00uGe6BD",
        "outputId": "f9e16e3f-c3fd-45ab-b516-263c9a80409b"
      },
      "outputs": [
        {
          "data": {
            "text/html": [
              "<div>\n",
              "<style scoped>\n",
              "    .dataframe tbody tr th:only-of-type {\n",
              "        vertical-align: middle;\n",
              "    }\n",
              "\n",
              "    .dataframe tbody tr th {\n",
              "        vertical-align: top;\n",
              "    }\n",
              "\n",
              "    .dataframe thead th {\n",
              "        text-align: right;\n",
              "    }\n",
              "</style>\n",
              "<table border=\"1\" class=\"dataframe\">\n",
              "  <thead>\n",
              "    <tr style=\"text-align: right;\">\n",
              "      <th></th>\n",
              "      <th>eid</th>\n",
              "      <th>name</th>\n",
              "      <th>gender</th>\n",
              "      <th>department</th>\n",
              "      <th>age</th>\n",
              "      <th>salary</th>\n",
              "      <th>working_years</th>\n",
              "      <th>birth_place</th>\n",
              "    </tr>\n",
              "  </thead>\n",
              "  <tbody>\n",
              "    <tr>\n",
              "      <th>0</th>\n",
              "      <td>E011</td>\n",
              "      <td>Anda</td>\n",
              "      <td>female</td>\n",
              "      <td>developer</td>\n",
              "      <td>39</td>\n",
              "      <td>64200.0</td>\n",
              "      <td>77</td>\n",
              "      <td>Bangkok</td>\n",
              "    </tr>\n",
              "    <tr>\n",
              "      <th>1</th>\n",
              "      <td>E012</td>\n",
              "      <td>MODIFIED</td>\n",
              "      <td>male</td>\n",
              "      <td>developer</td>\n",
              "      <td>25</td>\n",
              "      <td>48700.0</td>\n",
              "      <td>MODIFIED</td>\n",
              "      <td>Phuket</td>\n",
              "    </tr>\n",
              "    <tr>\n",
              "      <th>2</th>\n",
              "      <td>E013</td>\n",
              "      <td>MODIFIED</td>\n",
              "      <td>female</td>\n",
              "      <td>developer</td>\n",
              "      <td>29</td>\n",
              "      <td>45500.0</td>\n",
              "      <td>MODIFIED</td>\n",
              "      <td>Chonburi</td>\n",
              "    </tr>\n",
              "    <tr>\n",
              "      <th>3</th>\n",
              "      <td>E014</td>\n",
              "      <td>Donlaya</td>\n",
              "      <td>female</td>\n",
              "      <td>marketing</td>\n",
              "      <td>39</td>\n",
              "      <td>72600.0</td>\n",
              "      <td>8</td>\n",
              "      <td>Chonburi</td>\n",
              "    </tr>\n",
              "    <tr>\n",
              "      <th>4</th>\n",
              "      <td>E015</td>\n",
              "      <td>Ekkasit</td>\n",
              "      <td>male</td>\n",
              "      <td>marketing</td>\n",
              "      <td>37</td>\n",
              "      <td>80500.0</td>\n",
              "      <td>7</td>\n",
              "      <td>Suphanburi</td>\n",
              "    </tr>\n",
              "    <tr>\n",
              "      <th>5</th>\n",
              "      <td>E016</td>\n",
              "      <td>Fundee</td>\n",
              "      <td>female</td>\n",
              "      <td>support</td>\n",
              "      <td>35</td>\n",
              "      <td>56600.0</td>\n",
              "      <td>3</td>\n",
              "      <td>Phuket</td>\n",
              "    </tr>\n",
              "    <tr>\n",
              "      <th>6</th>\n",
              "      <td>E017</td>\n",
              "      <td>Gitiwit</td>\n",
              "      <td>male</td>\n",
              "      <td>support</td>\n",
              "      <td>26</td>\n",
              "      <td>42400.0</td>\n",
              "      <td>2</td>\n",
              "      <td>Suphanburi</td>\n",
              "    </tr>\n",
              "    <tr>\n",
              "      <th>7</th>\n",
              "      <td>E018</td>\n",
              "      <td>Harit</td>\n",
              "      <td>male</td>\n",
              "      <td>devops</td>\n",
              "      <td>32</td>\n",
              "      <td>67700.0</td>\n",
              "      <td>5</td>\n",
              "      <td>Bangkok</td>\n",
              "    </tr>\n",
              "  </tbody>\n",
              "</table>\n",
              "</div>"
            ],
            "text/plain": [
              "    eid      name  gender department  age   salary working_years birth_place\n",
              "0  E011      Anda  female  developer   39  64200.0            77     Bangkok\n",
              "1  E012  MODIFIED    male  developer   25  48700.0      MODIFIED      Phuket\n",
              "2  E013  MODIFIED  female  developer   29  45500.0      MODIFIED    Chonburi\n",
              "3  E014   Donlaya  female  marketing   39  72600.0             8    Chonburi\n",
              "4  E015   Ekkasit    male  marketing   37  80500.0             7  Suphanburi\n",
              "5  E016    Fundee  female    support   35  56600.0             3      Phuket\n",
              "6  E017   Gitiwit    male    support   26  42400.0             2  Suphanburi\n",
              "7  E018     Harit    male     devops   32  67700.0             5     Bangkok"
            ]
          },
          "execution_count": 65,
          "metadata": {},
          "output_type": "execute_result"
        }
      ],
      "source": [
        "df"
      ]
    },
    {
      "cell_type": "markdown",
      "metadata": {
        "id": "1IPySXobIVok"
      },
      "source": [
        "## Reload the Dataframe"
      ]
    },
    {
      "cell_type": "code",
      "execution_count": 66,
      "metadata": {
        "id": "7JnVshZQIbTI"
      },
      "outputs": [],
      "source": [
        "df = pd.read_csv(CSV_PATH)"
      ]
    },
    {
      "cell_type": "code",
      "execution_count": 67,
      "metadata": {
        "colab": {
          "base_uri": "https://localhost:8080/",
          "height": 0
        },
        "id": "qglu8Qd1IjVs",
        "outputId": "e53485f6-bd59-4191-f1e9-02ff75fac673"
      },
      "outputs": [
        {
          "data": {
            "text/html": [
              "<div>\n",
              "<style scoped>\n",
              "    .dataframe tbody tr th:only-of-type {\n",
              "        vertical-align: middle;\n",
              "    }\n",
              "\n",
              "    .dataframe tbody tr th {\n",
              "        vertical-align: top;\n",
              "    }\n",
              "\n",
              "    .dataframe thead th {\n",
              "        text-align: right;\n",
              "    }\n",
              "</style>\n",
              "<table border=\"1\" class=\"dataframe\">\n",
              "  <thead>\n",
              "    <tr style=\"text-align: right;\">\n",
              "      <th></th>\n",
              "      <th>eid</th>\n",
              "      <th>name</th>\n",
              "      <th>gender</th>\n",
              "      <th>department</th>\n",
              "      <th>age</th>\n",
              "      <th>salary</th>\n",
              "      <th>working_years</th>\n",
              "      <th>birth_place</th>\n",
              "    </tr>\n",
              "  </thead>\n",
              "  <tbody>\n",
              "    <tr>\n",
              "      <th>0</th>\n",
              "      <td>E011</td>\n",
              "      <td>Anda</td>\n",
              "      <td>female</td>\n",
              "      <td>developer</td>\n",
              "      <td>39</td>\n",
              "      <td>64200.0</td>\n",
              "      <td>4</td>\n",
              "      <td>Bangkok</td>\n",
              "    </tr>\n",
              "    <tr>\n",
              "      <th>1</th>\n",
              "      <td>E012</td>\n",
              "      <td>Bordin</td>\n",
              "      <td>male</td>\n",
              "      <td>developer</td>\n",
              "      <td>25</td>\n",
              "      <td>48700.0</td>\n",
              "      <td>2</td>\n",
              "      <td>Phuket</td>\n",
              "    </tr>\n",
              "    <tr>\n",
              "      <th>2</th>\n",
              "      <td>E013</td>\n",
              "      <td>Chantana</td>\n",
              "      <td>female</td>\n",
              "      <td>developer</td>\n",
              "      <td>29</td>\n",
              "      <td>45500.0</td>\n",
              "      <td>3</td>\n",
              "      <td>Chonburi</td>\n",
              "    </tr>\n",
              "    <tr>\n",
              "      <th>3</th>\n",
              "      <td>E014</td>\n",
              "      <td>Donlaya</td>\n",
              "      <td>female</td>\n",
              "      <td>marketing</td>\n",
              "      <td>39</td>\n",
              "      <td>72600.0</td>\n",
              "      <td>8</td>\n",
              "      <td>Chonburi</td>\n",
              "    </tr>\n",
              "    <tr>\n",
              "      <th>4</th>\n",
              "      <td>E015</td>\n",
              "      <td>Ekkasit</td>\n",
              "      <td>male</td>\n",
              "      <td>marketing</td>\n",
              "      <td>37</td>\n",
              "      <td>80500.0</td>\n",
              "      <td>7</td>\n",
              "      <td>Suphanburi</td>\n",
              "    </tr>\n",
              "    <tr>\n",
              "      <th>5</th>\n",
              "      <td>E016</td>\n",
              "      <td>Fundee</td>\n",
              "      <td>female</td>\n",
              "      <td>support</td>\n",
              "      <td>35</td>\n",
              "      <td>56600.0</td>\n",
              "      <td>3</td>\n",
              "      <td>Phuket</td>\n",
              "    </tr>\n",
              "    <tr>\n",
              "      <th>6</th>\n",
              "      <td>E017</td>\n",
              "      <td>Gitiwit</td>\n",
              "      <td>male</td>\n",
              "      <td>support</td>\n",
              "      <td>26</td>\n",
              "      <td>42400.0</td>\n",
              "      <td>2</td>\n",
              "      <td>Suphanburi</td>\n",
              "    </tr>\n",
              "    <tr>\n",
              "      <th>7</th>\n",
              "      <td>E018</td>\n",
              "      <td>Harit</td>\n",
              "      <td>male</td>\n",
              "      <td>devops</td>\n",
              "      <td>32</td>\n",
              "      <td>67700.0</td>\n",
              "      <td>5</td>\n",
              "      <td>Bangkok</td>\n",
              "    </tr>\n",
              "  </tbody>\n",
              "</table>\n",
              "</div>"
            ],
            "text/plain": [
              "    eid      name  gender department  age   salary  working_years birth_place\n",
              "0  E011      Anda  female  developer   39  64200.0              4     Bangkok\n",
              "1  E012    Bordin    male  developer   25  48700.0              2      Phuket\n",
              "2  E013  Chantana  female  developer   29  45500.0              3    Chonburi\n",
              "3  E014   Donlaya  female  marketing   39  72600.0              8    Chonburi\n",
              "4  E015   Ekkasit    male  marketing   37  80500.0              7  Suphanburi\n",
              "5  E016    Fundee  female    support   35  56600.0              3      Phuket\n",
              "6  E017   Gitiwit    male    support   26  42400.0              2  Suphanburi\n",
              "7  E018     Harit    male     devops   32  67700.0              5     Bangkok"
            ]
          },
          "execution_count": 67,
          "metadata": {},
          "output_type": "execute_result"
        }
      ],
      "source": [
        "df"
      ]
    },
    {
      "cell_type": "markdown",
      "metadata": {
        "id": "Q06Hc3eoJ_Jr"
      },
      "source": [
        "## Set Index"
      ]
    },
    {
      "cell_type": "code",
      "execution_count": 68,
      "metadata": {
        "colab": {
          "base_uri": "https://localhost:8080/",
          "height": 0
        },
        "id": "LnLzhu6vKLna",
        "outputId": "f7c92113-03e2-486a-86f2-f783cc7dfbbd"
      },
      "outputs": [
        {
          "data": {
            "text/html": [
              "<div>\n",
              "<style scoped>\n",
              "    .dataframe tbody tr th:only-of-type {\n",
              "        vertical-align: middle;\n",
              "    }\n",
              "\n",
              "    .dataframe tbody tr th {\n",
              "        vertical-align: top;\n",
              "    }\n",
              "\n",
              "    .dataframe thead th {\n",
              "        text-align: right;\n",
              "    }\n",
              "</style>\n",
              "<table border=\"1\" class=\"dataframe\">\n",
              "  <thead>\n",
              "    <tr style=\"text-align: right;\">\n",
              "      <th></th>\n",
              "      <th>name</th>\n",
              "      <th>gender</th>\n",
              "      <th>department</th>\n",
              "      <th>age</th>\n",
              "      <th>salary</th>\n",
              "      <th>working_years</th>\n",
              "      <th>birth_place</th>\n",
              "    </tr>\n",
              "    <tr>\n",
              "      <th>eid</th>\n",
              "      <th></th>\n",
              "      <th></th>\n",
              "      <th></th>\n",
              "      <th></th>\n",
              "      <th></th>\n",
              "      <th></th>\n",
              "      <th></th>\n",
              "    </tr>\n",
              "  </thead>\n",
              "  <tbody>\n",
              "    <tr>\n",
              "      <th>E011</th>\n",
              "      <td>Anda</td>\n",
              "      <td>female</td>\n",
              "      <td>developer</td>\n",
              "      <td>39</td>\n",
              "      <td>64200.0</td>\n",
              "      <td>4</td>\n",
              "      <td>Bangkok</td>\n",
              "    </tr>\n",
              "    <tr>\n",
              "      <th>E012</th>\n",
              "      <td>Bordin</td>\n",
              "      <td>male</td>\n",
              "      <td>developer</td>\n",
              "      <td>25</td>\n",
              "      <td>48700.0</td>\n",
              "      <td>2</td>\n",
              "      <td>Phuket</td>\n",
              "    </tr>\n",
              "    <tr>\n",
              "      <th>E013</th>\n",
              "      <td>Chantana</td>\n",
              "      <td>female</td>\n",
              "      <td>developer</td>\n",
              "      <td>29</td>\n",
              "      <td>45500.0</td>\n",
              "      <td>3</td>\n",
              "      <td>Chonburi</td>\n",
              "    </tr>\n",
              "    <tr>\n",
              "      <th>E014</th>\n",
              "      <td>Donlaya</td>\n",
              "      <td>female</td>\n",
              "      <td>marketing</td>\n",
              "      <td>39</td>\n",
              "      <td>72600.0</td>\n",
              "      <td>8</td>\n",
              "      <td>Chonburi</td>\n",
              "    </tr>\n",
              "    <tr>\n",
              "      <th>E015</th>\n",
              "      <td>Ekkasit</td>\n",
              "      <td>male</td>\n",
              "      <td>marketing</td>\n",
              "      <td>37</td>\n",
              "      <td>80500.0</td>\n",
              "      <td>7</td>\n",
              "      <td>Suphanburi</td>\n",
              "    </tr>\n",
              "    <tr>\n",
              "      <th>E016</th>\n",
              "      <td>Fundee</td>\n",
              "      <td>female</td>\n",
              "      <td>support</td>\n",
              "      <td>35</td>\n",
              "      <td>56600.0</td>\n",
              "      <td>3</td>\n",
              "      <td>Phuket</td>\n",
              "    </tr>\n",
              "    <tr>\n",
              "      <th>E017</th>\n",
              "      <td>Gitiwit</td>\n",
              "      <td>male</td>\n",
              "      <td>support</td>\n",
              "      <td>26</td>\n",
              "      <td>42400.0</td>\n",
              "      <td>2</td>\n",
              "      <td>Suphanburi</td>\n",
              "    </tr>\n",
              "    <tr>\n",
              "      <th>E018</th>\n",
              "      <td>Harit</td>\n",
              "      <td>male</td>\n",
              "      <td>devops</td>\n",
              "      <td>32</td>\n",
              "      <td>67700.0</td>\n",
              "      <td>5</td>\n",
              "      <td>Bangkok</td>\n",
              "    </tr>\n",
              "  </tbody>\n",
              "</table>\n",
              "</div>"
            ],
            "text/plain": [
              "          name  gender department  age   salary  working_years birth_place\n",
              "eid                                                                       \n",
              "E011      Anda  female  developer   39  64200.0              4     Bangkok\n",
              "E012    Bordin    male  developer   25  48700.0              2      Phuket\n",
              "E013  Chantana  female  developer   29  45500.0              3    Chonburi\n",
              "E014   Donlaya  female  marketing   39  72600.0              8    Chonburi\n",
              "E015   Ekkasit    male  marketing   37  80500.0              7  Suphanburi\n",
              "E016    Fundee  female    support   35  56600.0              3      Phuket\n",
              "E017   Gitiwit    male    support   26  42400.0              2  Suphanburi\n",
              "E018     Harit    male     devops   32  67700.0              5     Bangkok"
            ]
          },
          "execution_count": 68,
          "metadata": {},
          "output_type": "execute_result"
        }
      ],
      "source": [
        "df.set_index(\"eid\")"
      ]
    },
    {
      "cell_type": "code",
      "execution_count": 69,
      "metadata": {
        "colab": {
          "base_uri": "https://localhost:8080/",
          "height": 0
        },
        "id": "uNqLxBZTKRMK",
        "outputId": "eb488f89-1cd4-4df5-a3fc-8bd4a3aa9300"
      },
      "outputs": [
        {
          "data": {
            "text/html": [
              "<div>\n",
              "<style scoped>\n",
              "    .dataframe tbody tr th:only-of-type {\n",
              "        vertical-align: middle;\n",
              "    }\n",
              "\n",
              "    .dataframe tbody tr th {\n",
              "        vertical-align: top;\n",
              "    }\n",
              "\n",
              "    .dataframe thead th {\n",
              "        text-align: right;\n",
              "    }\n",
              "</style>\n",
              "<table border=\"1\" class=\"dataframe\">\n",
              "  <thead>\n",
              "    <tr style=\"text-align: right;\">\n",
              "      <th></th>\n",
              "      <th>eid</th>\n",
              "      <th>name</th>\n",
              "      <th>gender</th>\n",
              "      <th>department</th>\n",
              "      <th>age</th>\n",
              "      <th>salary</th>\n",
              "      <th>working_years</th>\n",
              "      <th>birth_place</th>\n",
              "    </tr>\n",
              "  </thead>\n",
              "  <tbody>\n",
              "    <tr>\n",
              "      <th>0</th>\n",
              "      <td>E011</td>\n",
              "      <td>Anda</td>\n",
              "      <td>female</td>\n",
              "      <td>developer</td>\n",
              "      <td>39</td>\n",
              "      <td>64200.0</td>\n",
              "      <td>4</td>\n",
              "      <td>Bangkok</td>\n",
              "    </tr>\n",
              "    <tr>\n",
              "      <th>1</th>\n",
              "      <td>E012</td>\n",
              "      <td>Bordin</td>\n",
              "      <td>male</td>\n",
              "      <td>developer</td>\n",
              "      <td>25</td>\n",
              "      <td>48700.0</td>\n",
              "      <td>2</td>\n",
              "      <td>Phuket</td>\n",
              "    </tr>\n",
              "    <tr>\n",
              "      <th>2</th>\n",
              "      <td>E013</td>\n",
              "      <td>Chantana</td>\n",
              "      <td>female</td>\n",
              "      <td>developer</td>\n",
              "      <td>29</td>\n",
              "      <td>45500.0</td>\n",
              "      <td>3</td>\n",
              "      <td>Chonburi</td>\n",
              "    </tr>\n",
              "    <tr>\n",
              "      <th>3</th>\n",
              "      <td>E014</td>\n",
              "      <td>Donlaya</td>\n",
              "      <td>female</td>\n",
              "      <td>marketing</td>\n",
              "      <td>39</td>\n",
              "      <td>72600.0</td>\n",
              "      <td>8</td>\n",
              "      <td>Chonburi</td>\n",
              "    </tr>\n",
              "    <tr>\n",
              "      <th>4</th>\n",
              "      <td>E015</td>\n",
              "      <td>Ekkasit</td>\n",
              "      <td>male</td>\n",
              "      <td>marketing</td>\n",
              "      <td>37</td>\n",
              "      <td>80500.0</td>\n",
              "      <td>7</td>\n",
              "      <td>Suphanburi</td>\n",
              "    </tr>\n",
              "    <tr>\n",
              "      <th>5</th>\n",
              "      <td>E016</td>\n",
              "      <td>Fundee</td>\n",
              "      <td>female</td>\n",
              "      <td>support</td>\n",
              "      <td>35</td>\n",
              "      <td>56600.0</td>\n",
              "      <td>3</td>\n",
              "      <td>Phuket</td>\n",
              "    </tr>\n",
              "    <tr>\n",
              "      <th>6</th>\n",
              "      <td>E017</td>\n",
              "      <td>Gitiwit</td>\n",
              "      <td>male</td>\n",
              "      <td>support</td>\n",
              "      <td>26</td>\n",
              "      <td>42400.0</td>\n",
              "      <td>2</td>\n",
              "      <td>Suphanburi</td>\n",
              "    </tr>\n",
              "    <tr>\n",
              "      <th>7</th>\n",
              "      <td>E018</td>\n",
              "      <td>Harit</td>\n",
              "      <td>male</td>\n",
              "      <td>devops</td>\n",
              "      <td>32</td>\n",
              "      <td>67700.0</td>\n",
              "      <td>5</td>\n",
              "      <td>Bangkok</td>\n",
              "    </tr>\n",
              "  </tbody>\n",
              "</table>\n",
              "</div>"
            ],
            "text/plain": [
              "    eid      name  gender department  age   salary  working_years birth_place\n",
              "0  E011      Anda  female  developer   39  64200.0              4     Bangkok\n",
              "1  E012    Bordin    male  developer   25  48700.0              2      Phuket\n",
              "2  E013  Chantana  female  developer   29  45500.0              3    Chonburi\n",
              "3  E014   Donlaya  female  marketing   39  72600.0              8    Chonburi\n",
              "4  E015   Ekkasit    male  marketing   37  80500.0              7  Suphanburi\n",
              "5  E016    Fundee  female    support   35  56600.0              3      Phuket\n",
              "6  E017   Gitiwit    male    support   26  42400.0              2  Suphanburi\n",
              "7  E018     Harit    male     devops   32  67700.0              5     Bangkok"
            ]
          },
          "execution_count": 69,
          "metadata": {},
          "output_type": "execute_result"
        }
      ],
      "source": [
        "df"
      ]
    },
    {
      "cell_type": "code",
      "execution_count": 70,
      "metadata": {
        "id": "aKfhGagiKTN_"
      },
      "outputs": [],
      "source": [
        "df.set_index(\"eid\", inplace=True)"
      ]
    },
    {
      "cell_type": "code",
      "execution_count": 71,
      "metadata": {
        "colab": {
          "base_uri": "https://localhost:8080/",
          "height": 0
        },
        "id": "EREuu_NvKXeL",
        "outputId": "6384b3db-284b-44a3-825b-f2ff7f28d39a"
      },
      "outputs": [
        {
          "data": {
            "text/html": [
              "<div>\n",
              "<style scoped>\n",
              "    .dataframe tbody tr th:only-of-type {\n",
              "        vertical-align: middle;\n",
              "    }\n",
              "\n",
              "    .dataframe tbody tr th {\n",
              "        vertical-align: top;\n",
              "    }\n",
              "\n",
              "    .dataframe thead th {\n",
              "        text-align: right;\n",
              "    }\n",
              "</style>\n",
              "<table border=\"1\" class=\"dataframe\">\n",
              "  <thead>\n",
              "    <tr style=\"text-align: right;\">\n",
              "      <th></th>\n",
              "      <th>name</th>\n",
              "      <th>gender</th>\n",
              "      <th>department</th>\n",
              "      <th>age</th>\n",
              "      <th>salary</th>\n",
              "      <th>working_years</th>\n",
              "      <th>birth_place</th>\n",
              "    </tr>\n",
              "    <tr>\n",
              "      <th>eid</th>\n",
              "      <th></th>\n",
              "      <th></th>\n",
              "      <th></th>\n",
              "      <th></th>\n",
              "      <th></th>\n",
              "      <th></th>\n",
              "      <th></th>\n",
              "    </tr>\n",
              "  </thead>\n",
              "  <tbody>\n",
              "    <tr>\n",
              "      <th>E011</th>\n",
              "      <td>Anda</td>\n",
              "      <td>female</td>\n",
              "      <td>developer</td>\n",
              "      <td>39</td>\n",
              "      <td>64200.0</td>\n",
              "      <td>4</td>\n",
              "      <td>Bangkok</td>\n",
              "    </tr>\n",
              "    <tr>\n",
              "      <th>E012</th>\n",
              "      <td>Bordin</td>\n",
              "      <td>male</td>\n",
              "      <td>developer</td>\n",
              "      <td>25</td>\n",
              "      <td>48700.0</td>\n",
              "      <td>2</td>\n",
              "      <td>Phuket</td>\n",
              "    </tr>\n",
              "    <tr>\n",
              "      <th>E013</th>\n",
              "      <td>Chantana</td>\n",
              "      <td>female</td>\n",
              "      <td>developer</td>\n",
              "      <td>29</td>\n",
              "      <td>45500.0</td>\n",
              "      <td>3</td>\n",
              "      <td>Chonburi</td>\n",
              "    </tr>\n",
              "    <tr>\n",
              "      <th>E014</th>\n",
              "      <td>Donlaya</td>\n",
              "      <td>female</td>\n",
              "      <td>marketing</td>\n",
              "      <td>39</td>\n",
              "      <td>72600.0</td>\n",
              "      <td>8</td>\n",
              "      <td>Chonburi</td>\n",
              "    </tr>\n",
              "    <tr>\n",
              "      <th>E015</th>\n",
              "      <td>Ekkasit</td>\n",
              "      <td>male</td>\n",
              "      <td>marketing</td>\n",
              "      <td>37</td>\n",
              "      <td>80500.0</td>\n",
              "      <td>7</td>\n",
              "      <td>Suphanburi</td>\n",
              "    </tr>\n",
              "    <tr>\n",
              "      <th>E016</th>\n",
              "      <td>Fundee</td>\n",
              "      <td>female</td>\n",
              "      <td>support</td>\n",
              "      <td>35</td>\n",
              "      <td>56600.0</td>\n",
              "      <td>3</td>\n",
              "      <td>Phuket</td>\n",
              "    </tr>\n",
              "    <tr>\n",
              "      <th>E017</th>\n",
              "      <td>Gitiwit</td>\n",
              "      <td>male</td>\n",
              "      <td>support</td>\n",
              "      <td>26</td>\n",
              "      <td>42400.0</td>\n",
              "      <td>2</td>\n",
              "      <td>Suphanburi</td>\n",
              "    </tr>\n",
              "    <tr>\n",
              "      <th>E018</th>\n",
              "      <td>Harit</td>\n",
              "      <td>male</td>\n",
              "      <td>devops</td>\n",
              "      <td>32</td>\n",
              "      <td>67700.0</td>\n",
              "      <td>5</td>\n",
              "      <td>Bangkok</td>\n",
              "    </tr>\n",
              "  </tbody>\n",
              "</table>\n",
              "</div>"
            ],
            "text/plain": [
              "          name  gender department  age   salary  working_years birth_place\n",
              "eid                                                                       \n",
              "E011      Anda  female  developer   39  64200.0              4     Bangkok\n",
              "E012    Bordin    male  developer   25  48700.0              2      Phuket\n",
              "E013  Chantana  female  developer   29  45500.0              3    Chonburi\n",
              "E014   Donlaya  female  marketing   39  72600.0              8    Chonburi\n",
              "E015   Ekkasit    male  marketing   37  80500.0              7  Suphanburi\n",
              "E016    Fundee  female    support   35  56600.0              3      Phuket\n",
              "E017   Gitiwit    male    support   26  42400.0              2  Suphanburi\n",
              "E018     Harit    male     devops   32  67700.0              5     Bangkok"
            ]
          },
          "execution_count": 71,
          "metadata": {},
          "output_type": "execute_result"
        }
      ],
      "source": [
        "df"
      ]
    },
    {
      "cell_type": "markdown",
      "metadata": {
        "id": "xc4bifRfMdpD"
      },
      "source": [
        "## Row and Column Selection (2)"
      ]
    },
    {
      "cell_type": "code",
      "execution_count": 72,
      "metadata": {
        "colab": {
          "base_uri": "https://localhost:8080/",
          "height": 0
        },
        "id": "8mhbztPFLI9p",
        "outputId": "81b831bb-ae12-4ac2-ab8e-f932b99578e3"
      },
      "outputs": [
        {
          "data": {
            "text/html": [
              "<div>\n",
              "<style scoped>\n",
              "    .dataframe tbody tr th:only-of-type {\n",
              "        vertical-align: middle;\n",
              "    }\n",
              "\n",
              "    .dataframe tbody tr th {\n",
              "        vertical-align: top;\n",
              "    }\n",
              "\n",
              "    .dataframe thead th {\n",
              "        text-align: right;\n",
              "    }\n",
              "</style>\n",
              "<table border=\"1\" class=\"dataframe\">\n",
              "  <thead>\n",
              "    <tr style=\"text-align: right;\">\n",
              "      <th></th>\n",
              "      <th>name</th>\n",
              "      <th>salary</th>\n",
              "    </tr>\n",
              "    <tr>\n",
              "      <th>eid</th>\n",
              "      <th></th>\n",
              "      <th></th>\n",
              "    </tr>\n",
              "  </thead>\n",
              "  <tbody>\n",
              "    <tr>\n",
              "      <th>E011</th>\n",
              "      <td>Anda</td>\n",
              "      <td>64200.0</td>\n",
              "    </tr>\n",
              "    <tr>\n",
              "      <th>E012</th>\n",
              "      <td>Bordin</td>\n",
              "      <td>48700.0</td>\n",
              "    </tr>\n",
              "  </tbody>\n",
              "</table>\n",
              "</div>"
            ],
            "text/plain": [
              "        name   salary\n",
              "eid                  \n",
              "E011    Anda  64200.0\n",
              "E012  Bordin  48700.0"
            ]
          },
          "execution_count": 72,
          "metadata": {},
          "output_type": "execute_result"
        }
      ],
      "source": [
        "df.loc[[\"E011\",\"E012\"], [\"name\", \"salary\"]]"
      ]
    },
    {
      "cell_type": "code",
      "execution_count": 73,
      "metadata": {
        "colab": {
          "base_uri": "https://localhost:8080/",
          "height": 0
        },
        "id": "TQMD0JwRLiOl",
        "outputId": "3b011c31-aec3-4c97-f332-d08850241cd1"
      },
      "outputs": [
        {
          "data": {
            "text/plain": [
              "name                  Anda\n",
              "gender              female\n",
              "department       developer\n",
              "age                     39\n",
              "salary             64200.0\n",
              "working_years            4\n",
              "birth_place        Bangkok\n",
              "Name: E011, dtype: object"
            ]
          },
          "execution_count": 73,
          "metadata": {},
          "output_type": "execute_result"
        }
      ],
      "source": [
        "df.iloc[0]"
      ]
    },
    {
      "cell_type": "code",
      "execution_count": 74,
      "metadata": {
        "colab": {
          "base_uri": "https://localhost:8080/",
          "height": 0
        },
        "id": "KrwQCA88go9D",
        "outputId": "bd5c2280-34ff-44bc-9b71-4000f13e8821"
      },
      "outputs": [
        {
          "data": {
            "text/html": [
              "<div>\n",
              "<style scoped>\n",
              "    .dataframe tbody tr th:only-of-type {\n",
              "        vertical-align: middle;\n",
              "    }\n",
              "\n",
              "    .dataframe tbody tr th {\n",
              "        vertical-align: top;\n",
              "    }\n",
              "\n",
              "    .dataframe thead th {\n",
              "        text-align: right;\n",
              "    }\n",
              "</style>\n",
              "<table border=\"1\" class=\"dataframe\">\n",
              "  <thead>\n",
              "    <tr style=\"text-align: right;\">\n",
              "      <th></th>\n",
              "      <th>name</th>\n",
              "      <th>gender</th>\n",
              "      <th>department</th>\n",
              "      <th>age</th>\n",
              "      <th>salary</th>\n",
              "      <th>working_years</th>\n",
              "      <th>birth_place</th>\n",
              "    </tr>\n",
              "    <tr>\n",
              "      <th>eid</th>\n",
              "      <th></th>\n",
              "      <th></th>\n",
              "      <th></th>\n",
              "      <th></th>\n",
              "      <th></th>\n",
              "      <th></th>\n",
              "      <th></th>\n",
              "    </tr>\n",
              "  </thead>\n",
              "  <tbody>\n",
              "    <tr>\n",
              "      <th>E011</th>\n",
              "      <td>Anda</td>\n",
              "      <td>female</td>\n",
              "      <td>developer</td>\n",
              "      <td>39</td>\n",
              "      <td>64200.0</td>\n",
              "      <td>4</td>\n",
              "      <td>Bangkok</td>\n",
              "    </tr>\n",
              "  </tbody>\n",
              "</table>\n",
              "</div>"
            ],
            "text/plain": [
              "      name  gender department  age   salary  working_years birth_place\n",
              "eid                                                                   \n",
              "E011  Anda  female  developer   39  64200.0              4     Bangkok"
            ]
          },
          "execution_count": 74,
          "metadata": {},
          "output_type": "execute_result"
        }
      ],
      "source": [
        "df.iloc[[0]]"
      ]
    },
    {
      "cell_type": "code",
      "execution_count": 75,
      "metadata": {
        "colab": {
          "base_uri": "https://localhost:8080/",
          "height": 0
        },
        "id": "IJlP_BO_Lo0v",
        "outputId": "8f7018a1-1123-4c90-cd79-f661ebf25624"
      },
      "outputs": [
        {
          "data": {
            "text/html": [
              "<div>\n",
              "<style scoped>\n",
              "    .dataframe tbody tr th:only-of-type {\n",
              "        vertical-align: middle;\n",
              "    }\n",
              "\n",
              "    .dataframe tbody tr th {\n",
              "        vertical-align: top;\n",
              "    }\n",
              "\n",
              "    .dataframe thead th {\n",
              "        text-align: right;\n",
              "    }\n",
              "</style>\n",
              "<table border=\"1\" class=\"dataframe\">\n",
              "  <thead>\n",
              "    <tr style=\"text-align: right;\">\n",
              "      <th></th>\n",
              "      <th>name</th>\n",
              "      <th>gender</th>\n",
              "      <th>department</th>\n",
              "      <th>age</th>\n",
              "      <th>salary</th>\n",
              "      <th>working_years</th>\n",
              "      <th>birth_place</th>\n",
              "    </tr>\n",
              "    <tr>\n",
              "      <th>eid</th>\n",
              "      <th></th>\n",
              "      <th></th>\n",
              "      <th></th>\n",
              "      <th></th>\n",
              "      <th></th>\n",
              "      <th></th>\n",
              "      <th></th>\n",
              "    </tr>\n",
              "  </thead>\n",
              "  <tbody>\n",
              "    <tr>\n",
              "      <th>E011</th>\n",
              "      <td>Anda</td>\n",
              "      <td>female</td>\n",
              "      <td>developer</td>\n",
              "      <td>39</td>\n",
              "      <td>64200.0</td>\n",
              "      <td>4</td>\n",
              "      <td>Bangkok</td>\n",
              "    </tr>\n",
              "    <tr>\n",
              "      <th>E012</th>\n",
              "      <td>Bordin</td>\n",
              "      <td>male</td>\n",
              "      <td>developer</td>\n",
              "      <td>25</td>\n",
              "      <td>48700.0</td>\n",
              "      <td>2</td>\n",
              "      <td>Phuket</td>\n",
              "    </tr>\n",
              "  </tbody>\n",
              "</table>\n",
              "</div>"
            ],
            "text/plain": [
              "        name  gender department  age   salary  working_years birth_place\n",
              "eid                                                                     \n",
              "E011    Anda  female  developer   39  64200.0              4     Bangkok\n",
              "E012  Bordin    male  developer   25  48700.0              2      Phuket"
            ]
          },
          "execution_count": 75,
          "metadata": {},
          "output_type": "execute_result"
        }
      ],
      "source": [
        "df.iloc[[0,1]]"
      ]
    },
    {
      "cell_type": "code",
      "execution_count": 76,
      "metadata": {
        "colab": {
          "base_uri": "https://localhost:8080/",
          "height": 0
        },
        "id": "OHir_luUMABT",
        "outputId": "9c45e03b-fb69-4d51-ef77-727203d3afdd"
      },
      "outputs": [
        {
          "data": {
            "text/html": [
              "<div>\n",
              "<style scoped>\n",
              "    .dataframe tbody tr th:only-of-type {\n",
              "        vertical-align: middle;\n",
              "    }\n",
              "\n",
              "    .dataframe tbody tr th {\n",
              "        vertical-align: top;\n",
              "    }\n",
              "\n",
              "    .dataframe thead th {\n",
              "        text-align: right;\n",
              "    }\n",
              "</style>\n",
              "<table border=\"1\" class=\"dataframe\">\n",
              "  <thead>\n",
              "    <tr style=\"text-align: right;\">\n",
              "      <th></th>\n",
              "      <th>name</th>\n",
              "      <th>gender</th>\n",
              "    </tr>\n",
              "    <tr>\n",
              "      <th>eid</th>\n",
              "      <th></th>\n",
              "      <th></th>\n",
              "    </tr>\n",
              "  </thead>\n",
              "  <tbody>\n",
              "    <tr>\n",
              "      <th>E011</th>\n",
              "      <td>Anda</td>\n",
              "      <td>female</td>\n",
              "    </tr>\n",
              "    <tr>\n",
              "      <th>E012</th>\n",
              "      <td>Bordin</td>\n",
              "      <td>male</td>\n",
              "    </tr>\n",
              "  </tbody>\n",
              "</table>\n",
              "</div>"
            ],
            "text/plain": [
              "        name  gender\n",
              "eid                 \n",
              "E011    Anda  female\n",
              "E012  Bordin    male"
            ]
          },
          "execution_count": 76,
          "metadata": {},
          "output_type": "execute_result"
        }
      ],
      "source": [
        "df.iloc[[0,1]][[\"name\",\"gender\"]]"
      ]
    },
    {
      "cell_type": "markdown",
      "metadata": {
        "id": "yl7Gs8d2NzE9"
      },
      "source": [
        "## Reset Index"
      ]
    },
    {
      "cell_type": "code",
      "execution_count": 77,
      "metadata": {
        "id": "6gQ6TxoZN2MU"
      },
      "outputs": [],
      "source": [
        "df.reset_index(inplace=True)"
      ]
    },
    {
      "cell_type": "code",
      "execution_count": 78,
      "metadata": {
        "colab": {
          "base_uri": "https://localhost:8080/",
          "height": 0
        },
        "id": "XU0TD5cFN6Ho",
        "outputId": "15084194-bae0-4d96-88dd-203743183a30"
      },
      "outputs": [
        {
          "data": {
            "text/html": [
              "<div>\n",
              "<style scoped>\n",
              "    .dataframe tbody tr th:only-of-type {\n",
              "        vertical-align: middle;\n",
              "    }\n",
              "\n",
              "    .dataframe tbody tr th {\n",
              "        vertical-align: top;\n",
              "    }\n",
              "\n",
              "    .dataframe thead th {\n",
              "        text-align: right;\n",
              "    }\n",
              "</style>\n",
              "<table border=\"1\" class=\"dataframe\">\n",
              "  <thead>\n",
              "    <tr style=\"text-align: right;\">\n",
              "      <th></th>\n",
              "      <th>eid</th>\n",
              "      <th>name</th>\n",
              "      <th>gender</th>\n",
              "      <th>department</th>\n",
              "      <th>age</th>\n",
              "      <th>salary</th>\n",
              "      <th>working_years</th>\n",
              "      <th>birth_place</th>\n",
              "    </tr>\n",
              "  </thead>\n",
              "  <tbody>\n",
              "    <tr>\n",
              "      <th>0</th>\n",
              "      <td>E011</td>\n",
              "      <td>Anda</td>\n",
              "      <td>female</td>\n",
              "      <td>developer</td>\n",
              "      <td>39</td>\n",
              "      <td>64200.0</td>\n",
              "      <td>4</td>\n",
              "      <td>Bangkok</td>\n",
              "    </tr>\n",
              "    <tr>\n",
              "      <th>1</th>\n",
              "      <td>E012</td>\n",
              "      <td>Bordin</td>\n",
              "      <td>male</td>\n",
              "      <td>developer</td>\n",
              "      <td>25</td>\n",
              "      <td>48700.0</td>\n",
              "      <td>2</td>\n",
              "      <td>Phuket</td>\n",
              "    </tr>\n",
              "    <tr>\n",
              "      <th>2</th>\n",
              "      <td>E013</td>\n",
              "      <td>Chantana</td>\n",
              "      <td>female</td>\n",
              "      <td>developer</td>\n",
              "      <td>29</td>\n",
              "      <td>45500.0</td>\n",
              "      <td>3</td>\n",
              "      <td>Chonburi</td>\n",
              "    </tr>\n",
              "    <tr>\n",
              "      <th>3</th>\n",
              "      <td>E014</td>\n",
              "      <td>Donlaya</td>\n",
              "      <td>female</td>\n",
              "      <td>marketing</td>\n",
              "      <td>39</td>\n",
              "      <td>72600.0</td>\n",
              "      <td>8</td>\n",
              "      <td>Chonburi</td>\n",
              "    </tr>\n",
              "    <tr>\n",
              "      <th>4</th>\n",
              "      <td>E015</td>\n",
              "      <td>Ekkasit</td>\n",
              "      <td>male</td>\n",
              "      <td>marketing</td>\n",
              "      <td>37</td>\n",
              "      <td>80500.0</td>\n",
              "      <td>7</td>\n",
              "      <td>Suphanburi</td>\n",
              "    </tr>\n",
              "    <tr>\n",
              "      <th>5</th>\n",
              "      <td>E016</td>\n",
              "      <td>Fundee</td>\n",
              "      <td>female</td>\n",
              "      <td>support</td>\n",
              "      <td>35</td>\n",
              "      <td>56600.0</td>\n",
              "      <td>3</td>\n",
              "      <td>Phuket</td>\n",
              "    </tr>\n",
              "    <tr>\n",
              "      <th>6</th>\n",
              "      <td>E017</td>\n",
              "      <td>Gitiwit</td>\n",
              "      <td>male</td>\n",
              "      <td>support</td>\n",
              "      <td>26</td>\n",
              "      <td>42400.0</td>\n",
              "      <td>2</td>\n",
              "      <td>Suphanburi</td>\n",
              "    </tr>\n",
              "    <tr>\n",
              "      <th>7</th>\n",
              "      <td>E018</td>\n",
              "      <td>Harit</td>\n",
              "      <td>male</td>\n",
              "      <td>devops</td>\n",
              "      <td>32</td>\n",
              "      <td>67700.0</td>\n",
              "      <td>5</td>\n",
              "      <td>Bangkok</td>\n",
              "    </tr>\n",
              "  </tbody>\n",
              "</table>\n",
              "</div>"
            ],
            "text/plain": [
              "    eid      name  gender department  age   salary  working_years birth_place\n",
              "0  E011      Anda  female  developer   39  64200.0              4     Bangkok\n",
              "1  E012    Bordin    male  developer   25  48700.0              2      Phuket\n",
              "2  E013  Chantana  female  developer   29  45500.0              3    Chonburi\n",
              "3  E014   Donlaya  female  marketing   39  72600.0              8    Chonburi\n",
              "4  E015   Ekkasit    male  marketing   37  80500.0              7  Suphanburi\n",
              "5  E016    Fundee  female    support   35  56600.0              3      Phuket\n",
              "6  E017   Gitiwit    male    support   26  42400.0              2  Suphanburi\n",
              "7  E018     Harit    male     devops   32  67700.0              5     Bangkok"
            ]
          },
          "execution_count": 78,
          "metadata": {},
          "output_type": "execute_result"
        }
      ],
      "source": [
        "df"
      ]
    },
    {
      "cell_type": "markdown",
      "metadata": {
        "id": "LpogpC22Oujh"
      },
      "source": [
        "## Reload the Dataframe\n",
        "\n"
      ]
    },
    {
      "cell_type": "code",
      "execution_count": 79,
      "metadata": {
        "id": "iyERoOTYOz0T"
      },
      "outputs": [],
      "source": [
        "df = pd.read_csv(CSV_PATH)"
      ]
    },
    {
      "cell_type": "code",
      "execution_count": 80,
      "metadata": {
        "colab": {
          "base_uri": "https://localhost:8080/",
          "height": 0
        },
        "id": "SpeE6sN0O5qa",
        "outputId": "73ee10cd-5683-4d88-9c3d-786a7a763bb2"
      },
      "outputs": [
        {
          "data": {
            "text/html": [
              "<div>\n",
              "<style scoped>\n",
              "    .dataframe tbody tr th:only-of-type {\n",
              "        vertical-align: middle;\n",
              "    }\n",
              "\n",
              "    .dataframe tbody tr th {\n",
              "        vertical-align: top;\n",
              "    }\n",
              "\n",
              "    .dataframe thead th {\n",
              "        text-align: right;\n",
              "    }\n",
              "</style>\n",
              "<table border=\"1\" class=\"dataframe\">\n",
              "  <thead>\n",
              "    <tr style=\"text-align: right;\">\n",
              "      <th></th>\n",
              "      <th>eid</th>\n",
              "      <th>name</th>\n",
              "      <th>gender</th>\n",
              "      <th>department</th>\n",
              "      <th>age</th>\n",
              "      <th>salary</th>\n",
              "      <th>working_years</th>\n",
              "      <th>birth_place</th>\n",
              "    </tr>\n",
              "  </thead>\n",
              "  <tbody>\n",
              "    <tr>\n",
              "      <th>0</th>\n",
              "      <td>E011</td>\n",
              "      <td>Anda</td>\n",
              "      <td>female</td>\n",
              "      <td>developer</td>\n",
              "      <td>39</td>\n",
              "      <td>64200.0</td>\n",
              "      <td>4</td>\n",
              "      <td>Bangkok</td>\n",
              "    </tr>\n",
              "    <tr>\n",
              "      <th>1</th>\n",
              "      <td>E012</td>\n",
              "      <td>Bordin</td>\n",
              "      <td>male</td>\n",
              "      <td>developer</td>\n",
              "      <td>25</td>\n",
              "      <td>48700.0</td>\n",
              "      <td>2</td>\n",
              "      <td>Phuket</td>\n",
              "    </tr>\n",
              "    <tr>\n",
              "      <th>2</th>\n",
              "      <td>E013</td>\n",
              "      <td>Chantana</td>\n",
              "      <td>female</td>\n",
              "      <td>developer</td>\n",
              "      <td>29</td>\n",
              "      <td>45500.0</td>\n",
              "      <td>3</td>\n",
              "      <td>Chonburi</td>\n",
              "    </tr>\n",
              "    <tr>\n",
              "      <th>3</th>\n",
              "      <td>E014</td>\n",
              "      <td>Donlaya</td>\n",
              "      <td>female</td>\n",
              "      <td>marketing</td>\n",
              "      <td>39</td>\n",
              "      <td>72600.0</td>\n",
              "      <td>8</td>\n",
              "      <td>Chonburi</td>\n",
              "    </tr>\n",
              "    <tr>\n",
              "      <th>4</th>\n",
              "      <td>E015</td>\n",
              "      <td>Ekkasit</td>\n",
              "      <td>male</td>\n",
              "      <td>marketing</td>\n",
              "      <td>37</td>\n",
              "      <td>80500.0</td>\n",
              "      <td>7</td>\n",
              "      <td>Suphanburi</td>\n",
              "    </tr>\n",
              "    <tr>\n",
              "      <th>5</th>\n",
              "      <td>E016</td>\n",
              "      <td>Fundee</td>\n",
              "      <td>female</td>\n",
              "      <td>support</td>\n",
              "      <td>35</td>\n",
              "      <td>56600.0</td>\n",
              "      <td>3</td>\n",
              "      <td>Phuket</td>\n",
              "    </tr>\n",
              "    <tr>\n",
              "      <th>6</th>\n",
              "      <td>E017</td>\n",
              "      <td>Gitiwit</td>\n",
              "      <td>male</td>\n",
              "      <td>support</td>\n",
              "      <td>26</td>\n",
              "      <td>42400.0</td>\n",
              "      <td>2</td>\n",
              "      <td>Suphanburi</td>\n",
              "    </tr>\n",
              "    <tr>\n",
              "      <th>7</th>\n",
              "      <td>E018</td>\n",
              "      <td>Harit</td>\n",
              "      <td>male</td>\n",
              "      <td>devops</td>\n",
              "      <td>32</td>\n",
              "      <td>67700.0</td>\n",
              "      <td>5</td>\n",
              "      <td>Bangkok</td>\n",
              "    </tr>\n",
              "  </tbody>\n",
              "</table>\n",
              "</div>"
            ],
            "text/plain": [
              "    eid      name  gender department  age   salary  working_years birth_place\n",
              "0  E011      Anda  female  developer   39  64200.0              4     Bangkok\n",
              "1  E012    Bordin    male  developer   25  48700.0              2      Phuket\n",
              "2  E013  Chantana  female  developer   29  45500.0              3    Chonburi\n",
              "3  E014   Donlaya  female  marketing   39  72600.0              8    Chonburi\n",
              "4  E015   Ekkasit    male  marketing   37  80500.0              7  Suphanburi\n",
              "5  E016    Fundee  female    support   35  56600.0              3      Phuket\n",
              "6  E017   Gitiwit    male    support   26  42400.0              2  Suphanburi\n",
              "7  E018     Harit    male     devops   32  67700.0              5     Bangkok"
            ]
          },
          "execution_count": 80,
          "metadata": {},
          "output_type": "execute_result"
        }
      ],
      "source": [
        "df"
      ]
    },
    {
      "cell_type": "markdown",
      "metadata": {
        "id": "VgzexoL5O8Rq"
      },
      "source": [
        "## Range Selection"
      ]
    },
    {
      "cell_type": "code",
      "execution_count": 81,
      "metadata": {
        "colab": {
          "base_uri": "https://localhost:8080/",
          "height": 0
        },
        "id": "sPhvCuSiPBWq",
        "outputId": "b9904dbf-aec6-43c7-a09a-19dae211bd4c"
      },
      "outputs": [
        {
          "data": {
            "text/html": [
              "<div>\n",
              "<style scoped>\n",
              "    .dataframe tbody tr th:only-of-type {\n",
              "        vertical-align: middle;\n",
              "    }\n",
              "\n",
              "    .dataframe tbody tr th {\n",
              "        vertical-align: top;\n",
              "    }\n",
              "\n",
              "    .dataframe thead th {\n",
              "        text-align: right;\n",
              "    }\n",
              "</style>\n",
              "<table border=\"1\" class=\"dataframe\">\n",
              "  <thead>\n",
              "    <tr style=\"text-align: right;\">\n",
              "      <th></th>\n",
              "      <th>eid</th>\n",
              "      <th>name</th>\n",
              "      <th>gender</th>\n",
              "      <th>department</th>\n",
              "      <th>age</th>\n",
              "      <th>salary</th>\n",
              "      <th>working_years</th>\n",
              "      <th>birth_place</th>\n",
              "    </tr>\n",
              "  </thead>\n",
              "  <tbody>\n",
              "    <tr>\n",
              "      <th>1</th>\n",
              "      <td>E012</td>\n",
              "      <td>Bordin</td>\n",
              "      <td>male</td>\n",
              "      <td>developer</td>\n",
              "      <td>25</td>\n",
              "      <td>48700.0</td>\n",
              "      <td>2</td>\n",
              "      <td>Phuket</td>\n",
              "    </tr>\n",
              "    <tr>\n",
              "      <th>2</th>\n",
              "      <td>E013</td>\n",
              "      <td>Chantana</td>\n",
              "      <td>female</td>\n",
              "      <td>developer</td>\n",
              "      <td>29</td>\n",
              "      <td>45500.0</td>\n",
              "      <td>3</td>\n",
              "      <td>Chonburi</td>\n",
              "    </tr>\n",
              "    <tr>\n",
              "      <th>3</th>\n",
              "      <td>E014</td>\n",
              "      <td>Donlaya</td>\n",
              "      <td>female</td>\n",
              "      <td>marketing</td>\n",
              "      <td>39</td>\n",
              "      <td>72600.0</td>\n",
              "      <td>8</td>\n",
              "      <td>Chonburi</td>\n",
              "    </tr>\n",
              "    <tr>\n",
              "      <th>4</th>\n",
              "      <td>E015</td>\n",
              "      <td>Ekkasit</td>\n",
              "      <td>male</td>\n",
              "      <td>marketing</td>\n",
              "      <td>37</td>\n",
              "      <td>80500.0</td>\n",
              "      <td>7</td>\n",
              "      <td>Suphanburi</td>\n",
              "    </tr>\n",
              "  </tbody>\n",
              "</table>\n",
              "</div>"
            ],
            "text/plain": [
              "    eid      name  gender department  age   salary  working_years birth_place\n",
              "1  E012    Bordin    male  developer   25  48700.0              2      Phuket\n",
              "2  E013  Chantana  female  developer   29  45500.0              3    Chonburi\n",
              "3  E014   Donlaya  female  marketing   39  72600.0              8    Chonburi\n",
              "4  E015   Ekkasit    male  marketing   37  80500.0              7  Suphanburi"
            ]
          },
          "execution_count": 81,
          "metadata": {},
          "output_type": "execute_result"
        }
      ],
      "source": [
        "df.loc[1:4]"
      ]
    },
    {
      "cell_type": "code",
      "execution_count": 82,
      "metadata": {
        "colab": {
          "base_uri": "https://localhost:8080/",
          "height": 0
        },
        "id": "yEagpTWVPKUI",
        "outputId": "c5a9470a-e1b4-48e9-b2cb-e8cb8cb0a4ad"
      },
      "outputs": [
        {
          "data": {
            "text/html": [
              "<div>\n",
              "<style scoped>\n",
              "    .dataframe tbody tr th:only-of-type {\n",
              "        vertical-align: middle;\n",
              "    }\n",
              "\n",
              "    .dataframe tbody tr th {\n",
              "        vertical-align: top;\n",
              "    }\n",
              "\n",
              "    .dataframe thead th {\n",
              "        text-align: right;\n",
              "    }\n",
              "</style>\n",
              "<table border=\"1\" class=\"dataframe\">\n",
              "  <thead>\n",
              "    <tr style=\"text-align: right;\">\n",
              "      <th></th>\n",
              "      <th>eid</th>\n",
              "      <th>name</th>\n",
              "      <th>gender</th>\n",
              "      <th>department</th>\n",
              "      <th>age</th>\n",
              "      <th>salary</th>\n",
              "      <th>working_years</th>\n",
              "      <th>birth_place</th>\n",
              "    </tr>\n",
              "  </thead>\n",
              "  <tbody>\n",
              "    <tr>\n",
              "      <th>0</th>\n",
              "      <td>E011</td>\n",
              "      <td>Anda</td>\n",
              "      <td>female</td>\n",
              "      <td>developer</td>\n",
              "      <td>39</td>\n",
              "      <td>64200.0</td>\n",
              "      <td>4</td>\n",
              "      <td>Bangkok</td>\n",
              "    </tr>\n",
              "    <tr>\n",
              "      <th>1</th>\n",
              "      <td>E012</td>\n",
              "      <td>Bordin</td>\n",
              "      <td>male</td>\n",
              "      <td>developer</td>\n",
              "      <td>25</td>\n",
              "      <td>48700.0</td>\n",
              "      <td>2</td>\n",
              "      <td>Phuket</td>\n",
              "    </tr>\n",
              "    <tr>\n",
              "      <th>2</th>\n",
              "      <td>E013</td>\n",
              "      <td>Chantana</td>\n",
              "      <td>female</td>\n",
              "      <td>developer</td>\n",
              "      <td>29</td>\n",
              "      <td>45500.0</td>\n",
              "      <td>3</td>\n",
              "      <td>Chonburi</td>\n",
              "    </tr>\n",
              "    <tr>\n",
              "      <th>3</th>\n",
              "      <td>E014</td>\n",
              "      <td>Donlaya</td>\n",
              "      <td>female</td>\n",
              "      <td>marketing</td>\n",
              "      <td>39</td>\n",
              "      <td>72600.0</td>\n",
              "      <td>8</td>\n",
              "      <td>Chonburi</td>\n",
              "    </tr>\n",
              "    <tr>\n",
              "      <th>4</th>\n",
              "      <td>E015</td>\n",
              "      <td>Ekkasit</td>\n",
              "      <td>male</td>\n",
              "      <td>marketing</td>\n",
              "      <td>37</td>\n",
              "      <td>80500.0</td>\n",
              "      <td>7</td>\n",
              "      <td>Suphanburi</td>\n",
              "    </tr>\n",
              "  </tbody>\n",
              "</table>\n",
              "</div>"
            ],
            "text/plain": [
              "    eid      name  gender department  age   salary  working_years birth_place\n",
              "0  E011      Anda  female  developer   39  64200.0              4     Bangkok\n",
              "1  E012    Bordin    male  developer   25  48700.0              2      Phuket\n",
              "2  E013  Chantana  female  developer   29  45500.0              3    Chonburi\n",
              "3  E014   Donlaya  female  marketing   39  72600.0              8    Chonburi\n",
              "4  E015   Ekkasit    male  marketing   37  80500.0              7  Suphanburi"
            ]
          },
          "execution_count": 82,
          "metadata": {},
          "output_type": "execute_result"
        }
      ],
      "source": [
        "df.loc[:4]"
      ]
    },
    {
      "cell_type": "code",
      "execution_count": 83,
      "metadata": {
        "colab": {
          "base_uri": "https://localhost:8080/",
          "height": 0
        },
        "id": "4abeYf3xPR0O",
        "outputId": "eb4884f1-88b1-43d4-8ced-0fe6d30b20f4"
      },
      "outputs": [
        {
          "data": {
            "text/html": [
              "<div>\n",
              "<style scoped>\n",
              "    .dataframe tbody tr th:only-of-type {\n",
              "        vertical-align: middle;\n",
              "    }\n",
              "\n",
              "    .dataframe tbody tr th {\n",
              "        vertical-align: top;\n",
              "    }\n",
              "\n",
              "    .dataframe thead th {\n",
              "        text-align: right;\n",
              "    }\n",
              "</style>\n",
              "<table border=\"1\" class=\"dataframe\">\n",
              "  <thead>\n",
              "    <tr style=\"text-align: right;\">\n",
              "      <th></th>\n",
              "      <th>eid</th>\n",
              "      <th>name</th>\n",
              "      <th>gender</th>\n",
              "      <th>department</th>\n",
              "      <th>age</th>\n",
              "      <th>salary</th>\n",
              "      <th>working_years</th>\n",
              "      <th>birth_place</th>\n",
              "    </tr>\n",
              "  </thead>\n",
              "  <tbody>\n",
              "    <tr>\n",
              "      <th>4</th>\n",
              "      <td>E015</td>\n",
              "      <td>Ekkasit</td>\n",
              "      <td>male</td>\n",
              "      <td>marketing</td>\n",
              "      <td>37</td>\n",
              "      <td>80500.0</td>\n",
              "      <td>7</td>\n",
              "      <td>Suphanburi</td>\n",
              "    </tr>\n",
              "    <tr>\n",
              "      <th>5</th>\n",
              "      <td>E016</td>\n",
              "      <td>Fundee</td>\n",
              "      <td>female</td>\n",
              "      <td>support</td>\n",
              "      <td>35</td>\n",
              "      <td>56600.0</td>\n",
              "      <td>3</td>\n",
              "      <td>Phuket</td>\n",
              "    </tr>\n",
              "    <tr>\n",
              "      <th>6</th>\n",
              "      <td>E017</td>\n",
              "      <td>Gitiwit</td>\n",
              "      <td>male</td>\n",
              "      <td>support</td>\n",
              "      <td>26</td>\n",
              "      <td>42400.0</td>\n",
              "      <td>2</td>\n",
              "      <td>Suphanburi</td>\n",
              "    </tr>\n",
              "    <tr>\n",
              "      <th>7</th>\n",
              "      <td>E018</td>\n",
              "      <td>Harit</td>\n",
              "      <td>male</td>\n",
              "      <td>devops</td>\n",
              "      <td>32</td>\n",
              "      <td>67700.0</td>\n",
              "      <td>5</td>\n",
              "      <td>Bangkok</td>\n",
              "    </tr>\n",
              "  </tbody>\n",
              "</table>\n",
              "</div>"
            ],
            "text/plain": [
              "    eid     name  gender department  age   salary  working_years birth_place\n",
              "4  E015  Ekkasit    male  marketing   37  80500.0              7  Suphanburi\n",
              "5  E016   Fundee  female    support   35  56600.0              3      Phuket\n",
              "6  E017  Gitiwit    male    support   26  42400.0              2  Suphanburi\n",
              "7  E018    Harit    male     devops   32  67700.0              5     Bangkok"
            ]
          },
          "execution_count": 83,
          "metadata": {},
          "output_type": "execute_result"
        }
      ],
      "source": [
        "df.loc[4:]"
      ]
    },
    {
      "cell_type": "code",
      "execution_count": 84,
      "metadata": {
        "colab": {
          "base_uri": "https://localhost:8080/",
          "height": 0
        },
        "id": "UqPi_UJAPZUE",
        "outputId": "619cd771-3df5-461e-9145-04ca4596a12a"
      },
      "outputs": [
        {
          "data": {
            "text/html": [
              "<div>\n",
              "<style scoped>\n",
              "    .dataframe tbody tr th:only-of-type {\n",
              "        vertical-align: middle;\n",
              "    }\n",
              "\n",
              "    .dataframe tbody tr th {\n",
              "        vertical-align: top;\n",
              "    }\n",
              "\n",
              "    .dataframe thead th {\n",
              "        text-align: right;\n",
              "    }\n",
              "</style>\n",
              "<table border=\"1\" class=\"dataframe\">\n",
              "  <thead>\n",
              "    <tr style=\"text-align: right;\">\n",
              "      <th></th>\n",
              "      <th>name</th>\n",
              "      <th>age</th>\n",
              "    </tr>\n",
              "  </thead>\n",
              "  <tbody>\n",
              "    <tr>\n",
              "      <th>1</th>\n",
              "      <td>Bordin</td>\n",
              "      <td>25</td>\n",
              "    </tr>\n",
              "    <tr>\n",
              "      <th>2</th>\n",
              "      <td>Chantana</td>\n",
              "      <td>29</td>\n",
              "    </tr>\n",
              "    <tr>\n",
              "      <th>3</th>\n",
              "      <td>Donlaya</td>\n",
              "      <td>39</td>\n",
              "    </tr>\n",
              "  </tbody>\n",
              "</table>\n",
              "</div>"
            ],
            "text/plain": [
              "       name  age\n",
              "1    Bordin   25\n",
              "2  Chantana   29\n",
              "3   Donlaya   39"
            ]
          },
          "execution_count": 84,
          "metadata": {},
          "output_type": "execute_result"
        }
      ],
      "source": [
        "df.loc[1:3,[\"name\",\"age\"]]"
      ]
    },
    {
      "cell_type": "code",
      "execution_count": 85,
      "metadata": {
        "colab": {
          "base_uri": "https://localhost:8080/",
          "height": 0
        },
        "id": "LtpnOOclPnq4",
        "outputId": "2008106b-0498-4ef3-8b46-d7c11770b60b"
      },
      "outputs": [
        {
          "data": {
            "text/html": [
              "<div>\n",
              "<style scoped>\n",
              "    .dataframe tbody tr th:only-of-type {\n",
              "        vertical-align: middle;\n",
              "    }\n",
              "\n",
              "    .dataframe tbody tr th {\n",
              "        vertical-align: top;\n",
              "    }\n",
              "\n",
              "    .dataframe thead th {\n",
              "        text-align: right;\n",
              "    }\n",
              "</style>\n",
              "<table border=\"1\" class=\"dataframe\">\n",
              "  <thead>\n",
              "    <tr style=\"text-align: right;\">\n",
              "      <th></th>\n",
              "      <th>eid</th>\n",
              "      <th>name</th>\n",
              "      <th>gender</th>\n",
              "      <th>department</th>\n",
              "      <th>age</th>\n",
              "      <th>salary</th>\n",
              "      <th>working_years</th>\n",
              "      <th>birth_place</th>\n",
              "    </tr>\n",
              "  </thead>\n",
              "  <tbody>\n",
              "    <tr>\n",
              "      <th>1</th>\n",
              "      <td>E012</td>\n",
              "      <td>Bordin</td>\n",
              "      <td>male</td>\n",
              "      <td>developer</td>\n",
              "      <td>25</td>\n",
              "      <td>48700.0</td>\n",
              "      <td>2</td>\n",
              "      <td>Phuket</td>\n",
              "    </tr>\n",
              "    <tr>\n",
              "      <th>2</th>\n",
              "      <td>E013</td>\n",
              "      <td>Chantana</td>\n",
              "      <td>female</td>\n",
              "      <td>developer</td>\n",
              "      <td>29</td>\n",
              "      <td>45500.0</td>\n",
              "      <td>3</td>\n",
              "      <td>Chonburi</td>\n",
              "    </tr>\n",
              "    <tr>\n",
              "      <th>3</th>\n",
              "      <td>E014</td>\n",
              "      <td>Donlaya</td>\n",
              "      <td>female</td>\n",
              "      <td>marketing</td>\n",
              "      <td>39</td>\n",
              "      <td>72600.0</td>\n",
              "      <td>8</td>\n",
              "      <td>Chonburi</td>\n",
              "    </tr>\n",
              "  </tbody>\n",
              "</table>\n",
              "</div>"
            ],
            "text/plain": [
              "    eid      name  gender department  age   salary  working_years birth_place\n",
              "1  E012    Bordin    male  developer   25  48700.0              2      Phuket\n",
              "2  E013  Chantana  female  developer   29  45500.0              3    Chonburi\n",
              "3  E014   Donlaya  female  marketing   39  72600.0              8    Chonburi"
            ]
          },
          "execution_count": 85,
          "metadata": {},
          "output_type": "execute_result"
        }
      ],
      "source": [
        "df.iloc[1:4]"
      ]
    },
    {
      "cell_type": "code",
      "execution_count": 86,
      "metadata": {
        "colab": {
          "base_uri": "https://localhost:8080/",
          "height": 0
        },
        "id": "dQNZHUX8IIrP",
        "outputId": "a35ca3af-0337-40ad-f470-564a594f8b48"
      },
      "outputs": [
        {
          "data": {
            "text/html": [
              "<div>\n",
              "<style scoped>\n",
              "    .dataframe tbody tr th:only-of-type {\n",
              "        vertical-align: middle;\n",
              "    }\n",
              "\n",
              "    .dataframe tbody tr th {\n",
              "        vertical-align: top;\n",
              "    }\n",
              "\n",
              "    .dataframe thead th {\n",
              "        text-align: right;\n",
              "    }\n",
              "</style>\n",
              "<table border=\"1\" class=\"dataframe\">\n",
              "  <thead>\n",
              "    <tr style=\"text-align: right;\">\n",
              "      <th></th>\n",
              "      <th>name</th>\n",
              "      <th>age</th>\n",
              "    </tr>\n",
              "  </thead>\n",
              "  <tbody>\n",
              "    <tr>\n",
              "      <th>1</th>\n",
              "      <td>Bordin</td>\n",
              "      <td>25</td>\n",
              "    </tr>\n",
              "    <tr>\n",
              "      <th>2</th>\n",
              "      <td>Chantana</td>\n",
              "      <td>29</td>\n",
              "    </tr>\n",
              "    <tr>\n",
              "      <th>3</th>\n",
              "      <td>Donlaya</td>\n",
              "      <td>39</td>\n",
              "    </tr>\n",
              "  </tbody>\n",
              "</table>\n",
              "</div>"
            ],
            "text/plain": [
              "       name  age\n",
              "1    Bordin   25\n",
              "2  Chantana   29\n",
              "3   Donlaya   39"
            ]
          },
          "execution_count": 86,
          "metadata": {},
          "output_type": "execute_result"
        }
      ],
      "source": [
        "df.iloc[1:4][[\"name\",\"age\"]]"
      ]
    },
    {
      "cell_type": "markdown",
      "metadata": {
        "id": "rER2bBTxQqSF"
      },
      "source": [
        "## Conditional Selection"
      ]
    },
    {
      "cell_type": "code",
      "execution_count": 87,
      "metadata": {
        "colab": {
          "base_uri": "https://localhost:8080/",
          "height": 0
        },
        "id": "Jc97DDDWQzy7",
        "outputId": "341dfc59-172b-4d5d-8df5-13d7db70500b"
      },
      "outputs": [
        {
          "data": {
            "text/html": [
              "<div>\n",
              "<style scoped>\n",
              "    .dataframe tbody tr th:only-of-type {\n",
              "        vertical-align: middle;\n",
              "    }\n",
              "\n",
              "    .dataframe tbody tr th {\n",
              "        vertical-align: top;\n",
              "    }\n",
              "\n",
              "    .dataframe thead th {\n",
              "        text-align: right;\n",
              "    }\n",
              "</style>\n",
              "<table border=\"1\" class=\"dataframe\">\n",
              "  <thead>\n",
              "    <tr style=\"text-align: right;\">\n",
              "      <th></th>\n",
              "      <th>eid</th>\n",
              "      <th>name</th>\n",
              "      <th>gender</th>\n",
              "      <th>department</th>\n",
              "      <th>age</th>\n",
              "      <th>salary</th>\n",
              "      <th>working_years</th>\n",
              "      <th>birth_place</th>\n",
              "    </tr>\n",
              "  </thead>\n",
              "  <tbody>\n",
              "    <tr>\n",
              "      <th>0</th>\n",
              "      <td>E011</td>\n",
              "      <td>Anda</td>\n",
              "      <td>female</td>\n",
              "      <td>developer</td>\n",
              "      <td>39</td>\n",
              "      <td>64200.0</td>\n",
              "      <td>4</td>\n",
              "      <td>Bangkok</td>\n",
              "    </tr>\n",
              "    <tr>\n",
              "      <th>1</th>\n",
              "      <td>E012</td>\n",
              "      <td>Bordin</td>\n",
              "      <td>male</td>\n",
              "      <td>developer</td>\n",
              "      <td>25</td>\n",
              "      <td>48700.0</td>\n",
              "      <td>2</td>\n",
              "      <td>Phuket</td>\n",
              "    </tr>\n",
              "    <tr>\n",
              "      <th>2</th>\n",
              "      <td>E013</td>\n",
              "      <td>Chantana</td>\n",
              "      <td>female</td>\n",
              "      <td>developer</td>\n",
              "      <td>29</td>\n",
              "      <td>45500.0</td>\n",
              "      <td>3</td>\n",
              "      <td>Chonburi</td>\n",
              "    </tr>\n",
              "    <tr>\n",
              "      <th>3</th>\n",
              "      <td>E014</td>\n",
              "      <td>Donlaya</td>\n",
              "      <td>female</td>\n",
              "      <td>marketing</td>\n",
              "      <td>39</td>\n",
              "      <td>72600.0</td>\n",
              "      <td>8</td>\n",
              "      <td>Chonburi</td>\n",
              "    </tr>\n",
              "    <tr>\n",
              "      <th>4</th>\n",
              "      <td>E015</td>\n",
              "      <td>Ekkasit</td>\n",
              "      <td>male</td>\n",
              "      <td>marketing</td>\n",
              "      <td>37</td>\n",
              "      <td>80500.0</td>\n",
              "      <td>7</td>\n",
              "      <td>Suphanburi</td>\n",
              "    </tr>\n",
              "    <tr>\n",
              "      <th>5</th>\n",
              "      <td>E016</td>\n",
              "      <td>Fundee</td>\n",
              "      <td>female</td>\n",
              "      <td>support</td>\n",
              "      <td>35</td>\n",
              "      <td>56600.0</td>\n",
              "      <td>3</td>\n",
              "      <td>Phuket</td>\n",
              "    </tr>\n",
              "    <tr>\n",
              "      <th>6</th>\n",
              "      <td>E017</td>\n",
              "      <td>Gitiwit</td>\n",
              "      <td>male</td>\n",
              "      <td>support</td>\n",
              "      <td>26</td>\n",
              "      <td>42400.0</td>\n",
              "      <td>2</td>\n",
              "      <td>Suphanburi</td>\n",
              "    </tr>\n",
              "    <tr>\n",
              "      <th>7</th>\n",
              "      <td>E018</td>\n",
              "      <td>Harit</td>\n",
              "      <td>male</td>\n",
              "      <td>devops</td>\n",
              "      <td>32</td>\n",
              "      <td>67700.0</td>\n",
              "      <td>5</td>\n",
              "      <td>Bangkok</td>\n",
              "    </tr>\n",
              "  </tbody>\n",
              "</table>\n",
              "</div>"
            ],
            "text/plain": [
              "    eid      name  gender department  age   salary  working_years birth_place\n",
              "0  E011      Anda  female  developer   39  64200.0              4     Bangkok\n",
              "1  E012    Bordin    male  developer   25  48700.0              2      Phuket\n",
              "2  E013  Chantana  female  developer   29  45500.0              3    Chonburi\n",
              "3  E014   Donlaya  female  marketing   39  72600.0              8    Chonburi\n",
              "4  E015   Ekkasit    male  marketing   37  80500.0              7  Suphanburi\n",
              "5  E016    Fundee  female    support   35  56600.0              3      Phuket\n",
              "6  E017   Gitiwit    male    support   26  42400.0              2  Suphanburi\n",
              "7  E018     Harit    male     devops   32  67700.0              5     Bangkok"
            ]
          },
          "execution_count": 87,
          "metadata": {},
          "output_type": "execute_result"
        }
      ],
      "source": [
        "df"
      ]
    },
    {
      "cell_type": "code",
      "execution_count": 88,
      "metadata": {
        "colab": {
          "base_uri": "https://localhost:8080/",
          "height": 0
        },
        "id": "gqhjwZ1KQ3vU",
        "outputId": "67bb542a-1b12-4ed0-c676-df0c8fba1372"
      },
      "outputs": [
        {
          "data": {
            "text/html": [
              "<div>\n",
              "<style scoped>\n",
              "    .dataframe tbody tr th:only-of-type {\n",
              "        vertical-align: middle;\n",
              "    }\n",
              "\n",
              "    .dataframe tbody tr th {\n",
              "        vertical-align: top;\n",
              "    }\n",
              "\n",
              "    .dataframe thead th {\n",
              "        text-align: right;\n",
              "    }\n",
              "</style>\n",
              "<table border=\"1\" class=\"dataframe\">\n",
              "  <thead>\n",
              "    <tr style=\"text-align: right;\">\n",
              "      <th></th>\n",
              "      <th>working_years</th>\n",
              "    </tr>\n",
              "  </thead>\n",
              "  <tbody>\n",
              "    <tr>\n",
              "      <th>0</th>\n",
              "      <td>4</td>\n",
              "    </tr>\n",
              "    <tr>\n",
              "      <th>1</th>\n",
              "      <td>2</td>\n",
              "    </tr>\n",
              "    <tr>\n",
              "      <th>2</th>\n",
              "      <td>3</td>\n",
              "    </tr>\n",
              "    <tr>\n",
              "      <th>3</th>\n",
              "      <td>8</td>\n",
              "    </tr>\n",
              "    <tr>\n",
              "      <th>4</th>\n",
              "      <td>7</td>\n",
              "    </tr>\n",
              "    <tr>\n",
              "      <th>5</th>\n",
              "      <td>3</td>\n",
              "    </tr>\n",
              "    <tr>\n",
              "      <th>6</th>\n",
              "      <td>2</td>\n",
              "    </tr>\n",
              "    <tr>\n",
              "      <th>7</th>\n",
              "      <td>5</td>\n",
              "    </tr>\n",
              "  </tbody>\n",
              "</table>\n",
              "</div>"
            ],
            "text/plain": [
              "   working_years\n",
              "0              4\n",
              "1              2\n",
              "2              3\n",
              "3              8\n",
              "4              7\n",
              "5              3\n",
              "6              2\n",
              "7              5"
            ]
          },
          "execution_count": 88,
          "metadata": {},
          "output_type": "execute_result"
        }
      ],
      "source": [
        "df[[\"working_years\"]]"
      ]
    },
    {
      "cell_type": "code",
      "execution_count": 89,
      "metadata": {
        "colab": {
          "base_uri": "https://localhost:8080/",
          "height": 0
        },
        "id": "Nf3AKHWvQ_SV",
        "outputId": "29854ad6-aa3c-48eb-cdfe-55b330bdbd10"
      },
      "outputs": [
        {
          "data": {
            "text/plain": [
              "0     True\n",
              "1    False\n",
              "2    False\n",
              "3     True\n",
              "4     True\n",
              "5    False\n",
              "6    False\n",
              "7     True\n",
              "Name: working_years, dtype: bool"
            ]
          },
          "execution_count": 89,
          "metadata": {},
          "output_type": "execute_result"
        }
      ],
      "source": [
        "df[\"working_years\"]>3"
      ]
    },
    {
      "cell_type": "code",
      "execution_count": 90,
      "metadata": {
        "colab": {
          "base_uri": "https://localhost:8080/",
          "height": 0
        },
        "id": "NPuXkb9VRD8u",
        "outputId": "78ff12ae-c30a-4606-b356-b58bb7185f3f"
      },
      "outputs": [
        {
          "data": {
            "text/html": [
              "<div>\n",
              "<style scoped>\n",
              "    .dataframe tbody tr th:only-of-type {\n",
              "        vertical-align: middle;\n",
              "    }\n",
              "\n",
              "    .dataframe tbody tr th {\n",
              "        vertical-align: top;\n",
              "    }\n",
              "\n",
              "    .dataframe thead th {\n",
              "        text-align: right;\n",
              "    }\n",
              "</style>\n",
              "<table border=\"1\" class=\"dataframe\">\n",
              "  <thead>\n",
              "    <tr style=\"text-align: right;\">\n",
              "      <th></th>\n",
              "      <th>eid</th>\n",
              "      <th>name</th>\n",
              "      <th>gender</th>\n",
              "      <th>department</th>\n",
              "      <th>age</th>\n",
              "      <th>salary</th>\n",
              "      <th>working_years</th>\n",
              "      <th>birth_place</th>\n",
              "    </tr>\n",
              "  </thead>\n",
              "  <tbody>\n",
              "    <tr>\n",
              "      <th>0</th>\n",
              "      <td>E011</td>\n",
              "      <td>Anda</td>\n",
              "      <td>female</td>\n",
              "      <td>developer</td>\n",
              "      <td>39</td>\n",
              "      <td>64200.0</td>\n",
              "      <td>4</td>\n",
              "      <td>Bangkok</td>\n",
              "    </tr>\n",
              "    <tr>\n",
              "      <th>3</th>\n",
              "      <td>E014</td>\n",
              "      <td>Donlaya</td>\n",
              "      <td>female</td>\n",
              "      <td>marketing</td>\n",
              "      <td>39</td>\n",
              "      <td>72600.0</td>\n",
              "      <td>8</td>\n",
              "      <td>Chonburi</td>\n",
              "    </tr>\n",
              "    <tr>\n",
              "      <th>4</th>\n",
              "      <td>E015</td>\n",
              "      <td>Ekkasit</td>\n",
              "      <td>male</td>\n",
              "      <td>marketing</td>\n",
              "      <td>37</td>\n",
              "      <td>80500.0</td>\n",
              "      <td>7</td>\n",
              "      <td>Suphanburi</td>\n",
              "    </tr>\n",
              "    <tr>\n",
              "      <th>7</th>\n",
              "      <td>E018</td>\n",
              "      <td>Harit</td>\n",
              "      <td>male</td>\n",
              "      <td>devops</td>\n",
              "      <td>32</td>\n",
              "      <td>67700.0</td>\n",
              "      <td>5</td>\n",
              "      <td>Bangkok</td>\n",
              "    </tr>\n",
              "  </tbody>\n",
              "</table>\n",
              "</div>"
            ],
            "text/plain": [
              "    eid     name  gender department  age   salary  working_years birth_place\n",
              "0  E011     Anda  female  developer   39  64200.0              4     Bangkok\n",
              "3  E014  Donlaya  female  marketing   39  72600.0              8    Chonburi\n",
              "4  E015  Ekkasit    male  marketing   37  80500.0              7  Suphanburi\n",
              "7  E018    Harit    male     devops   32  67700.0              5     Bangkok"
            ]
          },
          "execution_count": 90,
          "metadata": {},
          "output_type": "execute_result"
        }
      ],
      "source": [
        "df[df[\"working_years\"]>3]"
      ]
    },
    {
      "cell_type": "code",
      "execution_count": 91,
      "metadata": {
        "colab": {
          "base_uri": "https://localhost:8080/",
          "height": 0
        },
        "id": "6pDh5aJURN95",
        "outputId": "730013df-2339-42fa-8237-c74f6e464bc3"
      },
      "outputs": [
        {
          "data": {
            "text/html": [
              "<div>\n",
              "<style scoped>\n",
              "    .dataframe tbody tr th:only-of-type {\n",
              "        vertical-align: middle;\n",
              "    }\n",
              "\n",
              "    .dataframe tbody tr th {\n",
              "        vertical-align: top;\n",
              "    }\n",
              "\n",
              "    .dataframe thead th {\n",
              "        text-align: right;\n",
              "    }\n",
              "</style>\n",
              "<table border=\"1\" class=\"dataframe\">\n",
              "  <thead>\n",
              "    <tr style=\"text-align: right;\">\n",
              "      <th></th>\n",
              "      <th>name</th>\n",
              "      <th>working_years</th>\n",
              "      <th>salary</th>\n",
              "    </tr>\n",
              "  </thead>\n",
              "  <tbody>\n",
              "    <tr>\n",
              "      <th>0</th>\n",
              "      <td>Anda</td>\n",
              "      <td>4</td>\n",
              "      <td>64200.0</td>\n",
              "    </tr>\n",
              "    <tr>\n",
              "      <th>3</th>\n",
              "      <td>Donlaya</td>\n",
              "      <td>8</td>\n",
              "      <td>72600.0</td>\n",
              "    </tr>\n",
              "    <tr>\n",
              "      <th>4</th>\n",
              "      <td>Ekkasit</td>\n",
              "      <td>7</td>\n",
              "      <td>80500.0</td>\n",
              "    </tr>\n",
              "    <tr>\n",
              "      <th>7</th>\n",
              "      <td>Harit</td>\n",
              "      <td>5</td>\n",
              "      <td>67700.0</td>\n",
              "    </tr>\n",
              "  </tbody>\n",
              "</table>\n",
              "</div>"
            ],
            "text/plain": [
              "      name  working_years   salary\n",
              "0     Anda              4  64200.0\n",
              "3  Donlaya              8  72600.0\n",
              "4  Ekkasit              7  80500.0\n",
              "7    Harit              5  67700.0"
            ]
          },
          "execution_count": 91,
          "metadata": {},
          "output_type": "execute_result"
        }
      ],
      "source": [
        "df[df[\"working_years\"]>3][[\"name\",\"working_years\", \"salary\"]]"
      ]
    },
    {
      "cell_type": "code",
      "execution_count": 92,
      "metadata": {
        "colab": {
          "base_uri": "https://localhost:8080/",
          "height": 0
        },
        "id": "6LH93tR5Rczr",
        "outputId": "8ac5fd74-1fb5-4994-9329-5204853aeed9"
      },
      "outputs": [
        {
          "data": {
            "text/html": [
              "<div>\n",
              "<style scoped>\n",
              "    .dataframe tbody tr th:only-of-type {\n",
              "        vertical-align: middle;\n",
              "    }\n",
              "\n",
              "    .dataframe tbody tr th {\n",
              "        vertical-align: top;\n",
              "    }\n",
              "\n",
              "    .dataframe thead th {\n",
              "        text-align: right;\n",
              "    }\n",
              "</style>\n",
              "<table border=\"1\" class=\"dataframe\">\n",
              "  <thead>\n",
              "    <tr style=\"text-align: right;\">\n",
              "      <th></th>\n",
              "      <th>eid</th>\n",
              "      <th>name</th>\n",
              "      <th>gender</th>\n",
              "      <th>department</th>\n",
              "      <th>age</th>\n",
              "      <th>salary</th>\n",
              "      <th>working_years</th>\n",
              "      <th>birth_place</th>\n",
              "    </tr>\n",
              "  </thead>\n",
              "  <tbody>\n",
              "    <tr>\n",
              "      <th>3</th>\n",
              "      <td>E014</td>\n",
              "      <td>Donlaya</td>\n",
              "      <td>female</td>\n",
              "      <td>marketing</td>\n",
              "      <td>39</td>\n",
              "      <td>72600.0</td>\n",
              "      <td>8</td>\n",
              "      <td>Chonburi</td>\n",
              "    </tr>\n",
              "    <tr>\n",
              "      <th>4</th>\n",
              "      <td>E015</td>\n",
              "      <td>Ekkasit</td>\n",
              "      <td>male</td>\n",
              "      <td>marketing</td>\n",
              "      <td>37</td>\n",
              "      <td>80500.0</td>\n",
              "      <td>7</td>\n",
              "      <td>Suphanburi</td>\n",
              "    </tr>\n",
              "  </tbody>\n",
              "</table>\n",
              "</div>"
            ],
            "text/plain": [
              "    eid     name  gender department  age   salary  working_years birth_place\n",
              "3  E014  Donlaya  female  marketing   39  72600.0              8    Chonburi\n",
              "4  E015  Ekkasit    male  marketing   37  80500.0              7  Suphanburi"
            ]
          },
          "execution_count": 92,
          "metadata": {},
          "output_type": "execute_result"
        }
      ],
      "source": [
        "df[ (df[\"working_years\"]>3) & (df[\"salary\"]>70000) ]"
      ]
    },
    {
      "cell_type": "code",
      "execution_count": 93,
      "metadata": {
        "colab": {
          "base_uri": "https://localhost:8080/",
          "height": 0
        },
        "id": "87AcBuBGR0zQ",
        "outputId": "4363a66a-4137-44fa-cd24-1e4716458c9a"
      },
      "outputs": [
        {
          "data": {
            "text/html": [
              "<div>\n",
              "<style scoped>\n",
              "    .dataframe tbody tr th:only-of-type {\n",
              "        vertical-align: middle;\n",
              "    }\n",
              "\n",
              "    .dataframe tbody tr th {\n",
              "        vertical-align: top;\n",
              "    }\n",
              "\n",
              "    .dataframe thead th {\n",
              "        text-align: right;\n",
              "    }\n",
              "</style>\n",
              "<table border=\"1\" class=\"dataframe\">\n",
              "  <thead>\n",
              "    <tr style=\"text-align: right;\">\n",
              "      <th></th>\n",
              "      <th>eid</th>\n",
              "      <th>name</th>\n",
              "      <th>gender</th>\n",
              "      <th>department</th>\n",
              "      <th>age</th>\n",
              "      <th>salary</th>\n",
              "      <th>working_years</th>\n",
              "      <th>birth_place</th>\n",
              "    </tr>\n",
              "  </thead>\n",
              "  <tbody>\n",
              "    <tr>\n",
              "      <th>0</th>\n",
              "      <td>E011</td>\n",
              "      <td>Anda</td>\n",
              "      <td>female</td>\n",
              "      <td>developer</td>\n",
              "      <td>39</td>\n",
              "      <td>64200.0</td>\n",
              "      <td>4</td>\n",
              "      <td>Bangkok</td>\n",
              "    </tr>\n",
              "    <tr>\n",
              "      <th>3</th>\n",
              "      <td>E014</td>\n",
              "      <td>Donlaya</td>\n",
              "      <td>female</td>\n",
              "      <td>marketing</td>\n",
              "      <td>39</td>\n",
              "      <td>72600.0</td>\n",
              "      <td>8</td>\n",
              "      <td>Chonburi</td>\n",
              "    </tr>\n",
              "    <tr>\n",
              "      <th>4</th>\n",
              "      <td>E015</td>\n",
              "      <td>Ekkasit</td>\n",
              "      <td>male</td>\n",
              "      <td>marketing</td>\n",
              "      <td>37</td>\n",
              "      <td>80500.0</td>\n",
              "      <td>7</td>\n",
              "      <td>Suphanburi</td>\n",
              "    </tr>\n",
              "    <tr>\n",
              "      <th>7</th>\n",
              "      <td>E018</td>\n",
              "      <td>Harit</td>\n",
              "      <td>male</td>\n",
              "      <td>devops</td>\n",
              "      <td>32</td>\n",
              "      <td>67700.0</td>\n",
              "      <td>5</td>\n",
              "      <td>Bangkok</td>\n",
              "    </tr>\n",
              "  </tbody>\n",
              "</table>\n",
              "</div>"
            ],
            "text/plain": [
              "    eid     name  gender department  age   salary  working_years birth_place\n",
              "0  E011     Anda  female  developer   39  64200.0              4     Bangkok\n",
              "3  E014  Donlaya  female  marketing   39  72600.0              8    Chonburi\n",
              "4  E015  Ekkasit    male  marketing   37  80500.0              7  Suphanburi\n",
              "7  E018    Harit    male     devops   32  67700.0              5     Bangkok"
            ]
          },
          "execution_count": 93,
          "metadata": {},
          "output_type": "execute_result"
        }
      ],
      "source": [
        "df[ (df[\"working_years\"]>3) | (df[\"salary\"]>70000) ]"
      ]
    },
    {
      "cell_type": "code",
      "execution_count": 94,
      "metadata": {
        "colab": {
          "base_uri": "https://localhost:8080/",
          "height": 0
        },
        "id": "C2zZkLb2Kix4",
        "outputId": "6ff82ea2-9995-4332-9064-0c9454dce867"
      },
      "outputs": [
        {
          "data": {
            "text/html": [
              "<div>\n",
              "<style scoped>\n",
              "    .dataframe tbody tr th:only-of-type {\n",
              "        vertical-align: middle;\n",
              "    }\n",
              "\n",
              "    .dataframe tbody tr th {\n",
              "        vertical-align: top;\n",
              "    }\n",
              "\n",
              "    .dataframe thead th {\n",
              "        text-align: right;\n",
              "    }\n",
              "</style>\n",
              "<table border=\"1\" class=\"dataframe\">\n",
              "  <thead>\n",
              "    <tr style=\"text-align: right;\">\n",
              "      <th></th>\n",
              "      <th>eid</th>\n",
              "      <th>name</th>\n",
              "      <th>gender</th>\n",
              "      <th>department</th>\n",
              "      <th>age</th>\n",
              "      <th>salary</th>\n",
              "      <th>working_years</th>\n",
              "      <th>birth_place</th>\n",
              "    </tr>\n",
              "  </thead>\n",
              "  <tbody>\n",
              "    <tr>\n",
              "      <th>7</th>\n",
              "      <td>E018</td>\n",
              "      <td>Harit</td>\n",
              "      <td>male</td>\n",
              "      <td>devops</td>\n",
              "      <td>32</td>\n",
              "      <td>67700.0</td>\n",
              "      <td>5</td>\n",
              "      <td>Bangkok</td>\n",
              "    </tr>\n",
              "  </tbody>\n",
              "</table>\n",
              "</div>"
            ],
            "text/plain": [
              "    eid   name gender department  age   salary  working_years birth_place\n",
              "7  E018  Harit   male     devops   32  67700.0              5     Bangkok"
            ]
          },
          "execution_count": 94,
          "metadata": {},
          "output_type": "execute_result"
        }
      ],
      "source": [
        "df[ (df[\"working_years\"]>3) | (df[\"salary\"]>70000) ].iloc[[3]]"
      ]
    },
    {
      "cell_type": "code",
      "execution_count": 95,
      "metadata": {
        "colab": {
          "base_uri": "https://localhost:8080/",
          "height": 0
        },
        "id": "frz44DBUKtPb",
        "outputId": "54905572-fc7f-4aa4-8220-d4816501faf2"
      },
      "outputs": [
        {
          "data": {
            "text/html": [
              "<div>\n",
              "<style scoped>\n",
              "    .dataframe tbody tr th:only-of-type {\n",
              "        vertical-align: middle;\n",
              "    }\n",
              "\n",
              "    .dataframe tbody tr th {\n",
              "        vertical-align: top;\n",
              "    }\n",
              "\n",
              "    .dataframe thead th {\n",
              "        text-align: right;\n",
              "    }\n",
              "</style>\n",
              "<table border=\"1\" class=\"dataframe\">\n",
              "  <thead>\n",
              "    <tr style=\"text-align: right;\">\n",
              "      <th></th>\n",
              "      <th>eid</th>\n",
              "      <th>name</th>\n",
              "      <th>gender</th>\n",
              "      <th>department</th>\n",
              "      <th>age</th>\n",
              "      <th>salary</th>\n",
              "      <th>working_years</th>\n",
              "      <th>birth_place</th>\n",
              "    </tr>\n",
              "  </thead>\n",
              "  <tbody>\n",
              "    <tr>\n",
              "      <th>3</th>\n",
              "      <td>E014</td>\n",
              "      <td>Donlaya</td>\n",
              "      <td>female</td>\n",
              "      <td>marketing</td>\n",
              "      <td>39</td>\n",
              "      <td>72600.0</td>\n",
              "      <td>8</td>\n",
              "      <td>Chonburi</td>\n",
              "    </tr>\n",
              "  </tbody>\n",
              "</table>\n",
              "</div>"
            ],
            "text/plain": [
              "    eid     name  gender department  age   salary  working_years birth_place\n",
              "3  E014  Donlaya  female  marketing   39  72600.0              8    Chonburi"
            ]
          },
          "execution_count": 95,
          "metadata": {},
          "output_type": "execute_result"
        }
      ],
      "source": [
        "df[ (df[\"working_years\"]>3) | (df[\"salary\"]>70000) ].loc[[3]]"
      ]
    },
    {
      "cell_type": "markdown",
      "metadata": {
        "id": "S9C4rJJiUCnX"
      },
      "source": [
        "## Column Operation"
      ]
    },
    {
      "cell_type": "code",
      "execution_count": 96,
      "metadata": {
        "colab": {
          "base_uri": "https://localhost:8080/",
          "height": 0
        },
        "id": "EHS378JEVUih",
        "outputId": "a99ae974-877d-421c-fd11-7d66ee985389"
      },
      "outputs": [
        {
          "data": {
            "text/plain": [
              "0    64200.0\n",
              "1    48700.0\n",
              "2    45500.0\n",
              "3    72600.0\n",
              "4    80500.0\n",
              "5    56600.0\n",
              "6    42400.0\n",
              "7    67700.0\n",
              "Name: salary, dtype: float64"
            ]
          },
          "execution_count": 96,
          "metadata": {},
          "output_type": "execute_result"
        }
      ],
      "source": [
        "df[\"salary\"]"
      ]
    },
    {
      "cell_type": "code",
      "execution_count": 97,
      "metadata": {
        "colab": {
          "base_uri": "https://localhost:8080/",
          "height": 0
        },
        "id": "bh0VEnXSVWmk",
        "outputId": "2144889d-7c68-44a4-d142-f06acd62de2f"
      },
      "outputs": [
        {
          "data": {
            "text/plain": [
              "0    770400.0\n",
              "1    584400.0\n",
              "2    546000.0\n",
              "3    871200.0\n",
              "4    966000.0\n",
              "5    679200.0\n",
              "6    508800.0\n",
              "7    812400.0\n",
              "Name: salary, dtype: float64"
            ]
          },
          "execution_count": 97,
          "metadata": {},
          "output_type": "execute_result"
        }
      ],
      "source": [
        "df[\"salary\"]*12"
      ]
    },
    {
      "cell_type": "code",
      "execution_count": 98,
      "metadata": {
        "colab": {
          "base_uri": "https://localhost:8080/",
          "height": 0
        },
        "id": "1vw3Ga6qVZaW",
        "outputId": "b7b7b8e9-2bba-4a37-feab-16204a06c9a9"
      },
      "outputs": [
        {
          "data": {
            "text/plain": [
              "0    256800.0\n",
              "1     97400.0\n",
              "2    136500.0\n",
              "3    580800.0\n",
              "4    563500.0\n",
              "5    169800.0\n",
              "6     84800.0\n",
              "7    338500.0\n",
              "dtype: float64"
            ]
          },
          "execution_count": 98,
          "metadata": {},
          "output_type": "execute_result"
        }
      ],
      "source": [
        "df[\"salary\"]*df[\"working_years\"]"
      ]
    },
    {
      "cell_type": "markdown",
      "metadata": {
        "id": "LCTt_3kHVvIR"
      },
      "source": [
        "## New Column"
      ]
    },
    {
      "cell_type": "code",
      "execution_count": 99,
      "metadata": {
        "colab": {
          "base_uri": "https://localhost:8080/",
          "height": 0
        },
        "id": "F6nJp-XZLYPe",
        "outputId": "5d0ae28f-3199-4d96-b5d7-63ad7a9817a4"
      },
      "outputs": [
        {
          "data": {
            "text/html": [
              "<div>\n",
              "<style scoped>\n",
              "    .dataframe tbody tr th:only-of-type {\n",
              "        vertical-align: middle;\n",
              "    }\n",
              "\n",
              "    .dataframe tbody tr th {\n",
              "        vertical-align: top;\n",
              "    }\n",
              "\n",
              "    .dataframe thead th {\n",
              "        text-align: right;\n",
              "    }\n",
              "</style>\n",
              "<table border=\"1\" class=\"dataframe\">\n",
              "  <thead>\n",
              "    <tr style=\"text-align: right;\">\n",
              "      <th></th>\n",
              "      <th>eid</th>\n",
              "      <th>name</th>\n",
              "      <th>gender</th>\n",
              "      <th>department</th>\n",
              "      <th>age</th>\n",
              "      <th>salary</th>\n",
              "      <th>working_years</th>\n",
              "      <th>birth_place</th>\n",
              "    </tr>\n",
              "  </thead>\n",
              "  <tbody>\n",
              "    <tr>\n",
              "      <th>0</th>\n",
              "      <td>E011</td>\n",
              "      <td>Anda</td>\n",
              "      <td>female</td>\n",
              "      <td>developer</td>\n",
              "      <td>39</td>\n",
              "      <td>64200.0</td>\n",
              "      <td>4</td>\n",
              "      <td>Bangkok</td>\n",
              "    </tr>\n",
              "    <tr>\n",
              "      <th>1</th>\n",
              "      <td>E012</td>\n",
              "      <td>Bordin</td>\n",
              "      <td>male</td>\n",
              "      <td>developer</td>\n",
              "      <td>25</td>\n",
              "      <td>48700.0</td>\n",
              "      <td>2</td>\n",
              "      <td>Phuket</td>\n",
              "    </tr>\n",
              "    <tr>\n",
              "      <th>2</th>\n",
              "      <td>E013</td>\n",
              "      <td>Chantana</td>\n",
              "      <td>female</td>\n",
              "      <td>developer</td>\n",
              "      <td>29</td>\n",
              "      <td>45500.0</td>\n",
              "      <td>3</td>\n",
              "      <td>Chonburi</td>\n",
              "    </tr>\n",
              "    <tr>\n",
              "      <th>3</th>\n",
              "      <td>E014</td>\n",
              "      <td>Donlaya</td>\n",
              "      <td>female</td>\n",
              "      <td>marketing</td>\n",
              "      <td>39</td>\n",
              "      <td>72600.0</td>\n",
              "      <td>8</td>\n",
              "      <td>Chonburi</td>\n",
              "    </tr>\n",
              "    <tr>\n",
              "      <th>4</th>\n",
              "      <td>E015</td>\n",
              "      <td>Ekkasit</td>\n",
              "      <td>male</td>\n",
              "      <td>marketing</td>\n",
              "      <td>37</td>\n",
              "      <td>80500.0</td>\n",
              "      <td>7</td>\n",
              "      <td>Suphanburi</td>\n",
              "    </tr>\n",
              "    <tr>\n",
              "      <th>5</th>\n",
              "      <td>E016</td>\n",
              "      <td>Fundee</td>\n",
              "      <td>female</td>\n",
              "      <td>support</td>\n",
              "      <td>35</td>\n",
              "      <td>56600.0</td>\n",
              "      <td>3</td>\n",
              "      <td>Phuket</td>\n",
              "    </tr>\n",
              "    <tr>\n",
              "      <th>6</th>\n",
              "      <td>E017</td>\n",
              "      <td>Gitiwit</td>\n",
              "      <td>male</td>\n",
              "      <td>support</td>\n",
              "      <td>26</td>\n",
              "      <td>42400.0</td>\n",
              "      <td>2</td>\n",
              "      <td>Suphanburi</td>\n",
              "    </tr>\n",
              "    <tr>\n",
              "      <th>7</th>\n",
              "      <td>E018</td>\n",
              "      <td>Harit</td>\n",
              "      <td>male</td>\n",
              "      <td>devops</td>\n",
              "      <td>32</td>\n",
              "      <td>67700.0</td>\n",
              "      <td>5</td>\n",
              "      <td>Bangkok</td>\n",
              "    </tr>\n",
              "  </tbody>\n",
              "</table>\n",
              "</div>"
            ],
            "text/plain": [
              "    eid      name  gender department  age   salary  working_years birth_place\n",
              "0  E011      Anda  female  developer   39  64200.0              4     Bangkok\n",
              "1  E012    Bordin    male  developer   25  48700.0              2      Phuket\n",
              "2  E013  Chantana  female  developer   29  45500.0              3    Chonburi\n",
              "3  E014   Donlaya  female  marketing   39  72600.0              8    Chonburi\n",
              "4  E015   Ekkasit    male  marketing   37  80500.0              7  Suphanburi\n",
              "5  E016    Fundee  female    support   35  56600.0              3      Phuket\n",
              "6  E017   Gitiwit    male    support   26  42400.0              2  Suphanburi\n",
              "7  E018     Harit    male     devops   32  67700.0              5     Bangkok"
            ]
          },
          "execution_count": 99,
          "metadata": {},
          "output_type": "execute_result"
        }
      ],
      "source": [
        "df"
      ]
    },
    {
      "cell_type": "code",
      "execution_count": 100,
      "metadata": {
        "id": "I0RkwIeGUOre"
      },
      "outputs": [],
      "source": [
        "df[\"country\"] = \"Thailand\""
      ]
    },
    {
      "cell_type": "code",
      "execution_count": 101,
      "metadata": {
        "colab": {
          "base_uri": "https://localhost:8080/",
          "height": 0
        },
        "id": "nmNvxbJXUTvs",
        "outputId": "f00836a1-94c5-4a92-bd6a-b23ff09d0cc1"
      },
      "outputs": [
        {
          "data": {
            "text/html": [
              "<div>\n",
              "<style scoped>\n",
              "    .dataframe tbody tr th:only-of-type {\n",
              "        vertical-align: middle;\n",
              "    }\n",
              "\n",
              "    .dataframe tbody tr th {\n",
              "        vertical-align: top;\n",
              "    }\n",
              "\n",
              "    .dataframe thead th {\n",
              "        text-align: right;\n",
              "    }\n",
              "</style>\n",
              "<table border=\"1\" class=\"dataframe\">\n",
              "  <thead>\n",
              "    <tr style=\"text-align: right;\">\n",
              "      <th></th>\n",
              "      <th>eid</th>\n",
              "      <th>name</th>\n",
              "      <th>gender</th>\n",
              "      <th>department</th>\n",
              "      <th>age</th>\n",
              "      <th>salary</th>\n",
              "      <th>working_years</th>\n",
              "      <th>birth_place</th>\n",
              "      <th>country</th>\n",
              "    </tr>\n",
              "  </thead>\n",
              "  <tbody>\n",
              "    <tr>\n",
              "      <th>0</th>\n",
              "      <td>E011</td>\n",
              "      <td>Anda</td>\n",
              "      <td>female</td>\n",
              "      <td>developer</td>\n",
              "      <td>39</td>\n",
              "      <td>64200.0</td>\n",
              "      <td>4</td>\n",
              "      <td>Bangkok</td>\n",
              "      <td>Thailand</td>\n",
              "    </tr>\n",
              "    <tr>\n",
              "      <th>1</th>\n",
              "      <td>E012</td>\n",
              "      <td>Bordin</td>\n",
              "      <td>male</td>\n",
              "      <td>developer</td>\n",
              "      <td>25</td>\n",
              "      <td>48700.0</td>\n",
              "      <td>2</td>\n",
              "      <td>Phuket</td>\n",
              "      <td>Thailand</td>\n",
              "    </tr>\n",
              "    <tr>\n",
              "      <th>2</th>\n",
              "      <td>E013</td>\n",
              "      <td>Chantana</td>\n",
              "      <td>female</td>\n",
              "      <td>developer</td>\n",
              "      <td>29</td>\n",
              "      <td>45500.0</td>\n",
              "      <td>3</td>\n",
              "      <td>Chonburi</td>\n",
              "      <td>Thailand</td>\n",
              "    </tr>\n",
              "    <tr>\n",
              "      <th>3</th>\n",
              "      <td>E014</td>\n",
              "      <td>Donlaya</td>\n",
              "      <td>female</td>\n",
              "      <td>marketing</td>\n",
              "      <td>39</td>\n",
              "      <td>72600.0</td>\n",
              "      <td>8</td>\n",
              "      <td>Chonburi</td>\n",
              "      <td>Thailand</td>\n",
              "    </tr>\n",
              "    <tr>\n",
              "      <th>4</th>\n",
              "      <td>E015</td>\n",
              "      <td>Ekkasit</td>\n",
              "      <td>male</td>\n",
              "      <td>marketing</td>\n",
              "      <td>37</td>\n",
              "      <td>80500.0</td>\n",
              "      <td>7</td>\n",
              "      <td>Suphanburi</td>\n",
              "      <td>Thailand</td>\n",
              "    </tr>\n",
              "    <tr>\n",
              "      <th>5</th>\n",
              "      <td>E016</td>\n",
              "      <td>Fundee</td>\n",
              "      <td>female</td>\n",
              "      <td>support</td>\n",
              "      <td>35</td>\n",
              "      <td>56600.0</td>\n",
              "      <td>3</td>\n",
              "      <td>Phuket</td>\n",
              "      <td>Thailand</td>\n",
              "    </tr>\n",
              "    <tr>\n",
              "      <th>6</th>\n",
              "      <td>E017</td>\n",
              "      <td>Gitiwit</td>\n",
              "      <td>male</td>\n",
              "      <td>support</td>\n",
              "      <td>26</td>\n",
              "      <td>42400.0</td>\n",
              "      <td>2</td>\n",
              "      <td>Suphanburi</td>\n",
              "      <td>Thailand</td>\n",
              "    </tr>\n",
              "    <tr>\n",
              "      <th>7</th>\n",
              "      <td>E018</td>\n",
              "      <td>Harit</td>\n",
              "      <td>male</td>\n",
              "      <td>devops</td>\n",
              "      <td>32</td>\n",
              "      <td>67700.0</td>\n",
              "      <td>5</td>\n",
              "      <td>Bangkok</td>\n",
              "      <td>Thailand</td>\n",
              "    </tr>\n",
              "  </tbody>\n",
              "</table>\n",
              "</div>"
            ],
            "text/plain": [
              "    eid      name  gender department  age   salary  working_years birth_place  \\\n",
              "0  E011      Anda  female  developer   39  64200.0              4     Bangkok   \n",
              "1  E012    Bordin    male  developer   25  48700.0              2      Phuket   \n",
              "2  E013  Chantana  female  developer   29  45500.0              3    Chonburi   \n",
              "3  E014   Donlaya  female  marketing   39  72600.0              8    Chonburi   \n",
              "4  E015   Ekkasit    male  marketing   37  80500.0              7  Suphanburi   \n",
              "5  E016    Fundee  female    support   35  56600.0              3      Phuket   \n",
              "6  E017   Gitiwit    male    support   26  42400.0              2  Suphanburi   \n",
              "7  E018     Harit    male     devops   32  67700.0              5     Bangkok   \n",
              "\n",
              "    country  \n",
              "0  Thailand  \n",
              "1  Thailand  \n",
              "2  Thailand  \n",
              "3  Thailand  \n",
              "4  Thailand  \n",
              "5  Thailand  \n",
              "6  Thailand  \n",
              "7  Thailand  "
            ]
          },
          "execution_count": 101,
          "metadata": {},
          "output_type": "execute_result"
        }
      ],
      "source": [
        "df"
      ]
    },
    {
      "cell_type": "code",
      "execution_count": 102,
      "metadata": {
        "id": "l7u3E6iCV-Kg"
      },
      "outputs": [],
      "source": [
        "df[\"bonus\"] = df[\"salary\"]*df[\"working_years\"]"
      ]
    },
    {
      "cell_type": "code",
      "execution_count": 103,
      "metadata": {
        "colab": {
          "base_uri": "https://localhost:8080/",
          "height": 0
        },
        "id": "Wfe47RW3WCIP",
        "outputId": "ca423cc0-39c2-49ec-d28a-9c8a0d839187"
      },
      "outputs": [
        {
          "data": {
            "text/html": [
              "<div>\n",
              "<style scoped>\n",
              "    .dataframe tbody tr th:only-of-type {\n",
              "        vertical-align: middle;\n",
              "    }\n",
              "\n",
              "    .dataframe tbody tr th {\n",
              "        vertical-align: top;\n",
              "    }\n",
              "\n",
              "    .dataframe thead th {\n",
              "        text-align: right;\n",
              "    }\n",
              "</style>\n",
              "<table border=\"1\" class=\"dataframe\">\n",
              "  <thead>\n",
              "    <tr style=\"text-align: right;\">\n",
              "      <th></th>\n",
              "      <th>eid</th>\n",
              "      <th>name</th>\n",
              "      <th>gender</th>\n",
              "      <th>department</th>\n",
              "      <th>age</th>\n",
              "      <th>salary</th>\n",
              "      <th>working_years</th>\n",
              "      <th>birth_place</th>\n",
              "      <th>country</th>\n",
              "      <th>bonus</th>\n",
              "    </tr>\n",
              "  </thead>\n",
              "  <tbody>\n",
              "    <tr>\n",
              "      <th>0</th>\n",
              "      <td>E011</td>\n",
              "      <td>Anda</td>\n",
              "      <td>female</td>\n",
              "      <td>developer</td>\n",
              "      <td>39</td>\n",
              "      <td>64200.0</td>\n",
              "      <td>4</td>\n",
              "      <td>Bangkok</td>\n",
              "      <td>Thailand</td>\n",
              "      <td>256800.0</td>\n",
              "    </tr>\n",
              "    <tr>\n",
              "      <th>1</th>\n",
              "      <td>E012</td>\n",
              "      <td>Bordin</td>\n",
              "      <td>male</td>\n",
              "      <td>developer</td>\n",
              "      <td>25</td>\n",
              "      <td>48700.0</td>\n",
              "      <td>2</td>\n",
              "      <td>Phuket</td>\n",
              "      <td>Thailand</td>\n",
              "      <td>97400.0</td>\n",
              "    </tr>\n",
              "    <tr>\n",
              "      <th>2</th>\n",
              "      <td>E013</td>\n",
              "      <td>Chantana</td>\n",
              "      <td>female</td>\n",
              "      <td>developer</td>\n",
              "      <td>29</td>\n",
              "      <td>45500.0</td>\n",
              "      <td>3</td>\n",
              "      <td>Chonburi</td>\n",
              "      <td>Thailand</td>\n",
              "      <td>136500.0</td>\n",
              "    </tr>\n",
              "    <tr>\n",
              "      <th>3</th>\n",
              "      <td>E014</td>\n",
              "      <td>Donlaya</td>\n",
              "      <td>female</td>\n",
              "      <td>marketing</td>\n",
              "      <td>39</td>\n",
              "      <td>72600.0</td>\n",
              "      <td>8</td>\n",
              "      <td>Chonburi</td>\n",
              "      <td>Thailand</td>\n",
              "      <td>580800.0</td>\n",
              "    </tr>\n",
              "    <tr>\n",
              "      <th>4</th>\n",
              "      <td>E015</td>\n",
              "      <td>Ekkasit</td>\n",
              "      <td>male</td>\n",
              "      <td>marketing</td>\n",
              "      <td>37</td>\n",
              "      <td>80500.0</td>\n",
              "      <td>7</td>\n",
              "      <td>Suphanburi</td>\n",
              "      <td>Thailand</td>\n",
              "      <td>563500.0</td>\n",
              "    </tr>\n",
              "    <tr>\n",
              "      <th>5</th>\n",
              "      <td>E016</td>\n",
              "      <td>Fundee</td>\n",
              "      <td>female</td>\n",
              "      <td>support</td>\n",
              "      <td>35</td>\n",
              "      <td>56600.0</td>\n",
              "      <td>3</td>\n",
              "      <td>Phuket</td>\n",
              "      <td>Thailand</td>\n",
              "      <td>169800.0</td>\n",
              "    </tr>\n",
              "    <tr>\n",
              "      <th>6</th>\n",
              "      <td>E017</td>\n",
              "      <td>Gitiwit</td>\n",
              "      <td>male</td>\n",
              "      <td>support</td>\n",
              "      <td>26</td>\n",
              "      <td>42400.0</td>\n",
              "      <td>2</td>\n",
              "      <td>Suphanburi</td>\n",
              "      <td>Thailand</td>\n",
              "      <td>84800.0</td>\n",
              "    </tr>\n",
              "    <tr>\n",
              "      <th>7</th>\n",
              "      <td>E018</td>\n",
              "      <td>Harit</td>\n",
              "      <td>male</td>\n",
              "      <td>devops</td>\n",
              "      <td>32</td>\n",
              "      <td>67700.0</td>\n",
              "      <td>5</td>\n",
              "      <td>Bangkok</td>\n",
              "      <td>Thailand</td>\n",
              "      <td>338500.0</td>\n",
              "    </tr>\n",
              "  </tbody>\n",
              "</table>\n",
              "</div>"
            ],
            "text/plain": [
              "    eid      name  gender department  age   salary  working_years birth_place  \\\n",
              "0  E011      Anda  female  developer   39  64200.0              4     Bangkok   \n",
              "1  E012    Bordin    male  developer   25  48700.0              2      Phuket   \n",
              "2  E013  Chantana  female  developer   29  45500.0              3    Chonburi   \n",
              "3  E014   Donlaya  female  marketing   39  72600.0              8    Chonburi   \n",
              "4  E015   Ekkasit    male  marketing   37  80500.0              7  Suphanburi   \n",
              "5  E016    Fundee  female    support   35  56600.0              3      Phuket   \n",
              "6  E017   Gitiwit    male    support   26  42400.0              2  Suphanburi   \n",
              "7  E018     Harit    male     devops   32  67700.0              5     Bangkok   \n",
              "\n",
              "    country     bonus  \n",
              "0  Thailand  256800.0  \n",
              "1  Thailand   97400.0  \n",
              "2  Thailand  136500.0  \n",
              "3  Thailand  580800.0  \n",
              "4  Thailand  563500.0  \n",
              "5  Thailand  169800.0  \n",
              "6  Thailand   84800.0  \n",
              "7  Thailand  338500.0  "
            ]
          },
          "execution_count": 103,
          "metadata": {},
          "output_type": "execute_result"
        }
      ],
      "source": [
        "df"
      ]
    },
    {
      "cell_type": "markdown",
      "metadata": {
        "id": "XDha6_1lWXK7"
      },
      "source": [
        "## Drop Row"
      ]
    },
    {
      "cell_type": "code",
      "execution_count": 104,
      "metadata": {
        "colab": {
          "base_uri": "https://localhost:8080/",
          "height": 0
        },
        "id": "40TIs9ExWb6A",
        "outputId": "7da31f0f-775e-4c6b-914f-7ef3d106cfc9"
      },
      "outputs": [
        {
          "data": {
            "text/html": [
              "<div>\n",
              "<style scoped>\n",
              "    .dataframe tbody tr th:only-of-type {\n",
              "        vertical-align: middle;\n",
              "    }\n",
              "\n",
              "    .dataframe tbody tr th {\n",
              "        vertical-align: top;\n",
              "    }\n",
              "\n",
              "    .dataframe thead th {\n",
              "        text-align: right;\n",
              "    }\n",
              "</style>\n",
              "<table border=\"1\" class=\"dataframe\">\n",
              "  <thead>\n",
              "    <tr style=\"text-align: right;\">\n",
              "      <th></th>\n",
              "      <th>eid</th>\n",
              "      <th>name</th>\n",
              "      <th>gender</th>\n",
              "      <th>department</th>\n",
              "      <th>age</th>\n",
              "      <th>salary</th>\n",
              "      <th>working_years</th>\n",
              "      <th>birth_place</th>\n",
              "      <th>country</th>\n",
              "      <th>bonus</th>\n",
              "    </tr>\n",
              "  </thead>\n",
              "  <tbody>\n",
              "    <tr>\n",
              "      <th>0</th>\n",
              "      <td>E011</td>\n",
              "      <td>Anda</td>\n",
              "      <td>female</td>\n",
              "      <td>developer</td>\n",
              "      <td>39</td>\n",
              "      <td>64200.0</td>\n",
              "      <td>4</td>\n",
              "      <td>Bangkok</td>\n",
              "      <td>Thailand</td>\n",
              "      <td>256800.0</td>\n",
              "    </tr>\n",
              "    <tr>\n",
              "      <th>1</th>\n",
              "      <td>E012</td>\n",
              "      <td>Bordin</td>\n",
              "      <td>male</td>\n",
              "      <td>developer</td>\n",
              "      <td>25</td>\n",
              "      <td>48700.0</td>\n",
              "      <td>2</td>\n",
              "      <td>Phuket</td>\n",
              "      <td>Thailand</td>\n",
              "      <td>97400.0</td>\n",
              "    </tr>\n",
              "    <tr>\n",
              "      <th>2</th>\n",
              "      <td>E013</td>\n",
              "      <td>Chantana</td>\n",
              "      <td>female</td>\n",
              "      <td>developer</td>\n",
              "      <td>29</td>\n",
              "      <td>45500.0</td>\n",
              "      <td>3</td>\n",
              "      <td>Chonburi</td>\n",
              "      <td>Thailand</td>\n",
              "      <td>136500.0</td>\n",
              "    </tr>\n",
              "    <tr>\n",
              "      <th>3</th>\n",
              "      <td>E014</td>\n",
              "      <td>Donlaya</td>\n",
              "      <td>female</td>\n",
              "      <td>marketing</td>\n",
              "      <td>39</td>\n",
              "      <td>72600.0</td>\n",
              "      <td>8</td>\n",
              "      <td>Chonburi</td>\n",
              "      <td>Thailand</td>\n",
              "      <td>580800.0</td>\n",
              "    </tr>\n",
              "    <tr>\n",
              "      <th>4</th>\n",
              "      <td>E015</td>\n",
              "      <td>Ekkasit</td>\n",
              "      <td>male</td>\n",
              "      <td>marketing</td>\n",
              "      <td>37</td>\n",
              "      <td>80500.0</td>\n",
              "      <td>7</td>\n",
              "      <td>Suphanburi</td>\n",
              "      <td>Thailand</td>\n",
              "      <td>563500.0</td>\n",
              "    </tr>\n",
              "    <tr>\n",
              "      <th>5</th>\n",
              "      <td>E016</td>\n",
              "      <td>Fundee</td>\n",
              "      <td>female</td>\n",
              "      <td>support</td>\n",
              "      <td>35</td>\n",
              "      <td>56600.0</td>\n",
              "      <td>3</td>\n",
              "      <td>Phuket</td>\n",
              "      <td>Thailand</td>\n",
              "      <td>169800.0</td>\n",
              "    </tr>\n",
              "    <tr>\n",
              "      <th>6</th>\n",
              "      <td>E017</td>\n",
              "      <td>Gitiwit</td>\n",
              "      <td>male</td>\n",
              "      <td>support</td>\n",
              "      <td>26</td>\n",
              "      <td>42400.0</td>\n",
              "      <td>2</td>\n",
              "      <td>Suphanburi</td>\n",
              "      <td>Thailand</td>\n",
              "      <td>84800.0</td>\n",
              "    </tr>\n",
              "  </tbody>\n",
              "</table>\n",
              "</div>"
            ],
            "text/plain": [
              "    eid      name  gender department  age   salary  working_years birth_place  \\\n",
              "0  E011      Anda  female  developer   39  64200.0              4     Bangkok   \n",
              "1  E012    Bordin    male  developer   25  48700.0              2      Phuket   \n",
              "2  E013  Chantana  female  developer   29  45500.0              3    Chonburi   \n",
              "3  E014   Donlaya  female  marketing   39  72600.0              8    Chonburi   \n",
              "4  E015   Ekkasit    male  marketing   37  80500.0              7  Suphanburi   \n",
              "5  E016    Fundee  female    support   35  56600.0              3      Phuket   \n",
              "6  E017   Gitiwit    male    support   26  42400.0              2  Suphanburi   \n",
              "\n",
              "    country     bonus  \n",
              "0  Thailand  256800.0  \n",
              "1  Thailand   97400.0  \n",
              "2  Thailand  136500.0  \n",
              "3  Thailand  580800.0  \n",
              "4  Thailand  563500.0  \n",
              "5  Thailand  169800.0  \n",
              "6  Thailand   84800.0  "
            ]
          },
          "execution_count": 104,
          "metadata": {},
          "output_type": "execute_result"
        }
      ],
      "source": [
        "df.drop(7)"
      ]
    },
    {
      "cell_type": "code",
      "execution_count": 105,
      "metadata": {
        "colab": {
          "base_uri": "https://localhost:8080/",
          "height": 0
        },
        "id": "tlfkiG8WWi6y",
        "outputId": "6d12ee15-cc06-4f72-886e-740cba38dcb3"
      },
      "outputs": [
        {
          "data": {
            "text/html": [
              "<div>\n",
              "<style scoped>\n",
              "    .dataframe tbody tr th:only-of-type {\n",
              "        vertical-align: middle;\n",
              "    }\n",
              "\n",
              "    .dataframe tbody tr th {\n",
              "        vertical-align: top;\n",
              "    }\n",
              "\n",
              "    .dataframe thead th {\n",
              "        text-align: right;\n",
              "    }\n",
              "</style>\n",
              "<table border=\"1\" class=\"dataframe\">\n",
              "  <thead>\n",
              "    <tr style=\"text-align: right;\">\n",
              "      <th></th>\n",
              "      <th>eid</th>\n",
              "      <th>name</th>\n",
              "      <th>gender</th>\n",
              "      <th>department</th>\n",
              "      <th>age</th>\n",
              "      <th>salary</th>\n",
              "      <th>working_years</th>\n",
              "      <th>birth_place</th>\n",
              "      <th>country</th>\n",
              "      <th>bonus</th>\n",
              "    </tr>\n",
              "  </thead>\n",
              "  <tbody>\n",
              "    <tr>\n",
              "      <th>0</th>\n",
              "      <td>E011</td>\n",
              "      <td>Anda</td>\n",
              "      <td>female</td>\n",
              "      <td>developer</td>\n",
              "      <td>39</td>\n",
              "      <td>64200.0</td>\n",
              "      <td>4</td>\n",
              "      <td>Bangkok</td>\n",
              "      <td>Thailand</td>\n",
              "      <td>256800.0</td>\n",
              "    </tr>\n",
              "    <tr>\n",
              "      <th>1</th>\n",
              "      <td>E012</td>\n",
              "      <td>Bordin</td>\n",
              "      <td>male</td>\n",
              "      <td>developer</td>\n",
              "      <td>25</td>\n",
              "      <td>48700.0</td>\n",
              "      <td>2</td>\n",
              "      <td>Phuket</td>\n",
              "      <td>Thailand</td>\n",
              "      <td>97400.0</td>\n",
              "    </tr>\n",
              "    <tr>\n",
              "      <th>2</th>\n",
              "      <td>E013</td>\n",
              "      <td>Chantana</td>\n",
              "      <td>female</td>\n",
              "      <td>developer</td>\n",
              "      <td>29</td>\n",
              "      <td>45500.0</td>\n",
              "      <td>3</td>\n",
              "      <td>Chonburi</td>\n",
              "      <td>Thailand</td>\n",
              "      <td>136500.0</td>\n",
              "    </tr>\n",
              "    <tr>\n",
              "      <th>3</th>\n",
              "      <td>E014</td>\n",
              "      <td>Donlaya</td>\n",
              "      <td>female</td>\n",
              "      <td>marketing</td>\n",
              "      <td>39</td>\n",
              "      <td>72600.0</td>\n",
              "      <td>8</td>\n",
              "      <td>Chonburi</td>\n",
              "      <td>Thailand</td>\n",
              "      <td>580800.0</td>\n",
              "    </tr>\n",
              "    <tr>\n",
              "      <th>4</th>\n",
              "      <td>E015</td>\n",
              "      <td>Ekkasit</td>\n",
              "      <td>male</td>\n",
              "      <td>marketing</td>\n",
              "      <td>37</td>\n",
              "      <td>80500.0</td>\n",
              "      <td>7</td>\n",
              "      <td>Suphanburi</td>\n",
              "      <td>Thailand</td>\n",
              "      <td>563500.0</td>\n",
              "    </tr>\n",
              "    <tr>\n",
              "      <th>5</th>\n",
              "      <td>E016</td>\n",
              "      <td>Fundee</td>\n",
              "      <td>female</td>\n",
              "      <td>support</td>\n",
              "      <td>35</td>\n",
              "      <td>56600.0</td>\n",
              "      <td>3</td>\n",
              "      <td>Phuket</td>\n",
              "      <td>Thailand</td>\n",
              "      <td>169800.0</td>\n",
              "    </tr>\n",
              "    <tr>\n",
              "      <th>6</th>\n",
              "      <td>E017</td>\n",
              "      <td>Gitiwit</td>\n",
              "      <td>male</td>\n",
              "      <td>support</td>\n",
              "      <td>26</td>\n",
              "      <td>42400.0</td>\n",
              "      <td>2</td>\n",
              "      <td>Suphanburi</td>\n",
              "      <td>Thailand</td>\n",
              "      <td>84800.0</td>\n",
              "    </tr>\n",
              "    <tr>\n",
              "      <th>7</th>\n",
              "      <td>E018</td>\n",
              "      <td>Harit</td>\n",
              "      <td>male</td>\n",
              "      <td>devops</td>\n",
              "      <td>32</td>\n",
              "      <td>67700.0</td>\n",
              "      <td>5</td>\n",
              "      <td>Bangkok</td>\n",
              "      <td>Thailand</td>\n",
              "      <td>338500.0</td>\n",
              "    </tr>\n",
              "  </tbody>\n",
              "</table>\n",
              "</div>"
            ],
            "text/plain": [
              "    eid      name  gender department  age   salary  working_years birth_place  \\\n",
              "0  E011      Anda  female  developer   39  64200.0              4     Bangkok   \n",
              "1  E012    Bordin    male  developer   25  48700.0              2      Phuket   \n",
              "2  E013  Chantana  female  developer   29  45500.0              3    Chonburi   \n",
              "3  E014   Donlaya  female  marketing   39  72600.0              8    Chonburi   \n",
              "4  E015   Ekkasit    male  marketing   37  80500.0              7  Suphanburi   \n",
              "5  E016    Fundee  female    support   35  56600.0              3      Phuket   \n",
              "6  E017   Gitiwit    male    support   26  42400.0              2  Suphanburi   \n",
              "7  E018     Harit    male     devops   32  67700.0              5     Bangkok   \n",
              "\n",
              "    country     bonus  \n",
              "0  Thailand  256800.0  \n",
              "1  Thailand   97400.0  \n",
              "2  Thailand  136500.0  \n",
              "3  Thailand  580800.0  \n",
              "4  Thailand  563500.0  \n",
              "5  Thailand  169800.0  \n",
              "6  Thailand   84800.0  \n",
              "7  Thailand  338500.0  "
            ]
          },
          "execution_count": 105,
          "metadata": {},
          "output_type": "execute_result"
        }
      ],
      "source": [
        "df"
      ]
    },
    {
      "cell_type": "code",
      "execution_count": 106,
      "metadata": {
        "id": "bVNEy2wXWzUQ"
      },
      "outputs": [],
      "source": [
        "df.drop(7, inplace=True)"
      ]
    },
    {
      "cell_type": "code",
      "execution_count": 107,
      "metadata": {
        "colab": {
          "base_uri": "https://localhost:8080/",
          "height": 0
        },
        "id": "2jhUnaJMW520",
        "outputId": "6582515e-71e6-4d02-f1c4-e382ba836af2"
      },
      "outputs": [
        {
          "data": {
            "text/html": [
              "<div>\n",
              "<style scoped>\n",
              "    .dataframe tbody tr th:only-of-type {\n",
              "        vertical-align: middle;\n",
              "    }\n",
              "\n",
              "    .dataframe tbody tr th {\n",
              "        vertical-align: top;\n",
              "    }\n",
              "\n",
              "    .dataframe thead th {\n",
              "        text-align: right;\n",
              "    }\n",
              "</style>\n",
              "<table border=\"1\" class=\"dataframe\">\n",
              "  <thead>\n",
              "    <tr style=\"text-align: right;\">\n",
              "      <th></th>\n",
              "      <th>eid</th>\n",
              "      <th>name</th>\n",
              "      <th>gender</th>\n",
              "      <th>department</th>\n",
              "      <th>age</th>\n",
              "      <th>salary</th>\n",
              "      <th>working_years</th>\n",
              "      <th>birth_place</th>\n",
              "      <th>country</th>\n",
              "      <th>bonus</th>\n",
              "    </tr>\n",
              "  </thead>\n",
              "  <tbody>\n",
              "    <tr>\n",
              "      <th>0</th>\n",
              "      <td>E011</td>\n",
              "      <td>Anda</td>\n",
              "      <td>female</td>\n",
              "      <td>developer</td>\n",
              "      <td>39</td>\n",
              "      <td>64200.0</td>\n",
              "      <td>4</td>\n",
              "      <td>Bangkok</td>\n",
              "      <td>Thailand</td>\n",
              "      <td>256800.0</td>\n",
              "    </tr>\n",
              "    <tr>\n",
              "      <th>1</th>\n",
              "      <td>E012</td>\n",
              "      <td>Bordin</td>\n",
              "      <td>male</td>\n",
              "      <td>developer</td>\n",
              "      <td>25</td>\n",
              "      <td>48700.0</td>\n",
              "      <td>2</td>\n",
              "      <td>Phuket</td>\n",
              "      <td>Thailand</td>\n",
              "      <td>97400.0</td>\n",
              "    </tr>\n",
              "    <tr>\n",
              "      <th>2</th>\n",
              "      <td>E013</td>\n",
              "      <td>Chantana</td>\n",
              "      <td>female</td>\n",
              "      <td>developer</td>\n",
              "      <td>29</td>\n",
              "      <td>45500.0</td>\n",
              "      <td>3</td>\n",
              "      <td>Chonburi</td>\n",
              "      <td>Thailand</td>\n",
              "      <td>136500.0</td>\n",
              "    </tr>\n",
              "    <tr>\n",
              "      <th>3</th>\n",
              "      <td>E014</td>\n",
              "      <td>Donlaya</td>\n",
              "      <td>female</td>\n",
              "      <td>marketing</td>\n",
              "      <td>39</td>\n",
              "      <td>72600.0</td>\n",
              "      <td>8</td>\n",
              "      <td>Chonburi</td>\n",
              "      <td>Thailand</td>\n",
              "      <td>580800.0</td>\n",
              "    </tr>\n",
              "    <tr>\n",
              "      <th>4</th>\n",
              "      <td>E015</td>\n",
              "      <td>Ekkasit</td>\n",
              "      <td>male</td>\n",
              "      <td>marketing</td>\n",
              "      <td>37</td>\n",
              "      <td>80500.0</td>\n",
              "      <td>7</td>\n",
              "      <td>Suphanburi</td>\n",
              "      <td>Thailand</td>\n",
              "      <td>563500.0</td>\n",
              "    </tr>\n",
              "    <tr>\n",
              "      <th>5</th>\n",
              "      <td>E016</td>\n",
              "      <td>Fundee</td>\n",
              "      <td>female</td>\n",
              "      <td>support</td>\n",
              "      <td>35</td>\n",
              "      <td>56600.0</td>\n",
              "      <td>3</td>\n",
              "      <td>Phuket</td>\n",
              "      <td>Thailand</td>\n",
              "      <td>169800.0</td>\n",
              "    </tr>\n",
              "    <tr>\n",
              "      <th>6</th>\n",
              "      <td>E017</td>\n",
              "      <td>Gitiwit</td>\n",
              "      <td>male</td>\n",
              "      <td>support</td>\n",
              "      <td>26</td>\n",
              "      <td>42400.0</td>\n",
              "      <td>2</td>\n",
              "      <td>Suphanburi</td>\n",
              "      <td>Thailand</td>\n",
              "      <td>84800.0</td>\n",
              "    </tr>\n",
              "  </tbody>\n",
              "</table>\n",
              "</div>"
            ],
            "text/plain": [
              "    eid      name  gender department  age   salary  working_years birth_place  \\\n",
              "0  E011      Anda  female  developer   39  64200.0              4     Bangkok   \n",
              "1  E012    Bordin    male  developer   25  48700.0              2      Phuket   \n",
              "2  E013  Chantana  female  developer   29  45500.0              3    Chonburi   \n",
              "3  E014   Donlaya  female  marketing   39  72600.0              8    Chonburi   \n",
              "4  E015   Ekkasit    male  marketing   37  80500.0              7  Suphanburi   \n",
              "5  E016    Fundee  female    support   35  56600.0              3      Phuket   \n",
              "6  E017   Gitiwit    male    support   26  42400.0              2  Suphanburi   \n",
              "\n",
              "    country     bonus  \n",
              "0  Thailand  256800.0  \n",
              "1  Thailand   97400.0  \n",
              "2  Thailand  136500.0  \n",
              "3  Thailand  580800.0  \n",
              "4  Thailand  563500.0  \n",
              "5  Thailand  169800.0  \n",
              "6  Thailand   84800.0  "
            ]
          },
          "execution_count": 107,
          "metadata": {},
          "output_type": "execute_result"
        }
      ],
      "source": [
        "df"
      ]
    },
    {
      "cell_type": "code",
      "execution_count": 108,
      "metadata": {
        "colab": {
          "base_uri": "https://localhost:8080/",
          "height": 0
        },
        "id": "DgPpdMQAyOo4",
        "outputId": "e90be8af-b230-4ab7-98df-0e0b10c642c6"
      },
      "outputs": [
        {
          "data": {
            "text/html": [
              "<div>\n",
              "<style scoped>\n",
              "    .dataframe tbody tr th:only-of-type {\n",
              "        vertical-align: middle;\n",
              "    }\n",
              "\n",
              "    .dataframe tbody tr th {\n",
              "        vertical-align: top;\n",
              "    }\n",
              "\n",
              "    .dataframe thead th {\n",
              "        text-align: right;\n",
              "    }\n",
              "</style>\n",
              "<table border=\"1\" class=\"dataframe\">\n",
              "  <thead>\n",
              "    <tr style=\"text-align: right;\">\n",
              "      <th></th>\n",
              "      <th>eid</th>\n",
              "      <th>name</th>\n",
              "      <th>gender</th>\n",
              "      <th>department</th>\n",
              "      <th>age</th>\n",
              "      <th>salary</th>\n",
              "      <th>working_years</th>\n",
              "      <th>birth_place</th>\n",
              "      <th>country</th>\n",
              "      <th>bonus</th>\n",
              "    </tr>\n",
              "  </thead>\n",
              "  <tbody>\n",
              "    <tr>\n",
              "      <th>3</th>\n",
              "      <td>E014</td>\n",
              "      <td>Donlaya</td>\n",
              "      <td>female</td>\n",
              "      <td>marketing</td>\n",
              "      <td>39</td>\n",
              "      <td>72600.0</td>\n",
              "      <td>8</td>\n",
              "      <td>Chonburi</td>\n",
              "      <td>Thailand</td>\n",
              "      <td>580800.0</td>\n",
              "    </tr>\n",
              "    <tr>\n",
              "      <th>4</th>\n",
              "      <td>E015</td>\n",
              "      <td>Ekkasit</td>\n",
              "      <td>male</td>\n",
              "      <td>marketing</td>\n",
              "      <td>37</td>\n",
              "      <td>80500.0</td>\n",
              "      <td>7</td>\n",
              "      <td>Suphanburi</td>\n",
              "      <td>Thailand</td>\n",
              "      <td>563500.0</td>\n",
              "    </tr>\n",
              "    <tr>\n",
              "      <th>5</th>\n",
              "      <td>E016</td>\n",
              "      <td>Fundee</td>\n",
              "      <td>female</td>\n",
              "      <td>support</td>\n",
              "      <td>35</td>\n",
              "      <td>56600.0</td>\n",
              "      <td>3</td>\n",
              "      <td>Phuket</td>\n",
              "      <td>Thailand</td>\n",
              "      <td>169800.0</td>\n",
              "    </tr>\n",
              "    <tr>\n",
              "      <th>6</th>\n",
              "      <td>E017</td>\n",
              "      <td>Gitiwit</td>\n",
              "      <td>male</td>\n",
              "      <td>support</td>\n",
              "      <td>26</td>\n",
              "      <td>42400.0</td>\n",
              "      <td>2</td>\n",
              "      <td>Suphanburi</td>\n",
              "      <td>Thailand</td>\n",
              "      <td>84800.0</td>\n",
              "    </tr>\n",
              "  </tbody>\n",
              "</table>\n",
              "</div>"
            ],
            "text/plain": [
              "    eid     name  gender department  age   salary  working_years birth_place  \\\n",
              "3  E014  Donlaya  female  marketing   39  72600.0              8    Chonburi   \n",
              "4  E015  Ekkasit    male  marketing   37  80500.0              7  Suphanburi   \n",
              "5  E016   Fundee  female    support   35  56600.0              3      Phuket   \n",
              "6  E017  Gitiwit    male    support   26  42400.0              2  Suphanburi   \n",
              "\n",
              "    country     bonus  \n",
              "3  Thailand  580800.0  \n",
              "4  Thailand  563500.0  \n",
              "5  Thailand  169800.0  \n",
              "6  Thailand   84800.0  "
            ]
          },
          "execution_count": 108,
          "metadata": {},
          "output_type": "execute_result"
        }
      ],
      "source": [
        "df.drop([0,1,2])"
      ]
    },
    {
      "cell_type": "markdown",
      "metadata": {
        "id": "1XuDAQWLW9Ja"
      },
      "source": [
        "## Drop Column"
      ]
    },
    {
      "cell_type": "code",
      "execution_count": 109,
      "metadata": {
        "colab": {
          "base_uri": "https://localhost:8080/",
          "height": 0
        },
        "id": "P0WnbQLcW8bd",
        "outputId": "7333b547-c63c-4c58-935a-c2822569afcb"
      },
      "outputs": [
        {
          "data": {
            "text/html": [
              "<div>\n",
              "<style scoped>\n",
              "    .dataframe tbody tr th:only-of-type {\n",
              "        vertical-align: middle;\n",
              "    }\n",
              "\n",
              "    .dataframe tbody tr th {\n",
              "        vertical-align: top;\n",
              "    }\n",
              "\n",
              "    .dataframe thead th {\n",
              "        text-align: right;\n",
              "    }\n",
              "</style>\n",
              "<table border=\"1\" class=\"dataframe\">\n",
              "  <thead>\n",
              "    <tr style=\"text-align: right;\">\n",
              "      <th></th>\n",
              "      <th>eid</th>\n",
              "      <th>name</th>\n",
              "      <th>gender</th>\n",
              "      <th>department</th>\n",
              "      <th>age</th>\n",
              "      <th>salary</th>\n",
              "      <th>working_years</th>\n",
              "      <th>birth_place</th>\n",
              "      <th>bonus</th>\n",
              "    </tr>\n",
              "  </thead>\n",
              "  <tbody>\n",
              "    <tr>\n",
              "      <th>0</th>\n",
              "      <td>E011</td>\n",
              "      <td>Anda</td>\n",
              "      <td>female</td>\n",
              "      <td>developer</td>\n",
              "      <td>39</td>\n",
              "      <td>64200.0</td>\n",
              "      <td>4</td>\n",
              "      <td>Bangkok</td>\n",
              "      <td>256800.0</td>\n",
              "    </tr>\n",
              "    <tr>\n",
              "      <th>1</th>\n",
              "      <td>E012</td>\n",
              "      <td>Bordin</td>\n",
              "      <td>male</td>\n",
              "      <td>developer</td>\n",
              "      <td>25</td>\n",
              "      <td>48700.0</td>\n",
              "      <td>2</td>\n",
              "      <td>Phuket</td>\n",
              "      <td>97400.0</td>\n",
              "    </tr>\n",
              "    <tr>\n",
              "      <th>2</th>\n",
              "      <td>E013</td>\n",
              "      <td>Chantana</td>\n",
              "      <td>female</td>\n",
              "      <td>developer</td>\n",
              "      <td>29</td>\n",
              "      <td>45500.0</td>\n",
              "      <td>3</td>\n",
              "      <td>Chonburi</td>\n",
              "      <td>136500.0</td>\n",
              "    </tr>\n",
              "    <tr>\n",
              "      <th>3</th>\n",
              "      <td>E014</td>\n",
              "      <td>Donlaya</td>\n",
              "      <td>female</td>\n",
              "      <td>marketing</td>\n",
              "      <td>39</td>\n",
              "      <td>72600.0</td>\n",
              "      <td>8</td>\n",
              "      <td>Chonburi</td>\n",
              "      <td>580800.0</td>\n",
              "    </tr>\n",
              "    <tr>\n",
              "      <th>4</th>\n",
              "      <td>E015</td>\n",
              "      <td>Ekkasit</td>\n",
              "      <td>male</td>\n",
              "      <td>marketing</td>\n",
              "      <td>37</td>\n",
              "      <td>80500.0</td>\n",
              "      <td>7</td>\n",
              "      <td>Suphanburi</td>\n",
              "      <td>563500.0</td>\n",
              "    </tr>\n",
              "    <tr>\n",
              "      <th>5</th>\n",
              "      <td>E016</td>\n",
              "      <td>Fundee</td>\n",
              "      <td>female</td>\n",
              "      <td>support</td>\n",
              "      <td>35</td>\n",
              "      <td>56600.0</td>\n",
              "      <td>3</td>\n",
              "      <td>Phuket</td>\n",
              "      <td>169800.0</td>\n",
              "    </tr>\n",
              "    <tr>\n",
              "      <th>6</th>\n",
              "      <td>E017</td>\n",
              "      <td>Gitiwit</td>\n",
              "      <td>male</td>\n",
              "      <td>support</td>\n",
              "      <td>26</td>\n",
              "      <td>42400.0</td>\n",
              "      <td>2</td>\n",
              "      <td>Suphanburi</td>\n",
              "      <td>84800.0</td>\n",
              "    </tr>\n",
              "  </tbody>\n",
              "</table>\n",
              "</div>"
            ],
            "text/plain": [
              "    eid      name  gender department  age   salary  working_years birth_place  \\\n",
              "0  E011      Anda  female  developer   39  64200.0              4     Bangkok   \n",
              "1  E012    Bordin    male  developer   25  48700.0              2      Phuket   \n",
              "2  E013  Chantana  female  developer   29  45500.0              3    Chonburi   \n",
              "3  E014   Donlaya  female  marketing   39  72600.0              8    Chonburi   \n",
              "4  E015   Ekkasit    male  marketing   37  80500.0              7  Suphanburi   \n",
              "5  E016    Fundee  female    support   35  56600.0              3      Phuket   \n",
              "6  E017   Gitiwit    male    support   26  42400.0              2  Suphanburi   \n",
              "\n",
              "      bonus  \n",
              "0  256800.0  \n",
              "1   97400.0  \n",
              "2  136500.0  \n",
              "3  580800.0  \n",
              "4  563500.0  \n",
              "5  169800.0  \n",
              "6   84800.0  "
            ]
          },
          "execution_count": 109,
          "metadata": {},
          "output_type": "execute_result"
        }
      ],
      "source": [
        "df.drop(\"country\", axis=1)"
      ]
    },
    {
      "cell_type": "code",
      "execution_count": 110,
      "metadata": {
        "colab": {
          "base_uri": "https://localhost:8080/",
          "height": 0
        },
        "id": "Yw-3uyEEXX7R",
        "outputId": "7350f813-0e3f-41dd-bd18-9df3a52e24ac"
      },
      "outputs": [
        {
          "data": {
            "text/html": [
              "<div>\n",
              "<style scoped>\n",
              "    .dataframe tbody tr th:only-of-type {\n",
              "        vertical-align: middle;\n",
              "    }\n",
              "\n",
              "    .dataframe tbody tr th {\n",
              "        vertical-align: top;\n",
              "    }\n",
              "\n",
              "    .dataframe thead th {\n",
              "        text-align: right;\n",
              "    }\n",
              "</style>\n",
              "<table border=\"1\" class=\"dataframe\">\n",
              "  <thead>\n",
              "    <tr style=\"text-align: right;\">\n",
              "      <th></th>\n",
              "      <th>eid</th>\n",
              "      <th>name</th>\n",
              "      <th>gender</th>\n",
              "      <th>department</th>\n",
              "      <th>age</th>\n",
              "      <th>salary</th>\n",
              "      <th>working_years</th>\n",
              "      <th>birth_place</th>\n",
              "    </tr>\n",
              "  </thead>\n",
              "  <tbody>\n",
              "    <tr>\n",
              "      <th>0</th>\n",
              "      <td>E011</td>\n",
              "      <td>Anda</td>\n",
              "      <td>female</td>\n",
              "      <td>developer</td>\n",
              "      <td>39</td>\n",
              "      <td>64200.0</td>\n",
              "      <td>4</td>\n",
              "      <td>Bangkok</td>\n",
              "    </tr>\n",
              "    <tr>\n",
              "      <th>1</th>\n",
              "      <td>E012</td>\n",
              "      <td>Bordin</td>\n",
              "      <td>male</td>\n",
              "      <td>developer</td>\n",
              "      <td>25</td>\n",
              "      <td>48700.0</td>\n",
              "      <td>2</td>\n",
              "      <td>Phuket</td>\n",
              "    </tr>\n",
              "    <tr>\n",
              "      <th>2</th>\n",
              "      <td>E013</td>\n",
              "      <td>Chantana</td>\n",
              "      <td>female</td>\n",
              "      <td>developer</td>\n",
              "      <td>29</td>\n",
              "      <td>45500.0</td>\n",
              "      <td>3</td>\n",
              "      <td>Chonburi</td>\n",
              "    </tr>\n",
              "    <tr>\n",
              "      <th>3</th>\n",
              "      <td>E014</td>\n",
              "      <td>Donlaya</td>\n",
              "      <td>female</td>\n",
              "      <td>marketing</td>\n",
              "      <td>39</td>\n",
              "      <td>72600.0</td>\n",
              "      <td>8</td>\n",
              "      <td>Chonburi</td>\n",
              "    </tr>\n",
              "    <tr>\n",
              "      <th>4</th>\n",
              "      <td>E015</td>\n",
              "      <td>Ekkasit</td>\n",
              "      <td>male</td>\n",
              "      <td>marketing</td>\n",
              "      <td>37</td>\n",
              "      <td>80500.0</td>\n",
              "      <td>7</td>\n",
              "      <td>Suphanburi</td>\n",
              "    </tr>\n",
              "    <tr>\n",
              "      <th>5</th>\n",
              "      <td>E016</td>\n",
              "      <td>Fundee</td>\n",
              "      <td>female</td>\n",
              "      <td>support</td>\n",
              "      <td>35</td>\n",
              "      <td>56600.0</td>\n",
              "      <td>3</td>\n",
              "      <td>Phuket</td>\n",
              "    </tr>\n",
              "    <tr>\n",
              "      <th>6</th>\n",
              "      <td>E017</td>\n",
              "      <td>Gitiwit</td>\n",
              "      <td>male</td>\n",
              "      <td>support</td>\n",
              "      <td>26</td>\n",
              "      <td>42400.0</td>\n",
              "      <td>2</td>\n",
              "      <td>Suphanburi</td>\n",
              "    </tr>\n",
              "  </tbody>\n",
              "</table>\n",
              "</div>"
            ],
            "text/plain": [
              "    eid      name  gender department  age   salary  working_years birth_place\n",
              "0  E011      Anda  female  developer   39  64200.0              4     Bangkok\n",
              "1  E012    Bordin    male  developer   25  48700.0              2      Phuket\n",
              "2  E013  Chantana  female  developer   29  45500.0              3    Chonburi\n",
              "3  E014   Donlaya  female  marketing   39  72600.0              8    Chonburi\n",
              "4  E015   Ekkasit    male  marketing   37  80500.0              7  Suphanburi\n",
              "5  E016    Fundee  female    support   35  56600.0              3      Phuket\n",
              "6  E017   Gitiwit    male    support   26  42400.0              2  Suphanburi"
            ]
          },
          "execution_count": 110,
          "metadata": {},
          "output_type": "execute_result"
        }
      ],
      "source": [
        "df.drop([\"country\",\"bonus\"], axis=1)"
      ]
    },
    {
      "cell_type": "code",
      "execution_count": 111,
      "metadata": {
        "colab": {
          "base_uri": "https://localhost:8080/",
          "height": 0
        },
        "id": "nlqb0AOCXc64",
        "outputId": "f1a51136-6b7d-4cd2-d90a-7694cdb657ff"
      },
      "outputs": [
        {
          "data": {
            "text/html": [
              "<div>\n",
              "<style scoped>\n",
              "    .dataframe tbody tr th:only-of-type {\n",
              "        vertical-align: middle;\n",
              "    }\n",
              "\n",
              "    .dataframe tbody tr th {\n",
              "        vertical-align: top;\n",
              "    }\n",
              "\n",
              "    .dataframe thead th {\n",
              "        text-align: right;\n",
              "    }\n",
              "</style>\n",
              "<table border=\"1\" class=\"dataframe\">\n",
              "  <thead>\n",
              "    <tr style=\"text-align: right;\">\n",
              "      <th></th>\n",
              "      <th>eid</th>\n",
              "      <th>name</th>\n",
              "      <th>gender</th>\n",
              "      <th>department</th>\n",
              "      <th>age</th>\n",
              "      <th>salary</th>\n",
              "      <th>working_years</th>\n",
              "      <th>birth_place</th>\n",
              "      <th>country</th>\n",
              "      <th>bonus</th>\n",
              "    </tr>\n",
              "  </thead>\n",
              "  <tbody>\n",
              "    <tr>\n",
              "      <th>0</th>\n",
              "      <td>E011</td>\n",
              "      <td>Anda</td>\n",
              "      <td>female</td>\n",
              "      <td>developer</td>\n",
              "      <td>39</td>\n",
              "      <td>64200.0</td>\n",
              "      <td>4</td>\n",
              "      <td>Bangkok</td>\n",
              "      <td>Thailand</td>\n",
              "      <td>256800.0</td>\n",
              "    </tr>\n",
              "    <tr>\n",
              "      <th>1</th>\n",
              "      <td>E012</td>\n",
              "      <td>Bordin</td>\n",
              "      <td>male</td>\n",
              "      <td>developer</td>\n",
              "      <td>25</td>\n",
              "      <td>48700.0</td>\n",
              "      <td>2</td>\n",
              "      <td>Phuket</td>\n",
              "      <td>Thailand</td>\n",
              "      <td>97400.0</td>\n",
              "    </tr>\n",
              "    <tr>\n",
              "      <th>2</th>\n",
              "      <td>E013</td>\n",
              "      <td>Chantana</td>\n",
              "      <td>female</td>\n",
              "      <td>developer</td>\n",
              "      <td>29</td>\n",
              "      <td>45500.0</td>\n",
              "      <td>3</td>\n",
              "      <td>Chonburi</td>\n",
              "      <td>Thailand</td>\n",
              "      <td>136500.0</td>\n",
              "    </tr>\n",
              "    <tr>\n",
              "      <th>3</th>\n",
              "      <td>E014</td>\n",
              "      <td>Donlaya</td>\n",
              "      <td>female</td>\n",
              "      <td>marketing</td>\n",
              "      <td>39</td>\n",
              "      <td>72600.0</td>\n",
              "      <td>8</td>\n",
              "      <td>Chonburi</td>\n",
              "      <td>Thailand</td>\n",
              "      <td>580800.0</td>\n",
              "    </tr>\n",
              "    <tr>\n",
              "      <th>4</th>\n",
              "      <td>E015</td>\n",
              "      <td>Ekkasit</td>\n",
              "      <td>male</td>\n",
              "      <td>marketing</td>\n",
              "      <td>37</td>\n",
              "      <td>80500.0</td>\n",
              "      <td>7</td>\n",
              "      <td>Suphanburi</td>\n",
              "      <td>Thailand</td>\n",
              "      <td>563500.0</td>\n",
              "    </tr>\n",
              "    <tr>\n",
              "      <th>5</th>\n",
              "      <td>E016</td>\n",
              "      <td>Fundee</td>\n",
              "      <td>female</td>\n",
              "      <td>support</td>\n",
              "      <td>35</td>\n",
              "      <td>56600.0</td>\n",
              "      <td>3</td>\n",
              "      <td>Phuket</td>\n",
              "      <td>Thailand</td>\n",
              "      <td>169800.0</td>\n",
              "    </tr>\n",
              "    <tr>\n",
              "      <th>6</th>\n",
              "      <td>E017</td>\n",
              "      <td>Gitiwit</td>\n",
              "      <td>male</td>\n",
              "      <td>support</td>\n",
              "      <td>26</td>\n",
              "      <td>42400.0</td>\n",
              "      <td>2</td>\n",
              "      <td>Suphanburi</td>\n",
              "      <td>Thailand</td>\n",
              "      <td>84800.0</td>\n",
              "    </tr>\n",
              "  </tbody>\n",
              "</table>\n",
              "</div>"
            ],
            "text/plain": [
              "    eid      name  gender department  age   salary  working_years birth_place  \\\n",
              "0  E011      Anda  female  developer   39  64200.0              4     Bangkok   \n",
              "1  E012    Bordin    male  developer   25  48700.0              2      Phuket   \n",
              "2  E013  Chantana  female  developer   29  45500.0              3    Chonburi   \n",
              "3  E014   Donlaya  female  marketing   39  72600.0              8    Chonburi   \n",
              "4  E015   Ekkasit    male  marketing   37  80500.0              7  Suphanburi   \n",
              "5  E016    Fundee  female    support   35  56600.0              3      Phuket   \n",
              "6  E017   Gitiwit    male    support   26  42400.0              2  Suphanburi   \n",
              "\n",
              "    country     bonus  \n",
              "0  Thailand  256800.0  \n",
              "1  Thailand   97400.0  \n",
              "2  Thailand  136500.0  \n",
              "3  Thailand  580800.0  \n",
              "4  Thailand  563500.0  \n",
              "5  Thailand  169800.0  \n",
              "6  Thailand   84800.0  "
            ]
          },
          "execution_count": 111,
          "metadata": {},
          "output_type": "execute_result"
        }
      ],
      "source": [
        "df"
      ]
    },
    {
      "cell_type": "code",
      "execution_count": 112,
      "metadata": {
        "id": "1fHZJKOoXfjU"
      },
      "outputs": [],
      "source": [
        "df.drop([\"country\",\"bonus\"], axis=1, inplace=True)"
      ]
    },
    {
      "cell_type": "code",
      "execution_count": 113,
      "metadata": {
        "colab": {
          "base_uri": "https://localhost:8080/",
          "height": 0
        },
        "id": "iiQ2TvNMXmUd",
        "outputId": "1ba759a5-45a9-4dfe-d81a-95a437a6ea59"
      },
      "outputs": [
        {
          "data": {
            "text/html": [
              "<div>\n",
              "<style scoped>\n",
              "    .dataframe tbody tr th:only-of-type {\n",
              "        vertical-align: middle;\n",
              "    }\n",
              "\n",
              "    .dataframe tbody tr th {\n",
              "        vertical-align: top;\n",
              "    }\n",
              "\n",
              "    .dataframe thead th {\n",
              "        text-align: right;\n",
              "    }\n",
              "</style>\n",
              "<table border=\"1\" class=\"dataframe\">\n",
              "  <thead>\n",
              "    <tr style=\"text-align: right;\">\n",
              "      <th></th>\n",
              "      <th>eid</th>\n",
              "      <th>name</th>\n",
              "      <th>gender</th>\n",
              "      <th>department</th>\n",
              "      <th>age</th>\n",
              "      <th>salary</th>\n",
              "      <th>working_years</th>\n",
              "      <th>birth_place</th>\n",
              "    </tr>\n",
              "  </thead>\n",
              "  <tbody>\n",
              "    <tr>\n",
              "      <th>0</th>\n",
              "      <td>E011</td>\n",
              "      <td>Anda</td>\n",
              "      <td>female</td>\n",
              "      <td>developer</td>\n",
              "      <td>39</td>\n",
              "      <td>64200.0</td>\n",
              "      <td>4</td>\n",
              "      <td>Bangkok</td>\n",
              "    </tr>\n",
              "    <tr>\n",
              "      <th>1</th>\n",
              "      <td>E012</td>\n",
              "      <td>Bordin</td>\n",
              "      <td>male</td>\n",
              "      <td>developer</td>\n",
              "      <td>25</td>\n",
              "      <td>48700.0</td>\n",
              "      <td>2</td>\n",
              "      <td>Phuket</td>\n",
              "    </tr>\n",
              "    <tr>\n",
              "      <th>2</th>\n",
              "      <td>E013</td>\n",
              "      <td>Chantana</td>\n",
              "      <td>female</td>\n",
              "      <td>developer</td>\n",
              "      <td>29</td>\n",
              "      <td>45500.0</td>\n",
              "      <td>3</td>\n",
              "      <td>Chonburi</td>\n",
              "    </tr>\n",
              "    <tr>\n",
              "      <th>3</th>\n",
              "      <td>E014</td>\n",
              "      <td>Donlaya</td>\n",
              "      <td>female</td>\n",
              "      <td>marketing</td>\n",
              "      <td>39</td>\n",
              "      <td>72600.0</td>\n",
              "      <td>8</td>\n",
              "      <td>Chonburi</td>\n",
              "    </tr>\n",
              "    <tr>\n",
              "      <th>4</th>\n",
              "      <td>E015</td>\n",
              "      <td>Ekkasit</td>\n",
              "      <td>male</td>\n",
              "      <td>marketing</td>\n",
              "      <td>37</td>\n",
              "      <td>80500.0</td>\n",
              "      <td>7</td>\n",
              "      <td>Suphanburi</td>\n",
              "    </tr>\n",
              "    <tr>\n",
              "      <th>5</th>\n",
              "      <td>E016</td>\n",
              "      <td>Fundee</td>\n",
              "      <td>female</td>\n",
              "      <td>support</td>\n",
              "      <td>35</td>\n",
              "      <td>56600.0</td>\n",
              "      <td>3</td>\n",
              "      <td>Phuket</td>\n",
              "    </tr>\n",
              "    <tr>\n",
              "      <th>6</th>\n",
              "      <td>E017</td>\n",
              "      <td>Gitiwit</td>\n",
              "      <td>male</td>\n",
              "      <td>support</td>\n",
              "      <td>26</td>\n",
              "      <td>42400.0</td>\n",
              "      <td>2</td>\n",
              "      <td>Suphanburi</td>\n",
              "    </tr>\n",
              "  </tbody>\n",
              "</table>\n",
              "</div>"
            ],
            "text/plain": [
              "    eid      name  gender department  age   salary  working_years birth_place\n",
              "0  E011      Anda  female  developer   39  64200.0              4     Bangkok\n",
              "1  E012    Bordin    male  developer   25  48700.0              2      Phuket\n",
              "2  E013  Chantana  female  developer   29  45500.0              3    Chonburi\n",
              "3  E014   Donlaya  female  marketing   39  72600.0              8    Chonburi\n",
              "4  E015   Ekkasit    male  marketing   37  80500.0              7  Suphanburi\n",
              "5  E016    Fundee  female    support   35  56600.0              3      Phuket\n",
              "6  E017   Gitiwit    male    support   26  42400.0              2  Suphanburi"
            ]
          },
          "execution_count": 113,
          "metadata": {},
          "output_type": "execute_result"
        }
      ],
      "source": [
        "df"
      ]
    },
    {
      "cell_type": "markdown",
      "metadata": {
        "id": "EwdpNnFBb7cW"
      },
      "source": [
        "## Reload the Dataframe"
      ]
    },
    {
      "cell_type": "code",
      "execution_count": 114,
      "metadata": {
        "id": "_7-rdOiTcEyP"
      },
      "outputs": [],
      "source": [
        "df = pd.read_csv(CSV_PATH)"
      ]
    },
    {
      "cell_type": "code",
      "execution_count": 115,
      "metadata": {
        "colab": {
          "base_uri": "https://localhost:8080/",
          "height": 0
        },
        "id": "36zQBfp2ODvd",
        "outputId": "433d1b1c-6161-411d-f8a0-3154b530c25d"
      },
      "outputs": [
        {
          "data": {
            "text/html": [
              "<div>\n",
              "<style scoped>\n",
              "    .dataframe tbody tr th:only-of-type {\n",
              "        vertical-align: middle;\n",
              "    }\n",
              "\n",
              "    .dataframe tbody tr th {\n",
              "        vertical-align: top;\n",
              "    }\n",
              "\n",
              "    .dataframe thead th {\n",
              "        text-align: right;\n",
              "    }\n",
              "</style>\n",
              "<table border=\"1\" class=\"dataframe\">\n",
              "  <thead>\n",
              "    <tr style=\"text-align: right;\">\n",
              "      <th></th>\n",
              "      <th>eid</th>\n",
              "      <th>name</th>\n",
              "      <th>gender</th>\n",
              "      <th>department</th>\n",
              "      <th>age</th>\n",
              "      <th>salary</th>\n",
              "      <th>working_years</th>\n",
              "      <th>birth_place</th>\n",
              "    </tr>\n",
              "  </thead>\n",
              "  <tbody>\n",
              "    <tr>\n",
              "      <th>0</th>\n",
              "      <td>E011</td>\n",
              "      <td>Anda</td>\n",
              "      <td>female</td>\n",
              "      <td>developer</td>\n",
              "      <td>39</td>\n",
              "      <td>64200.0</td>\n",
              "      <td>4</td>\n",
              "      <td>Bangkok</td>\n",
              "    </tr>\n",
              "    <tr>\n",
              "      <th>1</th>\n",
              "      <td>E012</td>\n",
              "      <td>Bordin</td>\n",
              "      <td>male</td>\n",
              "      <td>developer</td>\n",
              "      <td>25</td>\n",
              "      <td>48700.0</td>\n",
              "      <td>2</td>\n",
              "      <td>Phuket</td>\n",
              "    </tr>\n",
              "    <tr>\n",
              "      <th>2</th>\n",
              "      <td>E013</td>\n",
              "      <td>Chantana</td>\n",
              "      <td>female</td>\n",
              "      <td>developer</td>\n",
              "      <td>29</td>\n",
              "      <td>45500.0</td>\n",
              "      <td>3</td>\n",
              "      <td>Chonburi</td>\n",
              "    </tr>\n",
              "    <tr>\n",
              "      <th>3</th>\n",
              "      <td>E014</td>\n",
              "      <td>Donlaya</td>\n",
              "      <td>female</td>\n",
              "      <td>marketing</td>\n",
              "      <td>39</td>\n",
              "      <td>72600.0</td>\n",
              "      <td>8</td>\n",
              "      <td>Chonburi</td>\n",
              "    </tr>\n",
              "    <tr>\n",
              "      <th>4</th>\n",
              "      <td>E015</td>\n",
              "      <td>Ekkasit</td>\n",
              "      <td>male</td>\n",
              "      <td>marketing</td>\n",
              "      <td>37</td>\n",
              "      <td>80500.0</td>\n",
              "      <td>7</td>\n",
              "      <td>Suphanburi</td>\n",
              "    </tr>\n",
              "    <tr>\n",
              "      <th>5</th>\n",
              "      <td>E016</td>\n",
              "      <td>Fundee</td>\n",
              "      <td>female</td>\n",
              "      <td>support</td>\n",
              "      <td>35</td>\n",
              "      <td>56600.0</td>\n",
              "      <td>3</td>\n",
              "      <td>Phuket</td>\n",
              "    </tr>\n",
              "    <tr>\n",
              "      <th>6</th>\n",
              "      <td>E017</td>\n",
              "      <td>Gitiwit</td>\n",
              "      <td>male</td>\n",
              "      <td>support</td>\n",
              "      <td>26</td>\n",
              "      <td>42400.0</td>\n",
              "      <td>2</td>\n",
              "      <td>Suphanburi</td>\n",
              "    </tr>\n",
              "    <tr>\n",
              "      <th>7</th>\n",
              "      <td>E018</td>\n",
              "      <td>Harit</td>\n",
              "      <td>male</td>\n",
              "      <td>devops</td>\n",
              "      <td>32</td>\n",
              "      <td>67700.0</td>\n",
              "      <td>5</td>\n",
              "      <td>Bangkok</td>\n",
              "    </tr>\n",
              "  </tbody>\n",
              "</table>\n",
              "</div>"
            ],
            "text/plain": [
              "    eid      name  gender department  age   salary  working_years birth_place\n",
              "0  E011      Anda  female  developer   39  64200.0              4     Bangkok\n",
              "1  E012    Bordin    male  developer   25  48700.0              2      Phuket\n",
              "2  E013  Chantana  female  developer   29  45500.0              3    Chonburi\n",
              "3  E014   Donlaya  female  marketing   39  72600.0              8    Chonburi\n",
              "4  E015   Ekkasit    male  marketing   37  80500.0              7  Suphanburi\n",
              "5  E016    Fundee  female    support   35  56600.0              3      Phuket\n",
              "6  E017   Gitiwit    male    support   26  42400.0              2  Suphanburi\n",
              "7  E018     Harit    male     devops   32  67700.0              5     Bangkok"
            ]
          },
          "execution_count": 115,
          "metadata": {},
          "output_type": "execute_result"
        }
      ],
      "source": [
        "df"
      ]
    },
    {
      "cell_type": "markdown",
      "metadata": {
        "id": "YxNB3fcBcL8-"
      },
      "source": [
        "## Sorting"
      ]
    },
    {
      "cell_type": "code",
      "execution_count": 116,
      "metadata": {
        "colab": {
          "base_uri": "https://localhost:8080/",
          "height": 0
        },
        "id": "zG24H3TPc_XB",
        "outputId": "6de0b257-ba6c-4dd7-eb28-7cec936dab61"
      },
      "outputs": [
        {
          "data": {
            "text/html": [
              "<div>\n",
              "<style scoped>\n",
              "    .dataframe tbody tr th:only-of-type {\n",
              "        vertical-align: middle;\n",
              "    }\n",
              "\n",
              "    .dataframe tbody tr th {\n",
              "        vertical-align: top;\n",
              "    }\n",
              "\n",
              "    .dataframe thead th {\n",
              "        text-align: right;\n",
              "    }\n",
              "</style>\n",
              "<table border=\"1\" class=\"dataframe\">\n",
              "  <thead>\n",
              "    <tr style=\"text-align: right;\">\n",
              "      <th></th>\n",
              "      <th>eid</th>\n",
              "      <th>name</th>\n",
              "      <th>gender</th>\n",
              "      <th>department</th>\n",
              "      <th>age</th>\n",
              "      <th>salary</th>\n",
              "      <th>working_years</th>\n",
              "      <th>birth_place</th>\n",
              "    </tr>\n",
              "  </thead>\n",
              "  <tbody>\n",
              "    <tr>\n",
              "      <th>6</th>\n",
              "      <td>E017</td>\n",
              "      <td>Gitiwit</td>\n",
              "      <td>male</td>\n",
              "      <td>support</td>\n",
              "      <td>26</td>\n",
              "      <td>42400.0</td>\n",
              "      <td>2</td>\n",
              "      <td>Suphanburi</td>\n",
              "    </tr>\n",
              "    <tr>\n",
              "      <th>2</th>\n",
              "      <td>E013</td>\n",
              "      <td>Chantana</td>\n",
              "      <td>female</td>\n",
              "      <td>developer</td>\n",
              "      <td>29</td>\n",
              "      <td>45500.0</td>\n",
              "      <td>3</td>\n",
              "      <td>Chonburi</td>\n",
              "    </tr>\n",
              "    <tr>\n",
              "      <th>1</th>\n",
              "      <td>E012</td>\n",
              "      <td>Bordin</td>\n",
              "      <td>male</td>\n",
              "      <td>developer</td>\n",
              "      <td>25</td>\n",
              "      <td>48700.0</td>\n",
              "      <td>2</td>\n",
              "      <td>Phuket</td>\n",
              "    </tr>\n",
              "    <tr>\n",
              "      <th>5</th>\n",
              "      <td>E016</td>\n",
              "      <td>Fundee</td>\n",
              "      <td>female</td>\n",
              "      <td>support</td>\n",
              "      <td>35</td>\n",
              "      <td>56600.0</td>\n",
              "      <td>3</td>\n",
              "      <td>Phuket</td>\n",
              "    </tr>\n",
              "    <tr>\n",
              "      <th>0</th>\n",
              "      <td>E011</td>\n",
              "      <td>Anda</td>\n",
              "      <td>female</td>\n",
              "      <td>developer</td>\n",
              "      <td>39</td>\n",
              "      <td>64200.0</td>\n",
              "      <td>4</td>\n",
              "      <td>Bangkok</td>\n",
              "    </tr>\n",
              "    <tr>\n",
              "      <th>7</th>\n",
              "      <td>E018</td>\n",
              "      <td>Harit</td>\n",
              "      <td>male</td>\n",
              "      <td>devops</td>\n",
              "      <td>32</td>\n",
              "      <td>67700.0</td>\n",
              "      <td>5</td>\n",
              "      <td>Bangkok</td>\n",
              "    </tr>\n",
              "    <tr>\n",
              "      <th>3</th>\n",
              "      <td>E014</td>\n",
              "      <td>Donlaya</td>\n",
              "      <td>female</td>\n",
              "      <td>marketing</td>\n",
              "      <td>39</td>\n",
              "      <td>72600.0</td>\n",
              "      <td>8</td>\n",
              "      <td>Chonburi</td>\n",
              "    </tr>\n",
              "    <tr>\n",
              "      <th>4</th>\n",
              "      <td>E015</td>\n",
              "      <td>Ekkasit</td>\n",
              "      <td>male</td>\n",
              "      <td>marketing</td>\n",
              "      <td>37</td>\n",
              "      <td>80500.0</td>\n",
              "      <td>7</td>\n",
              "      <td>Suphanburi</td>\n",
              "    </tr>\n",
              "  </tbody>\n",
              "</table>\n",
              "</div>"
            ],
            "text/plain": [
              "    eid      name  gender department  age   salary  working_years birth_place\n",
              "6  E017   Gitiwit    male    support   26  42400.0              2  Suphanburi\n",
              "2  E013  Chantana  female  developer   29  45500.0              3    Chonburi\n",
              "1  E012    Bordin    male  developer   25  48700.0              2      Phuket\n",
              "5  E016    Fundee  female    support   35  56600.0              3      Phuket\n",
              "0  E011      Anda  female  developer   39  64200.0              4     Bangkok\n",
              "7  E018     Harit    male     devops   32  67700.0              5     Bangkok\n",
              "3  E014   Donlaya  female  marketing   39  72600.0              8    Chonburi\n",
              "4  E015   Ekkasit    male  marketing   37  80500.0              7  Suphanburi"
            ]
          },
          "execution_count": 116,
          "metadata": {},
          "output_type": "execute_result"
        }
      ],
      "source": [
        "df.sort_values(\"salary\")"
      ]
    },
    {
      "cell_type": "code",
      "execution_count": 117,
      "metadata": {
        "colab": {
          "base_uri": "https://localhost:8080/",
          "height": 0
        },
        "id": "bYHBZGaxdEb2",
        "outputId": "77ad33ba-77f7-4e0b-c8ac-b5e06cef1fdd"
      },
      "outputs": [
        {
          "data": {
            "text/html": [
              "<div>\n",
              "<style scoped>\n",
              "    .dataframe tbody tr th:only-of-type {\n",
              "        vertical-align: middle;\n",
              "    }\n",
              "\n",
              "    .dataframe tbody tr th {\n",
              "        vertical-align: top;\n",
              "    }\n",
              "\n",
              "    .dataframe thead th {\n",
              "        text-align: right;\n",
              "    }\n",
              "</style>\n",
              "<table border=\"1\" class=\"dataframe\">\n",
              "  <thead>\n",
              "    <tr style=\"text-align: right;\">\n",
              "      <th></th>\n",
              "      <th>eid</th>\n",
              "      <th>name</th>\n",
              "      <th>gender</th>\n",
              "      <th>department</th>\n",
              "      <th>age</th>\n",
              "      <th>salary</th>\n",
              "      <th>working_years</th>\n",
              "      <th>birth_place</th>\n",
              "    </tr>\n",
              "  </thead>\n",
              "  <tbody>\n",
              "    <tr>\n",
              "      <th>2</th>\n",
              "      <td>E013</td>\n",
              "      <td>Chantana</td>\n",
              "      <td>female</td>\n",
              "      <td>developer</td>\n",
              "      <td>29</td>\n",
              "      <td>45500.0</td>\n",
              "      <td>3</td>\n",
              "      <td>Chonburi</td>\n",
              "    </tr>\n",
              "    <tr>\n",
              "      <th>1</th>\n",
              "      <td>E012</td>\n",
              "      <td>Bordin</td>\n",
              "      <td>male</td>\n",
              "      <td>developer</td>\n",
              "      <td>25</td>\n",
              "      <td>48700.0</td>\n",
              "      <td>2</td>\n",
              "      <td>Phuket</td>\n",
              "    </tr>\n",
              "    <tr>\n",
              "      <th>0</th>\n",
              "      <td>E011</td>\n",
              "      <td>Anda</td>\n",
              "      <td>female</td>\n",
              "      <td>developer</td>\n",
              "      <td>39</td>\n",
              "      <td>64200.0</td>\n",
              "      <td>4</td>\n",
              "      <td>Bangkok</td>\n",
              "    </tr>\n",
              "    <tr>\n",
              "      <th>7</th>\n",
              "      <td>E018</td>\n",
              "      <td>Harit</td>\n",
              "      <td>male</td>\n",
              "      <td>devops</td>\n",
              "      <td>32</td>\n",
              "      <td>67700.0</td>\n",
              "      <td>5</td>\n",
              "      <td>Bangkok</td>\n",
              "    </tr>\n",
              "    <tr>\n",
              "      <th>3</th>\n",
              "      <td>E014</td>\n",
              "      <td>Donlaya</td>\n",
              "      <td>female</td>\n",
              "      <td>marketing</td>\n",
              "      <td>39</td>\n",
              "      <td>72600.0</td>\n",
              "      <td>8</td>\n",
              "      <td>Chonburi</td>\n",
              "    </tr>\n",
              "    <tr>\n",
              "      <th>4</th>\n",
              "      <td>E015</td>\n",
              "      <td>Ekkasit</td>\n",
              "      <td>male</td>\n",
              "      <td>marketing</td>\n",
              "      <td>37</td>\n",
              "      <td>80500.0</td>\n",
              "      <td>7</td>\n",
              "      <td>Suphanburi</td>\n",
              "    </tr>\n",
              "    <tr>\n",
              "      <th>6</th>\n",
              "      <td>E017</td>\n",
              "      <td>Gitiwit</td>\n",
              "      <td>male</td>\n",
              "      <td>support</td>\n",
              "      <td>26</td>\n",
              "      <td>42400.0</td>\n",
              "      <td>2</td>\n",
              "      <td>Suphanburi</td>\n",
              "    </tr>\n",
              "    <tr>\n",
              "      <th>5</th>\n",
              "      <td>E016</td>\n",
              "      <td>Fundee</td>\n",
              "      <td>female</td>\n",
              "      <td>support</td>\n",
              "      <td>35</td>\n",
              "      <td>56600.0</td>\n",
              "      <td>3</td>\n",
              "      <td>Phuket</td>\n",
              "    </tr>\n",
              "  </tbody>\n",
              "</table>\n",
              "</div>"
            ],
            "text/plain": [
              "    eid      name  gender department  age   salary  working_years birth_place\n",
              "2  E013  Chantana  female  developer   29  45500.0              3    Chonburi\n",
              "1  E012    Bordin    male  developer   25  48700.0              2      Phuket\n",
              "0  E011      Anda  female  developer   39  64200.0              4     Bangkok\n",
              "7  E018     Harit    male     devops   32  67700.0              5     Bangkok\n",
              "3  E014   Donlaya  female  marketing   39  72600.0              8    Chonburi\n",
              "4  E015   Ekkasit    male  marketing   37  80500.0              7  Suphanburi\n",
              "6  E017   Gitiwit    male    support   26  42400.0              2  Suphanburi\n",
              "5  E016    Fundee  female    support   35  56600.0              3      Phuket"
            ]
          },
          "execution_count": 117,
          "metadata": {},
          "output_type": "execute_result"
        }
      ],
      "source": [
        "df.sort_values([\"department\",\"salary\"])"
      ]
    },
    {
      "cell_type": "code",
      "execution_count": 118,
      "metadata": {
        "colab": {
          "base_uri": "https://localhost:8080/",
          "height": 0
        },
        "id": "jmkUnViudRSc",
        "outputId": "9e8cd21a-4deb-4b96-b4a9-3fbb665314da"
      },
      "outputs": [
        {
          "data": {
            "text/html": [
              "<div>\n",
              "<style scoped>\n",
              "    .dataframe tbody tr th:only-of-type {\n",
              "        vertical-align: middle;\n",
              "    }\n",
              "\n",
              "    .dataframe tbody tr th {\n",
              "        vertical-align: top;\n",
              "    }\n",
              "\n",
              "    .dataframe thead th {\n",
              "        text-align: right;\n",
              "    }\n",
              "</style>\n",
              "<table border=\"1\" class=\"dataframe\">\n",
              "  <thead>\n",
              "    <tr style=\"text-align: right;\">\n",
              "      <th></th>\n",
              "      <th>eid</th>\n",
              "      <th>name</th>\n",
              "      <th>gender</th>\n",
              "      <th>department</th>\n",
              "      <th>age</th>\n",
              "      <th>salary</th>\n",
              "      <th>working_years</th>\n",
              "      <th>birth_place</th>\n",
              "    </tr>\n",
              "  </thead>\n",
              "  <tbody>\n",
              "    <tr>\n",
              "      <th>4</th>\n",
              "      <td>E015</td>\n",
              "      <td>Ekkasit</td>\n",
              "      <td>male</td>\n",
              "      <td>marketing</td>\n",
              "      <td>37</td>\n",
              "      <td>80500.0</td>\n",
              "      <td>7</td>\n",
              "      <td>Suphanburi</td>\n",
              "    </tr>\n",
              "    <tr>\n",
              "      <th>3</th>\n",
              "      <td>E014</td>\n",
              "      <td>Donlaya</td>\n",
              "      <td>female</td>\n",
              "      <td>marketing</td>\n",
              "      <td>39</td>\n",
              "      <td>72600.0</td>\n",
              "      <td>8</td>\n",
              "      <td>Chonburi</td>\n",
              "    </tr>\n",
              "    <tr>\n",
              "      <th>7</th>\n",
              "      <td>E018</td>\n",
              "      <td>Harit</td>\n",
              "      <td>male</td>\n",
              "      <td>devops</td>\n",
              "      <td>32</td>\n",
              "      <td>67700.0</td>\n",
              "      <td>5</td>\n",
              "      <td>Bangkok</td>\n",
              "    </tr>\n",
              "    <tr>\n",
              "      <th>0</th>\n",
              "      <td>E011</td>\n",
              "      <td>Anda</td>\n",
              "      <td>female</td>\n",
              "      <td>developer</td>\n",
              "      <td>39</td>\n",
              "      <td>64200.0</td>\n",
              "      <td>4</td>\n",
              "      <td>Bangkok</td>\n",
              "    </tr>\n",
              "    <tr>\n",
              "      <th>5</th>\n",
              "      <td>E016</td>\n",
              "      <td>Fundee</td>\n",
              "      <td>female</td>\n",
              "      <td>support</td>\n",
              "      <td>35</td>\n",
              "      <td>56600.0</td>\n",
              "      <td>3</td>\n",
              "      <td>Phuket</td>\n",
              "    </tr>\n",
              "    <tr>\n",
              "      <th>1</th>\n",
              "      <td>E012</td>\n",
              "      <td>Bordin</td>\n",
              "      <td>male</td>\n",
              "      <td>developer</td>\n",
              "      <td>25</td>\n",
              "      <td>48700.0</td>\n",
              "      <td>2</td>\n",
              "      <td>Phuket</td>\n",
              "    </tr>\n",
              "    <tr>\n",
              "      <th>2</th>\n",
              "      <td>E013</td>\n",
              "      <td>Chantana</td>\n",
              "      <td>female</td>\n",
              "      <td>developer</td>\n",
              "      <td>29</td>\n",
              "      <td>45500.0</td>\n",
              "      <td>3</td>\n",
              "      <td>Chonburi</td>\n",
              "    </tr>\n",
              "    <tr>\n",
              "      <th>6</th>\n",
              "      <td>E017</td>\n",
              "      <td>Gitiwit</td>\n",
              "      <td>male</td>\n",
              "      <td>support</td>\n",
              "      <td>26</td>\n",
              "      <td>42400.0</td>\n",
              "      <td>2</td>\n",
              "      <td>Suphanburi</td>\n",
              "    </tr>\n",
              "  </tbody>\n",
              "</table>\n",
              "</div>"
            ],
            "text/plain": [
              "    eid      name  gender department  age   salary  working_years birth_place\n",
              "4  E015   Ekkasit    male  marketing   37  80500.0              7  Suphanburi\n",
              "3  E014   Donlaya  female  marketing   39  72600.0              8    Chonburi\n",
              "7  E018     Harit    male     devops   32  67700.0              5     Bangkok\n",
              "0  E011      Anda  female  developer   39  64200.0              4     Bangkok\n",
              "5  E016    Fundee  female    support   35  56600.0              3      Phuket\n",
              "1  E012    Bordin    male  developer   25  48700.0              2      Phuket\n",
              "2  E013  Chantana  female  developer   29  45500.0              3    Chonburi\n",
              "6  E017   Gitiwit    male    support   26  42400.0              2  Suphanburi"
            ]
          },
          "execution_count": 118,
          "metadata": {},
          "output_type": "execute_result"
        }
      ],
      "source": [
        "df.sort_values(\"salary\", ascending=False)"
      ]
    },
    {
      "cell_type": "code",
      "execution_count": 119,
      "metadata": {
        "colab": {
          "base_uri": "https://localhost:8080/",
          "height": 0
        },
        "id": "TuQHsonPOASK",
        "outputId": "b60fbae5-2b59-4225-c967-4ff0791d5890"
      },
      "outputs": [
        {
          "data": {
            "text/html": [
              "<div>\n",
              "<style scoped>\n",
              "    .dataframe tbody tr th:only-of-type {\n",
              "        vertical-align: middle;\n",
              "    }\n",
              "\n",
              "    .dataframe tbody tr th {\n",
              "        vertical-align: top;\n",
              "    }\n",
              "\n",
              "    .dataframe thead th {\n",
              "        text-align: right;\n",
              "    }\n",
              "</style>\n",
              "<table border=\"1\" class=\"dataframe\">\n",
              "  <thead>\n",
              "    <tr style=\"text-align: right;\">\n",
              "      <th></th>\n",
              "      <th>eid</th>\n",
              "      <th>name</th>\n",
              "      <th>gender</th>\n",
              "      <th>department</th>\n",
              "      <th>age</th>\n",
              "      <th>salary</th>\n",
              "      <th>working_years</th>\n",
              "      <th>birth_place</th>\n",
              "    </tr>\n",
              "  </thead>\n",
              "  <tbody>\n",
              "    <tr>\n",
              "      <th>0</th>\n",
              "      <td>E011</td>\n",
              "      <td>Anda</td>\n",
              "      <td>female</td>\n",
              "      <td>developer</td>\n",
              "      <td>39</td>\n",
              "      <td>64200.0</td>\n",
              "      <td>4</td>\n",
              "      <td>Bangkok</td>\n",
              "    </tr>\n",
              "    <tr>\n",
              "      <th>1</th>\n",
              "      <td>E012</td>\n",
              "      <td>Bordin</td>\n",
              "      <td>male</td>\n",
              "      <td>developer</td>\n",
              "      <td>25</td>\n",
              "      <td>48700.0</td>\n",
              "      <td>2</td>\n",
              "      <td>Phuket</td>\n",
              "    </tr>\n",
              "    <tr>\n",
              "      <th>2</th>\n",
              "      <td>E013</td>\n",
              "      <td>Chantana</td>\n",
              "      <td>female</td>\n",
              "      <td>developer</td>\n",
              "      <td>29</td>\n",
              "      <td>45500.0</td>\n",
              "      <td>3</td>\n",
              "      <td>Chonburi</td>\n",
              "    </tr>\n",
              "    <tr>\n",
              "      <th>3</th>\n",
              "      <td>E014</td>\n",
              "      <td>Donlaya</td>\n",
              "      <td>female</td>\n",
              "      <td>marketing</td>\n",
              "      <td>39</td>\n",
              "      <td>72600.0</td>\n",
              "      <td>8</td>\n",
              "      <td>Chonburi</td>\n",
              "    </tr>\n",
              "    <tr>\n",
              "      <th>4</th>\n",
              "      <td>E015</td>\n",
              "      <td>Ekkasit</td>\n",
              "      <td>male</td>\n",
              "      <td>marketing</td>\n",
              "      <td>37</td>\n",
              "      <td>80500.0</td>\n",
              "      <td>7</td>\n",
              "      <td>Suphanburi</td>\n",
              "    </tr>\n",
              "    <tr>\n",
              "      <th>5</th>\n",
              "      <td>E016</td>\n",
              "      <td>Fundee</td>\n",
              "      <td>female</td>\n",
              "      <td>support</td>\n",
              "      <td>35</td>\n",
              "      <td>56600.0</td>\n",
              "      <td>3</td>\n",
              "      <td>Phuket</td>\n",
              "    </tr>\n",
              "    <tr>\n",
              "      <th>6</th>\n",
              "      <td>E017</td>\n",
              "      <td>Gitiwit</td>\n",
              "      <td>male</td>\n",
              "      <td>support</td>\n",
              "      <td>26</td>\n",
              "      <td>42400.0</td>\n",
              "      <td>2</td>\n",
              "      <td>Suphanburi</td>\n",
              "    </tr>\n",
              "    <tr>\n",
              "      <th>7</th>\n",
              "      <td>E018</td>\n",
              "      <td>Harit</td>\n",
              "      <td>male</td>\n",
              "      <td>devops</td>\n",
              "      <td>32</td>\n",
              "      <td>67700.0</td>\n",
              "      <td>5</td>\n",
              "      <td>Bangkok</td>\n",
              "    </tr>\n",
              "  </tbody>\n",
              "</table>\n",
              "</div>"
            ],
            "text/plain": [
              "    eid      name  gender department  age   salary  working_years birth_place\n",
              "0  E011      Anda  female  developer   39  64200.0              4     Bangkok\n",
              "1  E012    Bordin    male  developer   25  48700.0              2      Phuket\n",
              "2  E013  Chantana  female  developer   29  45500.0              3    Chonburi\n",
              "3  E014   Donlaya  female  marketing   39  72600.0              8    Chonburi\n",
              "4  E015   Ekkasit    male  marketing   37  80500.0              7  Suphanburi\n",
              "5  E016    Fundee  female    support   35  56600.0              3      Phuket\n",
              "6  E017   Gitiwit    male    support   26  42400.0              2  Suphanburi\n",
              "7  E018     Harit    male     devops   32  67700.0              5     Bangkok"
            ]
          },
          "execution_count": 119,
          "metadata": {},
          "output_type": "execute_result"
        }
      ],
      "source": [
        "df"
      ]
    },
    {
      "cell_type": "code",
      "execution_count": 120,
      "metadata": {
        "id": "8PxWdPrIdbnD"
      },
      "outputs": [],
      "source": [
        "df.sort_values(\"salary\", ascending=False, inplace=True)"
      ]
    },
    {
      "cell_type": "code",
      "execution_count": 121,
      "metadata": {
        "colab": {
          "base_uri": "https://localhost:8080/",
          "height": 0
        },
        "id": "4SJdjQEQdh5j",
        "outputId": "3e227bae-3e76-498e-9ea2-c0155f4d76fa"
      },
      "outputs": [
        {
          "data": {
            "text/html": [
              "<div>\n",
              "<style scoped>\n",
              "    .dataframe tbody tr th:only-of-type {\n",
              "        vertical-align: middle;\n",
              "    }\n",
              "\n",
              "    .dataframe tbody tr th {\n",
              "        vertical-align: top;\n",
              "    }\n",
              "\n",
              "    .dataframe thead th {\n",
              "        text-align: right;\n",
              "    }\n",
              "</style>\n",
              "<table border=\"1\" class=\"dataframe\">\n",
              "  <thead>\n",
              "    <tr style=\"text-align: right;\">\n",
              "      <th></th>\n",
              "      <th>eid</th>\n",
              "      <th>name</th>\n",
              "      <th>gender</th>\n",
              "      <th>department</th>\n",
              "      <th>age</th>\n",
              "      <th>salary</th>\n",
              "      <th>working_years</th>\n",
              "      <th>birth_place</th>\n",
              "    </tr>\n",
              "  </thead>\n",
              "  <tbody>\n",
              "    <tr>\n",
              "      <th>4</th>\n",
              "      <td>E015</td>\n",
              "      <td>Ekkasit</td>\n",
              "      <td>male</td>\n",
              "      <td>marketing</td>\n",
              "      <td>37</td>\n",
              "      <td>80500.0</td>\n",
              "      <td>7</td>\n",
              "      <td>Suphanburi</td>\n",
              "    </tr>\n",
              "    <tr>\n",
              "      <th>3</th>\n",
              "      <td>E014</td>\n",
              "      <td>Donlaya</td>\n",
              "      <td>female</td>\n",
              "      <td>marketing</td>\n",
              "      <td>39</td>\n",
              "      <td>72600.0</td>\n",
              "      <td>8</td>\n",
              "      <td>Chonburi</td>\n",
              "    </tr>\n",
              "    <tr>\n",
              "      <th>7</th>\n",
              "      <td>E018</td>\n",
              "      <td>Harit</td>\n",
              "      <td>male</td>\n",
              "      <td>devops</td>\n",
              "      <td>32</td>\n",
              "      <td>67700.0</td>\n",
              "      <td>5</td>\n",
              "      <td>Bangkok</td>\n",
              "    </tr>\n",
              "    <tr>\n",
              "      <th>0</th>\n",
              "      <td>E011</td>\n",
              "      <td>Anda</td>\n",
              "      <td>female</td>\n",
              "      <td>developer</td>\n",
              "      <td>39</td>\n",
              "      <td>64200.0</td>\n",
              "      <td>4</td>\n",
              "      <td>Bangkok</td>\n",
              "    </tr>\n",
              "    <tr>\n",
              "      <th>5</th>\n",
              "      <td>E016</td>\n",
              "      <td>Fundee</td>\n",
              "      <td>female</td>\n",
              "      <td>support</td>\n",
              "      <td>35</td>\n",
              "      <td>56600.0</td>\n",
              "      <td>3</td>\n",
              "      <td>Phuket</td>\n",
              "    </tr>\n",
              "    <tr>\n",
              "      <th>1</th>\n",
              "      <td>E012</td>\n",
              "      <td>Bordin</td>\n",
              "      <td>male</td>\n",
              "      <td>developer</td>\n",
              "      <td>25</td>\n",
              "      <td>48700.0</td>\n",
              "      <td>2</td>\n",
              "      <td>Phuket</td>\n",
              "    </tr>\n",
              "    <tr>\n",
              "      <th>2</th>\n",
              "      <td>E013</td>\n",
              "      <td>Chantana</td>\n",
              "      <td>female</td>\n",
              "      <td>developer</td>\n",
              "      <td>29</td>\n",
              "      <td>45500.0</td>\n",
              "      <td>3</td>\n",
              "      <td>Chonburi</td>\n",
              "    </tr>\n",
              "    <tr>\n",
              "      <th>6</th>\n",
              "      <td>E017</td>\n",
              "      <td>Gitiwit</td>\n",
              "      <td>male</td>\n",
              "      <td>support</td>\n",
              "      <td>26</td>\n",
              "      <td>42400.0</td>\n",
              "      <td>2</td>\n",
              "      <td>Suphanburi</td>\n",
              "    </tr>\n",
              "  </tbody>\n",
              "</table>\n",
              "</div>"
            ],
            "text/plain": [
              "    eid      name  gender department  age   salary  working_years birth_place\n",
              "4  E015   Ekkasit    male  marketing   37  80500.0              7  Suphanburi\n",
              "3  E014   Donlaya  female  marketing   39  72600.0              8    Chonburi\n",
              "7  E018     Harit    male     devops   32  67700.0              5     Bangkok\n",
              "0  E011      Anda  female  developer   39  64200.0              4     Bangkok\n",
              "5  E016    Fundee  female    support   35  56600.0              3      Phuket\n",
              "1  E012    Bordin    male  developer   25  48700.0              2      Phuket\n",
              "2  E013  Chantana  female  developer   29  45500.0              3    Chonburi\n",
              "6  E017   Gitiwit    male    support   26  42400.0              2  Suphanburi"
            ]
          },
          "execution_count": 121,
          "metadata": {},
          "output_type": "execute_result"
        }
      ],
      "source": [
        "df"
      ]
    },
    {
      "cell_type": "code",
      "execution_count": 122,
      "metadata": {
        "colab": {
          "base_uri": "https://localhost:8080/",
          "height": 0
        },
        "id": "kU6hS5k-dk4C",
        "outputId": "6932f836-cd2e-442a-893b-ef3125f2ec41"
      },
      "outputs": [
        {
          "data": {
            "text/html": [
              "<div>\n",
              "<style scoped>\n",
              "    .dataframe tbody tr th:only-of-type {\n",
              "        vertical-align: middle;\n",
              "    }\n",
              "\n",
              "    .dataframe tbody tr th {\n",
              "        vertical-align: top;\n",
              "    }\n",
              "\n",
              "    .dataframe thead th {\n",
              "        text-align: right;\n",
              "    }\n",
              "</style>\n",
              "<table border=\"1\" class=\"dataframe\">\n",
              "  <thead>\n",
              "    <tr style=\"text-align: right;\">\n",
              "      <th></th>\n",
              "      <th>eid</th>\n",
              "      <th>name</th>\n",
              "      <th>gender</th>\n",
              "      <th>department</th>\n",
              "      <th>age</th>\n",
              "      <th>salary</th>\n",
              "      <th>working_years</th>\n",
              "      <th>birth_place</th>\n",
              "    </tr>\n",
              "  </thead>\n",
              "  <tbody>\n",
              "    <tr>\n",
              "      <th>0</th>\n",
              "      <td>E011</td>\n",
              "      <td>Anda</td>\n",
              "      <td>female</td>\n",
              "      <td>developer</td>\n",
              "      <td>39</td>\n",
              "      <td>64200.0</td>\n",
              "      <td>4</td>\n",
              "      <td>Bangkok</td>\n",
              "    </tr>\n",
              "    <tr>\n",
              "      <th>5</th>\n",
              "      <td>E016</td>\n",
              "      <td>Fundee</td>\n",
              "      <td>female</td>\n",
              "      <td>support</td>\n",
              "      <td>35</td>\n",
              "      <td>56600.0</td>\n",
              "      <td>3</td>\n",
              "      <td>Phuket</td>\n",
              "    </tr>\n",
              "    <tr>\n",
              "      <th>1</th>\n",
              "      <td>E012</td>\n",
              "      <td>Bordin</td>\n",
              "      <td>male</td>\n",
              "      <td>developer</td>\n",
              "      <td>25</td>\n",
              "      <td>48700.0</td>\n",
              "      <td>2</td>\n",
              "      <td>Phuket</td>\n",
              "    </tr>\n",
              "    <tr>\n",
              "      <th>2</th>\n",
              "      <td>E013</td>\n",
              "      <td>Chantana</td>\n",
              "      <td>female</td>\n",
              "      <td>developer</td>\n",
              "      <td>29</td>\n",
              "      <td>45500.0</td>\n",
              "      <td>3</td>\n",
              "      <td>Chonburi</td>\n",
              "    </tr>\n",
              "  </tbody>\n",
              "</table>\n",
              "</div>"
            ],
            "text/plain": [
              "    eid      name  gender department  age   salary  working_years birth_place\n",
              "0  E011      Anda  female  developer   39  64200.0              4     Bangkok\n",
              "5  E016    Fundee  female    support   35  56600.0              3      Phuket\n",
              "1  E012    Bordin    male  developer   25  48700.0              2      Phuket\n",
              "2  E013  Chantana  female  developer   29  45500.0              3    Chonburi"
            ]
          },
          "execution_count": 122,
          "metadata": {},
          "output_type": "execute_result"
        }
      ],
      "source": [
        "df.loc[0:2]"
      ]
    },
    {
      "cell_type": "code",
      "execution_count": 123,
      "metadata": {
        "colab": {
          "base_uri": "https://localhost:8080/",
          "height": 0
        },
        "id": "oPgLadKXdxDn",
        "outputId": "91a25647-a081-45c2-87fd-88d78756c674"
      },
      "outputs": [
        {
          "data": {
            "text/html": [
              "<div>\n",
              "<style scoped>\n",
              "    .dataframe tbody tr th:only-of-type {\n",
              "        vertical-align: middle;\n",
              "    }\n",
              "\n",
              "    .dataframe tbody tr th {\n",
              "        vertical-align: top;\n",
              "    }\n",
              "\n",
              "    .dataframe thead th {\n",
              "        text-align: right;\n",
              "    }\n",
              "</style>\n",
              "<table border=\"1\" class=\"dataframe\">\n",
              "  <thead>\n",
              "    <tr style=\"text-align: right;\">\n",
              "      <th></th>\n",
              "      <th>eid</th>\n",
              "      <th>name</th>\n",
              "      <th>gender</th>\n",
              "      <th>department</th>\n",
              "      <th>age</th>\n",
              "      <th>salary</th>\n",
              "      <th>working_years</th>\n",
              "      <th>birth_place</th>\n",
              "    </tr>\n",
              "  </thead>\n",
              "  <tbody>\n",
              "    <tr>\n",
              "      <th>4</th>\n",
              "      <td>E015</td>\n",
              "      <td>Ekkasit</td>\n",
              "      <td>male</td>\n",
              "      <td>marketing</td>\n",
              "      <td>37</td>\n",
              "      <td>80500.0</td>\n",
              "      <td>7</td>\n",
              "      <td>Suphanburi</td>\n",
              "    </tr>\n",
              "    <tr>\n",
              "      <th>3</th>\n",
              "      <td>E014</td>\n",
              "      <td>Donlaya</td>\n",
              "      <td>female</td>\n",
              "      <td>marketing</td>\n",
              "      <td>39</td>\n",
              "      <td>72600.0</td>\n",
              "      <td>8</td>\n",
              "      <td>Chonburi</td>\n",
              "    </tr>\n",
              "  </tbody>\n",
              "</table>\n",
              "</div>"
            ],
            "text/plain": [
              "    eid     name  gender department  age   salary  working_years birth_place\n",
              "4  E015  Ekkasit    male  marketing   37  80500.0              7  Suphanburi\n",
              "3  E014  Donlaya  female  marketing   39  72600.0              8    Chonburi"
            ]
          },
          "execution_count": 123,
          "metadata": {},
          "output_type": "execute_result"
        }
      ],
      "source": [
        "df.iloc[0:2]"
      ]
    },
    {
      "cell_type": "markdown",
      "metadata": {
        "id": "7EsFKqVXePH6"
      },
      "source": [
        "## Grouping"
      ]
    },
    {
      "cell_type": "code",
      "execution_count": 124,
      "metadata": {
        "colab": {
          "base_uri": "https://localhost:8080/",
          "height": 300
        },
        "id": "kmxG2VAs_qPH",
        "outputId": "6b055b29-ba26-4d18-f3ed-56c9c3364732"
      },
      "outputs": [
        {
          "data": {
            "text/html": [
              "<div>\n",
              "<style scoped>\n",
              "    .dataframe tbody tr th:only-of-type {\n",
              "        vertical-align: middle;\n",
              "    }\n",
              "\n",
              "    .dataframe tbody tr th {\n",
              "        vertical-align: top;\n",
              "    }\n",
              "\n",
              "    .dataframe thead th {\n",
              "        text-align: right;\n",
              "    }\n",
              "</style>\n",
              "<table border=\"1\" class=\"dataframe\">\n",
              "  <thead>\n",
              "    <tr style=\"text-align: right;\">\n",
              "      <th></th>\n",
              "      <th>eid</th>\n",
              "      <th>name</th>\n",
              "      <th>gender</th>\n",
              "      <th>department</th>\n",
              "      <th>age</th>\n",
              "      <th>salary</th>\n",
              "      <th>working_years</th>\n",
              "      <th>birth_place</th>\n",
              "    </tr>\n",
              "  </thead>\n",
              "  <tbody>\n",
              "    <tr>\n",
              "      <th>4</th>\n",
              "      <td>E015</td>\n",
              "      <td>Ekkasit</td>\n",
              "      <td>male</td>\n",
              "      <td>marketing</td>\n",
              "      <td>37</td>\n",
              "      <td>80500.0</td>\n",
              "      <td>7</td>\n",
              "      <td>Suphanburi</td>\n",
              "    </tr>\n",
              "    <tr>\n",
              "      <th>3</th>\n",
              "      <td>E014</td>\n",
              "      <td>Donlaya</td>\n",
              "      <td>female</td>\n",
              "      <td>marketing</td>\n",
              "      <td>39</td>\n",
              "      <td>72600.0</td>\n",
              "      <td>8</td>\n",
              "      <td>Chonburi</td>\n",
              "    </tr>\n",
              "    <tr>\n",
              "      <th>7</th>\n",
              "      <td>E018</td>\n",
              "      <td>Harit</td>\n",
              "      <td>male</td>\n",
              "      <td>devops</td>\n",
              "      <td>32</td>\n",
              "      <td>67700.0</td>\n",
              "      <td>5</td>\n",
              "      <td>Bangkok</td>\n",
              "    </tr>\n",
              "    <tr>\n",
              "      <th>0</th>\n",
              "      <td>E011</td>\n",
              "      <td>Anda</td>\n",
              "      <td>female</td>\n",
              "      <td>developer</td>\n",
              "      <td>39</td>\n",
              "      <td>64200.0</td>\n",
              "      <td>4</td>\n",
              "      <td>Bangkok</td>\n",
              "    </tr>\n",
              "    <tr>\n",
              "      <th>5</th>\n",
              "      <td>E016</td>\n",
              "      <td>Fundee</td>\n",
              "      <td>female</td>\n",
              "      <td>support</td>\n",
              "      <td>35</td>\n",
              "      <td>56600.0</td>\n",
              "      <td>3</td>\n",
              "      <td>Phuket</td>\n",
              "    </tr>\n",
              "    <tr>\n",
              "      <th>1</th>\n",
              "      <td>E012</td>\n",
              "      <td>Bordin</td>\n",
              "      <td>male</td>\n",
              "      <td>developer</td>\n",
              "      <td>25</td>\n",
              "      <td>48700.0</td>\n",
              "      <td>2</td>\n",
              "      <td>Phuket</td>\n",
              "    </tr>\n",
              "    <tr>\n",
              "      <th>2</th>\n",
              "      <td>E013</td>\n",
              "      <td>Chantana</td>\n",
              "      <td>female</td>\n",
              "      <td>developer</td>\n",
              "      <td>29</td>\n",
              "      <td>45500.0</td>\n",
              "      <td>3</td>\n",
              "      <td>Chonburi</td>\n",
              "    </tr>\n",
              "    <tr>\n",
              "      <th>6</th>\n",
              "      <td>E017</td>\n",
              "      <td>Gitiwit</td>\n",
              "      <td>male</td>\n",
              "      <td>support</td>\n",
              "      <td>26</td>\n",
              "      <td>42400.0</td>\n",
              "      <td>2</td>\n",
              "      <td>Suphanburi</td>\n",
              "    </tr>\n",
              "  </tbody>\n",
              "</table>\n",
              "</div>"
            ],
            "text/plain": [
              "    eid      name  gender department  age   salary  working_years birth_place\n",
              "4  E015   Ekkasit    male  marketing   37  80500.0              7  Suphanburi\n",
              "3  E014   Donlaya  female  marketing   39  72600.0              8    Chonburi\n",
              "7  E018     Harit    male     devops   32  67700.0              5     Bangkok\n",
              "0  E011      Anda  female  developer   39  64200.0              4     Bangkok\n",
              "5  E016    Fundee  female    support   35  56600.0              3      Phuket\n",
              "1  E012    Bordin    male  developer   25  48700.0              2      Phuket\n",
              "2  E013  Chantana  female  developer   29  45500.0              3    Chonburi\n",
              "6  E017   Gitiwit    male    support   26  42400.0              2  Suphanburi"
            ]
          },
          "execution_count": 124,
          "metadata": {},
          "output_type": "execute_result"
        }
      ],
      "source": [
        "df"
      ]
    },
    {
      "cell_type": "code",
      "execution_count": 125,
      "metadata": {
        "colab": {
          "base_uri": "https://localhost:8080/",
          "height": 206
        },
        "id": "VkO5cxwLeToc",
        "outputId": "171baf06-cf73-420f-ffb9-c969f1d696d4"
      },
      "outputs": [
        {
          "data": {
            "text/html": [
              "<div>\n",
              "<style scoped>\n",
              "    .dataframe tbody tr th:only-of-type {\n",
              "        vertical-align: middle;\n",
              "    }\n",
              "\n",
              "    .dataframe tbody tr th {\n",
              "        vertical-align: top;\n",
              "    }\n",
              "\n",
              "    .dataframe thead th {\n",
              "        text-align: right;\n",
              "    }\n",
              "</style>\n",
              "<table border=\"1\" class=\"dataframe\">\n",
              "  <thead>\n",
              "    <tr style=\"text-align: right;\">\n",
              "      <th></th>\n",
              "      <th>salary</th>\n",
              "    </tr>\n",
              "    <tr>\n",
              "      <th>department</th>\n",
              "      <th></th>\n",
              "    </tr>\n",
              "  </thead>\n",
              "  <tbody>\n",
              "    <tr>\n",
              "      <th>developer</th>\n",
              "      <td>52800.0</td>\n",
              "    </tr>\n",
              "    <tr>\n",
              "      <th>devops</th>\n",
              "      <td>67700.0</td>\n",
              "    </tr>\n",
              "    <tr>\n",
              "      <th>marketing</th>\n",
              "      <td>76550.0</td>\n",
              "    </tr>\n",
              "    <tr>\n",
              "      <th>support</th>\n",
              "      <td>49500.0</td>\n",
              "    </tr>\n",
              "  </tbody>\n",
              "</table>\n",
              "</div>"
            ],
            "text/plain": [
              "             salary\n",
              "department         \n",
              "developer   52800.0\n",
              "devops      67700.0\n",
              "marketing   76550.0\n",
              "support     49500.0"
            ]
          },
          "execution_count": 125,
          "metadata": {},
          "output_type": "execute_result"
        }
      ],
      "source": [
        "df.groupby(\"department\")[['salary']].mean()"
      ]
    },
    {
      "cell_type": "code",
      "execution_count": 126,
      "metadata": {
        "colab": {
          "base_uri": "https://localhost:8080/",
          "height": 206
        },
        "id": "29lzedLqe6yL",
        "outputId": "a1b547fe-413c-487e-e41a-41e11a5eaa29"
      },
      "outputs": [
        {
          "data": {
            "text/html": [
              "<div>\n",
              "<style scoped>\n",
              "    .dataframe tbody tr th:only-of-type {\n",
              "        vertical-align: middle;\n",
              "    }\n",
              "\n",
              "    .dataframe tbody tr th {\n",
              "        vertical-align: top;\n",
              "    }\n",
              "\n",
              "    .dataframe thead th {\n",
              "        text-align: right;\n",
              "    }\n",
              "</style>\n",
              "<table border=\"1\" class=\"dataframe\">\n",
              "  <thead>\n",
              "    <tr style=\"text-align: right;\">\n",
              "      <th></th>\n",
              "      <th>eid</th>\n",
              "      <th>name</th>\n",
              "      <th>gender</th>\n",
              "      <th>age</th>\n",
              "      <th>salary</th>\n",
              "      <th>working_years</th>\n",
              "      <th>birth_place</th>\n",
              "    </tr>\n",
              "    <tr>\n",
              "      <th>department</th>\n",
              "      <th></th>\n",
              "      <th></th>\n",
              "      <th></th>\n",
              "      <th></th>\n",
              "      <th></th>\n",
              "      <th></th>\n",
              "      <th></th>\n",
              "    </tr>\n",
              "  </thead>\n",
              "  <tbody>\n",
              "    <tr>\n",
              "      <th>developer</th>\n",
              "      <td>E013</td>\n",
              "      <td>Chantana</td>\n",
              "      <td>male</td>\n",
              "      <td>39</td>\n",
              "      <td>64200.0</td>\n",
              "      <td>4</td>\n",
              "      <td>Phuket</td>\n",
              "    </tr>\n",
              "    <tr>\n",
              "      <th>devops</th>\n",
              "      <td>E018</td>\n",
              "      <td>Harit</td>\n",
              "      <td>male</td>\n",
              "      <td>32</td>\n",
              "      <td>67700.0</td>\n",
              "      <td>5</td>\n",
              "      <td>Bangkok</td>\n",
              "    </tr>\n",
              "    <tr>\n",
              "      <th>marketing</th>\n",
              "      <td>E015</td>\n",
              "      <td>Ekkasit</td>\n",
              "      <td>male</td>\n",
              "      <td>39</td>\n",
              "      <td>80500.0</td>\n",
              "      <td>8</td>\n",
              "      <td>Suphanburi</td>\n",
              "    </tr>\n",
              "    <tr>\n",
              "      <th>support</th>\n",
              "      <td>E017</td>\n",
              "      <td>Gitiwit</td>\n",
              "      <td>male</td>\n",
              "      <td>35</td>\n",
              "      <td>56600.0</td>\n",
              "      <td>3</td>\n",
              "      <td>Suphanburi</td>\n",
              "    </tr>\n",
              "  </tbody>\n",
              "</table>\n",
              "</div>"
            ],
            "text/plain": [
              "             eid      name gender  age   salary  working_years birth_place\n",
              "department                                                                \n",
              "developer   E013  Chantana   male   39  64200.0              4      Phuket\n",
              "devops      E018     Harit   male   32  67700.0              5     Bangkok\n",
              "marketing   E015   Ekkasit   male   39  80500.0              8  Suphanburi\n",
              "support     E017   Gitiwit   male   35  56600.0              3  Suphanburi"
            ]
          },
          "execution_count": 126,
          "metadata": {},
          "output_type": "execute_result"
        }
      ],
      "source": [
        "df.groupby(\"department\").max()"
      ]
    },
    {
      "cell_type": "code",
      "execution_count": 127,
      "metadata": {
        "colab": {
          "base_uri": "https://localhost:8080/",
          "height": 408
        },
        "id": "tP21lULdegUl",
        "outputId": "1c84484b-ed20-4082-b1cc-ee690a8ceec2"
      },
      "outputs": [
        {
          "ename": "TypeError",
          "evalue": "agg function failed [how->mean,dtype->object]",
          "output_type": "error",
          "traceback": [
            "\u001b[1;31m---------------------------------------------------------------------------\u001b[0m",
            "\u001b[1;31mTypeError\u001b[0m                                 Traceback (most recent call last)",
            "File \u001b[1;32mc:\\Python312\\Lib\\site-packages\\pandas\\core\\groupby\\groupby.py:1942\u001b[0m, in \u001b[0;36mGroupBy._agg_py_fallback\u001b[1;34m(self, how, values, ndim, alt)\u001b[0m\n\u001b[0;32m   1941\u001b[0m \u001b[38;5;28;01mtry\u001b[39;00m:\n\u001b[1;32m-> 1942\u001b[0m     res_values \u001b[38;5;241m=\u001b[39m \u001b[38;5;28;43mself\u001b[39;49m\u001b[38;5;241;43m.\u001b[39;49m\u001b[43m_grouper\u001b[49m\u001b[38;5;241;43m.\u001b[39;49m\u001b[43magg_series\u001b[49m\u001b[43m(\u001b[49m\u001b[43mser\u001b[49m\u001b[43m,\u001b[49m\u001b[43m \u001b[49m\u001b[43malt\u001b[49m\u001b[43m,\u001b[49m\u001b[43m \u001b[49m\u001b[43mpreserve_dtype\u001b[49m\u001b[38;5;241;43m=\u001b[39;49m\u001b[38;5;28;43;01mTrue\u001b[39;49;00m\u001b[43m)\u001b[49m\n\u001b[0;32m   1943\u001b[0m \u001b[38;5;28;01mexcept\u001b[39;00m \u001b[38;5;167;01mException\u001b[39;00m \u001b[38;5;28;01mas\u001b[39;00m err:\n",
            "File \u001b[1;32mc:\\Python312\\Lib\\site-packages\\pandas\\core\\groupby\\ops.py:864\u001b[0m, in \u001b[0;36mBaseGrouper.agg_series\u001b[1;34m(self, obj, func, preserve_dtype)\u001b[0m\n\u001b[0;32m    862\u001b[0m     preserve_dtype \u001b[38;5;241m=\u001b[39m \u001b[38;5;28;01mTrue\u001b[39;00m\n\u001b[1;32m--> 864\u001b[0m result \u001b[38;5;241m=\u001b[39m \u001b[38;5;28;43mself\u001b[39;49m\u001b[38;5;241;43m.\u001b[39;49m\u001b[43m_aggregate_series_pure_python\u001b[49m\u001b[43m(\u001b[49m\u001b[43mobj\u001b[49m\u001b[43m,\u001b[49m\u001b[43m \u001b[49m\u001b[43mfunc\u001b[49m\u001b[43m)\u001b[49m\n\u001b[0;32m    866\u001b[0m npvalues \u001b[38;5;241m=\u001b[39m lib\u001b[38;5;241m.\u001b[39mmaybe_convert_objects(result, try_float\u001b[38;5;241m=\u001b[39m\u001b[38;5;28;01mFalse\u001b[39;00m)\n",
            "File \u001b[1;32mc:\\Python312\\Lib\\site-packages\\pandas\\core\\groupby\\ops.py:885\u001b[0m, in \u001b[0;36mBaseGrouper._aggregate_series_pure_python\u001b[1;34m(self, obj, func)\u001b[0m\n\u001b[0;32m    884\u001b[0m \u001b[38;5;28;01mfor\u001b[39;00m i, group \u001b[38;5;129;01min\u001b[39;00m \u001b[38;5;28menumerate\u001b[39m(splitter):\n\u001b[1;32m--> 885\u001b[0m     res \u001b[38;5;241m=\u001b[39m \u001b[43mfunc\u001b[49m\u001b[43m(\u001b[49m\u001b[43mgroup\u001b[49m\u001b[43m)\u001b[49m\n\u001b[0;32m    886\u001b[0m     res \u001b[38;5;241m=\u001b[39m extract_result(res)\n",
            "File \u001b[1;32mc:\\Python312\\Lib\\site-packages\\pandas\\core\\groupby\\groupby.py:2454\u001b[0m, in \u001b[0;36mGroupBy.mean.<locals>.<lambda>\u001b[1;34m(x)\u001b[0m\n\u001b[0;32m   2451\u001b[0m \u001b[38;5;28;01melse\u001b[39;00m:\n\u001b[0;32m   2452\u001b[0m     result \u001b[38;5;241m=\u001b[39m \u001b[38;5;28mself\u001b[39m\u001b[38;5;241m.\u001b[39m_cython_agg_general(\n\u001b[0;32m   2453\u001b[0m         \u001b[38;5;124m\"\u001b[39m\u001b[38;5;124mmean\u001b[39m\u001b[38;5;124m\"\u001b[39m,\n\u001b[1;32m-> 2454\u001b[0m         alt\u001b[38;5;241m=\u001b[39m\u001b[38;5;28;01mlambda\u001b[39;00m x: \u001b[43mSeries\u001b[49m\u001b[43m(\u001b[49m\u001b[43mx\u001b[49m\u001b[43m,\u001b[49m\u001b[43m \u001b[49m\u001b[43mcopy\u001b[49m\u001b[38;5;241;43m=\u001b[39;49m\u001b[38;5;28;43;01mFalse\u001b[39;49;00m\u001b[43m)\u001b[49m\u001b[38;5;241;43m.\u001b[39;49m\u001b[43mmean\u001b[49m\u001b[43m(\u001b[49m\u001b[43mnumeric_only\u001b[49m\u001b[38;5;241;43m=\u001b[39;49m\u001b[43mnumeric_only\u001b[49m\u001b[43m)\u001b[49m,\n\u001b[0;32m   2455\u001b[0m         numeric_only\u001b[38;5;241m=\u001b[39mnumeric_only,\n\u001b[0;32m   2456\u001b[0m     )\n\u001b[0;32m   2457\u001b[0m     \u001b[38;5;28;01mreturn\u001b[39;00m result\u001b[38;5;241m.\u001b[39m__finalize__(\u001b[38;5;28mself\u001b[39m\u001b[38;5;241m.\u001b[39mobj, method\u001b[38;5;241m=\u001b[39m\u001b[38;5;124m\"\u001b[39m\u001b[38;5;124mgroupby\u001b[39m\u001b[38;5;124m\"\u001b[39m)\n",
            "File \u001b[1;32mc:\\Python312\\Lib\\site-packages\\pandas\\core\\series.py:6549\u001b[0m, in \u001b[0;36mSeries.mean\u001b[1;34m(self, axis, skipna, numeric_only, **kwargs)\u001b[0m\n\u001b[0;32m   6541\u001b[0m \u001b[38;5;129m@doc\u001b[39m(make_doc(\u001b[38;5;124m\"\u001b[39m\u001b[38;5;124mmean\u001b[39m\u001b[38;5;124m\"\u001b[39m, ndim\u001b[38;5;241m=\u001b[39m\u001b[38;5;241m1\u001b[39m))\n\u001b[0;32m   6542\u001b[0m \u001b[38;5;28;01mdef\u001b[39;00m \u001b[38;5;21mmean\u001b[39m(\n\u001b[0;32m   6543\u001b[0m     \u001b[38;5;28mself\u001b[39m,\n\u001b[1;32m   (...)\u001b[0m\n\u001b[0;32m   6547\u001b[0m     \u001b[38;5;241m*\u001b[39m\u001b[38;5;241m*\u001b[39mkwargs,\n\u001b[0;32m   6548\u001b[0m ):\n\u001b[1;32m-> 6549\u001b[0m     \u001b[38;5;28;01mreturn\u001b[39;00m \u001b[43mNDFrame\u001b[49m\u001b[38;5;241;43m.\u001b[39;49m\u001b[43mmean\u001b[49m\u001b[43m(\u001b[49m\u001b[38;5;28;43mself\u001b[39;49m\u001b[43m,\u001b[49m\u001b[43m \u001b[49m\u001b[43maxis\u001b[49m\u001b[43m,\u001b[49m\u001b[43m \u001b[49m\u001b[43mskipna\u001b[49m\u001b[43m,\u001b[49m\u001b[43m \u001b[49m\u001b[43mnumeric_only\u001b[49m\u001b[43m,\u001b[49m\u001b[43m \u001b[49m\u001b[38;5;241;43m*\u001b[39;49m\u001b[38;5;241;43m*\u001b[39;49m\u001b[43mkwargs\u001b[49m\u001b[43m)\u001b[49m\n",
            "File \u001b[1;32mc:\\Python312\\Lib\\site-packages\\pandas\\core\\generic.py:12420\u001b[0m, in \u001b[0;36mNDFrame.mean\u001b[1;34m(self, axis, skipna, numeric_only, **kwargs)\u001b[0m\n\u001b[0;32m  12413\u001b[0m \u001b[38;5;28;01mdef\u001b[39;00m \u001b[38;5;21mmean\u001b[39m(\n\u001b[0;32m  12414\u001b[0m     \u001b[38;5;28mself\u001b[39m,\n\u001b[0;32m  12415\u001b[0m     axis: Axis \u001b[38;5;241m|\u001b[39m \u001b[38;5;28;01mNone\u001b[39;00m \u001b[38;5;241m=\u001b[39m \u001b[38;5;241m0\u001b[39m,\n\u001b[1;32m   (...)\u001b[0m\n\u001b[0;32m  12418\u001b[0m     \u001b[38;5;241m*\u001b[39m\u001b[38;5;241m*\u001b[39mkwargs,\n\u001b[0;32m  12419\u001b[0m ) \u001b[38;5;241m-\u001b[39m\u001b[38;5;241m>\u001b[39m Series \u001b[38;5;241m|\u001b[39m \u001b[38;5;28mfloat\u001b[39m:\n\u001b[1;32m> 12420\u001b[0m     \u001b[38;5;28;01mreturn\u001b[39;00m \u001b[38;5;28;43mself\u001b[39;49m\u001b[38;5;241;43m.\u001b[39;49m\u001b[43m_stat_function\u001b[49m\u001b[43m(\u001b[49m\n\u001b[0;32m  12421\u001b[0m \u001b[43m        \u001b[49m\u001b[38;5;124;43m\"\u001b[39;49m\u001b[38;5;124;43mmean\u001b[39;49m\u001b[38;5;124;43m\"\u001b[39;49m\u001b[43m,\u001b[49m\u001b[43m \u001b[49m\u001b[43mnanops\u001b[49m\u001b[38;5;241;43m.\u001b[39;49m\u001b[43mnanmean\u001b[49m\u001b[43m,\u001b[49m\u001b[43m \u001b[49m\u001b[43maxis\u001b[49m\u001b[43m,\u001b[49m\u001b[43m \u001b[49m\u001b[43mskipna\u001b[49m\u001b[43m,\u001b[49m\u001b[43m \u001b[49m\u001b[43mnumeric_only\u001b[49m\u001b[43m,\u001b[49m\u001b[43m \u001b[49m\u001b[38;5;241;43m*\u001b[39;49m\u001b[38;5;241;43m*\u001b[39;49m\u001b[43mkwargs\u001b[49m\n\u001b[0;32m  12422\u001b[0m \u001b[43m    \u001b[49m\u001b[43m)\u001b[49m\n",
            "File \u001b[1;32mc:\\Python312\\Lib\\site-packages\\pandas\\core\\generic.py:12377\u001b[0m, in \u001b[0;36mNDFrame._stat_function\u001b[1;34m(self, name, func, axis, skipna, numeric_only, **kwargs)\u001b[0m\n\u001b[0;32m  12375\u001b[0m validate_bool_kwarg(skipna, \u001b[38;5;124m\"\u001b[39m\u001b[38;5;124mskipna\u001b[39m\u001b[38;5;124m\"\u001b[39m, none_allowed\u001b[38;5;241m=\u001b[39m\u001b[38;5;28;01mFalse\u001b[39;00m)\n\u001b[1;32m> 12377\u001b[0m \u001b[38;5;28;01mreturn\u001b[39;00m \u001b[38;5;28;43mself\u001b[39;49m\u001b[38;5;241;43m.\u001b[39;49m\u001b[43m_reduce\u001b[49m\u001b[43m(\u001b[49m\n\u001b[0;32m  12378\u001b[0m \u001b[43m    \u001b[49m\u001b[43mfunc\u001b[49m\u001b[43m,\u001b[49m\u001b[43m \u001b[49m\u001b[43mname\u001b[49m\u001b[38;5;241;43m=\u001b[39;49m\u001b[43mname\u001b[49m\u001b[43m,\u001b[49m\u001b[43m \u001b[49m\u001b[43maxis\u001b[49m\u001b[38;5;241;43m=\u001b[39;49m\u001b[43maxis\u001b[49m\u001b[43m,\u001b[49m\u001b[43m \u001b[49m\u001b[43mskipna\u001b[49m\u001b[38;5;241;43m=\u001b[39;49m\u001b[43mskipna\u001b[49m\u001b[43m,\u001b[49m\u001b[43m \u001b[49m\u001b[43mnumeric_only\u001b[49m\u001b[38;5;241;43m=\u001b[39;49m\u001b[43mnumeric_only\u001b[49m\n\u001b[0;32m  12379\u001b[0m \u001b[43m\u001b[49m\u001b[43m)\u001b[49m\n",
            "File \u001b[1;32mc:\\Python312\\Lib\\site-packages\\pandas\\core\\series.py:6457\u001b[0m, in \u001b[0;36mSeries._reduce\u001b[1;34m(self, op, name, axis, skipna, numeric_only, filter_type, **kwds)\u001b[0m\n\u001b[0;32m   6453\u001b[0m     \u001b[38;5;28;01mraise\u001b[39;00m \u001b[38;5;167;01mTypeError\u001b[39;00m(\n\u001b[0;32m   6454\u001b[0m         \u001b[38;5;124mf\u001b[39m\u001b[38;5;124m\"\u001b[39m\u001b[38;5;124mSeries.\u001b[39m\u001b[38;5;132;01m{\u001b[39;00mname\u001b[38;5;132;01m}\u001b[39;00m\u001b[38;5;124m does not allow \u001b[39m\u001b[38;5;132;01m{\u001b[39;00mkwd_name\u001b[38;5;132;01m}\u001b[39;00m\u001b[38;5;124m=\u001b[39m\u001b[38;5;132;01m{\u001b[39;00mnumeric_only\u001b[38;5;132;01m}\u001b[39;00m\u001b[38;5;124m \u001b[39m\u001b[38;5;124m\"\u001b[39m\n\u001b[0;32m   6455\u001b[0m         \u001b[38;5;124m\"\u001b[39m\u001b[38;5;124mwith non-numeric dtypes.\u001b[39m\u001b[38;5;124m\"\u001b[39m\n\u001b[0;32m   6456\u001b[0m     )\n\u001b[1;32m-> 6457\u001b[0m \u001b[38;5;28;01mreturn\u001b[39;00m \u001b[43mop\u001b[49m\u001b[43m(\u001b[49m\u001b[43mdelegate\u001b[49m\u001b[43m,\u001b[49m\u001b[43m \u001b[49m\u001b[43mskipna\u001b[49m\u001b[38;5;241;43m=\u001b[39;49m\u001b[43mskipna\u001b[49m\u001b[43m,\u001b[49m\u001b[43m \u001b[49m\u001b[38;5;241;43m*\u001b[39;49m\u001b[38;5;241;43m*\u001b[39;49m\u001b[43mkwds\u001b[49m\u001b[43m)\u001b[49m\n",
            "File \u001b[1;32mc:\\Python312\\Lib\\site-packages\\pandas\\core\\nanops.py:147\u001b[0m, in \u001b[0;36mbottleneck_switch.__call__.<locals>.f\u001b[1;34m(values, axis, skipna, **kwds)\u001b[0m\n\u001b[0;32m    146\u001b[0m \u001b[38;5;28;01melse\u001b[39;00m:\n\u001b[1;32m--> 147\u001b[0m     result \u001b[38;5;241m=\u001b[39m \u001b[43malt\u001b[49m\u001b[43m(\u001b[49m\u001b[43mvalues\u001b[49m\u001b[43m,\u001b[49m\u001b[43m \u001b[49m\u001b[43maxis\u001b[49m\u001b[38;5;241;43m=\u001b[39;49m\u001b[43maxis\u001b[49m\u001b[43m,\u001b[49m\u001b[43m \u001b[49m\u001b[43mskipna\u001b[49m\u001b[38;5;241;43m=\u001b[39;49m\u001b[43mskipna\u001b[49m\u001b[43m,\u001b[49m\u001b[43m \u001b[49m\u001b[38;5;241;43m*\u001b[39;49m\u001b[38;5;241;43m*\u001b[39;49m\u001b[43mkwds\u001b[49m\u001b[43m)\u001b[49m\n\u001b[0;32m    149\u001b[0m \u001b[38;5;28;01mreturn\u001b[39;00m result\n",
            "File \u001b[1;32mc:\\Python312\\Lib\\site-packages\\pandas\\core\\nanops.py:404\u001b[0m, in \u001b[0;36m_datetimelike_compat.<locals>.new_func\u001b[1;34m(values, axis, skipna, mask, **kwargs)\u001b[0m\n\u001b[0;32m    402\u001b[0m     mask \u001b[38;5;241m=\u001b[39m isna(values)\n\u001b[1;32m--> 404\u001b[0m result \u001b[38;5;241m=\u001b[39m \u001b[43mfunc\u001b[49m\u001b[43m(\u001b[49m\u001b[43mvalues\u001b[49m\u001b[43m,\u001b[49m\u001b[43m \u001b[49m\u001b[43maxis\u001b[49m\u001b[38;5;241;43m=\u001b[39;49m\u001b[43maxis\u001b[49m\u001b[43m,\u001b[49m\u001b[43m \u001b[49m\u001b[43mskipna\u001b[49m\u001b[38;5;241;43m=\u001b[39;49m\u001b[43mskipna\u001b[49m\u001b[43m,\u001b[49m\u001b[43m \u001b[49m\u001b[43mmask\u001b[49m\u001b[38;5;241;43m=\u001b[39;49m\u001b[43mmask\u001b[49m\u001b[43m,\u001b[49m\u001b[43m \u001b[49m\u001b[38;5;241;43m*\u001b[39;49m\u001b[38;5;241;43m*\u001b[39;49m\u001b[43mkwargs\u001b[49m\u001b[43m)\u001b[49m\n\u001b[0;32m    406\u001b[0m \u001b[38;5;28;01mif\u001b[39;00m datetimelike:\n",
            "File \u001b[1;32mc:\\Python312\\Lib\\site-packages\\pandas\\core\\nanops.py:720\u001b[0m, in \u001b[0;36mnanmean\u001b[1;34m(values, axis, skipna, mask)\u001b[0m\n\u001b[0;32m    719\u001b[0m the_sum \u001b[38;5;241m=\u001b[39m values\u001b[38;5;241m.\u001b[39msum(axis, dtype\u001b[38;5;241m=\u001b[39mdtype_sum)\n\u001b[1;32m--> 720\u001b[0m the_sum \u001b[38;5;241m=\u001b[39m \u001b[43m_ensure_numeric\u001b[49m\u001b[43m(\u001b[49m\u001b[43mthe_sum\u001b[49m\u001b[43m)\u001b[49m\n\u001b[0;32m    722\u001b[0m \u001b[38;5;28;01mif\u001b[39;00m axis \u001b[38;5;129;01mis\u001b[39;00m \u001b[38;5;129;01mnot\u001b[39;00m \u001b[38;5;28;01mNone\u001b[39;00m \u001b[38;5;129;01mand\u001b[39;00m \u001b[38;5;28mgetattr\u001b[39m(the_sum, \u001b[38;5;124m\"\u001b[39m\u001b[38;5;124mndim\u001b[39m\u001b[38;5;124m\"\u001b[39m, \u001b[38;5;28;01mFalse\u001b[39;00m):\n",
            "File \u001b[1;32mc:\\Python312\\Lib\\site-packages\\pandas\\core\\nanops.py:1701\u001b[0m, in \u001b[0;36m_ensure_numeric\u001b[1;34m(x)\u001b[0m\n\u001b[0;32m   1699\u001b[0m \u001b[38;5;28;01mif\u001b[39;00m \u001b[38;5;28misinstance\u001b[39m(x, \u001b[38;5;28mstr\u001b[39m):\n\u001b[0;32m   1700\u001b[0m     \u001b[38;5;66;03m# GH#44008, GH#36703 avoid casting e.g. strings to numeric\u001b[39;00m\n\u001b[1;32m-> 1701\u001b[0m     \u001b[38;5;28;01mraise\u001b[39;00m \u001b[38;5;167;01mTypeError\u001b[39;00m(\u001b[38;5;124mf\u001b[39m\u001b[38;5;124m\"\u001b[39m\u001b[38;5;124mCould not convert string \u001b[39m\u001b[38;5;124m'\u001b[39m\u001b[38;5;132;01m{\u001b[39;00mx\u001b[38;5;132;01m}\u001b[39;00m\u001b[38;5;124m'\u001b[39m\u001b[38;5;124m to numeric\u001b[39m\u001b[38;5;124m\"\u001b[39m)\n\u001b[0;32m   1702\u001b[0m \u001b[38;5;28;01mtry\u001b[39;00m:\n",
            "\u001b[1;31mTypeError\u001b[0m: Could not convert string 'E011E013' to numeric",
            "\nThe above exception was the direct cause of the following exception:\n",
            "\u001b[1;31mTypeError\u001b[0m                                 Traceback (most recent call last)",
            "Cell \u001b[1;32mIn[127], line 1\u001b[0m\n\u001b[1;32m----> 1\u001b[0m \u001b[43mdf\u001b[49m\u001b[38;5;241;43m.\u001b[39;49m\u001b[43mgroupby\u001b[49m\u001b[43m(\u001b[49m\u001b[43m[\u001b[49m\u001b[38;5;124;43m\"\u001b[39;49m\u001b[38;5;124;43mdepartment\u001b[39;49m\u001b[38;5;124;43m\"\u001b[39;49m\u001b[43m,\u001b[49m\u001b[38;5;124;43m\"\u001b[39;49m\u001b[38;5;124;43mgender\u001b[39;49m\u001b[38;5;124;43m\"\u001b[39;49m\u001b[43m]\u001b[49m\u001b[43m)\u001b[49m\u001b[38;5;241;43m.\u001b[39;49m\u001b[43mmean\u001b[49m\u001b[43m(\u001b[49m\u001b[43m)\u001b[49m\n",
            "File \u001b[1;32mc:\\Python312\\Lib\\site-packages\\pandas\\core\\groupby\\groupby.py:2452\u001b[0m, in \u001b[0;36mGroupBy.mean\u001b[1;34m(self, numeric_only, engine, engine_kwargs)\u001b[0m\n\u001b[0;32m   2445\u001b[0m     \u001b[38;5;28;01mreturn\u001b[39;00m \u001b[38;5;28mself\u001b[39m\u001b[38;5;241m.\u001b[39m_numba_agg_general(\n\u001b[0;32m   2446\u001b[0m         grouped_mean,\n\u001b[0;32m   2447\u001b[0m         executor\u001b[38;5;241m.\u001b[39mfloat_dtype_mapping,\n\u001b[0;32m   2448\u001b[0m         engine_kwargs,\n\u001b[0;32m   2449\u001b[0m         min_periods\u001b[38;5;241m=\u001b[39m\u001b[38;5;241m0\u001b[39m,\n\u001b[0;32m   2450\u001b[0m     )\n\u001b[0;32m   2451\u001b[0m \u001b[38;5;28;01melse\u001b[39;00m:\n\u001b[1;32m-> 2452\u001b[0m     result \u001b[38;5;241m=\u001b[39m \u001b[38;5;28;43mself\u001b[39;49m\u001b[38;5;241;43m.\u001b[39;49m\u001b[43m_cython_agg_general\u001b[49m\u001b[43m(\u001b[49m\n\u001b[0;32m   2453\u001b[0m \u001b[43m        \u001b[49m\u001b[38;5;124;43m\"\u001b[39;49m\u001b[38;5;124;43mmean\u001b[39;49m\u001b[38;5;124;43m\"\u001b[39;49m\u001b[43m,\u001b[49m\n\u001b[0;32m   2454\u001b[0m \u001b[43m        \u001b[49m\u001b[43malt\u001b[49m\u001b[38;5;241;43m=\u001b[39;49m\u001b[38;5;28;43;01mlambda\u001b[39;49;00m\u001b[43m \u001b[49m\u001b[43mx\u001b[49m\u001b[43m:\u001b[49m\u001b[43m \u001b[49m\u001b[43mSeries\u001b[49m\u001b[43m(\u001b[49m\u001b[43mx\u001b[49m\u001b[43m,\u001b[49m\u001b[43m \u001b[49m\u001b[43mcopy\u001b[49m\u001b[38;5;241;43m=\u001b[39;49m\u001b[38;5;28;43;01mFalse\u001b[39;49;00m\u001b[43m)\u001b[49m\u001b[38;5;241;43m.\u001b[39;49m\u001b[43mmean\u001b[49m\u001b[43m(\u001b[49m\u001b[43mnumeric_only\u001b[49m\u001b[38;5;241;43m=\u001b[39;49m\u001b[43mnumeric_only\u001b[49m\u001b[43m)\u001b[49m\u001b[43m,\u001b[49m\n\u001b[0;32m   2455\u001b[0m \u001b[43m        \u001b[49m\u001b[43mnumeric_only\u001b[49m\u001b[38;5;241;43m=\u001b[39;49m\u001b[43mnumeric_only\u001b[49m\u001b[43m,\u001b[49m\n\u001b[0;32m   2456\u001b[0m \u001b[43m    \u001b[49m\u001b[43m)\u001b[49m\n\u001b[0;32m   2457\u001b[0m     \u001b[38;5;28;01mreturn\u001b[39;00m result\u001b[38;5;241m.\u001b[39m__finalize__(\u001b[38;5;28mself\u001b[39m\u001b[38;5;241m.\u001b[39mobj, method\u001b[38;5;241m=\u001b[39m\u001b[38;5;124m\"\u001b[39m\u001b[38;5;124mgroupby\u001b[39m\u001b[38;5;124m\"\u001b[39m)\n",
            "File \u001b[1;32mc:\\Python312\\Lib\\site-packages\\pandas\\core\\groupby\\groupby.py:1998\u001b[0m, in \u001b[0;36mGroupBy._cython_agg_general\u001b[1;34m(self, how, alt, numeric_only, min_count, **kwargs)\u001b[0m\n\u001b[0;32m   1995\u001b[0m     result \u001b[38;5;241m=\u001b[39m \u001b[38;5;28mself\u001b[39m\u001b[38;5;241m.\u001b[39m_agg_py_fallback(how, values, ndim\u001b[38;5;241m=\u001b[39mdata\u001b[38;5;241m.\u001b[39mndim, alt\u001b[38;5;241m=\u001b[39malt)\n\u001b[0;32m   1996\u001b[0m     \u001b[38;5;28;01mreturn\u001b[39;00m result\n\u001b[1;32m-> 1998\u001b[0m new_mgr \u001b[38;5;241m=\u001b[39m \u001b[43mdata\u001b[49m\u001b[38;5;241;43m.\u001b[39;49m\u001b[43mgrouped_reduce\u001b[49m\u001b[43m(\u001b[49m\u001b[43marray_func\u001b[49m\u001b[43m)\u001b[49m\n\u001b[0;32m   1999\u001b[0m res \u001b[38;5;241m=\u001b[39m \u001b[38;5;28mself\u001b[39m\u001b[38;5;241m.\u001b[39m_wrap_agged_manager(new_mgr)\n\u001b[0;32m   2000\u001b[0m \u001b[38;5;28;01mif\u001b[39;00m how \u001b[38;5;129;01min\u001b[39;00m [\u001b[38;5;124m\"\u001b[39m\u001b[38;5;124midxmin\u001b[39m\u001b[38;5;124m\"\u001b[39m, \u001b[38;5;124m\"\u001b[39m\u001b[38;5;124midxmax\u001b[39m\u001b[38;5;124m\"\u001b[39m]:\n",
            "File \u001b[1;32mc:\\Python312\\Lib\\site-packages\\pandas\\core\\internals\\managers.py:1469\u001b[0m, in \u001b[0;36mBlockManager.grouped_reduce\u001b[1;34m(self, func)\u001b[0m\n\u001b[0;32m   1465\u001b[0m \u001b[38;5;28;01mif\u001b[39;00m blk\u001b[38;5;241m.\u001b[39mis_object:\n\u001b[0;32m   1466\u001b[0m     \u001b[38;5;66;03m# split on object-dtype blocks bc some columns may raise\u001b[39;00m\n\u001b[0;32m   1467\u001b[0m     \u001b[38;5;66;03m#  while others do not.\u001b[39;00m\n\u001b[0;32m   1468\u001b[0m     \u001b[38;5;28;01mfor\u001b[39;00m sb \u001b[38;5;129;01min\u001b[39;00m blk\u001b[38;5;241m.\u001b[39m_split():\n\u001b[1;32m-> 1469\u001b[0m         applied \u001b[38;5;241m=\u001b[39m \u001b[43msb\u001b[49m\u001b[38;5;241;43m.\u001b[39;49m\u001b[43mapply\u001b[49m\u001b[43m(\u001b[49m\u001b[43mfunc\u001b[49m\u001b[43m)\u001b[49m\n\u001b[0;32m   1470\u001b[0m         result_blocks \u001b[38;5;241m=\u001b[39m extend_blocks(applied, result_blocks)\n\u001b[0;32m   1471\u001b[0m \u001b[38;5;28;01melse\u001b[39;00m:\n",
            "File \u001b[1;32mc:\\Python312\\Lib\\site-packages\\pandas\\core\\internals\\blocks.py:393\u001b[0m, in \u001b[0;36mBlock.apply\u001b[1;34m(self, func, **kwargs)\u001b[0m\n\u001b[0;32m    387\u001b[0m \u001b[38;5;129m@final\u001b[39m\n\u001b[0;32m    388\u001b[0m \u001b[38;5;28;01mdef\u001b[39;00m \u001b[38;5;21mapply\u001b[39m(\u001b[38;5;28mself\u001b[39m, func, \u001b[38;5;241m*\u001b[39m\u001b[38;5;241m*\u001b[39mkwargs) \u001b[38;5;241m-\u001b[39m\u001b[38;5;241m>\u001b[39m \u001b[38;5;28mlist\u001b[39m[Block]:\n\u001b[0;32m    389\u001b[0m \u001b[38;5;250m    \u001b[39m\u001b[38;5;124;03m\"\"\"\u001b[39;00m\n\u001b[0;32m    390\u001b[0m \u001b[38;5;124;03m    apply the function to my values; return a block if we are not\u001b[39;00m\n\u001b[0;32m    391\u001b[0m \u001b[38;5;124;03m    one\u001b[39;00m\n\u001b[0;32m    392\u001b[0m \u001b[38;5;124;03m    \"\"\"\u001b[39;00m\n\u001b[1;32m--> 393\u001b[0m     result \u001b[38;5;241m=\u001b[39m \u001b[43mfunc\u001b[49m\u001b[43m(\u001b[49m\u001b[38;5;28;43mself\u001b[39;49m\u001b[38;5;241;43m.\u001b[39;49m\u001b[43mvalues\u001b[49m\u001b[43m,\u001b[49m\u001b[43m \u001b[49m\u001b[38;5;241;43m*\u001b[39;49m\u001b[38;5;241;43m*\u001b[39;49m\u001b[43mkwargs\u001b[49m\u001b[43m)\u001b[49m\n\u001b[0;32m    395\u001b[0m     result \u001b[38;5;241m=\u001b[39m maybe_coerce_values(result)\n\u001b[0;32m    396\u001b[0m     \u001b[38;5;28;01mreturn\u001b[39;00m \u001b[38;5;28mself\u001b[39m\u001b[38;5;241m.\u001b[39m_split_op_result(result)\n",
            "File \u001b[1;32mc:\\Python312\\Lib\\site-packages\\pandas\\core\\groupby\\groupby.py:1995\u001b[0m, in \u001b[0;36mGroupBy._cython_agg_general.<locals>.array_func\u001b[1;34m(values)\u001b[0m\n\u001b[0;32m   1992\u001b[0m     \u001b[38;5;28;01mreturn\u001b[39;00m result\n\u001b[0;32m   1994\u001b[0m \u001b[38;5;28;01massert\u001b[39;00m alt \u001b[38;5;129;01mis\u001b[39;00m \u001b[38;5;129;01mnot\u001b[39;00m \u001b[38;5;28;01mNone\u001b[39;00m\n\u001b[1;32m-> 1995\u001b[0m result \u001b[38;5;241m=\u001b[39m \u001b[38;5;28;43mself\u001b[39;49m\u001b[38;5;241;43m.\u001b[39;49m\u001b[43m_agg_py_fallback\u001b[49m\u001b[43m(\u001b[49m\u001b[43mhow\u001b[49m\u001b[43m,\u001b[49m\u001b[43m \u001b[49m\u001b[43mvalues\u001b[49m\u001b[43m,\u001b[49m\u001b[43m \u001b[49m\u001b[43mndim\u001b[49m\u001b[38;5;241;43m=\u001b[39;49m\u001b[43mdata\u001b[49m\u001b[38;5;241;43m.\u001b[39;49m\u001b[43mndim\u001b[49m\u001b[43m,\u001b[49m\u001b[43m \u001b[49m\u001b[43malt\u001b[49m\u001b[38;5;241;43m=\u001b[39;49m\u001b[43malt\u001b[49m\u001b[43m)\u001b[49m\n\u001b[0;32m   1996\u001b[0m \u001b[38;5;28;01mreturn\u001b[39;00m result\n",
            "File \u001b[1;32mc:\\Python312\\Lib\\site-packages\\pandas\\core\\groupby\\groupby.py:1946\u001b[0m, in \u001b[0;36mGroupBy._agg_py_fallback\u001b[1;34m(self, how, values, ndim, alt)\u001b[0m\n\u001b[0;32m   1944\u001b[0m     msg \u001b[38;5;241m=\u001b[39m \u001b[38;5;124mf\u001b[39m\u001b[38;5;124m\"\u001b[39m\u001b[38;5;124magg function failed [how->\u001b[39m\u001b[38;5;132;01m{\u001b[39;00mhow\u001b[38;5;132;01m}\u001b[39;00m\u001b[38;5;124m,dtype->\u001b[39m\u001b[38;5;132;01m{\u001b[39;00mser\u001b[38;5;241m.\u001b[39mdtype\u001b[38;5;132;01m}\u001b[39;00m\u001b[38;5;124m]\u001b[39m\u001b[38;5;124m\"\u001b[39m\n\u001b[0;32m   1945\u001b[0m     \u001b[38;5;66;03m# preserve the kind of exception that raised\u001b[39;00m\n\u001b[1;32m-> 1946\u001b[0m     \u001b[38;5;28;01mraise\u001b[39;00m \u001b[38;5;28mtype\u001b[39m(err)(msg) \u001b[38;5;28;01mfrom\u001b[39;00m \u001b[38;5;21;01merr\u001b[39;00m\n\u001b[0;32m   1948\u001b[0m \u001b[38;5;28;01mif\u001b[39;00m ser\u001b[38;5;241m.\u001b[39mdtype \u001b[38;5;241m==\u001b[39m \u001b[38;5;28mobject\u001b[39m:\n\u001b[0;32m   1949\u001b[0m     res_values \u001b[38;5;241m=\u001b[39m res_values\u001b[38;5;241m.\u001b[39mastype(\u001b[38;5;28mobject\u001b[39m, copy\u001b[38;5;241m=\u001b[39m\u001b[38;5;28;01mFalse\u001b[39;00m)\n",
            "\u001b[1;31mTypeError\u001b[0m: agg function failed [how->mean,dtype->object]"
          ]
        }
      ],
      "source": [
        "df.groupby([\"department\",\"gender\"]).mean()"
      ]
    },
    {
      "cell_type": "code",
      "execution_count": null,
      "metadata": {
        "id": "rbPJjpATSHPy"
      },
      "outputs": [],
      "source": [
        "df.groupby([\"gender\",\"department\"]).mean()"
      ]
    },
    {
      "cell_type": "code",
      "execution_count": null,
      "metadata": {
        "id": "KQ6elpvQerq5"
      },
      "outputs": [],
      "source": [
        "df_group_obj = df.groupby(\"department\")"
      ]
    },
    {
      "cell_type": "code",
      "execution_count": null,
      "metadata": {
        "id": "2cZXnqkLexqu"
      },
      "outputs": [],
      "source": [
        "df_group_obj"
      ]
    },
    {
      "cell_type": "code",
      "execution_count": null,
      "metadata": {
        "id": "ltrgEAYQezZR"
      },
      "outputs": [],
      "source": [
        "df_group_obj.mean()"
      ]
    },
    {
      "cell_type": "code",
      "execution_count": null,
      "metadata": {
        "id": "hybyQ8vee3Jx"
      },
      "outputs": [],
      "source": [
        "df_group_obj.max()"
      ]
    },
    {
      "cell_type": "code",
      "execution_count": null,
      "metadata": {
        "id": "XdeiGOMvfDPo"
      },
      "outputs": [],
      "source": [
        "df.groupby(\"department\").min()"
      ]
    },
    {
      "cell_type": "code",
      "execution_count": null,
      "metadata": {
        "id": "kqKqqx9GfL55"
      },
      "outputs": [],
      "source": [
        "df.groupby(\"department\").count()"
      ]
    },
    {
      "cell_type": "code",
      "execution_count": null,
      "metadata": {
        "id": "c8PrMJ9cfblU"
      },
      "outputs": [],
      "source": [
        "df.groupby(\"department\").agg([\"mean\", \"count\"])"
      ]
    },
    {
      "cell_type": "code",
      "execution_count": null,
      "metadata": {
        "id": "NZ76V6wTfoMo"
      },
      "outputs": [],
      "source": [
        "df.groupby(\"department\")[\"age\"].agg([\"mean\", \"count\"])"
      ]
    },
    {
      "cell_type": "code",
      "execution_count": null,
      "metadata": {
        "id": "O_Br-CNRTjLh"
      },
      "outputs": [],
      "source": [
        "df.groupby(\"department\")[[\"age\"]].agg([\"mean\", \"count\"])"
      ]
    },
    {
      "cell_type": "code",
      "execution_count": null,
      "metadata": {
        "id": "doboPXPefssa"
      },
      "outputs": [],
      "source": [
        "df.groupby(\"department\").agg({\"age\":\"min\", \"salary\":\"mean\"})"
      ]
    },
    {
      "cell_type": "code",
      "execution_count": null,
      "metadata": {
        "id": "Er6SyVeyhApz"
      },
      "outputs": [],
      "source": [
        "df.groupby(\"department\").agg({\"age\":[\"min\",\"max\"], \"salary\":\"mean\"})"
      ]
    },
    {
      "cell_type": "code",
      "execution_count": null,
      "metadata": {
        "id": "Vd2Eq4SCh274"
      },
      "outputs": [],
      "source": [
        "dfg = df.groupby(\"department\").agg({\"age\":[\"min\",\"max\"], \"salary\":\"mean\"})"
      ]
    },
    {
      "cell_type": "code",
      "execution_count": null,
      "metadata": {
        "id": "c8Q4ATTXiLeW"
      },
      "outputs": [],
      "source": [
        "dfg"
      ]
    },
    {
      "cell_type": "code",
      "execution_count": null,
      "metadata": {
        "id": "BrSKEH96h9P2"
      },
      "outputs": [],
      "source": [
        "dfg.columns"
      ]
    },
    {
      "cell_type": "code",
      "execution_count": null,
      "metadata": {
        "id": "hVeqnEgE3i_K"
      },
      "outputs": [],
      "source": [
        "dfg[('age','min')]"
      ]
    },
    {
      "cell_type": "code",
      "execution_count": null,
      "metadata": {
        "id": "6i2A9vnc3opP"
      },
      "outputs": [],
      "source": [
        "dfg[[('age','min'),('salary','mean')]]"
      ]
    },
    {
      "cell_type": "code",
      "execution_count": null,
      "metadata": {
        "id": "crKsYs6c3037"
      },
      "outputs": [],
      "source": [
        "dfg.columns"
      ]
    },
    {
      "cell_type": "code",
      "execution_count": null,
      "metadata": {
        "id": "Y580J6yViFAL"
      },
      "outputs": [],
      "source": [
        "[\"_\".join(x) for x in dfg.columns]"
      ]
    },
    {
      "cell_type": "code",
      "execution_count": null,
      "metadata": {
        "id": "PP_7KedDhZHV"
      },
      "outputs": [],
      "source": [
        "dfg.columns = [\"_\".join(x) for x in dfg.columns]"
      ]
    },
    {
      "cell_type": "code",
      "execution_count": null,
      "metadata": {
        "id": "-MyXghOxiJhC"
      },
      "outputs": [],
      "source": [
        "dfg"
      ]
    },
    {
      "cell_type": "code",
      "execution_count": null,
      "metadata": {
        "id": "GY2uoK8OiWJI"
      },
      "outputs": [],
      "source": [
        "dfg[[\"age_min\"]]"
      ]
    },
    {
      "cell_type": "code",
      "execution_count": null,
      "metadata": {
        "id": "kG-4X0-SidBr"
      },
      "outputs": [],
      "source": [
        "dfg.reset_index()"
      ]
    },
    {
      "cell_type": "code",
      "execution_count": null,
      "metadata": {
        "id": "q6-Mb96IigiD"
      },
      "outputs": [],
      "source": [
        "dfg.reset_index(inplace=True)"
      ]
    },
    {
      "cell_type": "code",
      "execution_count": null,
      "metadata": {
        "id": "eNJzHq2sijIM"
      },
      "outputs": [],
      "source": [
        "dfg"
      ]
    },
    {
      "cell_type": "markdown",
      "metadata": {
        "id": "Ul92urXrk_Ul"
      },
      "source": [
        "## Reload the Dataset"
      ]
    },
    {
      "cell_type": "code",
      "execution_count": null,
      "metadata": {
        "id": "cSdNs7hLlCQb"
      },
      "outputs": [],
      "source": [
        "df = pd.read_csv(CSV_PATH)"
      ]
    },
    {
      "cell_type": "code",
      "execution_count": null,
      "metadata": {
        "id": "s8dFz6IYvZ3q"
      },
      "outputs": [],
      "source": [
        "df"
      ]
    },
    {
      "cell_type": "markdown",
      "metadata": {
        "id": "OjEFT0wrlIQ-"
      },
      "source": [
        "## Iteration"
      ]
    },
    {
      "cell_type": "code",
      "execution_count": null,
      "metadata": {
        "id": "MgNu0oYulH1A"
      },
      "outputs": [],
      "source": [
        "for index, row in df.iterrows():\n",
        "  print(index)"
      ]
    },
    {
      "cell_type": "code",
      "execution_count": null,
      "metadata": {
        "id": "K5sHkRklmDbE"
      },
      "outputs": [],
      "source": [
        "for index, row in df.iterrows():\n",
        "  print(row[\"eid\"], row[\"name\"], row[\"salary\"])"
      ]
    },
    {
      "cell_type": "code",
      "execution_count": null,
      "metadata": {
        "id": "csR1GLwUmXhk"
      },
      "outputs": [],
      "source": [
        "for index, row in df.iterrows():\n",
        "  #row[\"shoud_pay_ot\"] = \"Something\" << is not worked\n",
        "  if row[\"salary\"]>70000:\n",
        "    df.loc[index,\"should_pay_ot\"] = \"NO\"\n",
        "  elif row[\"salary\"]>50000:\n",
        "    df.loc[index,\"should_pay_ot\"] = \"MAY BE\"\n",
        "  else:\n",
        "    df.loc[index,\"should_pay_ot\"] = \"YES\""
      ]
    },
    {
      "cell_type": "code",
      "execution_count": null,
      "metadata": {
        "id": "weqyQWMemquJ"
      },
      "outputs": [],
      "source": [
        "df"
      ]
    },
    {
      "cell_type": "markdown",
      "metadata": {
        "id": "w1Np_M8uoNr9"
      },
      "source": [
        "## Reload the Dataset"
      ]
    },
    {
      "cell_type": "code",
      "execution_count": null,
      "metadata": {
        "id": "SwRtKPR5oOSv"
      },
      "outputs": [],
      "source": [
        "df = pd.read_csv(CSV_PATH)"
      ]
    },
    {
      "cell_type": "markdown",
      "metadata": {
        "id": "QqvmUBn0n-Js"
      },
      "source": [
        "## Apply Function"
      ]
    },
    {
      "cell_type": "code",
      "execution_count": null,
      "metadata": {
        "id": "HEYwJoyKo_Ki"
      },
      "outputs": [],
      "source": [
        "np.log10(1000)"
      ]
    },
    {
      "cell_type": "code",
      "execution_count": null,
      "metadata": {
        "id": "hAf2OQxooFnP"
      },
      "outputs": [],
      "source": [
        "df[\"salary\"]"
      ]
    },
    {
      "cell_type": "code",
      "execution_count": null,
      "metadata": {
        "id": "1j4TKh7go2B9"
      },
      "outputs": [],
      "source": [
        "df[\"salary\"].apply(np.log10)"
      ]
    },
    {
      "cell_type": "code",
      "execution_count": null,
      "metadata": {
        "id": "AxcoHjZdpEC-"
      },
      "outputs": [],
      "source": [
        "df[\"salary\"].apply(np.sqrt)"
      ]
    },
    {
      "cell_type": "code",
      "execution_count": null,
      "metadata": {
        "id": "81WS-lbtpuPh"
      },
      "outputs": [],
      "source": [
        "def times10(num):\n",
        "  return num*10"
      ]
    },
    {
      "cell_type": "code",
      "execution_count": null,
      "metadata": {
        "id": "uqpoMBfvpnPV"
      },
      "outputs": [],
      "source": [
        "times10(5)"
      ]
    },
    {
      "cell_type": "code",
      "execution_count": null,
      "metadata": {
        "id": "EIWDdHSyqLEx"
      },
      "outputs": [],
      "source": [
        "df[\"age\"]"
      ]
    },
    {
      "cell_type": "code",
      "execution_count": null,
      "metadata": {
        "id": "IgU5SN7TqNLQ"
      },
      "outputs": [],
      "source": [
        "df[\"age\"].apply(times10)"
      ]
    },
    {
      "cell_type": "code",
      "execution_count": null,
      "metadata": {
        "id": "0ExC438mqbwz"
      },
      "outputs": [],
      "source": [
        "df[\"age\"].apply(lambda x: x*10)"
      ]
    },
    {
      "cell_type": "code",
      "execution_count": null,
      "metadata": {
        "id": "VVIW-bD4pJH0"
      },
      "outputs": [],
      "source": [
        "def consider_ot_payment(salary):\n",
        "  result = \"\"\n",
        "  if salary>70000:\n",
        "    result = \"NO\"\n",
        "  elif salary>50000:\n",
        "    result = \"MAY BE\"\n",
        "  else:\n",
        "    result = \"YES\"\n",
        "\n",
        "  return result"
      ]
    },
    {
      "cell_type": "code",
      "execution_count": null,
      "metadata": {
        "id": "0UZi4_RkZ93D"
      },
      "outputs": [],
      "source": [
        "consider_ot_payment(80000)"
      ]
    },
    {
      "cell_type": "code",
      "execution_count": null,
      "metadata": {
        "id": "F6fjtfbCaCkL"
      },
      "outputs": [],
      "source": [
        "consider_ot_payment(60000)"
      ]
    },
    {
      "cell_type": "code",
      "execution_count": null,
      "metadata": {
        "id": "pyvRG8dHaHXw"
      },
      "outputs": [],
      "source": [
        "consider_ot_payment(30000)"
      ]
    },
    {
      "cell_type": "code",
      "execution_count": null,
      "metadata": {
        "id": "QxHRyUPfqySm"
      },
      "outputs": [],
      "source": [
        "df[\"salary\"].apply(consider_ot_payment)"
      ]
    },
    {
      "cell_type": "code",
      "execution_count": null,
      "metadata": {
        "id": "x0frzOKCq6nX"
      },
      "outputs": [],
      "source": [
        "df[\"should_pay_ot\"] = df[\"salary\"].apply(consider_ot_payment)"
      ]
    },
    {
      "cell_type": "code",
      "execution_count": null,
      "metadata": {
        "id": "EFORtttWq-tN"
      },
      "outputs": [],
      "source": [
        "df"
      ]
    },
    {
      "cell_type": "markdown",
      "metadata": {
        "id": "Pdga4WTlrxlh"
      },
      "source": [
        "## Save into a CSV file"
      ]
    },
    {
      "cell_type": "code",
      "execution_count": null,
      "metadata": {
        "id": "3s3FC6ior3Pd"
      },
      "outputs": [],
      "source": [
        "df.to_csv(\"employee.csv\")"
      ]
    },
    {
      "cell_type": "code",
      "execution_count": null,
      "metadata": {
        "id": "dmGnePMFsDxC"
      },
      "outputs": [],
      "source": [
        "pd.read_csv(\"employee.csv\")"
      ]
    },
    {
      "cell_type": "code",
      "execution_count": null,
      "metadata": {
        "id": "2q-HnMU3sNF5"
      },
      "outputs": [],
      "source": [
        "df.to_csv(\"employee1.csv\", index=False)"
      ]
    },
    {
      "cell_type": "code",
      "execution_count": null,
      "metadata": {
        "id": "Z-3vY-pfsPAy"
      },
      "outputs": [],
      "source": [
        "pd.read_csv(\"employee1.csv\")"
      ]
    },
    {
      "cell_type": "markdown",
      "metadata": {
        "id": "D7AU1zo5sf9q"
      },
      "source": [
        "\n",
        "\n",
        "---\n",
        "https://rathachai.creatier.pro/\n",
        "\n",
        "## つづく"
      ]
    }
  ],
  "metadata": {
    "colab": {
      "collapsed_sections": [
        "rgvNsguEAU5z",
        "a45CRpfnBf0N",
        "dF9ylGsUDdFh",
        "rNU9DvGtF4YQ",
        "1IPySXobIVok",
        "Q06Hc3eoJ_Jr",
        "xc4bifRfMdpD",
        "yl7Gs8d2NzE9",
        "LpogpC22Oujh",
        "VgzexoL5O8Rq",
        "rER2bBTxQqSF",
        "S9C4rJJiUCnX",
        "LCTt_3kHVvIR",
        "XDha6_1lWXK7",
        "1XuDAQWLW9Ja",
        "EwdpNnFBb7cW",
        "YxNB3fcBcL8-",
        "7EsFKqVXePH6",
        "Ul92urXrk_Ul",
        "OjEFT0wrlIQ-",
        "w1Np_M8uoNr9",
        "QqvmUBn0n-Js",
        "Pdga4WTlrxlh",
        "D7AU1zo5sf9q"
      ],
      "provenance": []
    },
    "kernelspec": {
      "display_name": "Python 3",
      "name": "python3"
    },
    "language_info": {
      "codemirror_mode": {
        "name": "ipython",
        "version": 3
      },
      "file_extension": ".py",
      "mimetype": "text/x-python",
      "name": "python",
      "nbconvert_exporter": "python",
      "pygments_lexer": "ipython3",
      "version": "3.12.2"
    }
  },
  "nbformat": 4,
  "nbformat_minor": 0
}
