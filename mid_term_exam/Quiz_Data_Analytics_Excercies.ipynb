{
  "cells": [
    {
      "cell_type": "markdown",
      "metadata": {
        "id": "m4zDji1cVrJP"
      },
      "source": [
        "# **Data Analytics : Exercises**\n",
        "> ## *Author* : [Rathachai CHAWUTHAI](https://rathachai.creatier.pro/) , Ph.D\n",
        "> ### *Affiliation* : Computer Engineering, King Mongkut's Institute of Technology Ladkrabang (KMITL)\n",
        "> #### *Updated Date* : 2024-07-14\n",
        "---"
      ]
    },
    {
      "cell_type": "markdown",
      "metadata": {
        "id": "xpQF_9XoZHiq"
      },
      "source": [
        "Reference: https://www.kaggle.com/datasets/carrie1/ecommerce-data"
      ]
    },
    {
      "cell_type": "markdown",
      "metadata": {
        "id": "Ooqskw_4PiNc"
      },
      "source": [
        "**ความหมายแต่ละคอลัมน์**\n",
        "\n",
        "* **⁠InvoiceNo**: คือ หมายเลขใบเสร็จ\n",
        "* **StockCode**: คือ รหัสสินค้า\n",
        "* **Description**: คือ ชื่อสินค้า\n",
        "* **Quantity**: คือ จำนวนสินค้านั้นที่ซื้อในใบเสร็จ\n",
        "* **InvoiceDate**: คือ วันที่/เวลา ของใบเสนอราคา\n",
        "* **UnitPrice**: คือ ราคาสินค้าต่อชิ้น\n",
        "* **CustomerID**: คือ รหัสลูกค้า\n",
        "* **Country**: คือ ประเทศของลูกค้า"
      ]
    },
    {
      "cell_type": "markdown",
      "metadata": {
        "id": "jCsQYUi1QDCB"
      },
      "source": [
        "\n",
        "\n",
        "---\n",
        "\n"
      ]
    },
    {
      "cell_type": "markdown",
      "metadata": {
        "id": "JokPrb1RP6Td"
      },
      "source": [
        "## Import"
      ]
    },
    {
      "cell_type": "code",
      "execution_count": 280,
      "metadata": {
        "id": "SZ9T71w0Vj8v"
      },
      "outputs": [],
      "source": [
        "import numpy as np\n",
        "import pandas as pd"
      ]
    },
    {
      "cell_type": "markdown",
      "metadata": {
        "id": "POyOF22GRdC4"
      },
      "source": [
        "## Examples\n",
        "ตัวอย่างสำหรับเริ่มต้น"
      ]
    },
    {
      "cell_type": "code",
      "execution_count": 281,
      "metadata": {
        "id": "GQgdBWYXRjB-"
      },
      "outputs": [],
      "source": [
        "CSV_PATH = \"https://rathachai.github.io/DA-LAB/datasets/ecom-dat.csv\""
      ]
    },
    {
      "cell_type": "code",
      "execution_count": 282,
      "metadata": {
        "id": "vo-dh7ukR7g7"
      },
      "outputs": [],
      "source": [
        "df = pd.read_csv(CSV_PATH)"
      ]
    },
    {
      "cell_type": "code",
      "execution_count": 283,
      "metadata": {
        "colab": {
          "base_uri": "https://localhost:8080/",
          "height": 423
        },
        "id": "Ws-Jymy5Z29C",
        "outputId": "f6135ad8-c0eb-41ac-da6f-631971ecdc22"
      },
      "outputs": [
        {
          "data": {
            "text/html": [
              "<div>\n",
              "<style scoped>\n",
              "    .dataframe tbody tr th:only-of-type {\n",
              "        vertical-align: middle;\n",
              "    }\n",
              "\n",
              "    .dataframe tbody tr th {\n",
              "        vertical-align: top;\n",
              "    }\n",
              "\n",
              "    .dataframe thead th {\n",
              "        text-align: right;\n",
              "    }\n",
              "</style>\n",
              "<table border=\"1\" class=\"dataframe\">\n",
              "  <thead>\n",
              "    <tr style=\"text-align: right;\">\n",
              "      <th></th>\n",
              "      <th>InvoiceNo</th>\n",
              "      <th>StockCode</th>\n",
              "      <th>Description</th>\n",
              "      <th>Quantity</th>\n",
              "      <th>InvoiceDate</th>\n",
              "      <th>UnitPrice</th>\n",
              "      <th>CustomerID</th>\n",
              "      <th>Country</th>\n",
              "    </tr>\n",
              "  </thead>\n",
              "  <tbody>\n",
              "    <tr>\n",
              "      <th>0</th>\n",
              "      <td>536380</td>\n",
              "      <td>22961</td>\n",
              "      <td>JAM MAKING SET PRINTED</td>\n",
              "      <td>24</td>\n",
              "      <td>12/1/2010 9:41</td>\n",
              "      <td>1.45</td>\n",
              "      <td>17809.0</td>\n",
              "      <td>United Kingdom</td>\n",
              "    </tr>\n",
              "    <tr>\n",
              "      <th>1</th>\n",
              "      <td>536388</td>\n",
              "      <td>21754</td>\n",
              "      <td>HOME BUILDING BLOCK WORD</td>\n",
              "      <td>3</td>\n",
              "      <td>12/1/2010 9:59</td>\n",
              "      <td>5.95</td>\n",
              "      <td>16250.0</td>\n",
              "      <td>United Kingdom</td>\n",
              "    </tr>\n",
              "    <tr>\n",
              "      <th>2</th>\n",
              "      <td>536388</td>\n",
              "      <td>21755</td>\n",
              "      <td>LOVE BUILDING BLOCK WORD</td>\n",
              "      <td>3</td>\n",
              "      <td>12/1/2010 9:59</td>\n",
              "      <td>5.95</td>\n",
              "      <td>16250.0</td>\n",
              "      <td>United Kingdom</td>\n",
              "    </tr>\n",
              "    <tr>\n",
              "      <th>3</th>\n",
              "      <td>536388</td>\n",
              "      <td>21523</td>\n",
              "      <td>DOORMAT FANCY FONT HOME SWEET HOME</td>\n",
              "      <td>2</td>\n",
              "      <td>12/1/2010 9:59</td>\n",
              "      <td>7.95</td>\n",
              "      <td>16250.0</td>\n",
              "      <td>United Kingdom</td>\n",
              "    </tr>\n",
              "    <tr>\n",
              "      <th>4</th>\n",
              "      <td>536388</td>\n",
              "      <td>21363</td>\n",
              "      <td>HOME SMALL WOOD LETTERS</td>\n",
              "      <td>3</td>\n",
              "      <td>12/1/2010 9:59</td>\n",
              "      <td>4.95</td>\n",
              "      <td>16250.0</td>\n",
              "      <td>United Kingdom</td>\n",
              "    </tr>\n",
              "    <tr>\n",
              "      <th>...</th>\n",
              "      <td>...</td>\n",
              "      <td>...</td>\n",
              "      <td>...</td>\n",
              "      <td>...</td>\n",
              "      <td>...</td>\n",
              "      <td>...</td>\n",
              "      <td>...</td>\n",
              "      <td>...</td>\n",
              "    </tr>\n",
              "    <tr>\n",
              "      <th>46850</th>\n",
              "      <td>581581</td>\n",
              "      <td>23562</td>\n",
              "      <td>SET OF 6 RIBBONS PERFECTLY PRETTY</td>\n",
              "      <td>6</td>\n",
              "      <td>12/9/2011 12:20</td>\n",
              "      <td>2.89</td>\n",
              "      <td>17581.0</td>\n",
              "      <td>United Kingdom</td>\n",
              "    </tr>\n",
              "    <tr>\n",
              "      <th>46851</th>\n",
              "      <td>581581</td>\n",
              "      <td>23561</td>\n",
              "      <td>SET OF 6 RIBBONS PARTY</td>\n",
              "      <td>6</td>\n",
              "      <td>12/9/2011 12:20</td>\n",
              "      <td>2.89</td>\n",
              "      <td>17581.0</td>\n",
              "      <td>United Kingdom</td>\n",
              "    </tr>\n",
              "    <tr>\n",
              "      <th>46852</th>\n",
              "      <td>581581</td>\n",
              "      <td>23681</td>\n",
              "      <td>LUNCH BAG RED VINTAGE DOILY</td>\n",
              "      <td>10</td>\n",
              "      <td>12/9/2011 12:20</td>\n",
              "      <td>1.65</td>\n",
              "      <td>17581.0</td>\n",
              "      <td>United Kingdom</td>\n",
              "    </tr>\n",
              "    <tr>\n",
              "      <th>46853</th>\n",
              "      <td>581582</td>\n",
              "      <td>23552</td>\n",
              "      <td>BICYCLE PUNCTURE REPAIR KIT</td>\n",
              "      <td>6</td>\n",
              "      <td>12/9/2011 12:21</td>\n",
              "      <td>2.08</td>\n",
              "      <td>17581.0</td>\n",
              "      <td>United Kingdom</td>\n",
              "    </tr>\n",
              "    <tr>\n",
              "      <th>46854</th>\n",
              "      <td>581582</td>\n",
              "      <td>23498</td>\n",
              "      <td>CLASSIC BICYCLE CLIPS</td>\n",
              "      <td>12</td>\n",
              "      <td>12/9/2011 12:21</td>\n",
              "      <td>1.45</td>\n",
              "      <td>17581.0</td>\n",
              "      <td>United Kingdom</td>\n",
              "    </tr>\n",
              "  </tbody>\n",
              "</table>\n",
              "<p>46855 rows × 8 columns</p>\n",
              "</div>"
            ],
            "text/plain": [
              "       InvoiceNo StockCode                          Description  Quantity  \\\n",
              "0         536380     22961               JAM MAKING SET PRINTED        24   \n",
              "1         536388     21754             HOME BUILDING BLOCK WORD         3   \n",
              "2         536388     21755             LOVE BUILDING BLOCK WORD         3   \n",
              "3         536388     21523   DOORMAT FANCY FONT HOME SWEET HOME         2   \n",
              "4         536388     21363              HOME SMALL WOOD LETTERS         3   \n",
              "...          ...       ...                                  ...       ...   \n",
              "46850     581581     23562  SET OF 6 RIBBONS PERFECTLY PRETTY           6   \n",
              "46851     581581     23561               SET OF 6 RIBBONS PARTY         6   \n",
              "46852     581581     23681          LUNCH BAG RED VINTAGE DOILY        10   \n",
              "46853     581582     23552         BICYCLE PUNCTURE REPAIR KIT          6   \n",
              "46854     581582     23498               CLASSIC BICYCLE CLIPS         12   \n",
              "\n",
              "           InvoiceDate  UnitPrice  CustomerID         Country  \n",
              "0       12/1/2010 9:41       1.45     17809.0  United Kingdom  \n",
              "1       12/1/2010 9:59       5.95     16250.0  United Kingdom  \n",
              "2       12/1/2010 9:59       5.95     16250.0  United Kingdom  \n",
              "3       12/1/2010 9:59       7.95     16250.0  United Kingdom  \n",
              "4       12/1/2010 9:59       4.95     16250.0  United Kingdom  \n",
              "...                ...        ...         ...             ...  \n",
              "46850  12/9/2011 12:20       2.89     17581.0  United Kingdom  \n",
              "46851  12/9/2011 12:20       2.89     17581.0  United Kingdom  \n",
              "46852  12/9/2011 12:20       1.65     17581.0  United Kingdom  \n",
              "46853  12/9/2011 12:21       2.08     17581.0  United Kingdom  \n",
              "46854  12/9/2011 12:21       1.45     17581.0  United Kingdom  \n",
              "\n",
              "[46855 rows x 8 columns]"
            ]
          },
          "execution_count": 283,
          "metadata": {},
          "output_type": "execute_result"
        }
      ],
      "source": [
        "df"
      ]
    },
    {
      "cell_type": "code",
      "execution_count": 284,
      "metadata": {
        "id": "BeKB-XYeSAPC"
      },
      "outputs": [],
      "source": [
        "df['Total'] = df['Quantity'] * df['UnitPrice']"
      ]
    },
    {
      "cell_type": "code",
      "execution_count": 285,
      "metadata": {
        "colab": {
          "base_uri": "https://localhost:8080/",
          "height": 206
        },
        "id": "8bh_HBc1SGj_",
        "outputId": "da021268-c52f-48e8-ef3e-c69f1d85c594"
      },
      "outputs": [
        {
          "data": {
            "text/html": [
              "<div>\n",
              "<style scoped>\n",
              "    .dataframe tbody tr th:only-of-type {\n",
              "        vertical-align: middle;\n",
              "    }\n",
              "\n",
              "    .dataframe tbody tr th {\n",
              "        vertical-align: top;\n",
              "    }\n",
              "\n",
              "    .dataframe thead th {\n",
              "        text-align: right;\n",
              "    }\n",
              "</style>\n",
              "<table border=\"1\" class=\"dataframe\">\n",
              "  <thead>\n",
              "    <tr style=\"text-align: right;\">\n",
              "      <th></th>\n",
              "      <th>InvoiceNo</th>\n",
              "      <th>StockCode</th>\n",
              "      <th>Description</th>\n",
              "      <th>Quantity</th>\n",
              "      <th>InvoiceDate</th>\n",
              "      <th>UnitPrice</th>\n",
              "      <th>CustomerID</th>\n",
              "      <th>Country</th>\n",
              "      <th>Total</th>\n",
              "    </tr>\n",
              "  </thead>\n",
              "  <tbody>\n",
              "    <tr>\n",
              "      <th>0</th>\n",
              "      <td>536380</td>\n",
              "      <td>22961</td>\n",
              "      <td>JAM MAKING SET PRINTED</td>\n",
              "      <td>24</td>\n",
              "      <td>12/1/2010 9:41</td>\n",
              "      <td>1.45</td>\n",
              "      <td>17809.0</td>\n",
              "      <td>United Kingdom</td>\n",
              "      <td>34.80</td>\n",
              "    </tr>\n",
              "    <tr>\n",
              "      <th>1</th>\n",
              "      <td>536388</td>\n",
              "      <td>21754</td>\n",
              "      <td>HOME BUILDING BLOCK WORD</td>\n",
              "      <td>3</td>\n",
              "      <td>12/1/2010 9:59</td>\n",
              "      <td>5.95</td>\n",
              "      <td>16250.0</td>\n",
              "      <td>United Kingdom</td>\n",
              "      <td>17.85</td>\n",
              "    </tr>\n",
              "    <tr>\n",
              "      <th>2</th>\n",
              "      <td>536388</td>\n",
              "      <td>21755</td>\n",
              "      <td>LOVE BUILDING BLOCK WORD</td>\n",
              "      <td>3</td>\n",
              "      <td>12/1/2010 9:59</td>\n",
              "      <td>5.95</td>\n",
              "      <td>16250.0</td>\n",
              "      <td>United Kingdom</td>\n",
              "      <td>17.85</td>\n",
              "    </tr>\n",
              "    <tr>\n",
              "      <th>3</th>\n",
              "      <td>536388</td>\n",
              "      <td>21523</td>\n",
              "      <td>DOORMAT FANCY FONT HOME SWEET HOME</td>\n",
              "      <td>2</td>\n",
              "      <td>12/1/2010 9:59</td>\n",
              "      <td>7.95</td>\n",
              "      <td>16250.0</td>\n",
              "      <td>United Kingdom</td>\n",
              "      <td>15.90</td>\n",
              "    </tr>\n",
              "    <tr>\n",
              "      <th>4</th>\n",
              "      <td>536388</td>\n",
              "      <td>21363</td>\n",
              "      <td>HOME SMALL WOOD LETTERS</td>\n",
              "      <td>3</td>\n",
              "      <td>12/1/2010 9:59</td>\n",
              "      <td>4.95</td>\n",
              "      <td>16250.0</td>\n",
              "      <td>United Kingdom</td>\n",
              "      <td>14.85</td>\n",
              "    </tr>\n",
              "  </tbody>\n",
              "</table>\n",
              "</div>"
            ],
            "text/plain": [
              "   InvoiceNo StockCode                         Description  Quantity  \\\n",
              "0     536380     22961              JAM MAKING SET PRINTED        24   \n",
              "1     536388     21754            HOME BUILDING BLOCK WORD         3   \n",
              "2     536388     21755            LOVE BUILDING BLOCK WORD         3   \n",
              "3     536388     21523  DOORMAT FANCY FONT HOME SWEET HOME         2   \n",
              "4     536388     21363             HOME SMALL WOOD LETTERS         3   \n",
              "\n",
              "      InvoiceDate  UnitPrice  CustomerID         Country  Total  \n",
              "0  12/1/2010 9:41       1.45     17809.0  United Kingdom  34.80  \n",
              "1  12/1/2010 9:59       5.95     16250.0  United Kingdom  17.85  \n",
              "2  12/1/2010 9:59       5.95     16250.0  United Kingdom  17.85  \n",
              "3  12/1/2010 9:59       7.95     16250.0  United Kingdom  15.90  \n",
              "4  12/1/2010 9:59       4.95     16250.0  United Kingdom  14.85  "
            ]
          },
          "execution_count": 285,
          "metadata": {},
          "output_type": "execute_result"
        }
      ],
      "source": [
        "df.head()"
      ]
    },
    {
      "cell_type": "markdown",
      "metadata": {
        "id": "pilXjZpOkjR1"
      },
      "source": [
        "---\n",
        "### (Ex-01) จงหาลูกค้าที่ซื้อสินค้าบ่อยที่สุด 5 คนแรก"
      ]
    },
    {
      "cell_type": "code",
      "execution_count": 286,
      "metadata": {
        "colab": {
          "base_uri": "https://localhost:8080/",
          "height": 238
        },
        "id": "Sy6Ny5TikoU0",
        "outputId": "0dee604f-2154-43b0-b66e-976bbdc9d48f"
      },
      "outputs": [
        {
          "data": {
            "text/html": [
              "<div>\n",
              "<style scoped>\n",
              "    .dataframe tbody tr th:only-of-type {\n",
              "        vertical-align: middle;\n",
              "    }\n",
              "\n",
              "    .dataframe tbody tr th {\n",
              "        vertical-align: top;\n",
              "    }\n",
              "\n",
              "    .dataframe thead th {\n",
              "        text-align: right;\n",
              "    }\n",
              "</style>\n",
              "<table border=\"1\" class=\"dataframe\">\n",
              "  <thead>\n",
              "    <tr style=\"text-align: right;\">\n",
              "      <th></th>\n",
              "      <th>InvoiceNo</th>\n",
              "    </tr>\n",
              "    <tr>\n",
              "      <th>CustomerID</th>\n",
              "      <th></th>\n",
              "    </tr>\n",
              "  </thead>\n",
              "  <tbody>\n",
              "    <tr>\n",
              "      <th>14911.0</th>\n",
              "      <td>197</td>\n",
              "    </tr>\n",
              "    <tr>\n",
              "      <th>14606.0</th>\n",
              "      <td>93</td>\n",
              "    </tr>\n",
              "    <tr>\n",
              "      <th>13408.0</th>\n",
              "      <td>60</td>\n",
              "    </tr>\n",
              "    <tr>\n",
              "      <th>13767.0</th>\n",
              "      <td>37</td>\n",
              "    </tr>\n",
              "    <tr>\n",
              "      <th>16133.0</th>\n",
              "      <td>32</td>\n",
              "    </tr>\n",
              "  </tbody>\n",
              "</table>\n",
              "</div>"
            ],
            "text/plain": [
              "            InvoiceNo\n",
              "CustomerID           \n",
              "14911.0           197\n",
              "14606.0            93\n",
              "13408.0            60\n",
              "13767.0            37\n",
              "16133.0            32"
            ]
          },
          "execution_count": 286,
          "metadata": {},
          "output_type": "execute_result"
        }
      ],
      "source": [
        "dfg = df.groupby(['CustomerID'])[['InvoiceNo']].nunique().sort_values('InvoiceNo', ascending=False)\n",
        "dfg.head(5)"
      ]
    },
    {
      "cell_type": "markdown",
      "metadata": {
        "id": "_-zIH6a_lgPh"
      },
      "source": [
        "---\n",
        "### (Ex-02) จงหาความถี่การใช้จ่ายตามรายชั่วโมง"
      ]
    },
    {
      "cell_type": "code",
      "execution_count": 287,
      "metadata": {
        "colab": {
          "base_uri": "https://localhost:8080/",
          "height": 293
        },
        "id": "UcW3DGSLk0jF",
        "outputId": "1d58d798-5aca-428a-8666-ada3a2038441"
      },
      "outputs": [
        {
          "data": {
            "text/html": [
              "<div>\n",
              "<style scoped>\n",
              "    .dataframe tbody tr th:only-of-type {\n",
              "        vertical-align: middle;\n",
              "    }\n",
              "\n",
              "    .dataframe tbody tr th {\n",
              "        vertical-align: top;\n",
              "    }\n",
              "\n",
              "    .dataframe thead th {\n",
              "        text-align: right;\n",
              "    }\n",
              "</style>\n",
              "<table border=\"1\" class=\"dataframe\">\n",
              "  <thead>\n",
              "    <tr style=\"text-align: right;\">\n",
              "      <th></th>\n",
              "      <th>InvoiceNo</th>\n",
              "      <th>StockCode</th>\n",
              "      <th>Description</th>\n",
              "      <th>Quantity</th>\n",
              "      <th>InvoiceDate</th>\n",
              "      <th>UnitPrice</th>\n",
              "      <th>CustomerID</th>\n",
              "      <th>Country</th>\n",
              "      <th>Total</th>\n",
              "      <th>InvDate</th>\n",
              "    </tr>\n",
              "  </thead>\n",
              "  <tbody>\n",
              "    <tr>\n",
              "      <th>0</th>\n",
              "      <td>536380</td>\n",
              "      <td>22961</td>\n",
              "      <td>JAM MAKING SET PRINTED</td>\n",
              "      <td>24</td>\n",
              "      <td>12/1/2010 9:41</td>\n",
              "      <td>1.45</td>\n",
              "      <td>17809.0</td>\n",
              "      <td>United Kingdom</td>\n",
              "      <td>34.80</td>\n",
              "      <td>2010-12-01 09:41:00</td>\n",
              "    </tr>\n",
              "    <tr>\n",
              "      <th>1</th>\n",
              "      <td>536388</td>\n",
              "      <td>21754</td>\n",
              "      <td>HOME BUILDING BLOCK WORD</td>\n",
              "      <td>3</td>\n",
              "      <td>12/1/2010 9:59</td>\n",
              "      <td>5.95</td>\n",
              "      <td>16250.0</td>\n",
              "      <td>United Kingdom</td>\n",
              "      <td>17.85</td>\n",
              "      <td>2010-12-01 09:59:00</td>\n",
              "    </tr>\n",
              "    <tr>\n",
              "      <th>2</th>\n",
              "      <td>536388</td>\n",
              "      <td>21755</td>\n",
              "      <td>LOVE BUILDING BLOCK WORD</td>\n",
              "      <td>3</td>\n",
              "      <td>12/1/2010 9:59</td>\n",
              "      <td>5.95</td>\n",
              "      <td>16250.0</td>\n",
              "      <td>United Kingdom</td>\n",
              "      <td>17.85</td>\n",
              "      <td>2010-12-01 09:59:00</td>\n",
              "    </tr>\n",
              "    <tr>\n",
              "      <th>3</th>\n",
              "      <td>536388</td>\n",
              "      <td>21523</td>\n",
              "      <td>DOORMAT FANCY FONT HOME SWEET HOME</td>\n",
              "      <td>2</td>\n",
              "      <td>12/1/2010 9:59</td>\n",
              "      <td>7.95</td>\n",
              "      <td>16250.0</td>\n",
              "      <td>United Kingdom</td>\n",
              "      <td>15.90</td>\n",
              "      <td>2010-12-01 09:59:00</td>\n",
              "    </tr>\n",
              "    <tr>\n",
              "      <th>4</th>\n",
              "      <td>536388</td>\n",
              "      <td>21363</td>\n",
              "      <td>HOME SMALL WOOD LETTERS</td>\n",
              "      <td>3</td>\n",
              "      <td>12/1/2010 9:59</td>\n",
              "      <td>4.95</td>\n",
              "      <td>16250.0</td>\n",
              "      <td>United Kingdom</td>\n",
              "      <td>14.85</td>\n",
              "      <td>2010-12-01 09:59:00</td>\n",
              "    </tr>\n",
              "  </tbody>\n",
              "</table>\n",
              "</div>"
            ],
            "text/plain": [
              "   InvoiceNo StockCode                         Description  Quantity  \\\n",
              "0     536380     22961              JAM MAKING SET PRINTED        24   \n",
              "1     536388     21754            HOME BUILDING BLOCK WORD         3   \n",
              "2     536388     21755            LOVE BUILDING BLOCK WORD         3   \n",
              "3     536388     21523  DOORMAT FANCY FONT HOME SWEET HOME         2   \n",
              "4     536388     21363             HOME SMALL WOOD LETTERS         3   \n",
              "\n",
              "      InvoiceDate  UnitPrice  CustomerID         Country  Total  \\\n",
              "0  12/1/2010 9:41       1.45     17809.0  United Kingdom  34.80   \n",
              "1  12/1/2010 9:59       5.95     16250.0  United Kingdom  17.85   \n",
              "2  12/1/2010 9:59       5.95     16250.0  United Kingdom  17.85   \n",
              "3  12/1/2010 9:59       7.95     16250.0  United Kingdom  15.90   \n",
              "4  12/1/2010 9:59       4.95     16250.0  United Kingdom  14.85   \n",
              "\n",
              "              InvDate  \n",
              "0 2010-12-01 09:41:00  \n",
              "1 2010-12-01 09:59:00  \n",
              "2 2010-12-01 09:59:00  \n",
              "3 2010-12-01 09:59:00  \n",
              "4 2010-12-01 09:59:00  "
            ]
          },
          "execution_count": 287,
          "metadata": {},
          "output_type": "execute_result"
        }
      ],
      "source": [
        "df['InvDate'] = pd.to_datetime(df['InvoiceDate'], format='%m/%d/%Y %H:%M')\n",
        "df.head()"
      ]
    },
    {
      "cell_type": "code",
      "execution_count": 288,
      "metadata": {
        "colab": {
          "base_uri": "https://localhost:8080/",
          "height": 293
        },
        "id": "8sQVs5jIoFYx",
        "outputId": "c326a4c4-ef47-41bd-8bd9-f516107f537c"
      },
      "outputs": [
        {
          "data": {
            "text/html": [
              "<div>\n",
              "<style scoped>\n",
              "    .dataframe tbody tr th:only-of-type {\n",
              "        vertical-align: middle;\n",
              "    }\n",
              "\n",
              "    .dataframe tbody tr th {\n",
              "        vertical-align: top;\n",
              "    }\n",
              "\n",
              "    .dataframe thead th {\n",
              "        text-align: right;\n",
              "    }\n",
              "</style>\n",
              "<table border=\"1\" class=\"dataframe\">\n",
              "  <thead>\n",
              "    <tr style=\"text-align: right;\">\n",
              "      <th></th>\n",
              "      <th>InvoiceNo</th>\n",
              "      <th>StockCode</th>\n",
              "      <th>Description</th>\n",
              "      <th>Quantity</th>\n",
              "      <th>InvoiceDate</th>\n",
              "      <th>UnitPrice</th>\n",
              "      <th>CustomerID</th>\n",
              "      <th>Country</th>\n",
              "      <th>Total</th>\n",
              "      <th>InvDate</th>\n",
              "      <th>hr</th>\n",
              "    </tr>\n",
              "  </thead>\n",
              "  <tbody>\n",
              "    <tr>\n",
              "      <th>0</th>\n",
              "      <td>536380</td>\n",
              "      <td>22961</td>\n",
              "      <td>JAM MAKING SET PRINTED</td>\n",
              "      <td>24</td>\n",
              "      <td>12/1/2010 9:41</td>\n",
              "      <td>1.45</td>\n",
              "      <td>17809.0</td>\n",
              "      <td>United Kingdom</td>\n",
              "      <td>34.80</td>\n",
              "      <td>2010-12-01 09:41:00</td>\n",
              "      <td>9</td>\n",
              "    </tr>\n",
              "    <tr>\n",
              "      <th>1</th>\n",
              "      <td>536388</td>\n",
              "      <td>21754</td>\n",
              "      <td>HOME BUILDING BLOCK WORD</td>\n",
              "      <td>3</td>\n",
              "      <td>12/1/2010 9:59</td>\n",
              "      <td>5.95</td>\n",
              "      <td>16250.0</td>\n",
              "      <td>United Kingdom</td>\n",
              "      <td>17.85</td>\n",
              "      <td>2010-12-01 09:59:00</td>\n",
              "      <td>9</td>\n",
              "    </tr>\n",
              "    <tr>\n",
              "      <th>2</th>\n",
              "      <td>536388</td>\n",
              "      <td>21755</td>\n",
              "      <td>LOVE BUILDING BLOCK WORD</td>\n",
              "      <td>3</td>\n",
              "      <td>12/1/2010 9:59</td>\n",
              "      <td>5.95</td>\n",
              "      <td>16250.0</td>\n",
              "      <td>United Kingdom</td>\n",
              "      <td>17.85</td>\n",
              "      <td>2010-12-01 09:59:00</td>\n",
              "      <td>9</td>\n",
              "    </tr>\n",
              "    <tr>\n",
              "      <th>3</th>\n",
              "      <td>536388</td>\n",
              "      <td>21523</td>\n",
              "      <td>DOORMAT FANCY FONT HOME SWEET HOME</td>\n",
              "      <td>2</td>\n",
              "      <td>12/1/2010 9:59</td>\n",
              "      <td>7.95</td>\n",
              "      <td>16250.0</td>\n",
              "      <td>United Kingdom</td>\n",
              "      <td>15.90</td>\n",
              "      <td>2010-12-01 09:59:00</td>\n",
              "      <td>9</td>\n",
              "    </tr>\n",
              "    <tr>\n",
              "      <th>4</th>\n",
              "      <td>536388</td>\n",
              "      <td>21363</td>\n",
              "      <td>HOME SMALL WOOD LETTERS</td>\n",
              "      <td>3</td>\n",
              "      <td>12/1/2010 9:59</td>\n",
              "      <td>4.95</td>\n",
              "      <td>16250.0</td>\n",
              "      <td>United Kingdom</td>\n",
              "      <td>14.85</td>\n",
              "      <td>2010-12-01 09:59:00</td>\n",
              "      <td>9</td>\n",
              "    </tr>\n",
              "  </tbody>\n",
              "</table>\n",
              "</div>"
            ],
            "text/plain": [
              "   InvoiceNo StockCode                         Description  Quantity  \\\n",
              "0     536380     22961              JAM MAKING SET PRINTED        24   \n",
              "1     536388     21754            HOME BUILDING BLOCK WORD         3   \n",
              "2     536388     21755            LOVE BUILDING BLOCK WORD         3   \n",
              "3     536388     21523  DOORMAT FANCY FONT HOME SWEET HOME         2   \n",
              "4     536388     21363             HOME SMALL WOOD LETTERS         3   \n",
              "\n",
              "      InvoiceDate  UnitPrice  CustomerID         Country  Total  \\\n",
              "0  12/1/2010 9:41       1.45     17809.0  United Kingdom  34.80   \n",
              "1  12/1/2010 9:59       5.95     16250.0  United Kingdom  17.85   \n",
              "2  12/1/2010 9:59       5.95     16250.0  United Kingdom  17.85   \n",
              "3  12/1/2010 9:59       7.95     16250.0  United Kingdom  15.90   \n",
              "4  12/1/2010 9:59       4.95     16250.0  United Kingdom  14.85   \n",
              "\n",
              "              InvDate  hr  \n",
              "0 2010-12-01 09:41:00   9  \n",
              "1 2010-12-01 09:59:00   9  \n",
              "2 2010-12-01 09:59:00   9  \n",
              "3 2010-12-01 09:59:00   9  \n",
              "4 2010-12-01 09:59:00   9  "
            ]
          },
          "execution_count": 288,
          "metadata": {},
          "output_type": "execute_result"
        }
      ],
      "source": [
        "df['hr'] = df['InvDate'].dt.hour\n",
        "df.head()"
      ]
    },
    {
      "cell_type": "code",
      "execution_count": 289,
      "metadata": {
        "colab": {
          "base_uri": "https://localhost:8080/",
          "height": 488
        },
        "id": "VGxk-V_NoSO1",
        "outputId": "f81cce1f-002b-45a6-cf3c-2bf2d905856b"
      },
      "outputs": [
        {
          "data": {
            "text/html": [
              "<div>\n",
              "<style scoped>\n",
              "    .dataframe tbody tr th:only-of-type {\n",
              "        vertical-align: middle;\n",
              "    }\n",
              "\n",
              "    .dataframe tbody tr th {\n",
              "        vertical-align: top;\n",
              "    }\n",
              "\n",
              "    .dataframe thead th {\n",
              "        text-align: right;\n",
              "    }\n",
              "</style>\n",
              "<table border=\"1\" class=\"dataframe\">\n",
              "  <thead>\n",
              "    <tr style=\"text-align: right;\">\n",
              "      <th></th>\n",
              "      <th>InvoiceNo</th>\n",
              "    </tr>\n",
              "    <tr>\n",
              "      <th>hr</th>\n",
              "      <th></th>\n",
              "    </tr>\n",
              "  </thead>\n",
              "  <tbody>\n",
              "    <tr>\n",
              "      <th>7</th>\n",
              "      <td>2</td>\n",
              "    </tr>\n",
              "    <tr>\n",
              "      <th>8</th>\n",
              "      <td>59</td>\n",
              "    </tr>\n",
              "    <tr>\n",
              "      <th>9</th>\n",
              "      <td>180</td>\n",
              "    </tr>\n",
              "    <tr>\n",
              "      <th>10</th>\n",
              "      <td>291</td>\n",
              "    </tr>\n",
              "    <tr>\n",
              "      <th>11</th>\n",
              "      <td>262</td>\n",
              "    </tr>\n",
              "    <tr>\n",
              "      <th>12</th>\n",
              "      <td>354</td>\n",
              "    </tr>\n",
              "    <tr>\n",
              "      <th>13</th>\n",
              "      <td>307</td>\n",
              "    </tr>\n",
              "    <tr>\n",
              "      <th>14</th>\n",
              "      <td>264</td>\n",
              "    </tr>\n",
              "    <tr>\n",
              "      <th>15</th>\n",
              "      <td>212</td>\n",
              "    </tr>\n",
              "    <tr>\n",
              "      <th>16</th>\n",
              "      <td>120</td>\n",
              "    </tr>\n",
              "    <tr>\n",
              "      <th>17</th>\n",
              "      <td>62</td>\n",
              "    </tr>\n",
              "    <tr>\n",
              "      <th>18</th>\n",
              "      <td>19</td>\n",
              "    </tr>\n",
              "    <tr>\n",
              "      <th>19</th>\n",
              "      <td>14</td>\n",
              "    </tr>\n",
              "  </tbody>\n",
              "</table>\n",
              "</div>"
            ],
            "text/plain": [
              "    InvoiceNo\n",
              "hr           \n",
              "7           2\n",
              "8          59\n",
              "9         180\n",
              "10        291\n",
              "11        262\n",
              "12        354\n",
              "13        307\n",
              "14        264\n",
              "15        212\n",
              "16        120\n",
              "17         62\n",
              "18         19\n",
              "19         14"
            ]
          },
          "execution_count": 289,
          "metadata": {},
          "output_type": "execute_result"
        }
      ],
      "source": [
        "df_by_hr = df.groupby('hr')[['InvoiceNo']].nunique()\n",
        "df_by_hr"
      ]
    },
    {
      "cell_type": "code",
      "execution_count": 290,
      "metadata": {
        "colab": {
          "base_uri": "https://localhost:8080/",
          "height": 471
        },
        "id": "60hgUnJ6oedR",
        "outputId": "db00198f-5b48-4af6-f902-585416255d8e"
      },
      "outputs": [
        {
          "data": {
            "text/plain": [
              "<Axes: xlabel='hr'>"
            ]
          },
          "execution_count": 290,
          "metadata": {},
          "output_type": "execute_result"
        },
        {
          "data": {
            "image/png": "[encoded data removed]",
            "text/plain": [
              "<Figure size 640x480 with 1 Axes>"
            ]
          },
          "metadata": {},
          "output_type": "display_data"
        }
      ],
      "source": [
        "df_by_hr.plot.bar()"
      ]
    },
    {
      "cell_type": "markdown",
      "metadata": {
        "id": "rCwr4r_AyPpb"
      },
      "source": [
        "\n",
        "\n",
        "---\n",
        "\n",
        "\n",
        "\n",
        "---\n",
        "\n",
        "\n",
        "## Basic Exercises\n",
        "โจทย์อย่างง่าย"
      ]
    },
    {
      "cell_type": "markdown",
      "metadata": {
        "id": "u0QIfv4hySKy"
      },
      "source": [
        "### (B-01) จงนับจำนวน Invoice"
      ]
    },
    {
      "cell_type": "code",
      "execution_count": 291,
      "metadata": {
        "colab": {
          "base_uri": "https://localhost:8080/"
        },
        "id": "xJDQGbFOyXZM",
        "outputId": "db95b7be-cb62-473d-ba1c-bf2dc8400595"
      },
      "outputs": [
        {
          "data": {
            "text/plain": [
              "2146"
            ]
          },
          "execution_count": 291,
          "metadata": {},
          "output_type": "execute_result"
        }
      ],
      "source": [
        "df['InvoiceNo'].nunique()"
      ]
    },
    {
      "cell_type": "markdown",
      "metadata": {
        "id": "R6eH-hT_yajV"
      },
      "source": [
        "---\n",
        "### (B-02) จงนับจำนวนลูกค้า"
      ]
    },
    {
      "cell_type": "code",
      "execution_count": 292,
      "metadata": {
        "colab": {
          "base_uri": "https://localhost:8080/"
        },
        "id": "GHX_XNOHyfrA",
        "outputId": "779eaee2-1b6f-400a-a5e7-239643f70952"
      },
      "outputs": [
        {
          "data": {
            "text/plain": [
              "486"
            ]
          },
          "execution_count": 292,
          "metadata": {},
          "output_type": "execute_result"
        }
      ],
      "source": [
        "df['CustomerID'].nunique()"
      ]
    },
    {
      "cell_type": "markdown",
      "metadata": {
        "id": "yU-IOGS0ygM8"
      },
      "source": [
        "---\n",
        "### (B-03) จงนับจำนวนสินค้า\n",
        "\n",
        "hint\n",
        "- description"
      ]
    },
    {
      "cell_type": "code",
      "execution_count": 293,
      "metadata": {
        "colab": {
          "base_uri": "https://localhost:8080/"
        },
        "id": "LNe4oxiaymM8",
        "outputId": "ee99eb2d-91f2-4cc9-87ec-e999a4ae6b1a"
      },
      "outputs": [
        {
          "data": {
            "text/plain": [
              "3202"
            ]
          },
          "execution_count": 293,
          "metadata": {},
          "output_type": "execute_result"
        }
      ],
      "source": [
        "df['Description'].nunique()"
      ]
    },
    {
      "cell_type": "markdown",
      "metadata": {
        "id": "ARigpnpaymdk"
      },
      "source": [
        "---\n",
        "### (B-04) มีประเทศใดบ้าง"
      ]
    },
    {
      "cell_type": "code",
      "execution_count": 294,
      "metadata": {
        "colab": {
          "base_uri": "https://localhost:8080/"
        },
        "id": "OnkuxkHhyw47",
        "outputId": "b795000e-ab6a-4c70-ae76-72e01157e8ae"
      },
      "outputs": [
        {
          "data": {
            "text/plain": [
              "array(['United Kingdom', 'Germany', 'EIRE', 'Japan', 'France',\n",
              "       'Channel Islands', 'Denmark', 'Cyprus', 'Austria', 'Switzerland',\n",
              "       'United Arab Emirates', 'Czech Republic', 'Spain', 'Italy',\n",
              "       'European Community', 'Canada', 'Finland', 'Norway', 'Portugal'],\n",
              "      dtype=object)"
            ]
          },
          "execution_count": 294,
          "metadata": {},
          "output_type": "execute_result"
        }
      ],
      "source": [
        "df['Country'].unique()"
      ]
    },
    {
      "cell_type": "markdown",
      "metadata": {
        "id": "EerWsxHhywSb"
      },
      "source": [
        "---\n",
        "### (B-05) จงคำนวณจำนวนรายได้ทั้งหมด"
      ]
    },
    {
      "cell_type": "code",
      "execution_count": 295,
      "metadata": {
        "colab": {
          "base_uri": "https://localhost:8080/"
        },
        "id": "eK08UTfSy5TA",
        "outputId": "cf4c819e-697b-4afb-ca7d-1843cd453e84"
      },
      "outputs": [
        {
          "data": {
            "text/plain": [
              "np.float64(753421.941)"
            ]
          },
          "execution_count": 295,
          "metadata": {},
          "output_type": "execute_result"
        }
      ],
      "source": [
        "df['Total'].sum()"
      ]
    },
    {
      "cell_type": "markdown",
      "metadata": {
        "id": "rkhP9IHGy5lv"
      },
      "source": [
        "---\n",
        "### (B-06) จงหาค่าใช้จ่ายเฉลี่ยต่อการซื้อ"
      ]
    },
    {
      "cell_type": "code",
      "execution_count": 296,
      "metadata": {
        "colab": {
          "base_uri": "https://localhost:8080/"
        },
        "id": "m1nWzvXczAsA",
        "outputId": "5b1f166e-d7e2-42e7-c5b7-e06f589cfa1c"
      },
      "outputs": [
        {
          "data": {
            "text/plain": [
              "Total    351.081986\n",
              "dtype: float64"
            ]
          },
          "execution_count": 296,
          "metadata": {},
          "output_type": "execute_result"
        }
      ],
      "source": [
        "df.groupby('InvoiceNo')[['Total']].sum().mean()"
      ]
    },
    {
      "cell_type": "markdown",
      "metadata": {
        "id": "4og5m5zkzBAS"
      },
      "source": [
        "---\n",
        "### (B-07) จงหาค่าใช้จ่ายเฉลี่ยต่อลูกค้า"
      ]
    },
    {
      "cell_type": "code",
      "execution_count": 297,
      "metadata": {
        "colab": {
          "base_uri": "https://localhost:8080/"
        },
        "id": "g-dKI5PdcJ-J",
        "outputId": "2ce20ed3-1aaa-4178-a48a-4d7bc1c8ca6b"
      },
      "outputs": [
        {
          "data": {
            "text/plain": [
              "Total    1550.250907\n",
              "dtype: float64"
            ]
          },
          "execution_count": 297,
          "metadata": {},
          "output_type": "execute_result"
        }
      ],
      "source": [
        "df.groupby('CustomerID')[['Total']].sum().mean()"
      ]
    },
    {
      "cell_type": "markdown",
      "metadata": {
        "id": "IeYKiVm4m2pc"
      },
      "source": [
        "\n",
        "\n",
        "---\n",
        "\n",
        "\n",
        "\n",
        "---\n",
        "\n",
        "\n",
        "## Advanced Exercises\n",
        "\n",
        "โจทย์ยากขึ้น"
      ]
    },
    {
      "cell_type": "markdown",
      "metadata": {
        "id": "drVAA4_dnC5b"
      },
      "source": [
        "### (Q-01) ลูกค้าจากประเทศใดมีการใช้จ่ายสูงที่สุด\n",
        "\n",
        "hint:\n",
        "- groupby country\n",
        "- sum total\n",
        "- เรียงจากมากไปน้อย\n",
        "- เลือกแถวแรก"
      ]
    },
    {
      "cell_type": "code",
      "execution_count": 298,
      "metadata": {
        "colab": {
          "base_uri": "https://localhost:8080/",
          "height": 112
        },
        "id": "TvX4U4O3nbTj",
        "outputId": "aab7ccc5-01f3-4454-ebb2-23fc16f0c930"
      },
      "outputs": [
        {
          "data": {
            "text/html": [
              "<div>\n",
              "<style scoped>\n",
              "    .dataframe tbody tr th:only-of-type {\n",
              "        vertical-align: middle;\n",
              "    }\n",
              "\n",
              "    .dataframe tbody tr th {\n",
              "        vertical-align: top;\n",
              "    }\n",
              "\n",
              "    .dataframe thead th {\n",
              "        text-align: right;\n",
              "    }\n",
              "</style>\n",
              "<table border=\"1\" class=\"dataframe\">\n",
              "  <thead>\n",
              "    <tr style=\"text-align: right;\">\n",
              "      <th></th>\n",
              "      <th>Total</th>\n",
              "    </tr>\n",
              "    <tr>\n",
              "      <th>Country</th>\n",
              "      <th></th>\n",
              "    </tr>\n",
              "  </thead>\n",
              "  <tbody>\n",
              "    <tr>\n",
              "      <th>United Kingdom</th>\n",
              "      <td>540707.491</td>\n",
              "    </tr>\n",
              "  </tbody>\n",
              "</table>\n",
              "</div>"
            ],
            "text/plain": [
              "                     Total\n",
              "Country                   \n",
              "United Kingdom  540707.491"
            ]
          },
          "execution_count": 298,
          "metadata": {},
          "output_type": "execute_result"
        }
      ],
      "source": [
        "df.groupby('Country')[['Total']].sum().sort_values(ascending=False, by='Total').head(1)"
      ]
    },
    {
      "cell_type": "markdown",
      "metadata": {
        "id": "NTlGLNfbnyRC"
      },
      "source": [
        "---\n",
        "### (Q-02) Invoice ใด มีจำนวนชิ้นสินค้าสูงที่สุด"
      ]
    },
    {
      "cell_type": "code",
      "execution_count": 299,
      "metadata": {
        "colab": {
          "base_uri": "https://localhost:8080/",
          "height": 112
        },
        "id": "B8CfWoVEn_tI",
        "outputId": "720a2d4a-1f3b-4222-d5f8-44e28dde1644"
      },
      "outputs": [
        {
          "data": {
            "text/html": [
              "<div>\n",
              "<style scoped>\n",
              "    .dataframe tbody tr th:only-of-type {\n",
              "        vertical-align: middle;\n",
              "    }\n",
              "\n",
              "    .dataframe tbody tr th {\n",
              "        vertical-align: top;\n",
              "    }\n",
              "\n",
              "    .dataframe thead th {\n",
              "        text-align: right;\n",
              "    }\n",
              "</style>\n",
              "<table border=\"1\" class=\"dataframe\">\n",
              "  <thead>\n",
              "    <tr style=\"text-align: right;\">\n",
              "      <th></th>\n",
              "      <th>Quantity</th>\n",
              "    </tr>\n",
              "    <tr>\n",
              "      <th>InvoiceNo</th>\n",
              "      <th></th>\n",
              "    </tr>\n",
              "  </thead>\n",
              "  <tbody>\n",
              "    <tr>\n",
              "      <th>567183</th>\n",
              "      <td>2673</td>\n",
              "    </tr>\n",
              "  </tbody>\n",
              "</table>\n",
              "</div>"
            ],
            "text/plain": [
              "           Quantity\n",
              "InvoiceNo          \n",
              "567183         2673"
            ]
          },
          "execution_count": 299,
          "metadata": {},
          "output_type": "execute_result"
        }
      ],
      "source": [
        "df.groupby('InvoiceNo')[['Quantity']].sum().sort_values(ascending=False, by='Quantity').head(1)"
      ]
    },
    {
      "cell_type": "markdown",
      "metadata": {
        "id": "bIxczJCuoElK"
      },
      "source": [
        "---\n",
        "### (Q-03) Invoice ใด มีค่าใช้จ่ายสูงที่สุด"
      ]
    },
    {
      "cell_type": "code",
      "execution_count": 300,
      "metadata": {
        "colab": {
          "base_uri": "https://localhost:8080/",
          "height": 112
        },
        "id": "xMoR5YJEoL6B",
        "outputId": "25e14b93-ae4c-42fb-d4c2-39636461f512"
      },
      "outputs": [
        {
          "data": {
            "text/html": [
              "<div>\n",
              "<style scoped>\n",
              "    .dataframe tbody tr th:only-of-type {\n",
              "        vertical-align: middle;\n",
              "    }\n",
              "\n",
              "    .dataframe tbody tr th {\n",
              "        vertical-align: top;\n",
              "    }\n",
              "\n",
              "    .dataframe thead th {\n",
              "        text-align: right;\n",
              "    }\n",
              "</style>\n",
              "<table border=\"1\" class=\"dataframe\">\n",
              "  <thead>\n",
              "    <tr style=\"text-align: right;\">\n",
              "      <th></th>\n",
              "      <th>Total</th>\n",
              "    </tr>\n",
              "    <tr>\n",
              "      <th>InvoiceNo</th>\n",
              "      <th></th>\n",
              "    </tr>\n",
              "  </thead>\n",
              "  <tbody>\n",
              "    <tr>\n",
              "      <th>567183</th>\n",
              "      <td>3829.09</td>\n",
              "    </tr>\n",
              "  </tbody>\n",
              "</table>\n",
              "</div>"
            ],
            "text/plain": [
              "             Total\n",
              "InvoiceNo         \n",
              "567183     3829.09"
            ]
          },
          "execution_count": 300,
          "metadata": {},
          "output_type": "execute_result"
        }
      ],
      "source": [
        "df.groupby('InvoiceNo')[['Total']].sum().sort_values(ascending=False, by='Total').head(1)"
      ]
    },
    {
      "cell_type": "markdown",
      "metadata": {
        "id": "5Nq7QKneoLbQ"
      },
      "source": [
        "---\n",
        "### (Q-04) Invoice ใด มีชนิดสินค้ามากที่สุด\n",
        "\n",
        "hint\n",
        "- nunique"
      ]
    },
    {
      "cell_type": "code",
      "execution_count": 301,
      "metadata": {
        "colab": {
          "base_uri": "https://localhost:8080/",
          "height": 112
        },
        "id": "SN35DJzCoRyx",
        "outputId": "c55e4d6b-e784-41bf-dfd1-f76fcf61412d"
      },
      "outputs": [
        {
          "data": {
            "text/html": [
              "<div>\n",
              "<style scoped>\n",
              "    .dataframe tbody tr th:only-of-type {\n",
              "        vertical-align: middle;\n",
              "    }\n",
              "\n",
              "    .dataframe tbody tr th {\n",
              "        vertical-align: top;\n",
              "    }\n",
              "\n",
              "    .dataframe thead th {\n",
              "        text-align: right;\n",
              "    }\n",
              "</style>\n",
              "<table border=\"1\" class=\"dataframe\">\n",
              "  <thead>\n",
              "    <tr style=\"text-align: right;\">\n",
              "      <th></th>\n",
              "      <th>Description</th>\n",
              "    </tr>\n",
              "    <tr>\n",
              "      <th>InvoiceNo</th>\n",
              "      <th></th>\n",
              "    </tr>\n",
              "  </thead>\n",
              "  <tbody>\n",
              "    <tr>\n",
              "      <th>567183</th>\n",
              "      <td>385</td>\n",
              "    </tr>\n",
              "  </tbody>\n",
              "</table>\n",
              "</div>"
            ],
            "text/plain": [
              "           Description\n",
              "InvoiceNo             \n",
              "567183             385"
            ]
          },
          "execution_count": 301,
          "metadata": {},
          "output_type": "execute_result"
        }
      ],
      "source": [
        "df.groupby('InvoiceNo')[['Description']].nunique().sort_values(ascending=False, by='Description').head(1)"
      ]
    },
    {
      "cell_type": "markdown",
      "metadata": {
        "id": "rl5HoHVgoSEK"
      },
      "source": [
        "---\n",
        "### (Q-05) ลูกค้าใดซื้อสินค้าบ่อยที่สุด"
      ]
    },
    {
      "cell_type": "code",
      "execution_count": 302,
      "metadata": {
        "colab": {
          "base_uri": "https://localhost:8080/",
          "height": 112
        },
        "id": "bYUxLBwDouQ1",
        "outputId": "f0c0604b-1ab3-4a6d-f8f1-dc71aafdcd8d"
      },
      "outputs": [
        {
          "data": {
            "text/html": [
              "<div>\n",
              "<style scoped>\n",
              "    .dataframe tbody tr th:only-of-type {\n",
              "        vertical-align: middle;\n",
              "    }\n",
              "\n",
              "    .dataframe tbody tr th {\n",
              "        vertical-align: top;\n",
              "    }\n",
              "\n",
              "    .dataframe thead th {\n",
              "        text-align: right;\n",
              "    }\n",
              "</style>\n",
              "<table border=\"1\" class=\"dataframe\">\n",
              "  <thead>\n",
              "    <tr style=\"text-align: right;\">\n",
              "      <th></th>\n",
              "      <th>InvoiceNo</th>\n",
              "    </tr>\n",
              "    <tr>\n",
              "      <th>CustomerID</th>\n",
              "      <th></th>\n",
              "    </tr>\n",
              "  </thead>\n",
              "  <tbody>\n",
              "    <tr>\n",
              "      <th>14911.0</th>\n",
              "      <td>197</td>\n",
              "    </tr>\n",
              "  </tbody>\n",
              "</table>\n",
              "</div>"
            ],
            "text/plain": [
              "            InvoiceNo\n",
              "CustomerID           \n",
              "14911.0           197"
            ]
          },
          "execution_count": 302,
          "metadata": {},
          "output_type": "execute_result"
        }
      ],
      "source": [
        "df.groupby('CustomerID')[['InvoiceNo']].nunique().sort_values(ascending=False, by='InvoiceNo').head(1)"
      ]
    },
    {
      "cell_type": "markdown",
      "metadata": {
        "id": "LgVqiCKkouga"
      },
      "source": [
        "---\n",
        "### (Q-06) จงแสดงจำนวนลูกค้าในแต่ละประเทศด้วยกราฟแทงแนวนอน\n",
        "\n",
        "hint\n",
        "- nunique\n",
        "- https://pandas.pydata.org/docs/reference/api/pandas.DataFrame.plot.barh.html"
      ]
    },
    {
      "cell_type": "code",
      "execution_count": 303,
      "metadata": {
        "colab": {
          "base_uri": "https://localhost:8080/",
          "height": 447
        },
        "id": "U0g40gklpDgt",
        "outputId": "fcc37667-e8ee-44ec-b3b7-125f06a532d7"
      },
      "outputs": [
        {
          "data": {
            "text/plain": [
              "<Axes: ylabel='Country'>"
            ]
          },
          "execution_count": 303,
          "metadata": {},
          "output_type": "execute_result"
        },
        {
          "data": {
            "image/png": "[encoded data removed]",
            "text/plain": [
              "<Figure size 640x480 with 1 Axes>"
            ]
          },
          "metadata": {},
          "output_type": "display_data"
        }
      ],
      "source": [
        "# solution 1\n",
        "# df.groupby('Country')[['CustomerID']].nunique().plot.barh()\n",
        "\n",
        "# solution 2\n",
        "temp_df = df.groupby('Country')[['CustomerID']].nunique().reset_index()\n",
        "temp_df.plot.barh(x='Country', y='CustomerID')"
      ]
    },
    {
      "cell_type": "markdown",
      "metadata": {
        "id": "lnL46JuDpE5Z"
      },
      "source": [
        "---\n",
        "### (Q-07) จงแสดงจำนวน invoice ในแต่ละวันในสัปดาห์ ในรูปกราฟแท่ง\n",
        "\n",
        "hint\n",
        "- ลองค้นหาด้วย \"pandas dayofweek\""
      ]
    },
    {
      "cell_type": "code",
      "execution_count": 304,
      "metadata": {
        "id": "E1a2CKp0pIhr"
      },
      "outputs": [
        {
          "data": {
            "text/plain": [
              "<Axes: xlabel='dayOfweek'>"
            ]
          },
          "execution_count": 304,
          "metadata": {},
          "output_type": "execute_result"
        },
        {
          "data": {
            "image/png": "[encoded data removed]",
            "text/plain": [
              "<Figure size 640x480 with 1 Axes>"
            ]
          },
          "metadata": {},
          "output_type": "display_data"
        }
      ],
      "source": [
        "# 0 = Monday\n",
        "df['dayOfweek'] = df['InvDate'].dt.day_of_week\n",
        "df.groupby('dayOfweek')[['InvoiceNo']].nunique().plot.bar()"
      ]
    },
    {
      "cell_type": "code",
      "execution_count": null,
      "metadata": {
        "colab": {
          "base_uri": "https://localhost:8080/",
          "height": 461
        },
        "id": "YAO8flG8gGu7",
        "outputId": "2267d3e8-dc99-4c75-ae65-a31deb335fb7"
      },
      "outputs": [],
      "source": []
    },
    {
      "cell_type": "markdown",
      "metadata": {
        "id": "DY5j-Ra2p0Lt"
      },
      "source": [
        "---\n",
        "### (Q-08) จงแสดงจำนวนรายได้ในแต่ละเดือน ในรูปกราฟแท่ง\n",
        "\n",
        "hint\n",
        "- ลองค้นหาด้วย \"pandas datetime strftime\"\n",
        "- ใช้รูปแบบ \"%Y-%m\""
      ]
    },
    {
      "cell_type": "code",
      "execution_count": 305,
      "metadata": {
        "id": "3PWKKt06p6Ez"
      },
      "outputs": [
        {
          "data": {
            "text/plain": [
              "<Axes: xlabel='YearMonth'>"
            ]
          },
          "execution_count": 305,
          "metadata": {},
          "output_type": "execute_result"
        },
        {
          "data": {
            "image/png": "[encoded data removed]",
            "text/plain": [
              "<Figure size 640x480 with 1 Axes>"
            ]
          },
          "metadata": {},
          "output_type": "display_data"
        }
      ],
      "source": [
        "df['YearMonth'] = df['InvDate'].dt.strftime('%Y-%m')\n",
        "df.groupby('YearMonth')[['Total']].sum().plot.bar()"
      ]
    },
    {
      "cell_type": "code",
      "execution_count": null,
      "metadata": {
        "colab": {
          "base_uri": "https://localhost:8080/",
          "height": 470
        },
        "id": "5hQQsXNIhBZM",
        "outputId": "49d2b34f-e7ce-460c-adb4-01704ddc0696"
      },
      "outputs": [],
      "source": []
    },
    {
      "cell_type": "markdown",
      "metadata": {
        "id": "sMka1PM4p6sp"
      },
      "source": [
        "---\n",
        "### (Q-09) จงหา top 5 สินค้าใดขายดีในเดือน 12\n"
      ]
    },
    {
      "cell_type": "code",
      "execution_count": 306,
      "metadata": {
        "colab": {
          "base_uri": "https://localhost:8080/",
          "height": 237
        },
        "id": "bmRrzkWzrxLt",
        "outputId": "22d29e1c-800e-4bc6-d7c4-32daf1d0c64f"
      },
      "outputs": [
        {
          "data": {
            "text/html": [
              "<div>\n",
              "<style scoped>\n",
              "    .dataframe tbody tr th:only-of-type {\n",
              "        vertical-align: middle;\n",
              "    }\n",
              "\n",
              "    .dataframe tbody tr th {\n",
              "        vertical-align: top;\n",
              "    }\n",
              "\n",
              "    .dataframe thead th {\n",
              "        text-align: right;\n",
              "    }\n",
              "</style>\n",
              "<table border=\"1\" class=\"dataframe\">\n",
              "  <thead>\n",
              "    <tr style=\"text-align: right;\">\n",
              "      <th></th>\n",
              "      <th>Quantity</th>\n",
              "    </tr>\n",
              "    <tr>\n",
              "      <th>Description</th>\n",
              "      <th></th>\n",
              "    </tr>\n",
              "  </thead>\n",
              "  <tbody>\n",
              "    <tr>\n",
              "      <th>ASSORTED COLOUR BIRD ORNAMENT</th>\n",
              "      <td>386</td>\n",
              "    </tr>\n",
              "    <tr>\n",
              "      <th>WORLD WAR 2 GLIDERS ASSTD DESIGNS</th>\n",
              "      <td>339</td>\n",
              "    </tr>\n",
              "    <tr>\n",
              "      <th>PAPER CHAIN KIT 50'S CHRISTMAS</th>\n",
              "      <td>323</td>\n",
              "    </tr>\n",
              "    <tr>\n",
              "      <th>PAPER CHAIN KIT VINTAGE CHRISTMAS</th>\n",
              "      <td>314</td>\n",
              "    </tr>\n",
              "    <tr>\n",
              "      <th>PACK OF 72 RETROSPOT CAKE CASES</th>\n",
              "      <td>298</td>\n",
              "    </tr>\n",
              "  </tbody>\n",
              "</table>\n",
              "</div>"
            ],
            "text/plain": [
              "                                   Quantity\n",
              "Description                                \n",
              "ASSORTED COLOUR BIRD ORNAMENT           386\n",
              "WORLD WAR 2 GLIDERS ASSTD DESIGNS       339\n",
              "PAPER CHAIN KIT 50'S CHRISTMAS          323\n",
              "PAPER CHAIN KIT VINTAGE CHRISTMAS       314\n",
              "PACK OF 72 RETROSPOT CAKE CASES         298"
            ]
          },
          "execution_count": 306,
          "metadata": {},
          "output_type": "execute_result"
        }
      ],
      "source": [
        "df['month'] = df['InvDate'].dt.month\n",
        "df[df['month'] == 12].groupby('Description')[['Quantity']].sum().sort_values(by='Quantity', ascending=False).head(5)"
      ]
    },
    {
      "cell_type": "markdown",
      "metadata": {
        "id": "5lXJ3336sI8V"
      },
      "source": [
        "---\n",
        "### (Q-10) จงหา top 5 สินค้าประเภทไม้ที่ขายได้ดีในเดือน 12\n",
        "\n",
        "hint\n",
        "- มีคำว่า \"WOODEN\"\n",
        "- ลองค้นหาด้วยคำว่า \"pandas string contains\""
      ]
    },
    {
      "cell_type": "code",
      "execution_count": 307,
      "metadata": {
        "colab": {
          "base_uri": "https://localhost:8080/",
          "height": 237
        },
        "id": "XPkaFL_Ss0OO",
        "outputId": "b3511fe7-0ba7-4ec0-c59b-de4b09ea499e"
      },
      "outputs": [
        {
          "data": {
            "text/html": [
              "<div>\n",
              "<style scoped>\n",
              "    .dataframe tbody tr th:only-of-type {\n",
              "        vertical-align: middle;\n",
              "    }\n",
              "\n",
              "    .dataframe tbody tr th {\n",
              "        vertical-align: top;\n",
              "    }\n",
              "\n",
              "    .dataframe thead th {\n",
              "        text-align: right;\n",
              "    }\n",
              "</style>\n",
              "<table border=\"1\" class=\"dataframe\">\n",
              "  <thead>\n",
              "    <tr style=\"text-align: right;\">\n",
              "      <th></th>\n",
              "      <th>Quantity</th>\n",
              "    </tr>\n",
              "    <tr>\n",
              "      <th>Description</th>\n",
              "      <th></th>\n",
              "    </tr>\n",
              "  </thead>\n",
              "  <tbody>\n",
              "    <tr>\n",
              "      <th>WOODEN HEART CHRISTMAS SCANDINAVIAN</th>\n",
              "      <td>122</td>\n",
              "    </tr>\n",
              "    <tr>\n",
              "      <th>WOODEN STAR CHRISTMAS SCANDINAVIAN</th>\n",
              "      <td>116</td>\n",
              "    </tr>\n",
              "    <tr>\n",
              "      <th>WOODEN BOX OF DOMINOES</th>\n",
              "      <td>111</td>\n",
              "    </tr>\n",
              "    <tr>\n",
              "      <th>SWALLOW WOODEN CHRISTMAS DECORATION</th>\n",
              "      <td>61</td>\n",
              "    </tr>\n",
              "    <tr>\n",
              "      <th>PEACE WOODEN BLOCK LETTERS</th>\n",
              "      <td>58</td>\n",
              "    </tr>\n",
              "  </tbody>\n",
              "</table>\n",
              "</div>"
            ],
            "text/plain": [
              "                                     Quantity\n",
              "Description                                  \n",
              "WOODEN HEART CHRISTMAS SCANDINAVIAN       122\n",
              "WOODEN STAR CHRISTMAS SCANDINAVIAN        116\n",
              "WOODEN BOX OF DOMINOES                    111\n",
              "SWALLOW WOODEN CHRISTMAS DECORATION        61\n",
              "PEACE WOODEN BLOCK LETTERS                 58"
            ]
          },
          "execution_count": 307,
          "metadata": {},
          "output_type": "execute_result"
        }
      ],
      "source": [
        "df[(df['month'] == 12) & (df['Description'].str.contains(\"WOODEN\"))].groupby('Description')[['Quantity']].sum().sort_values(by='Quantity', ascending=False).head(5)"
      ]
    },
    {
      "cell_type": "markdown",
      "metadata": {
        "id": "PhY8Vc2swiFY"
      },
      "source": [
        "---\n",
        "### (Q-11) สินค้าที่มีคำว่า CHRISTMAS ขายได้ดีที่สุดในเดือนใด"
      ]
    },
    {
      "cell_type": "code",
      "execution_count": 308,
      "metadata": {
        "colab": {
          "base_uri": "https://localhost:8080/",
          "height": 112
        },
        "id": "aFkXQfr6wmBp",
        "outputId": "e1f9a52e-ff50-4b3d-dce5-3ab10d27b11d"
      },
      "outputs": [
        {
          "data": {
            "text/html": [
              "<div>\n",
              "<style scoped>\n",
              "    .dataframe tbody tr th:only-of-type {\n",
              "        vertical-align: middle;\n",
              "    }\n",
              "\n",
              "    .dataframe tbody tr th {\n",
              "        vertical-align: top;\n",
              "    }\n",
              "\n",
              "    .dataframe thead th {\n",
              "        text-align: right;\n",
              "    }\n",
              "</style>\n",
              "<table border=\"1\" class=\"dataframe\">\n",
              "  <thead>\n",
              "    <tr style=\"text-align: right;\">\n",
              "      <th></th>\n",
              "      <th>Quantity</th>\n",
              "    </tr>\n",
              "    <tr>\n",
              "      <th>month</th>\n",
              "      <th></th>\n",
              "    </tr>\n",
              "  </thead>\n",
              "  <tbody>\n",
              "    <tr>\n",
              "      <th>11</th>\n",
              "      <td>9086</td>\n",
              "    </tr>\n",
              "  </tbody>\n",
              "</table>\n",
              "</div>"
            ],
            "text/plain": [
              "       Quantity\n",
              "month          \n",
              "11         9086"
            ]
          },
          "execution_count": 308,
          "metadata": {},
          "output_type": "execute_result"
        }
      ],
      "source": [
        "df[df['Description'].str.contains(\"CHRISTMAS\")].groupby('month')[['Quantity']].sum().sort_values(by='Quantity', ascending=False).head(1)"
      ]
    },
    {
      "cell_type": "markdown",
      "metadata": {
        "id": "1vV6sjLns0gu"
      },
      "source": [
        "---\n",
        "### (Q-12) ลูกค้าคนใดบ้างที่ซื้อสินค้าแทบทุกเดือน\n",
        "\n",
        "hint\n",
        "- groupby ลูกค้า, เดือน แล้ว count\n",
        "- groupby ลูกค้า แล้ว count\n",
        "- เรียงจากมากไปน้อย\n",
        "- เลือกลูกค้าที่มีคะแนนสูงสุด (อาจจะมีหลายคน)"
      ]
    },
    {
      "cell_type": "code",
      "execution_count": 309,
      "metadata": {
        "colab": {
          "base_uri": "https://localhost:8080/",
          "height": 455
        },
        "id": "JS7aT7b9tSGV",
        "outputId": "426297c1-ec65-4231-f157-4f5c81f0e943"
      },
      "outputs": [],
      "source": [
        "temp = df.groupby(['CustomerID', 'month'])[['InvoiceNo']].nunique()\n",
        "temp = temp.reset_index()\n",
        "temp = temp.groupby('CustomerID')[['month']].nunique().sort_values(by='month', ascending=False)"
      ]
    },
    {
      "cell_type": "code",
      "execution_count": 310,
      "metadata": {
        "colab": {
          "base_uri": "https://localhost:8080/",
          "height": 269
        },
        "id": "Ekq2tpIwpRwY",
        "outputId": "dc5f9629-3cf1-498d-e05c-bfedda5ff1ed"
      },
      "outputs": [
        {
          "data": {
            "text/html": [
              "<div>\n",
              "<style scoped>\n",
              "    .dataframe tbody tr th:only-of-type {\n",
              "        vertical-align: middle;\n",
              "    }\n",
              "\n",
              "    .dataframe tbody tr th {\n",
              "        vertical-align: top;\n",
              "    }\n",
              "\n",
              "    .dataframe thead th {\n",
              "        text-align: right;\n",
              "    }\n",
              "</style>\n",
              "<table border=\"1\" class=\"dataframe\">\n",
              "  <thead>\n",
              "    <tr style=\"text-align: right;\">\n",
              "      <th></th>\n",
              "      <th>month</th>\n",
              "    </tr>\n",
              "    <tr>\n",
              "      <th>CustomerID</th>\n",
              "      <th></th>\n",
              "    </tr>\n",
              "  </thead>\n",
              "  <tbody>\n",
              "    <tr>\n",
              "      <th>14911.0</th>\n",
              "      <td>12</td>\n",
              "    </tr>\n",
              "    <tr>\n",
              "      <th>14606.0</th>\n",
              "      <td>12</td>\n",
              "    </tr>\n",
              "    <tr>\n",
              "      <th>18109.0</th>\n",
              "      <td>12</td>\n",
              "    </tr>\n",
              "    <tr>\n",
              "      <th>13408.0</th>\n",
              "      <td>12</td>\n",
              "    </tr>\n",
              "    <tr>\n",
              "      <th>13319.0</th>\n",
              "      <td>12</td>\n",
              "    </tr>\n",
              "    <tr>\n",
              "      <th>14796.0</th>\n",
              "      <td>12</td>\n",
              "    </tr>\n",
              "  </tbody>\n",
              "</table>\n",
              "</div>"
            ],
            "text/plain": [
              "            month\n",
              "CustomerID       \n",
              "14911.0        12\n",
              "14606.0        12\n",
              "18109.0        12\n",
              "13408.0        12\n",
              "13319.0        12\n",
              "14796.0        12"
            ]
          },
          "execution_count": 310,
          "metadata": {},
          "output_type": "execute_result"
        }
      ],
      "source": [
        "temp[temp['month'] == max(temp['month'])]"
      ]
    },
    {
      "cell_type": "markdown",
      "metadata": {
        "id": "q9BM2okmtSp7"
      },
      "source": [
        "---\n",
        "### (Q-13) จงจัดกลุ่มลูกค้าตามจำนวน invoice และราคาในการซื้อสินค้า ของแต่ละคน\n",
        "\n",
        "hint 😵"
      ]
    },
    {
      "cell_type": "code",
      "execution_count": 324,
      "metadata": {
        "id": "GwRjHYuSto3c"
      },
      "outputs": [
        {
          "data": {
            "text/html": [
              "<div>\n",
              "<style scoped>\n",
              "    .dataframe tbody tr th:only-of-type {\n",
              "        vertical-align: middle;\n",
              "    }\n",
              "\n",
              "    .dataframe tbody tr th {\n",
              "        vertical-align: top;\n",
              "    }\n",
              "\n",
              "    .dataframe thead th {\n",
              "        text-align: right;\n",
              "    }\n",
              "</style>\n",
              "<table border=\"1\" class=\"dataframe\">\n",
              "  <thead>\n",
              "    <tr style=\"text-align: right;\">\n",
              "      <th></th>\n",
              "      <th></th>\n",
              "      <th>Total</th>\n",
              "    </tr>\n",
              "    <tr>\n",
              "      <th>InvoiceNo</th>\n",
              "      <th>CustomerID</th>\n",
              "      <th></th>\n",
              "    </tr>\n",
              "  </thead>\n",
              "  <tbody>\n",
              "    <tr>\n",
              "      <th rowspan=\"5\" valign=\"top\">1</th>\n",
              "      <th>12365.0</th>\n",
              "      <td>320.69</td>\n",
              "    </tr>\n",
              "    <tr>\n",
              "      <th>12398.0</th>\n",
              "      <td>1635.66</td>\n",
              "    </tr>\n",
              "    <tr>\n",
              "      <th>12403.0</th>\n",
              "      <td>427.70</td>\n",
              "    </tr>\n",
              "    <tr>\n",
              "      <th>12405.0</th>\n",
              "      <td>1710.39</td>\n",
              "    </tr>\n",
              "    <tr>\n",
              "      <th>12441.0</th>\n",
              "      <td>173.55</td>\n",
              "    </tr>\n",
              "    <tr>\n",
              "      <th>...</th>\n",
              "      <th>...</th>\n",
              "      <td>...</td>\n",
              "    </tr>\n",
              "    <tr>\n",
              "      <th>32</th>\n",
              "      <th>16133.0</th>\n",
              "      <td>9894.00</td>\n",
              "    </tr>\n",
              "    <tr>\n",
              "      <th>37</th>\n",
              "      <th>13767.0</th>\n",
              "      <td>12154.16</td>\n",
              "    </tr>\n",
              "    <tr>\n",
              "      <th>60</th>\n",
              "      <th>13408.0</th>\n",
              "      <td>19424.08</td>\n",
              "    </tr>\n",
              "    <tr>\n",
              "      <th>93</th>\n",
              "      <th>14606.0</th>\n",
              "      <td>11523.27</td>\n",
              "    </tr>\n",
              "    <tr>\n",
              "      <th>197</th>\n",
              "      <th>14911.0</th>\n",
              "      <td>119469.48</td>\n",
              "    </tr>\n",
              "  </tbody>\n",
              "</table>\n",
              "<p>486 rows × 1 columns</p>\n",
              "</div>"
            ],
            "text/plain": [
              "                          Total\n",
              "InvoiceNo CustomerID           \n",
              "1         12365.0        320.69\n",
              "          12398.0       1635.66\n",
              "          12403.0        427.70\n",
              "          12405.0       1710.39\n",
              "          12441.0        173.55\n",
              "...                         ...\n",
              "32        16133.0       9894.00\n",
              "37        13767.0      12154.16\n",
              "60        13408.0      19424.08\n",
              "93        14606.0      11523.27\n",
              "197       14911.0     119469.48\n",
              "\n",
              "[486 rows x 1 columns]"
            ]
          },
          "execution_count": 324,
          "metadata": {},
          "output_type": "execute_result"
        }
      ],
      "source": [
        "temp_1 = df.groupby('CustomerID')[['InvoiceNo']].nunique()\n",
        "temp_1.reset_index(inplace=True)\n",
        "\n",
        "temp_2 = df.groupby('CustomerID')[['Total']].sum()\n",
        "temp_2.reset_index(inplace=True)\n",
        "\n",
        "merged_df = temp_1.merge(temp_2, on='CustomerID')\n",
        "merged_df.groupby(['InvoiceNo', 'CustomerID'])[['Total']].sum()"
      ]
    },
    {
      "cell_type": "markdown",
      "metadata": {
        "id": "LSXTkYxHU1AY"
      },
      "source": [
        "\n",
        "\n",
        "\n",
        "---\n",
        "https://rathachai.creatier.pro/\n",
        "\n",
        "## つづく\n"
      ]
    }
  ],
  "metadata": {
    "colab": {
      "provenance": []
    },
    "kernelspec": {
      "display_name": "Python 3",
      "name": "python3"
    },
    "language_info": {
      "codemirror_mode": {
        "name": "ipython",
        "version": 3
      },
      "file_extension": ".py",
      "mimetype": "text/x-python",
      "name": "python",
      "nbconvert_exporter": "python",
      "pygments_lexer": "ipython3",
      "version": "3.12.2"
    }
  },
  "nbformat": 4,
  "nbformat_minor": 0
}
